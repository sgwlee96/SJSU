{
 "cells": [
  {
   "cell_type": "markdown",
   "id": "06987ba7",
   "metadata": {},
   "source": [
    "# Insert Rows with Dictionaries"
   ]
  },
  {
   "cell_type": "code",
   "execution_count": 1,
   "id": "4c016975",
   "metadata": {
    "tags": []
   },
   "outputs": [],
   "source": [
    "from DATA225utils import make_connection\n",
    "from employee import reset_employee, print_employee"
   ]
  },
  {
   "cell_type": "code",
   "execution_count": 2,
   "id": "1378f524",
   "metadata": {
    "tags": []
   },
   "outputs": [],
   "source": [
    "conn = make_connection(config_file = 'personnel.ini')\n",
    "cursor = conn.cursor()\n",
    "\n",
    "reset_employee(conn)"
   ]
  },
  {
   "cell_type": "markdown",
   "id": "26dfb622",
   "metadata": {},
   "source": [
    "### Insert one row at a time"
   ]
  },
  {
   "cell_type": "code",
   "execution_count": 3,
   "id": "9b259b22",
   "metadata": {
    "tags": []
   },
   "outputs": [],
   "source": [
    "sql = ( \"\"\"\n",
    "        INSERT INTO employee\n",
    "        VALUES (%(id)s, %(last)s, %(first)s, %(salary)s)\n",
    "        \"\"\"\n",
    "      ) \n",
    "\n",
    "data = {\n",
    "    'id':     123,\n",
    "    'first':  'Mary',\n",
    "    'last':   'Jones',\n",
    "    'salary': 150_000.00\n",
    "}\n",
    "\n",
    "cursor.execute(sql, data)\n",
    "conn.commit()"
   ]
  },
  {
   "cell_type": "markdown",
   "id": "d8269d78",
   "metadata": {},
   "source": [
    "### Insert multiple rows"
   ]
  },
  {
   "cell_type": "code",
   "execution_count": 4,
   "id": "2cae0e13",
   "metadata": {
    "tags": []
   },
   "outputs": [],
   "source": [
    "sql = ( \"\"\"\n",
    "        INSERT INTO employee\n",
    "        VALUES (%(id)s, %(last)s, %(first)s, %(salary)s)\n",
    "        \"\"\"\n",
    "      ) \n",
    "\n",
    "data = [\n",
    "    {\n",
    "        'id':     456,\n",
    "        'first':  'George',\n",
    "        'last':   'Smith',\n",
    "        'salary': 100_000.00\n",
    "    },\n",
    "    {\n",
    "        'id':     789,\n",
    "        'first':  'Leslie',\n",
    "        'last':   'Brown',\n",
    "        'salary': 125_000.00\n",
    "    },\n",
    "\n",
    "    {\n",
    "        'id':     941,\n",
    "        'first':  'Sidney',\n",
    "        'last':   'Wilson',\n",
    "        'salary': 250_000.00\n",
    "    }\n",
    "]\n",
    "\n",
    "cursor.executemany(sql, data)  # NOTE: executemany()\n",
    "conn.commit()"
   ]
  },
  {
   "cell_type": "markdown",
   "id": "fdabd874",
   "metadata": {},
   "source": [
    "### Insert specific columns"
   ]
  },
  {
   "cell_type": "code",
   "execution_count": 5,
   "id": "41c79aee",
   "metadata": {
    "tags": []
   },
   "outputs": [],
   "source": [
    "sql = ( \"\"\"\n",
    "        INSERT INTO employee (first, last, id)\n",
    "        VALUES (%(first)s, %(last)s, %(id)s)\n",
    "        \"\"\"\n",
    "      ) \n",
    "\n",
    "data = {\n",
    "    'id':     604,\n",
    "    'first':  'Frank',\n",
    "    'last':   'Schmidt',\n",
    "    'salary': 50_000\n",
    "}\n",
    "    \n",
    "cursor.execute(sql, data)\n",
    "conn.commit()"
   ]
  },
  {
   "cell_type": "code",
   "execution_count": 6,
   "id": "771551f1",
   "metadata": {
    "tags": []
   },
   "outputs": [
    {
     "name": "stdout",
     "output_type": "stream",
     "text": [
      "5 rows:\n",
      "\n"
     ]
    },
    {
     "data": {
      "text/html": [
       "<div>\n",
       "<style scoped>\n",
       "    .dataframe tbody tr th:only-of-type {\n",
       "        vertical-align: middle;\n",
       "    }\n",
       "\n",
       "    .dataframe tbody tr th {\n",
       "        vertical-align: top;\n",
       "    }\n",
       "\n",
       "    .dataframe thead th {\n",
       "        text-align: right;\n",
       "    }\n",
       "</style>\n",
       "<table border=\"1\" class=\"dataframe\">\n",
       "  <thead>\n",
       "    <tr style=\"text-align: right;\">\n",
       "      <th></th>\n",
       "      <th>id</th>\n",
       "      <th>last</th>\n",
       "      <th>first</th>\n",
       "      <th>salary</th>\n",
       "    </tr>\n",
       "  </thead>\n",
       "  <tbody>\n",
       "    <tr>\n",
       "      <th>0</th>\n",
       "      <td>123</td>\n",
       "      <td>Jones</td>\n",
       "      <td>Mary</td>\n",
       "      <td>150000.0</td>\n",
       "    </tr>\n",
       "    <tr>\n",
       "      <th>1</th>\n",
       "      <td>456</td>\n",
       "      <td>Smith</td>\n",
       "      <td>George</td>\n",
       "      <td>100000.0</td>\n",
       "    </tr>\n",
       "    <tr>\n",
       "      <th>2</th>\n",
       "      <td>604</td>\n",
       "      <td>Schmidt</td>\n",
       "      <td>Frank</td>\n",
       "      <td>NaN</td>\n",
       "    </tr>\n",
       "    <tr>\n",
       "      <th>3</th>\n",
       "      <td>789</td>\n",
       "      <td>Brown</td>\n",
       "      <td>Leslie</td>\n",
       "      <td>125000.0</td>\n",
       "    </tr>\n",
       "    <tr>\n",
       "      <th>4</th>\n",
       "      <td>941</td>\n",
       "      <td>Wilson</td>\n",
       "      <td>Sidney</td>\n",
       "      <td>250000.0</td>\n",
       "    </tr>\n",
       "  </tbody>\n",
       "</table>\n",
       "</div>"
      ],
      "text/plain": [
       "    id     last   first    salary\n",
       "0  123    Jones    Mary  150000.0\n",
       "1  456    Smith  George  100000.0\n",
       "2  604  Schmidt   Frank       NaN\n",
       "3  789    Brown  Leslie  125000.0\n",
       "4  941   Wilson  Sidney  250000.0"
      ]
     },
     "metadata": {},
     "output_type": "display_data"
    }
   ],
   "source": [
    "print_employee(conn)"
   ]
  },
  {
   "cell_type": "code",
   "execution_count": 7,
   "id": "81f6660c",
   "metadata": {
    "tags": []
   },
   "outputs": [],
   "source": [
    "cursor.close()\n",
    "conn.close()"
   ]
  },
  {
   "cell_type": "code",
   "execution_count": null,
   "id": "f67487e6",
   "metadata": {},
   "outputs": [],
   "source": []
  }
 ],
 "metadata": {
  "kernelspec": {
   "display_name": "Python 3 (ipykernel)",
   "language": "python",
   "name": "python3"
  },
  "language_info": {
   "codemirror_mode": {
    "name": "ipython",
    "version": 3
   },
   "file_extension": ".py",
   "mimetype": "text/x-python",
   "name": "python",
   "nbconvert_exporter": "python",
   "pygments_lexer": "ipython3",
   "version": "3.11.4"
  }
 },
 "nbformat": 4,
 "nbformat_minor": 5
}
