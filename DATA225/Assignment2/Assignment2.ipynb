{
 "cells": [
  {
   "cell_type": "code",
   "execution_count": 34,
   "id": "aa416dec-8c89-4a27-a568-592bebf9252c",
   "metadata": {
    "tags": []
   },
   "outputs": [],
   "source": [
    "import pandas as pd\n",
    "import numpy as np"
   ]
  },
  {
   "cell_type": "code",
   "execution_count": 35,
   "id": "7c7319dd-aaae-4961-81fa-835995c422bd",
   "metadata": {
    "tags": []
   },
   "outputs": [],
   "source": [
    "teams_df = pd.read_csv(\"teams.csv\")\n",
    "teamstats_df = pd.read_csv(\"teamstats.csv\")"
   ]
  },
  {
   "cell_type": "markdown",
   "id": "01e09e3a-fd50-448e-8232-89134be4a96b",
   "metadata": {},
   "source": [
    "These are one-to-many relationship dataset."
   ]
  },
  {
   "cell_type": "code",
   "execution_count": 36,
   "id": "a5e42d30-4551-4438-86df-a32d52b66c48",
   "metadata": {
    "tags": []
   },
   "outputs": [
    {
     "data": {
      "text/html": [
       "<div>\n",
       "<style scoped>\n",
       "    .dataframe tbody tr th:only-of-type {\n",
       "        vertical-align: middle;\n",
       "    }\n",
       "\n",
       "    .dataframe tbody tr th {\n",
       "        vertical-align: top;\n",
       "    }\n",
       "\n",
       "    .dataframe thead th {\n",
       "        text-align: right;\n",
       "    }\n",
       "</style>\n",
       "<table border=\"1\" class=\"dataframe\">\n",
       "  <thead>\n",
       "    <tr style=\"text-align: right;\">\n",
       "      <th></th>\n",
       "      <th>teamID</th>\n",
       "      <th>name</th>\n",
       "    </tr>\n",
       "  </thead>\n",
       "  <tbody>\n",
       "    <tr>\n",
       "      <th>0</th>\n",
       "      <td>71</td>\n",
       "      <td>Aston Villa</td>\n",
       "    </tr>\n",
       "    <tr>\n",
       "      <th>1</th>\n",
       "      <td>72</td>\n",
       "      <td>Everton</td>\n",
       "    </tr>\n",
       "    <tr>\n",
       "      <th>2</th>\n",
       "      <td>74</td>\n",
       "      <td>Southampton</td>\n",
       "    </tr>\n",
       "    <tr>\n",
       "      <th>3</th>\n",
       "      <td>75</td>\n",
       "      <td>Leicester</td>\n",
       "    </tr>\n",
       "    <tr>\n",
       "      <th>4</th>\n",
       "      <td>76</td>\n",
       "      <td>West Bromwich Albion</td>\n",
       "    </tr>\n",
       "  </tbody>\n",
       "</table>\n",
       "</div>"
      ],
      "text/plain": [
       "   teamID                  name\n",
       "0      71           Aston Villa\n",
       "1      72               Everton\n",
       "2      74           Southampton\n",
       "3      75             Leicester\n",
       "4      76  West Bromwich Albion"
      ]
     },
     "execution_count": 36,
     "metadata": {},
     "output_type": "execute_result"
    }
   ],
   "source": [
    "teams_df.head()"
   ]
  },
  {
   "cell_type": "code",
   "execution_count": 37,
   "id": "a38b40f7-fe9a-4706-b79c-ac2a74145946",
   "metadata": {
    "tags": []
   },
   "outputs": [
    {
     "data": {
      "text/html": [
       "<div>\n",
       "<style scoped>\n",
       "    .dataframe tbody tr th:only-of-type {\n",
       "        vertical-align: middle;\n",
       "    }\n",
       "\n",
       "    .dataframe tbody tr th {\n",
       "        vertical-align: top;\n",
       "    }\n",
       "\n",
       "    .dataframe thead th {\n",
       "        text-align: right;\n",
       "    }\n",
       "</style>\n",
       "<table border=\"1\" class=\"dataframe\">\n",
       "  <thead>\n",
       "    <tr style=\"text-align: right;\">\n",
       "      <th></th>\n",
       "      <th>gameID</th>\n",
       "      <th>teamID</th>\n",
       "      <th>season</th>\n",
       "      <th>date</th>\n",
       "      <th>location</th>\n",
       "      <th>goals</th>\n",
       "      <th>xGoals</th>\n",
       "      <th>shots</th>\n",
       "      <th>shotsOnTarget</th>\n",
       "      <th>deep</th>\n",
       "      <th>ppda</th>\n",
       "      <th>fouls</th>\n",
       "      <th>corners</th>\n",
       "      <th>yellowCards</th>\n",
       "      <th>redCards</th>\n",
       "      <th>result</th>\n",
       "    </tr>\n",
       "  </thead>\n",
       "  <tbody>\n",
       "    <tr>\n",
       "      <th>0</th>\n",
       "      <td>81</td>\n",
       "      <td>89</td>\n",
       "      <td>2015</td>\n",
       "      <td>2015-08-08 15:45:00</td>\n",
       "      <td>h</td>\n",
       "      <td>1</td>\n",
       "      <td>0.627539</td>\n",
       "      <td>9</td>\n",
       "      <td>1</td>\n",
       "      <td>4</td>\n",
       "      <td>13.8261</td>\n",
       "      <td>12</td>\n",
       "      <td>1</td>\n",
       "      <td>2.0</td>\n",
       "      <td>0</td>\n",
       "      <td>W</td>\n",
       "    </tr>\n",
       "    <tr>\n",
       "      <th>1</th>\n",
       "      <td>81</td>\n",
       "      <td>82</td>\n",
       "      <td>2015</td>\n",
       "      <td>2015-08-08 15:45:00</td>\n",
       "      <td>a</td>\n",
       "      <td>0</td>\n",
       "      <td>0.674600</td>\n",
       "      <td>9</td>\n",
       "      <td>4</td>\n",
       "      <td>10</td>\n",
       "      <td>8.2188</td>\n",
       "      <td>12</td>\n",
       "      <td>2</td>\n",
       "      <td>3.0</td>\n",
       "      <td>0</td>\n",
       "      <td>L</td>\n",
       "    </tr>\n",
       "    <tr>\n",
       "      <th>2</th>\n",
       "      <td>82</td>\n",
       "      <td>73</td>\n",
       "      <td>2015</td>\n",
       "      <td>2015-08-08 18:00:00</td>\n",
       "      <td>h</td>\n",
       "      <td>0</td>\n",
       "      <td>0.876106</td>\n",
       "      <td>11</td>\n",
       "      <td>2</td>\n",
       "      <td>11</td>\n",
       "      <td>6.9000</td>\n",
       "      <td>13</td>\n",
       "      <td>6</td>\n",
       "      <td>3.0</td>\n",
       "      <td>0</td>\n",
       "      <td>L</td>\n",
       "    </tr>\n",
       "    <tr>\n",
       "      <th>3</th>\n",
       "      <td>82</td>\n",
       "      <td>71</td>\n",
       "      <td>2015</td>\n",
       "      <td>2015-08-08 18:00:00</td>\n",
       "      <td>a</td>\n",
       "      <td>1</td>\n",
       "      <td>0.782253</td>\n",
       "      <td>7</td>\n",
       "      <td>3</td>\n",
       "      <td>2</td>\n",
       "      <td>11.8462</td>\n",
       "      <td>13</td>\n",
       "      <td>3</td>\n",
       "      <td>4.0</td>\n",
       "      <td>0</td>\n",
       "      <td>W</td>\n",
       "    </tr>\n",
       "    <tr>\n",
       "      <th>4</th>\n",
       "      <td>83</td>\n",
       "      <td>72</td>\n",
       "      <td>2015</td>\n",
       "      <td>2015-08-08 18:00:00</td>\n",
       "      <td>h</td>\n",
       "      <td>2</td>\n",
       "      <td>0.604226</td>\n",
       "      <td>10</td>\n",
       "      <td>5</td>\n",
       "      <td>5</td>\n",
       "      <td>6.6500</td>\n",
       "      <td>7</td>\n",
       "      <td>8</td>\n",
       "      <td>1.0</td>\n",
       "      <td>0</td>\n",
       "      <td>D</td>\n",
       "    </tr>\n",
       "  </tbody>\n",
       "</table>\n",
       "</div>"
      ],
      "text/plain": [
       "   gameID  teamID  season                 date location  goals    xGoals  \\\n",
       "0      81      89    2015  2015-08-08 15:45:00        h      1  0.627539   \n",
       "1      81      82    2015  2015-08-08 15:45:00        a      0  0.674600   \n",
       "2      82      73    2015  2015-08-08 18:00:00        h      0  0.876106   \n",
       "3      82      71    2015  2015-08-08 18:00:00        a      1  0.782253   \n",
       "4      83      72    2015  2015-08-08 18:00:00        h      2  0.604226   \n",
       "\n",
       "   shots  shotsOnTarget  deep     ppda  fouls  corners  yellowCards  redCards  \\\n",
       "0      9              1     4  13.8261     12        1          2.0         0   \n",
       "1      9              4    10   8.2188     12        2          3.0         0   \n",
       "2     11              2    11   6.9000     13        6          3.0         0   \n",
       "3      7              3     2  11.8462     13        3          4.0         0   \n",
       "4     10              5     5   6.6500      7        8          1.0         0   \n",
       "\n",
       "  result  \n",
       "0      W  \n",
       "1      L  \n",
       "2      L  \n",
       "3      W  \n",
       "4      D  "
      ]
     },
     "execution_count": 37,
     "metadata": {},
     "output_type": "execute_result"
    }
   ],
   "source": [
    "teamstats_df.head()"
   ]
  },
  {
   "cell_type": "code",
   "execution_count": 38,
   "id": "ede914ba-fce2-4e97-9296-3a32023df998",
   "metadata": {
    "tags": []
   },
   "outputs": [
    {
     "data": {
      "text/plain": [
       "teamID    0\n",
       "name      0\n",
       "dtype: int64"
      ]
     },
     "execution_count": 38,
     "metadata": {},
     "output_type": "execute_result"
    }
   ],
   "source": [
    "teams_df.isna().sum()"
   ]
  },
  {
   "cell_type": "code",
   "execution_count": 39,
   "id": "57a00793-80f5-479d-92fa-9e443af6a98f",
   "metadata": {
    "tags": []
   },
   "outputs": [
    {
     "data": {
      "text/plain": [
       "gameID           0\n",
       "teamID           0\n",
       "season           0\n",
       "date             0\n",
       "location         0\n",
       "goals            0\n",
       "xGoals           0\n",
       "shots            0\n",
       "shotsOnTarget    0\n",
       "deep             0\n",
       "ppda             0\n",
       "fouls            0\n",
       "corners          0\n",
       "yellowCards      1\n",
       "redCards         0\n",
       "result           0\n",
       "dtype: int64"
      ]
     },
     "execution_count": 39,
     "metadata": {},
     "output_type": "execute_result"
    }
   ],
   "source": [
    "teamstats_df.isna().sum()"
   ]
  },
  {
   "cell_type": "code",
   "execution_count": 47,
   "id": "40d801fc-17dd-4316-a1ae-b00aa20500bf",
   "metadata": {
    "tags": []
   },
   "outputs": [
    {
     "data": {
      "text/html": [
       "<div>\n",
       "<style scoped>\n",
       "    .dataframe tbody tr th:only-of-type {\n",
       "        vertical-align: middle;\n",
       "    }\n",
       "\n",
       "    .dataframe tbody tr th {\n",
       "        vertical-align: top;\n",
       "    }\n",
       "\n",
       "    .dataframe thead th {\n",
       "        text-align: right;\n",
       "    }\n",
       "</style>\n",
       "<table border=\"1\" class=\"dataframe\">\n",
       "  <thead>\n",
       "    <tr style=\"text-align: right;\">\n",
       "      <th></th>\n",
       "      <th>gameID</th>\n",
       "      <th>teamID</th>\n",
       "      <th>season</th>\n",
       "      <th>date</th>\n",
       "      <th>location</th>\n",
       "      <th>goals</th>\n",
       "      <th>xGoals</th>\n",
       "      <th>shots</th>\n",
       "      <th>shotsOnTarget</th>\n",
       "      <th>deep</th>\n",
       "      <th>ppda</th>\n",
       "      <th>fouls</th>\n",
       "      <th>corners</th>\n",
       "      <th>yellowCards</th>\n",
       "      <th>redCards</th>\n",
       "      <th>result</th>\n",
       "    </tr>\n",
       "  </thead>\n",
       "  <tbody>\n",
       "    <tr>\n",
       "      <th>8280</th>\n",
       "      <td>4888</td>\n",
       "      <td>95</td>\n",
       "      <td>2014</td>\n",
       "      <td>2015-03-02 19:45:00</td>\n",
       "      <td>h</td>\n",
       "      <td>1</td>\n",
       "      <td>0.355629</td>\n",
       "      <td>8</td>\n",
       "      <td>3</td>\n",
       "      <td>2</td>\n",
       "      <td>8.1923</td>\n",
       "      <td>11</td>\n",
       "      <td>1</td>\n",
       "      <td>NaN</td>\n",
       "      <td>1</td>\n",
       "      <td>D</td>\n",
       "    </tr>\n",
       "  </tbody>\n",
       "</table>\n",
       "</div>"
      ],
      "text/plain": [
       "      gameID  teamID  season                 date location  goals    xGoals  \\\n",
       "8280    4888      95    2014  2015-03-02 19:45:00        h      1  0.355629   \n",
       "\n",
       "      shots  shotsOnTarget  deep    ppda  fouls  corners  yellowCards  \\\n",
       "8280      8              3     2  8.1923     11        1          NaN   \n",
       "\n",
       "      redCards result  \n",
       "8280         1      D  "
      ]
     },
     "execution_count": 47,
     "metadata": {},
     "output_type": "execute_result"
    }
   ],
   "source": [
    "teamstats_df[teamstats_df[\"yellowCards\"].isna()]"
   ]
  },
  {
   "cell_type": "code",
   "execution_count": 50,
   "id": "765d464a-40cb-4ca9-ad11-88b467447d72",
   "metadata": {
    "tags": []
   },
   "outputs": [],
   "source": [
    "# new teamstats dataframe with substitute NaN value to 0\n",
    "\n",
    "teamstats_df_filtered = teamstats_df.fillna(0)"
   ]
  },
  {
   "cell_type": "code",
   "execution_count": 51,
   "id": "a3c11c66-1bb2-40dc-b8ac-b508cbc00f40",
   "metadata": {
    "tags": []
   },
   "outputs": [
    {
     "data": {
      "text/plain": [
       "gameID           0\n",
       "teamID           0\n",
       "season           0\n",
       "date             0\n",
       "location         0\n",
       "goals            0\n",
       "xGoals           0\n",
       "shots            0\n",
       "shotsOnTarget    0\n",
       "deep             0\n",
       "ppda             0\n",
       "fouls            0\n",
       "corners          0\n",
       "yellowCards      0\n",
       "redCards         0\n",
       "result           0\n",
       "dtype: int64"
      ]
     },
     "execution_count": 51,
     "metadata": {},
     "output_type": "execute_result"
    }
   ],
   "source": [
    "teamstats_df_filtered.isna().sum()"
   ]
  },
  {
   "cell_type": "code",
   "execution_count": null,
   "id": "4cb2d4ad-e81b-4d7c-8b4e-2176b91282af",
   "metadata": {},
   "outputs": [],
   "source": []
  }
 ],
 "metadata": {
  "kernelspec": {
   "display_name": "Python 3 (ipykernel)",
   "language": "python",
   "name": "python3"
  },
  "language_info": {
   "codemirror_mode": {
    "name": "ipython",
    "version": 3
   },
   "file_extension": ".py",
   "mimetype": "text/x-python",
   "name": "python",
   "nbconvert_exporter": "python",
   "pygments_lexer": "ipython3",
   "version": "3.11.4"
  }
 },
 "nbformat": 4,
 "nbformat_minor": 5
}
