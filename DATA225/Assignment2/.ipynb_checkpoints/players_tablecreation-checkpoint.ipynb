{
 "cells": [
  {
   "cell_type": "code",
   "execution_count": 1,
   "id": "b5364383",
   "metadata": {},
   "outputs": [],
   "source": [
    "import pandas as pd\n",
    "import os\n",
    "from configparser import ConfigParser\n",
    "from mysql.connector import MySQLConnection\n",
    "\n",
    "\n",
    "def read_config(config_file = 'config.ini', section = 'mysql'):\n",
    "    \"\"\"\n",
    "    Read a configuration file config_file and the given section. \n",
    "    If successful, return the configuration as a dictionary,\n",
    "    else raise an exception. \n",
    "    \"\"\"\n",
    "    parser = ConfigParser()\n",
    "    \n",
    "    # Does the configuration file exist?\n",
    "    if os.path.isfile(config_file):\n",
    "        parser.read(config_file)\n",
    "    else:\n",
    "        raise Exception(f\"Configuration file '{config_file}' \"\n",
    "                        \"doesn't exist.\")\n",
    "    \n",
    "    config = {}\n",
    "    \n",
    "    # Does it have the right section?\n",
    "    if parser.has_section(section):\n",
    "        \n",
    "        # Parse the configuration file.\n",
    "        items = parser.items(section)\n",
    "        \n",
    "        # Construct the parameter dictionary.\n",
    "        for item in items:\n",
    "            config[item[0]] = item[1]\n",
    "            \n",
    "    else:\n",
    "        raise Exception(f\"Section '{section}' missing \"\n",
    "                        f\"in configuration file '{config_file}'.\")\n",
    "    \n",
    "    return config\n",
    "        \n",
    "            \n",
    "    "
   ]
  },
  {
   "cell_type": "code",
   "execution_count": 2,
   "id": "99b670d8",
   "metadata": {},
   "outputs": [
    {
     "data": {
      "text/plain": [
       "{'host': 'localhost',\n",
       " 'database': 'players',\n",
       " 'user': 'root',\n",
       " 'password': 'seekrit'}"
      ]
     },
     "execution_count": 2,
     "metadata": {},
     "output_type": "execute_result"
    }
   ],
   "source": [
    "db_config = read_config('players.ini')\n",
    "db_config"
   ]
  },
  {
   "cell_type": "code",
   "execution_count": 3,
   "id": "00a73e6d",
   "metadata": {},
   "outputs": [],
   "source": [
    "def make_connection(configFile = 'config.ini', section = 'mysql'):\n",
    "    \"\"\"\n",
    "    Make a connection to a database with the configuration file\n",
    "    config_file and the given section. If successful, return \n",
    "    the connection, else raise an exception.\n",
    "    \"\"\"\n",
    "    try:\n",
    "        db_config = read_config(configFile, section)            \n",
    "        conn = MySQLConnection(**db_config)\n",
    "        \n",
    "        if conn.is_connected():\n",
    "            return conn\n",
    "                \n",
    "    except Error as e:\n",
    "        raise Exception(f'Connection failed.\\n{e}')"
   ]
  },
  {
   "cell_type": "code",
   "execution_count": 4,
   "id": "da2b0a66",
   "metadata": {},
   "outputs": [
    {
     "data": {
      "text/plain": [
       "<mysql.connector.connection.MySQLConnection at 0x263974085d0>"
      ]
     },
     "execution_count": 4,
     "metadata": {},
     "output_type": "execute_result"
    }
   ],
   "source": [
    "conn = make_connection('players.ini')\n",
    "conn"
   ]
  },
  {
   "cell_type": "code",
   "execution_count": 5,
   "id": "6ccae5d4",
   "metadata": {},
   "outputs": [
    {
     "data": {
      "text/plain": [
       "<mysql.connector.cursor.MySQLCursor at 0x2639618d810>"
      ]
     },
     "execution_count": 5,
     "metadata": {},
     "output_type": "execute_result"
    }
   ],
   "source": [
    "cursor = conn.cursor()\n",
    "cursor"
   ]
  },
  {
   "cell_type": "code",
   "execution_count": 6,
   "id": "857f00cc",
   "metadata": {},
   "outputs": [],
   "source": [
    "cursor.execute('DROP TABLE IF EXISTS players')"
   ]
  },
  {
   "cell_type": "code",
   "execution_count": 7,
   "id": "a46d733a",
   "metadata": {},
   "outputs": [
    {
     "name": "stdout",
     "output_type": "stream",
     "text": [
      "      playerID                  name\n",
      "0          560         Sergio Romero\n",
      "1          557        Matteo Darmian\n",
      "2          548           Daley Blind\n",
      "3          628        Chris Smalling\n",
      "4         1006             Luke Shaw\n",
      "...        ...                   ...\n",
      "7654      9512  Valentino Livramento\n",
      "7655      9740               José Sá\n",
      "7656      1025       Daniel Bachmann\n",
      "7657      9745   Dimitris Giannoulis\n",
      "7658       852       Freddie Woodman\n",
      "\n",
      "[7659 rows x 2 columns]\n"
     ]
    }
   ],
   "source": [
    "\n",
    "df_players= pd.read_csv(\"players.csv\",encoding='latin1')\n",
    "#df_players.head()\n",
    "print(df_players)\n",
    "\n",
    "sql = ( \"\"\"\n",
    "        CREATE TABLE players\n",
    "        (\n",
    "            playerID  int,\n",
    "            name   varchar(32),\n",
    "            PRIMARY KEY(playerID)\n",
    "        )\n",
    "        \"\"\"\n",
    "      )\n",
    "\n",
    "cursor.execute(sql)"
   ]
  },
  {
   "cell_type": "code",
   "execution_count": 8,
   "id": "fc09c7b6",
   "metadata": {},
   "outputs": [],
   "source": [
    "sql = \"SELECT * FROM players\";\n",
    "\n",
    "cursor.execute(sql)\n",
    "row = cursor.fetchone()\n",
    "\n",
    "index = 1\n",
    "\n",
    "while row != None:\n",
    "    print(\"-----\")\n",
    "    print(f'{index}: {row}')\n",
    "    row = cursor.fetchone()\n",
    "    index += 1"
   ]
  },
  {
   "cell_type": "code",
   "execution_count": 9,
   "id": "7374a6be",
   "metadata": {},
   "outputs": [],
   "source": [
    "cursor.close()\n",
    "conn.close()"
   ]
  }
 ],
 "metadata": {
  "kernelspec": {
   "display_name": "Python 3 (ipykernel)",
   "language": "python",
   "name": "python3"
  },
  "language_info": {
   "codemirror_mode": {
    "name": "ipython",
    "version": 3
   },
   "file_extension": ".py",
   "mimetype": "text/x-python",
   "name": "python",
   "nbconvert_exporter": "python",
   "pygments_lexer": "ipython3",
   "version": "3.11.4"
  }
 },
 "nbformat": 4,
 "nbformat_minor": 5
}
