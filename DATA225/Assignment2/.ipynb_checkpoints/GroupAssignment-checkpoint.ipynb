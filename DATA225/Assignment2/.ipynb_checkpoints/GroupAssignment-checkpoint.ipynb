{
 "cells": [
  {
   "cell_type": "markdown",
   "id": "88c5b392-ea2d-45c2-bad6-178ab6ef971a",
   "metadata": {},
   "source": [
    "## Connect Database"
   ]
  },
  {
   "cell_type": "code",
   "execution_count": 348,
   "id": "8cda4ed2-46ad-407a-8f8b-a57e2864b121",
   "metadata": {
    "tags": []
   },
   "outputs": [],
   "source": [
    "import csv\n",
    "import mysql.connector\n",
    "import pandas as pd\n",
    "from configparser import ConfigParser\n",
    "from DATA225utils import *"
   ]
  },
  {
   "cell_type": "code",
   "execution_count": 349,
   "id": "2f29849d-c8f4-45c0-9ed9-26fc8909f86b",
   "metadata": {
    "tags": []
   },
   "outputs": [],
   "source": [
    "cursor.execute(\"DROP DATABASE IF EXISTS football\")"
   ]
  },
  {
   "cell_type": "code",
   "execution_count": 350,
   "id": "99a5ae5f-0f80-4185-9abc-6da343ef969a",
   "metadata": {
    "tags": []
   },
   "outputs": [],
   "source": [
    "cursor.execute(\"CREATE DATABASE football\")"
   ]
  },
  {
   "cell_type": "code",
   "execution_count": 351,
   "id": "041a70b9-08a2-4c55-b77d-d3c04ff8998e",
   "metadata": {
    "tags": []
   },
   "outputs": [],
   "source": [
    "db_config = read_config('football.ini')"
   ]
  },
  {
   "cell_type": "code",
   "execution_count": 352,
   "id": "b326bc07-530e-4d98-83bb-fe1dd7bfa696",
   "metadata": {
    "tags": []
   },
   "outputs": [],
   "source": [
    "conn = make_connection(config_file = 'football.ini')\n",
    "cursor = conn.cursor()"
   ]
  },
  {
   "cell_type": "markdown",
   "id": "37fb0532-5785-4dac-91d6-41cad771f41f",
   "metadata": {},
   "source": [
    "### Create teams database (schema)"
   ]
  },
  {
   "cell_type": "code",
   "execution_count": 353,
   "id": "1ec0108d-dcdf-418a-9af8-6a72bb94b263",
   "metadata": {
    "tags": []
   },
   "outputs": [
    {
     "data": {
      "text/plain": [
       "gameID             int64\n",
       "teamID             int64\n",
       "season             int64\n",
       "date              object\n",
       "location          object\n",
       "goals              int64\n",
       "xGoals           float64\n",
       "shots              int64\n",
       "shotsOnTarget      int64\n",
       "deep               int64\n",
       "ppda             float64\n",
       "fouls              int64\n",
       "corners            int64\n",
       "yellowCards      float64\n",
       "redCards           int64\n",
       "result            object\n",
       "dtype: object"
      ]
     },
     "execution_count": 353,
     "metadata": {},
     "output_type": "execute_result"
    }
   ],
   "source": [
    "# check data types of teamstats column\n",
    "df = pd.read_csv(\"teams.csv\")\n",
    "dfstats = pd.read_csv(\"teamstats.csv\")\n",
    "dfstats.dtypes"
   ]
  },
  {
   "cell_type": "code",
   "execution_count": 354,
   "id": "6d53def3-e4a1-457d-9278-860d93b38872",
   "metadata": {
    "tags": []
   },
   "outputs": [
    {
     "data": {
      "text/plain": [
       "teamID    0\n",
       "name      0\n",
       "dtype: int64"
      ]
     },
     "execution_count": 354,
     "metadata": {},
     "output_type": "execute_result"
    }
   ],
   "source": [
    "# Check if each dataframe has any NA value\n",
    "df.isna().sum()"
   ]
  },
  {
   "cell_type": "code",
   "execution_count": 355,
   "id": "33ddcd7d-d930-4e49-860c-8f5312241b42",
   "metadata": {
    "tags": []
   },
   "outputs": [
    {
     "data": {
      "text/plain": [
       "gameID           0\n",
       "teamID           0\n",
       "season           0\n",
       "date             0\n",
       "location         0\n",
       "goals            0\n",
       "xGoals           0\n",
       "shots            0\n",
       "shotsOnTarget    0\n",
       "deep             0\n",
       "ppda             0\n",
       "fouls            0\n",
       "corners          0\n",
       "yellowCards      1\n",
       "redCards         0\n",
       "result           0\n",
       "dtype: int64"
      ]
     },
     "execution_count": 355,
     "metadata": {},
     "output_type": "execute_result"
    }
   ],
   "source": [
    "dfstats.isna().sum()"
   ]
  },
  {
   "cell_type": "code",
   "execution_count": 356,
   "id": "5ac31f4b-358e-4e7c-b49e-363873dbeb2b",
   "metadata": {
    "tags": []
   },
   "outputs": [
    {
     "data": {
      "text/html": [
       "<div>\n",
       "<style scoped>\n",
       "    .dataframe tbody tr th:only-of-type {\n",
       "        vertical-align: middle;\n",
       "    }\n",
       "\n",
       "    .dataframe tbody tr th {\n",
       "        vertical-align: top;\n",
       "    }\n",
       "\n",
       "    .dataframe thead th {\n",
       "        text-align: right;\n",
       "    }\n",
       "</style>\n",
       "<table border=\"1\" class=\"dataframe\">\n",
       "  <thead>\n",
       "    <tr style=\"text-align: right;\">\n",
       "      <th></th>\n",
       "      <th>gameID</th>\n",
       "      <th>teamID</th>\n",
       "      <th>season</th>\n",
       "      <th>date</th>\n",
       "      <th>location</th>\n",
       "      <th>goals</th>\n",
       "      <th>xGoals</th>\n",
       "      <th>shots</th>\n",
       "      <th>shotsOnTarget</th>\n",
       "      <th>deep</th>\n",
       "      <th>ppda</th>\n",
       "      <th>fouls</th>\n",
       "      <th>corners</th>\n",
       "      <th>yellowCards</th>\n",
       "      <th>redCards</th>\n",
       "      <th>result</th>\n",
       "    </tr>\n",
       "  </thead>\n",
       "  <tbody>\n",
       "    <tr>\n",
       "      <th>8280</th>\n",
       "      <td>4888</td>\n",
       "      <td>95</td>\n",
       "      <td>2014</td>\n",
       "      <td>2015-03-02 19:45:00</td>\n",
       "      <td>h</td>\n",
       "      <td>1</td>\n",
       "      <td>0.355629</td>\n",
       "      <td>8</td>\n",
       "      <td>3</td>\n",
       "      <td>2</td>\n",
       "      <td>8.1923</td>\n",
       "      <td>11</td>\n",
       "      <td>1</td>\n",
       "      <td>NaN</td>\n",
       "      <td>1</td>\n",
       "      <td>D</td>\n",
       "    </tr>\n",
       "  </tbody>\n",
       "</table>\n",
       "</div>"
      ],
      "text/plain": [
       "      gameID  teamID  season                 date location  goals    xGoals  \\\n",
       "8280    4888      95    2014  2015-03-02 19:45:00        h      1  0.355629   \n",
       "\n",
       "      shots  shotsOnTarget  deep    ppda  fouls  corners  yellowCards  \\\n",
       "8280      8              3     2  8.1923     11        1          NaN   \n",
       "\n",
       "      redCards result  \n",
       "8280         1      D  "
      ]
     },
     "execution_count": 356,
     "metadata": {},
     "output_type": "execute_result"
    }
   ],
   "source": [
    "dfstats[dfstats['yellowCards'].isna()]"
   ]
  },
  {
   "cell_type": "markdown",
   "id": "36ddc962-27fe-4a97-bc4d-255a6220d4d3",
   "metadata": {},
   "source": [
    "There is one row that has NA value in **`teamstats`** table, which is located in `yellowCards` column at 8280th row. We will change NA value to 0 later in ETL process."
   ]
  },
  {
   "cell_type": "markdown",
   "id": "d519413a-2d5e-4443-99ea-591466753e38",
   "metadata": {
    "tags": []
   },
   "source": [
    "### Create Database tables"
   ]
  },
  {
   "cell_type": "code",
   "execution_count": 357,
   "id": "eb981d4e-12c9-4300-b4c8-dfacb5309cd4",
   "metadata": {
    "tags": []
   },
   "outputs": [],
   "source": [
    "# teams table\n",
    "\n",
    "cursor.execute('DROP TABLE IF EXISTS teams')\n",
    "\n",
    "sql = ( \"\"\"\n",
    "        CREATE TABLE teams\n",
    "        (\n",
    "            teamID       int,\n",
    "            name         varchar(32),\n",
    "            PRIMARY KEY(teamID)\n",
    "        )\n",
    "        \"\"\"\n",
    "      )\n",
    "\n",
    "cursor.execute(sql);\n",
    "\n",
    "\n",
    "# teamstats table\n",
    "\n",
    "cursor.execute('DROP TABLE IF EXISTS teamstats')\n",
    "\n",
    "sql = (\"\"\"\n",
    "        CREATE TABLE teamstats\n",
    "        (\n",
    "            gameID             int,\n",
    "            teamID             int,\n",
    "            season             int,\n",
    "            date              varchar(32),\n",
    "            location          varchar(32),\n",
    "            goals              int,\n",
    "            xGoals           double,\n",
    "            shots              int,\n",
    "            shotsOnTarget      int,\n",
    "            deep               int,\n",
    "            ppda             double,\n",
    "            fouls              int,\n",
    "            corners            int,\n",
    "            yellowCards        int,\n",
    "            redCards           int,\n",
    "            result            int,\n",
    "            FOREIGN KEY (teamID) REFERENCES teams(teamID)\n",
    "        )\n",
    "        \"\"\"\n",
    "      )\n",
    "cursor.execute(sql);"
   ]
  },
  {
   "cell_type": "markdown",
   "id": "dcaba52d-1fc1-47c0-8b43-0c05e9e58609",
   "metadata": {},
   "source": [
    "**`teams`** table has `teamID` as a `primary key` and **`teamstats`** table has `teamID` column as a `foreign key` that refers to teams table `teamID` Primary key."
   ]
  },
  {
   "cell_type": "markdown",
   "id": "b4da897d-7183-4355-b093-5f796ae65566",
   "metadata": {},
   "source": [
    "A function to clean (transform) each row:¶\n",
    "* yellowCards 'NA' ==> 0\n",
    "* result 'W' ==> 2\n",
    "* result 'D' ==> 1\n",
    "* result 'L' ==> 0\n",
    "\n",
    "Change `result` column to integer values."
   ]
  },
  {
   "cell_type": "code",
   "execution_count": 358,
   "id": "79c24971-c77c-4f06-a5d4-34ed8a6af200",
   "metadata": {
    "tags": []
   },
   "outputs": [],
   "source": [
    "def transform(row):\n",
    "    if row[13] == 'NA':\n",
    "        row[13] = 0\n",
    "\n",
    "    _result = row[-1]\n",
    "\n",
    "    if _result == 'W':\n",
    "        row[-1] = 2\n",
    "    elif _result == 'D':\n",
    "        row[-1] = 1\n",
    "    elif _result == 'L':\n",
    "        row[-1] = 0\n",
    "    else:\n",
    "        try:\n",
    "            row[13] = int(yellowCards)  # Convert other numeric values to int\n",
    "        except ValueError:\n",
    "            row[13] = 0"
   ]
  },
  {
   "cell_type": "markdown",
   "id": "a3e90e9b-e250-416b-b901-f7e372e718f0",
   "metadata": {},
   "source": [
    "### SQL to Load two tables : teams, teamstats"
   ]
  },
  {
   "cell_type": "code",
   "execution_count": 359,
   "id": "3036a6d4-b861-41ed-8b99-3e22aa16f7e2",
   "metadata": {
    "tags": []
   },
   "outputs": [],
   "source": [
    "sql_teams = (   \"\"\"\n",
    "              INSERT INTO teams\n",
    "              VALUES (%s, %s)\n",
    "              \"\"\"\n",
    "          )\n",
    "\n",
    "sql_teamstats = (   \"\"\"\n",
    "               INSERT INTO teamstats\n",
    "               VALUES (%s, %s, %s, %s, %s, %s, %s, %s, %s, %s, %s, %s, %s, %s, %s, %s)\n",
    "               \"\"\"\n",
    "           )"
   ]
  },
  {
   "cell_type": "markdown",
   "id": "d0d75b3a-efa9-4e55-96f8-c816f48c29c7",
   "metadata": {},
   "source": [
    "### Extract, transform, and load (ETL)."
   ]
  },
  {
   "cell_type": "code",
   "execution_count": 360,
   "id": "5c910264-b690-41b9-917b-8ffc057412c4",
   "metadata": {
    "tags": []
   },
   "outputs": [],
   "source": [
    "first = True\n",
    "i = 0\n",
    "\n",
    "with open('teams.csv', newline='') as csv_file:\n",
    "    data = csv.reader(csv_file, delimiter=',', quotechar='\"')\n",
    "    \n",
    "    for row in data:\n",
    "        if not first:\n",
    "            cursor.execute(sql_teams, row)\n",
    "            \n",
    "        first = False\n",
    "    \n",
    "conn.commit()"
   ]
  },
  {
   "cell_type": "code",
   "execution_count": 361,
   "id": "72ce2837-b266-4b28-8daf-70944f9782c9",
   "metadata": {
    "tags": []
   },
   "outputs": [],
   "source": [
    "first = True\n",
    "i = 0\n",
    "\n",
    "with open('teamstats.csv', newline='') as csv_file:\n",
    "    data = csv.reader(csv_file, delimiter=',', quotechar='\"')\n",
    "    \n",
    "    for row in data:\n",
    "        if not first:\n",
    "            transform(row)\n",
    "            cursor.execute(sql_teamstats, row)\n",
    "            \n",
    "        first = False\n",
    "        \n",
    "        \n",
    "conn.commit()"
   ]
  },
  {
   "cell_type": "markdown",
   "id": "ee5d459b-ee2b-4707-b796-e81548d9d578",
   "metadata": {},
   "source": [
    "### Display in a DataFrame"
   ]
  },
  {
   "cell_type": "code",
   "execution_count": 362,
   "id": "42d3acd6-b147-4369-aaed-e0b2f3bec2ed",
   "metadata": {
    "tags": []
   },
   "outputs": [
    {
     "name": "stdout",
     "output_type": "stream",
     "text": [
      "Fetched 25 rows.\n",
      "\n",
      "(71, 'Aston Villa')\n",
      "(72, 'Everton')\n",
      "(73, 'Bournemouth')\n",
      "(74, 'Southampton')\n",
      "(75, 'Leicester')\n",
      "(76, 'West Bromwich Albion')\n",
      "(77, 'Sunderland')\n",
      "(78, 'Crystal Palace')\n",
      "(79, 'Norwich')\n",
      "(80, 'Chelsea')\n",
      "(81, 'West Ham')\n",
      "(82, 'Tottenham')\n",
      "(83, 'Arsenal')\n",
      "(84, 'Swansea')\n",
      "(85, 'Stoke')\n",
      "(86, 'Newcastle United')\n",
      "(87, 'Liverpool')\n",
      "(88, 'Manchester City')\n",
      "(89, 'Manchester United')\n",
      "(90, 'Watford')\n",
      "(91, 'Hull')\n",
      "(92, 'Burnley')\n",
      "(93, 'Middlesbrough')\n",
      "(94, 'Verona')\n",
      "(95, 'Roma')\n"
     ]
    }
   ],
   "source": [
    "# Frist 25 rows of teams table\n",
    "\n",
    "sql = \"SELECT * FROM teams LIMIT 25\"\n",
    "\n",
    "cursor.execute(sql)\n",
    "rows  = cursor.fetchall()\n",
    "count = cursor.rowcount\n",
    "\n",
    "print(f'Fetched {count} rows.')\n",
    "print()\n",
    "\n",
    "for row in rows:\n",
    "    print(row)"
   ]
  },
  {
   "cell_type": "code",
   "execution_count": 363,
   "id": "588d08d5-feef-4e30-b6da-051e24994c97",
   "metadata": {
    "tags": []
   },
   "outputs": [
    {
     "name": "stdout",
     "output_type": "stream",
     "text": [
      "Fetched 25 rows.\n",
      "\n",
      "(81, 89, 2015, '2015-08-08 15:45:00', 'h', 1, 0.627539, 9, 1, 4, 13.8261, 12, 1, 2, 0, 2)\n",
      "(81, 82, 2015, '2015-08-08 15:45:00', 'a', 0, 0.6746, 9, 4, 10, 8.2188, 12, 2, 3, 0, 0)\n",
      "(82, 73, 2015, '2015-08-08 18:00:00', 'h', 0, 0.876106, 11, 2, 11, 6.9, 13, 6, 3, 0, 0)\n",
      "(82, 71, 2015, '2015-08-08 18:00:00', 'a', 1, 0.782253, 7, 3, 2, 11.8462, 13, 3, 4, 0, 2)\n",
      "(83, 72, 2015, '2015-08-08 18:00:00', 'h', 2, 0.604226, 10, 5, 5, 6.65, 7, 8, 1, 0, 1)\n",
      "(83, 90, 2015, '2015-08-08 18:00:00', 'a', 2, 0.557892, 11, 5, 4, 17.1579, 13, 2, 2, 0, 1)\n",
      "(84, 75, 2015, '2015-08-08 18:00:00', 'h', 4, 2.56803, 19, 8, 5, 10.88, 13, 6, 2, 0, 2)\n",
      "(84, 77, 2015, '2015-08-08 18:00:00', 'a', 2, 1.45946, 11, 5, 6, 9.5556, 17, 3, 4, 0, 0)\n",
      "(85, 79, 2015, '2015-08-08 18:00:00', 'h', 1, 1.13076, 17, 6, 5, 5.7368, 14, 1, 1, 0, 0)\n",
      "(85, 78, 2015, '2015-08-08 18:00:00', 'a', 3, 2.10975, 11, 7, 10, 10.625, 20, 4, 0, 0, 2)\n",
      "(86, 80, 2015, '2015-08-08 20:30:00', 'h', 2, 0.64396, 11, 3, 10, 10.3636, 15, 4, 1, 1, 1)\n",
      "(86, 84, 2015, '2015-08-08 20:30:00', 'a', 2, 2.59203, 17, 10, 5, 8.8333, 16, 8, 3, 0, 1)\n",
      "(87, 86, 2015, '2015-08-09 16:30:00', 'h', 2, 1.54613, 9, 4, 3, 12.7222, 9, 6, 2, 0, 1)\n",
      "(87, 74, 2015, '2015-08-09 16:30:00', 'a', 2, 1.2529, 14, 4, 5, 7.0, 12, 6, 4, 0, 1)\n",
      "(88, 83, 2015, '2015-08-09 16:30:00', 'h', 0, 1.33166, 22, 6, 11, 8.1667, 12, 5, 1, 0, 0)\n",
      "(88, 81, 2015, '2015-08-09 16:30:00', 'a', 2, 0.535961, 8, 4, 0, 12.4545, 9, 4, 3, 0, 2)\n",
      "(89, 85, 2015, '2015-08-09 19:00:00', 'h', 0, 0.381274, 7, 1, 2, 11.913, 9, 3, 2, 0, 0)\n",
      "(89, 87, 2015, '2015-08-09 19:00:00', 'a', 1, 0.329873, 8, 3, 5, 9.3462, 16, 5, 4, 0, 2)\n",
      "(90, 76, 2015, '2015-08-10 23:00:00', 'h', 0, 0.435238, 9, 2, 4, 23.2941, 12, 6, 4, 0, 0)\n",
      "(90, 88, 2015, '2015-08-10 23:00:00', 'a', 3, 1.9242, 20, 7, 8, 8.087, 9, 6, 1, 0, 2)\n",
      "(91, 71, 2015, '2015-08-14 22:45:00', 'h', 0, 0.219118, 5, 1, 3, 10.0333, 14, 3, 2, 0, 0)\n",
      "(91, 89, 2015, '2015-08-14 22:45:00', 'a', 1, 0.660404, 9, 2, 5, 9.5, 10, 5, 2, 0, 2)\n",
      "(92, 74, 2015, '2015-08-15 15:45:00', 'h', 0, 1.06214, 17, 4, 10, 8.8261, 11, 9, 4, 0, 0)\n",
      "(92, 72, 2015, '2015-08-15 15:45:00', 'a', 3, 1.39628, 10, 4, 5, 15.8125, 10, 9, 2, 0, 2)\n",
      "(93, 77, 2015, '2015-08-15 18:00:00', 'h', 1, 0.329128, 6, 2, 2, 10.1818, 7, 6, 1, 0, 0)\n"
     ]
    }
   ],
   "source": [
    "# Frist 25 rows of teamstats table\n",
    "\n",
    "sql = \"SELECT * FROM teamstats LIMIT 25\"\n",
    "\n",
    "cursor.execute(sql)\n",
    "rows  = cursor.fetchall()\n",
    "count = cursor.rowcount\n",
    "\n",
    "print(f'Fetched {count} rows.')\n",
    "print()\n",
    "\n",
    "for row in rows:\n",
    "    print(row)"
   ]
  },
  {
   "cell_type": "code",
   "execution_count": 364,
   "id": "be105a22-5acd-42fc-88ce-1c37742e98a5",
   "metadata": {
    "tags": []
   },
   "outputs": [],
   "source": [
    "# cursor.close()\n",
    "# conn.close()"
   ]
  }
 ],
 "metadata": {
  "kernelspec": {
   "display_name": "Python 3 (ipykernel)",
   "language": "python",
   "name": "python3"
  },
  "language_info": {
   "codemirror_mode": {
    "name": "ipython",
    "version": 3
   },
   "file_extension": ".py",
   "mimetype": "text/x-python",
   "name": "python",
   "nbconvert_exporter": "python",
   "pygments_lexer": "ipython3",
   "version": "3.11.4"
  }
 },
 "nbformat": 4,
 "nbformat_minor": 5
}
