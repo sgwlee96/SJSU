{
 "cells": [
  {
   "cell_type": "markdown",
   "id": "88c5b392-ea2d-45c2-bad6-178ab6ef971a",
   "metadata": {},
   "source": [
    "## Connect Database"
   ]
  },
  {
   "cell_type": "code",
   "execution_count": 24,
   "id": "8cda4ed2-46ad-407a-8f8b-a57e2864b121",
   "metadata": {
    "tags": []
   },
   "outputs": [],
   "source": [
    "import csv\n",
    "import mysql.connector\n",
    "import pandas as pd\n",
    "from configparser import ConfigParser\n",
    "from DATA225utils import *"
   ]
  },
  {
   "cell_type": "code",
   "execution_count": 25,
   "id": "2f29849d-c8f4-45c0-9ed9-26fc8909f86b",
   "metadata": {
    "tags": []
   },
   "outputs": [],
   "source": [
    "cursor.execute(\"DROP DATABASE IF EXISTS football\")"
   ]
  },
  {
   "cell_type": "code",
   "execution_count": 26,
   "id": "99a5ae5f-0f80-4185-9abc-6da343ef969a",
   "metadata": {
    "tags": []
   },
   "outputs": [],
   "source": [
    "cursor.execute(\"CREATE DATABASE football\")"
   ]
  },
  {
   "cell_type": "code",
   "execution_count": 27,
   "id": "041a70b9-08a2-4c55-b77d-d3c04ff8998e",
   "metadata": {
    "tags": []
   },
   "outputs": [],
   "source": [
    "db_config = read_config('football.ini')"
   ]
  },
  {
   "cell_type": "code",
   "execution_count": 28,
   "id": "b326bc07-530e-4d98-83bb-fe1dd7bfa696",
   "metadata": {
    "tags": []
   },
   "outputs": [],
   "source": [
    "conn = make_connection(config_file = 'football.ini')\n",
    "cursor = conn.cursor()"
   ]
  },
  {
   "cell_type": "markdown",
   "id": "37fb0532-5785-4dac-91d6-41cad771f41f",
   "metadata": {},
   "source": [
    "### Create teams database (schema)"
   ]
  },
  {
   "cell_type": "code",
   "execution_count": 29,
   "id": "1ec0108d-dcdf-418a-9af8-6a72bb94b263",
   "metadata": {
    "tags": []
   },
   "outputs": [
    {
     "data": {
      "text/plain": [
       "gameID             int64\n",
       "teamID             int64\n",
       "season             int64\n",
       "date              object\n",
       "location          object\n",
       "goals              int64\n",
       "xGoals           float64\n",
       "shots              int64\n",
       "shotsOnTarget      int64\n",
       "deep               int64\n",
       "ppda             float64\n",
       "fouls              int64\n",
       "corners            int64\n",
       "yellowCards      float64\n",
       "redCards           int64\n",
       "result            object\n",
       "dtype: object"
      ]
     },
     "execution_count": 29,
     "metadata": {},
     "output_type": "execute_result"
    }
   ],
   "source": [
    "# check data types of teamstats column\n",
    "df = pd.read_csv(\"teams.csv\")\n",
    "dfstats = pd.read_csv(\"teamstats.csv\")\n",
    "dfstats.dtypes"
   ]
  },
  {
   "cell_type": "code",
   "execution_count": 30,
   "id": "6d53def3-e4a1-457d-9278-860d93b38872",
   "metadata": {
    "tags": []
   },
   "outputs": [
    {
     "data": {
      "text/plain": [
       "teamID    0\n",
       "name      0\n",
       "dtype: int64"
      ]
     },
     "execution_count": 30,
     "metadata": {},
     "output_type": "execute_result"
    }
   ],
   "source": [
    "# Check if each dataframe has any NA value\n",
    "df.isna().sum()"
   ]
  },
  {
   "cell_type": "code",
   "execution_count": 31,
   "id": "33ddcd7d-d930-4e49-860c-8f5312241b42",
   "metadata": {
    "tags": []
   },
   "outputs": [
    {
     "data": {
      "text/plain": [
       "gameID           0\n",
       "teamID           0\n",
       "season           0\n",
       "date             0\n",
       "location         0\n",
       "goals            0\n",
       "xGoals           0\n",
       "shots            0\n",
       "shotsOnTarget    0\n",
       "deep             0\n",
       "ppda             0\n",
       "fouls            0\n",
       "corners          0\n",
       "yellowCards      1\n",
       "redCards         0\n",
       "result           0\n",
       "dtype: int64"
      ]
     },
     "execution_count": 31,
     "metadata": {},
     "output_type": "execute_result"
    }
   ],
   "source": [
    "dfstats.isna().sum()"
   ]
  },
  {
   "cell_type": "code",
   "execution_count": 32,
   "id": "5ac31f4b-358e-4e7c-b49e-363873dbeb2b",
   "metadata": {
    "tags": []
   },
   "outputs": [
    {
     "data": {
      "text/html": [
       "<div>\n",
       "<style scoped>\n",
       "    .dataframe tbody tr th:only-of-type {\n",
       "        vertical-align: middle;\n",
       "    }\n",
       "\n",
       "    .dataframe tbody tr th {\n",
       "        vertical-align: top;\n",
       "    }\n",
       "\n",
       "    .dataframe thead th {\n",
       "        text-align: right;\n",
       "    }\n",
       "</style>\n",
       "<table border=\"1\" class=\"dataframe\">\n",
       "  <thead>\n",
       "    <tr style=\"text-align: right;\">\n",
       "      <th></th>\n",
       "      <th>gameID</th>\n",
       "      <th>teamID</th>\n",
       "      <th>season</th>\n",
       "      <th>date</th>\n",
       "      <th>location</th>\n",
       "      <th>goals</th>\n",
       "      <th>xGoals</th>\n",
       "      <th>shots</th>\n",
       "      <th>shotsOnTarget</th>\n",
       "      <th>deep</th>\n",
       "      <th>ppda</th>\n",
       "      <th>fouls</th>\n",
       "      <th>corners</th>\n",
       "      <th>yellowCards</th>\n",
       "      <th>redCards</th>\n",
       "      <th>result</th>\n",
       "    </tr>\n",
       "  </thead>\n",
       "  <tbody>\n",
       "    <tr>\n",
       "      <th>8280</th>\n",
       "      <td>4888</td>\n",
       "      <td>95</td>\n",
       "      <td>2014</td>\n",
       "      <td>2015-03-02 19:45:00</td>\n",
       "      <td>h</td>\n",
       "      <td>1</td>\n",
       "      <td>0.355629</td>\n",
       "      <td>8</td>\n",
       "      <td>3</td>\n",
       "      <td>2</td>\n",
       "      <td>8.1923</td>\n",
       "      <td>11</td>\n",
       "      <td>1</td>\n",
       "      <td>NaN</td>\n",
       "      <td>1</td>\n",
       "      <td>D</td>\n",
       "    </tr>\n",
       "  </tbody>\n",
       "</table>\n",
       "</div>"
      ],
      "text/plain": [
       "      gameID  teamID  season                 date location  goals    xGoals  \\\n",
       "8280    4888      95    2014  2015-03-02 19:45:00        h      1  0.355629   \n",
       "\n",
       "      shots  shotsOnTarget  deep    ppda  fouls  corners  yellowCards  \\\n",
       "8280      8              3     2  8.1923     11        1          NaN   \n",
       "\n",
       "      redCards result  \n",
       "8280         1      D  "
      ]
     },
     "execution_count": 32,
     "metadata": {},
     "output_type": "execute_result"
    }
   ],
   "source": [
    "dfstats[dfstats['yellowCards'].isna()]"
   ]
  },
  {
   "cell_type": "markdown",
   "id": "36ddc962-27fe-4a97-bc4d-255a6220d4d3",
   "metadata": {},
   "source": [
    "There is one row that has NA value in **`teamstats`** table, which is located in `yellowCards` column at 8280th row. We will change NA value to 0 later in ETL process."
   ]
  },
  {
   "cell_type": "markdown",
   "id": "d519413a-2d5e-4443-99ea-591466753e38",
   "metadata": {
    "tags": []
   },
   "source": [
    "### Create Database tables"
   ]
  },
  {
   "cell_type": "code",
   "execution_count": 33,
   "id": "eb981d4e-12c9-4300-b4c8-dfacb5309cd4",
   "metadata": {
    "tags": []
   },
   "outputs": [],
   "source": [
    "# teams table\n",
    "\n",
    "cursor.execute('DROP TABLE IF EXISTS teams')\n",
    "\n",
    "sql = ( \"\"\"\n",
    "        CREATE TABLE teams\n",
    "        (\n",
    "            teamID       int,\n",
    "            name         varchar(32),\n",
    "            PRIMARY KEY(teamID)\n",
    "        )\n",
    "        \"\"\"\n",
    "      )\n",
    "\n",
    "cursor.execute(sql);\n",
    "\n",
    "\n",
    "# teamstats table\n",
    "\n",
    "cursor.execute('DROP TABLE IF EXISTS teamstats')\n",
    "\n",
    "sql = (\"\"\"\n",
    "        CREATE TABLE teamstats\n",
    "        (\n",
    "            gameID             int,\n",
    "            teamID             int,\n",
    "            season             int,\n",
    "            date              varchar(32),\n",
    "            location          varchar(32),\n",
    "            goals              int,\n",
    "            xGoals           double,\n",
    "            shots              int,\n",
    "            shotsOnTarget      int,\n",
    "            deep               int,\n",
    "            ppda             double,\n",
    "            fouls              int,\n",
    "            corners            int,\n",
    "            yellowCards        int,\n",
    "            redCards           int,\n",
    "            result            int,\n",
    "            FOREIGN KEY (teamID) REFERENCES teams(teamID)\n",
    "        )\n",
    "        \"\"\"\n",
    "      )\n",
    "cursor.execute(sql);"
   ]
  },
  {
   "cell_type": "markdown",
   "id": "dcaba52d-1fc1-47c0-8b43-0c05e9e58609",
   "metadata": {},
   "source": [
    "**`teams`** table has `teamID` as a `primary key` and **`teamstats`** table has `teamID` column as a `foreign key` that refers to teams table `teamID` Primary key."
   ]
  },
  {
   "cell_type": "markdown",
   "id": "b4da897d-7183-4355-b093-5f796ae65566",
   "metadata": {},
   "source": [
    "A function to clean (transform) each row:¶\n",
    "* yellowCards 'NA' ==> 0\n",
    "* result 'W' ==> 2\n",
    "* result 'D' ==> 1\n",
    "* result 'L' ==> 0\n",
    "\n",
    "Change `result` column to integer values."
   ]
  },
  {
   "cell_type": "code",
   "execution_count": 34,
   "id": "79c24971-c77c-4f06-a5d4-34ed8a6af200",
   "metadata": {
    "tags": []
   },
   "outputs": [],
   "source": [
    "def transform(row):\n",
    "    if row[13] == 'NA':\n",
    "        row[13] = 0\n",
    "\n",
    "    _result = row[-1]\n",
    "\n",
    "    if _result == 'W':\n",
    "        row[-1] = 2\n",
    "    elif _result == 'D':\n",
    "        row[-1] = 1\n",
    "    elif _result == 'L':\n",
    "        row[-1] = 0\n",
    "    else:\n",
    "        try:\n",
    "            row[13] = int(yellowCards)  # Convert other numeric values to int\n",
    "        except ValueError:\n",
    "            row[13] = 0"
   ]
  },
  {
   "cell_type": "markdown",
   "id": "a3e90e9b-e250-416b-b901-f7e372e718f0",
   "metadata": {},
   "source": [
    "### SQL to Load two tables : teams, teamstats"
   ]
  },
  {
   "cell_type": "code",
   "execution_count": 35,
   "id": "3036a6d4-b861-41ed-8b99-3e22aa16f7e2",
   "metadata": {
    "tags": []
   },
   "outputs": [],
   "source": [
    "sql_teams = (   \"\"\"\n",
    "              INSERT INTO teams\n",
    "              VALUES (%s, %s)\n",
    "              \"\"\"\n",
    "          )\n",
    "\n",
    "sql_teamstats = (   \"\"\"\n",
    "               INSERT INTO teamstats\n",
    "               VALUES (%s, %s, %s, %s, %s, %s, %s, %s, %s, %s, %s, %s, %s, %s, %s, %s)\n",
    "               \"\"\"\n",
    "           )"
   ]
  },
  {
   "cell_type": "markdown",
   "id": "d0d75b3a-efa9-4e55-96f8-c816f48c29c7",
   "metadata": {},
   "source": [
    "### Extract, transform, and load (ETL)."
   ]
  },
  {
   "cell_type": "code",
   "execution_count": 38,
   "id": "5c910264-b690-41b9-917b-8ffc057412c4",
   "metadata": {
    "tags": []
   },
   "outputs": [],
   "source": [
    "first = True\n",
    "i = 0\n",
    "\n",
    "with open('teams.csv', newline='') as csv_file:\n",
    "    data = csv.reader(csv_file, delimiter=',', quotechar='\"')\n",
    "    \n",
    "    for row in data:\n",
    "        if not first:\n",
    "            if int(row[0]) in [71, 72]:\n",
    "                cursor.execute(sql_teams, row)\n",
    "            \n",
    "        first = False\n",
    "    \n",
    "conn.commit()"
   ]
  },
  {
   "cell_type": "code",
   "execution_count": 39,
   "id": "72ce2837-b266-4b28-8daf-70944f9782c9",
   "metadata": {
    "tags": []
   },
   "outputs": [
    {
     "ename": "IntegrityError",
     "evalue": "1452 (23000): Cannot add or update a child row: a foreign key constraint fails (`football`.`teamstats`, CONSTRAINT `teamstats_ibfk_1` FOREIGN KEY (`teamID`) REFERENCES `teams` (`teamID`))",
     "output_type": "error",
     "traceback": [
      "\u001b[0;31m---------------------------------------------------------------------------\u001b[0m",
      "\u001b[0;31mIntegrityError\u001b[0m                            Traceback (most recent call last)",
      "Cell \u001b[0;32mIn[39], line 10\u001b[0m\n\u001b[1;32m      8\u001b[0m         \u001b[38;5;28;01mif\u001b[39;00m \u001b[38;5;129;01mnot\u001b[39;00m first:\n\u001b[1;32m      9\u001b[0m             transform(row)\n\u001b[0;32m---> 10\u001b[0m             cursor\u001b[38;5;241m.\u001b[39mexecute(sql_teamstats, row)\n\u001b[1;32m     12\u001b[0m         first \u001b[38;5;241m=\u001b[39m \u001b[38;5;28;01mFalse\u001b[39;00m\n\u001b[1;32m     15\u001b[0m conn\u001b[38;5;241m.\u001b[39mcommit()\n",
      "File \u001b[0;32m~/anaconda3/lib/python3.11/site-packages/mysql/connector/cursor.py:617\u001b[0m, in \u001b[0;36mMySQLCursor.execute\u001b[0;34m(self, operation, params, multi)\u001b[0m\n\u001b[1;32m    614\u001b[0m     \u001b[38;5;28;01mreturn\u001b[39;00m \u001b[38;5;28mself\u001b[39m\u001b[38;5;241m.\u001b[39m_execute_iter(\u001b[38;5;28mself\u001b[39m\u001b[38;5;241m.\u001b[39m_connection\u001b[38;5;241m.\u001b[39mcmd_query_iter(stmt))\n\u001b[1;32m    616\u001b[0m \u001b[38;5;28;01mtry\u001b[39;00m:\n\u001b[0;32m--> 617\u001b[0m     \u001b[38;5;28mself\u001b[39m\u001b[38;5;241m.\u001b[39m_handle_result(\u001b[38;5;28mself\u001b[39m\u001b[38;5;241m.\u001b[39m_connection\u001b[38;5;241m.\u001b[39mcmd_query(stmt))\n\u001b[1;32m    618\u001b[0m \u001b[38;5;28;01mexcept\u001b[39;00m InterfaceError \u001b[38;5;28;01mas\u001b[39;00m err:\n\u001b[1;32m    619\u001b[0m     \u001b[38;5;28;01mif\u001b[39;00m \u001b[38;5;28mself\u001b[39m\u001b[38;5;241m.\u001b[39m_connection\u001b[38;5;241m.\u001b[39mhave_next_result:\n",
      "File \u001b[0;32m~/anaconda3/lib/python3.11/site-packages/mysql/connector/opentelemetry/context_propagation.py:77\u001b[0m, in \u001b[0;36mwith_context_propagation.<locals>.wrapper\u001b[0;34m(cnx, *args, **kwargs)\u001b[0m\n\u001b[1;32m     75\u001b[0m \u001b[38;5;250m\u001b[39m\u001b[38;5;124;03m\"\"\"Context propagation decorator.\"\"\"\u001b[39;00m\n\u001b[1;32m     76\u001b[0m \u001b[38;5;28;01mif\u001b[39;00m \u001b[38;5;129;01mnot\u001b[39;00m OTEL_ENABLED \u001b[38;5;129;01mor\u001b[39;00m \u001b[38;5;129;01mnot\u001b[39;00m cnx\u001b[38;5;241m.\u001b[39motel_context_propagation:\n\u001b[0;32m---> 77\u001b[0m     \u001b[38;5;28;01mreturn\u001b[39;00m method(cnx, \u001b[38;5;241m*\u001b[39margs, \u001b[38;5;241m*\u001b[39m\u001b[38;5;241m*\u001b[39mkwargs)\n\u001b[1;32m     79\u001b[0m current_span \u001b[38;5;241m=\u001b[39m trace\u001b[38;5;241m.\u001b[39mget_current_span()\n\u001b[1;32m     80\u001b[0m tp_header \u001b[38;5;241m=\u001b[39m \u001b[38;5;28;01mNone\u001b[39;00m\n",
      "File \u001b[0;32m~/anaconda3/lib/python3.11/site-packages/mysql/connector/connection.py:1069\u001b[0m, in \u001b[0;36mMySQLConnection.cmd_query\u001b[0;34m(self, query, raw, buffered, raw_as_string)\u001b[0m\n\u001b[1;32m   1067\u001b[0m query \u001b[38;5;241m=\u001b[39m \u001b[38;5;28mbytes\u001b[39m(packet)\n\u001b[1;32m   1068\u001b[0m \u001b[38;5;28;01mtry\u001b[39;00m:\n\u001b[0;32m-> 1069\u001b[0m     result \u001b[38;5;241m=\u001b[39m \u001b[38;5;28mself\u001b[39m\u001b[38;5;241m.\u001b[39m_handle_result(\u001b[38;5;28mself\u001b[39m\u001b[38;5;241m.\u001b[39m_send_cmd(ServerCmd\u001b[38;5;241m.\u001b[39mQUERY, query))\n\u001b[1;32m   1070\u001b[0m \u001b[38;5;28;01mexcept\u001b[39;00m ProgrammingError \u001b[38;5;28;01mas\u001b[39;00m err:\n\u001b[1;32m   1071\u001b[0m     \u001b[38;5;28;01mif\u001b[39;00m err\u001b[38;5;241m.\u001b[39merrno \u001b[38;5;241m==\u001b[39m \u001b[38;5;241m3948\u001b[39m \u001b[38;5;129;01mand\u001b[39;00m \u001b[38;5;124m\"\u001b[39m\u001b[38;5;124mLoading local data is disabled\u001b[39m\u001b[38;5;124m\"\u001b[39m \u001b[38;5;129;01min\u001b[39;00m err\u001b[38;5;241m.\u001b[39mmsg:\n",
      "File \u001b[0;32m~/anaconda3/lib/python3.11/site-packages/mysql/connector/connection.py:846\u001b[0m, in \u001b[0;36mMySQLConnection._handle_result\u001b[0;34m(self, packet)\u001b[0m\n\u001b[1;32m    844\u001b[0m     \u001b[38;5;28;01mreturn\u001b[39;00m \u001b[38;5;28mself\u001b[39m\u001b[38;5;241m.\u001b[39m_handle_eof(packet)\n\u001b[1;32m    845\u001b[0m \u001b[38;5;28;01mif\u001b[39;00m packet[\u001b[38;5;241m4\u001b[39m] \u001b[38;5;241m==\u001b[39m \u001b[38;5;241m255\u001b[39m:\n\u001b[0;32m--> 846\u001b[0m     \u001b[38;5;28;01mraise\u001b[39;00m get_exception(packet)\n\u001b[1;32m    848\u001b[0m \u001b[38;5;66;03m# We have a text result set\u001b[39;00m\n\u001b[1;32m    849\u001b[0m column_count \u001b[38;5;241m=\u001b[39m \u001b[38;5;28mself\u001b[39m\u001b[38;5;241m.\u001b[39m_protocol\u001b[38;5;241m.\u001b[39mparse_column_count(packet)\n",
      "\u001b[0;31mIntegrityError\u001b[0m: 1452 (23000): Cannot add or update a child row: a foreign key constraint fails (`football`.`teamstats`, CONSTRAINT `teamstats_ibfk_1` FOREIGN KEY (`teamID`) REFERENCES `teams` (`teamID`))"
     ]
    }
   ],
   "source": [
    "first = True\n",
    "i = 0\n",
    "\n",
    "with open('teamstats.csv', newline='') as csv_file:\n",
    "    data = csv.reader(csv_file, delimiter=',', quotechar='\"')\n",
    "    \n",
    "    for row in data:\n",
    "        if not first:\n",
    "            transform(row)\n",
    "            cursor.execute(sql_teamstats, row)\n",
    "            \n",
    "        first = False\n",
    "        \n",
    "        \n",
    "conn.commit()"
   ]
  },
  {
   "cell_type": "markdown",
   "id": "ee5d459b-ee2b-4707-b796-e81548d9d578",
   "metadata": {},
   "source": [
    "### Display in a DataFrame"
   ]
  },
  {
   "cell_type": "code",
   "execution_count": null,
   "id": "42d3acd6-b147-4369-aaed-e0b2f3bec2ed",
   "metadata": {
    "tags": []
   },
   "outputs": [],
   "source": [
    "# Frist 25 rows of teams table\n",
    "\n",
    "sql = \"SELECT * FROM teams LIMIT 25\"\n",
    "\n",
    "cursor.execute(sql)\n",
    "rows  = cursor.fetchall()\n",
    "count = cursor.rowcount\n",
    "\n",
    "print(f'Fetched {count} rows.')\n",
    "print()\n",
    "\n",
    "for row in rows:\n",
    "    print(row)"
   ]
  },
  {
   "cell_type": "code",
   "execution_count": null,
   "id": "588d08d5-feef-4e30-b6da-051e24994c97",
   "metadata": {
    "tags": []
   },
   "outputs": [],
   "source": [
    "# Frist 25 rows of teamstats table\n",
    "\n",
    "sql = \"SELECT * FROM teamstats LIMIT 25\"\n",
    "\n",
    "cursor.execute(sql)\n",
    "rows  = cursor.fetchall()\n",
    "count = cursor.rowcount\n",
    "\n",
    "print(f'Fetched {count} rows.')\n",
    "print()\n",
    "\n",
    "for row in rows:\n",
    "    print(row)"
   ]
  },
  {
   "cell_type": "code",
   "execution_count": null,
   "id": "be105a22-5acd-42fc-88ce-1c37742e98a5",
   "metadata": {
    "tags": []
   },
   "outputs": [],
   "source": [
    "# cursor.close()\n",
    "# conn.close()"
   ]
  },
  {
   "cell_type": "code",
   "execution_count": null,
   "id": "60881fb6-e4d8-46ba-b6d9-e767ca6a2498",
   "metadata": {},
   "outputs": [],
   "source": [
    "x = 71\n",
    "list"
   ]
  }
 ],
 "metadata": {
  "kernelspec": {
   "display_name": "Python 3 (ipykernel)",
   "language": "python",
   "name": "python3"
  },
  "language_info": {
   "codemirror_mode": {
    "name": "ipython",
    "version": 3
   },
   "file_extension": ".py",
   "mimetype": "text/x-python",
   "name": "python",
   "nbconvert_exporter": "python",
   "pygments_lexer": "ipython3",
   "version": "3.11.4"
  }
 },
 "nbformat": 4,
 "nbformat_minor": 5
}
