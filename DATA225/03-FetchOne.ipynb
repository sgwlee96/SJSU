{
 "cells": [
  {
   "cell_type": "markdown",
   "id": "cb7393db-279a-40b4-825c-7628c7f4161b",
   "metadata": {},
   "source": [
    "# Fetch Records from a Database, *cont'd*"
   ]
  },
  {
   "cell_type": "code",
   "execution_count": 1,
   "id": "8c2769b7-ab08-4ad8-af36-6257935e2508",
   "metadata": {
    "tags": []
   },
   "outputs": [],
   "source": [
    "from DATA225utils import make_connection"
   ]
  },
  {
   "cell_type": "code",
   "execution_count": 2,
   "id": "9b0c66ef-fea8-47ed-a4d1-87822c5c3688",
   "metadata": {
    "tags": []
   },
   "outputs": [],
   "source": [
    "conn = make_connection('school.ini')\n",
    "cursor = conn.cursor()"
   ]
  },
  {
   "cell_type": "markdown",
   "id": "112f04ac-08c5-44e2-98e4-c898a159e4bd",
   "metadata": {},
   "source": [
    "#### Use `cursor.fetchone()` to **fetch one row** at a time. If there are no more rows, `None` is returned."
   ]
  },
  {
   "cell_type": "code",
   "execution_count": 3,
   "id": "59378ef7-95f3-492c-a567-da27082577ee",
   "metadata": {
    "tags": []
   },
   "outputs": [
    {
     "name": "stdout",
     "output_type": "stream",
     "text": [
      "-----\n",
      "1: ('DATA 200', 'Python Programming', 101, 'T7051')\n",
      "-----\n",
      "2: ('DATA 220', 'Mathematical Models', 114, 'T7008')\n",
      "-----\n",
      "3: ('DATA 225', 'Database Systems', 101, 'T7003')\n",
      "-----\n",
      "4: ('DATA 240', 'Data Mining', 120, 'T7012')\n",
      "-----\n",
      "5: ('DATA 245', 'Machine Learning', 115, 'T7051')\n"
     ]
    }
   ],
   "source": [
    "sql = \"SELECT * FROM class\";\n",
    "\n",
    "cursor.execute(sql)\n",
    "row = cursor.fetchone()\n",
    "\n",
    "index = 1\n",
    "\n",
    "while row != None:\n",
    "    print(\"-----\")\n",
    "    print(f'{index}: {row}')\n",
    "    row = cursor.fetchone()\n",
    "    index += 1"
   ]
  },
  {
   "cell_type": "code",
   "execution_count": 4,
   "id": "0551ffae-248f-456b-a3aa-14e447365dd5",
   "metadata": {
    "tags": []
   },
   "outputs": [],
   "source": [
    "cursor.close()\n",
    "conn.close()"
   ]
  },
  {
   "cell_type": "code",
   "execution_count": 5,
   "id": "d39700ed-d498-4baa-8013-dbe6aa1b8aff",
   "metadata": {
    "tags": []
   },
   "outputs": [],
   "source": [
    "# Copyright (c) 2023 by Ronald Mak"
   ]
  },
  {
   "cell_type": "code",
   "execution_count": null,
   "id": "42a79f30-4a1c-432d-b21b-36e829f5ebaf",
   "metadata": {},
   "outputs": [],
   "source": []
  }
 ],
 "metadata": {
  "kernelspec": {
   "display_name": "Python 3 (ipykernel)",
   "language": "python",
   "name": "python3"
  },
  "language_info": {
   "codemirror_mode": {
    "name": "ipython",
    "version": 3
   },
   "file_extension": ".py",
   "mimetype": "text/x-python",
   "name": "python",
   "nbconvert_exporter": "python",
   "pygments_lexer": "ipython3",
   "version": "3.11.4"
  }
 },
 "nbformat": 4,
 "nbformat_minor": 5
}
