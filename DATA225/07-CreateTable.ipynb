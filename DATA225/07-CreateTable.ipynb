{
 "cells": [
  {
   "cell_type": "markdown",
   "id": "8adea180",
   "metadata": {},
   "source": [
    "# Create a Database Table"
   ]
  },
  {
   "cell_type": "code",
   "execution_count": 1,
   "id": "cb98b6ad",
   "metadata": {},
   "outputs": [],
   "source": [
    "from DATA225utils import make_connection"
   ]
  },
  {
   "cell_type": "code",
   "execution_count": 2,
   "id": "45f18b25",
   "metadata": {},
   "outputs": [],
   "source": [
    "conn = make_connection(config_file = 'personnel.ini')\n",
    "cursor = conn.cursor()"
   ]
  },
  {
   "cell_type": "code",
   "execution_count": 3,
   "id": "df01fd2f",
   "metadata": {},
   "outputs": [],
   "source": [
    "cursor.execute('DROP TABLE IF EXISTS employee')"
   ]
  },
  {
   "cell_type": "code",
   "execution_count": 4,
   "id": "9f7c6252",
   "metadata": {},
   "outputs": [],
   "source": [
    "sql = ( \"\"\"\n",
    "        CREATE TABLE employee\n",
    "        (\n",
    "            id     int,\n",
    "            last   varchar(32),\n",
    "            first  varchar(32),\n",
    "            salary double,\n",
    "            PRIMARY KEY(id)\n",
    "        )\n",
    "        \"\"\"\n",
    "      )\n",
    "\n",
    "cursor.execute(sql)"
   ]
  },
  {
   "cell_type": "markdown",
   "id": "5f57291c",
   "metadata": {},
   "source": [
    "#### A `varchar` is a variable-length string, max 255.\n",
    "- If you want a `varchar` column to be the primary\n",
    "key, you must specify a maximum length.\n",
    "\n",
    "#### Common field datatypes:\n",
    "- int\n",
    "- double\n",
    "- varchar\n",
    "- date\n",
    "- time\n",
    "\n",
    "#### Link: [MySQL datatypes](https://www.javatpoint.com/mysql-data-types)."
   ]
  },
  {
   "cell_type": "code",
   "execution_count": 8,
   "id": "7253aeef",
   "metadata": {},
   "outputs": [],
   "source": [
    "cursor.close()\n",
    "conn.close()"
   ]
  },
  {
   "cell_type": "code",
   "execution_count": 9,
   "id": "b7fadaf7",
   "metadata": {},
   "outputs": [],
   "source": [
    "# Copyright (c) 2023 by Ronald Mak"
   ]
  },
  {
   "cell_type": "code",
   "execution_count": null,
   "id": "d54ce888-5bea-416c-a2a7-31e9f9f0da83",
   "metadata": {},
   "outputs": [],
   "source": []
  }
 ],
 "metadata": {
  "kernelspec": {
   "display_name": "Python 3 (ipykernel)",
   "language": "python",
   "name": "python3"
  },
  "language_info": {
   "codemirror_mode": {
    "name": "ipython",
    "version": 3
   },
   "file_extension": ".py",
   "mimetype": "text/x-python",
   "name": "python",
   "nbconvert_exporter": "python",
   "pygments_lexer": "ipython3",
   "version": "3.11.4"
  }
 },
 "nbformat": 4,
 "nbformat_minor": 5
}
