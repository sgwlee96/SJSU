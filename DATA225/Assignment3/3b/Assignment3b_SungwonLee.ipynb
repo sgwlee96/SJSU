{
 "cells": [
  {
   "cell_type": "code",
   "execution_count": 1,
   "id": "0551d7ab-5d57-470d-b11e-7365bff8438e",
   "metadata": {
    "tags": []
   },
   "outputs": [],
   "source": [
    "import mysql.connector\n",
    "import pandas as pd\n",
    "from configparser import ConfigParser\n",
    "from DATA225utils import make_connection, dataframe_query"
   ]
  },
  {
   "cell_type": "code",
   "execution_count": 2,
   "id": "6a3ad255-518c-4d3a-ae1c-6c2e52eeb3d0",
   "metadata": {
    "tags": []
   },
   "outputs": [],
   "source": [
    "conn = make_connection(config_file='ZAGI.ini')"
   ]
  },
  {
   "cell_type": "code",
   "execution_count": 3,
   "id": "0ce48846-15bb-4984-83ee-b05b8d2ce3a3",
   "metadata": {
    "tags": []
   },
   "outputs": [],
   "source": [
    "cursor = conn.cursor()"
   ]
  },
  {
   "cell_type": "markdown",
   "id": "3dbcf05d-8d85-4609-ab89-54c50397c6d4",
   "metadata": {},
   "source": [
    "### 1. Display the vendor ID and vendor name for all vendors."
   ]
  },
  {
   "cell_type": "code",
   "execution_count": 4,
   "id": "c7fa42a3-5600-4c87-b901-b0b368917128",
   "metadata": {
    "tags": []
   },
   "outputs": [
    {
     "data": {
      "text/html": [
       "<div>\n",
       "<style scoped>\n",
       "    .dataframe tbody tr th:only-of-type {\n",
       "        vertical-align: middle;\n",
       "    }\n",
       "\n",
       "    .dataframe tbody tr th {\n",
       "        vertical-align: top;\n",
       "    }\n",
       "\n",
       "    .dataframe thead th {\n",
       "        text-align: right;\n",
       "    }\n",
       "</style>\n",
       "<table border=\"1\" class=\"dataframe\">\n",
       "  <thead>\n",
       "    <tr style=\"text-align: right;\">\n",
       "      <th></th>\n",
       "      <th>vendor_id</th>\n",
       "      <th>vendor_name</th>\n",
       "    </tr>\n",
       "  </thead>\n",
       "  <tbody>\n",
       "    <tr>\n",
       "      <th>0</th>\n",
       "      <td>MK</td>\n",
       "      <td>Mountain King</td>\n",
       "    </tr>\n",
       "    <tr>\n",
       "      <th>1</th>\n",
       "      <td>PG</td>\n",
       "      <td>Pacifica Gear</td>\n",
       "    </tr>\n",
       "  </tbody>\n",
       "</table>\n",
       "</div>"
      ],
      "text/plain": [
       "  vendor_id    vendor_name\n",
       "0        MK  Mountain King\n",
       "1        PG  Pacifica Gear"
      ]
     },
     "metadata": {},
     "output_type": "display_data"
    }
   ],
   "source": [
    "sql = \"\"\"SELECT vendor_id, vendor_name FROM vendor\"\"\"\n",
    "\n",
    "_, df = dataframe_query(conn, sql)\n",
    "display(df)"
   ]
  },
  {
   "cell_type": "markdown",
   "id": "ee253552-b3f0-48d2-b306-1b6a44d5a22e",
   "metadata": {},
   "source": [
    "### 2. Display the customer name and customer ZIP for all customers."
   ]
  },
  {
   "cell_type": "code",
   "execution_count": 5,
   "id": "4b41ea2b-472c-4dbb-9add-90a4ccdf4947",
   "metadata": {
    "tags": []
   },
   "outputs": [
    {
     "data": {
      "text/html": [
       "<div>\n",
       "<style scoped>\n",
       "    .dataframe tbody tr th:only-of-type {\n",
       "        vertical-align: middle;\n",
       "    }\n",
       "\n",
       "    .dataframe tbody tr th {\n",
       "        vertical-align: top;\n",
       "    }\n",
       "\n",
       "    .dataframe thead th {\n",
       "        text-align: right;\n",
       "    }\n",
       "</style>\n",
       "<table border=\"1\" class=\"dataframe\">\n",
       "  <thead>\n",
       "    <tr style=\"text-align: right;\">\n",
       "      <th></th>\n",
       "      <th>customer_name</th>\n",
       "      <th>customer_zip</th>\n",
       "    </tr>\n",
       "  </thead>\n",
       "  <tbody>\n",
       "    <tr>\n",
       "      <th>0</th>\n",
       "      <td>Tina</td>\n",
       "      <td>60137</td>\n",
       "    </tr>\n",
       "    <tr>\n",
       "      <th>1</th>\n",
       "      <td>Tony</td>\n",
       "      <td>60611</td>\n",
       "    </tr>\n",
       "    <tr>\n",
       "      <th>2</th>\n",
       "      <td>Pam</td>\n",
       "      <td>35401</td>\n",
       "    </tr>\n",
       "  </tbody>\n",
       "</table>\n",
       "</div>"
      ],
      "text/plain": [
       "  customer_name customer_zip\n",
       "0          Tina        60137\n",
       "1          Tony        60611\n",
       "2          Pam         35401"
      ]
     },
     "metadata": {},
     "output_type": "display_data"
    }
   ],
   "source": [
    "sql = \"\"\"SELECT customer_name, customer_zip FROM customer\"\"\"\n",
    "\n",
    "_,df = dataframe_query(conn, sql)\n",
    "display(df)"
   ]
  },
  {
   "cell_type": "markdown",
   "id": "b13050da-48da-4605-8cee-d983739e8484",
   "metadata": {},
   "source": [
    "### 3. Display the product ID, product name, and product price for products with a product price of $100 or higher."
   ]
  },
  {
   "cell_type": "code",
   "execution_count": 6,
   "id": "97616fe8-526a-45ee-84fa-7701c357dc7e",
   "metadata": {
    "tags": []
   },
   "outputs": [
    {
     "data": {
      "text/html": [
       "<div>\n",
       "<style scoped>\n",
       "    .dataframe tbody tr th:only-of-type {\n",
       "        vertical-align: middle;\n",
       "    }\n",
       "\n",
       "    .dataframe tbody tr th {\n",
       "        vertical-align: top;\n",
       "    }\n",
       "\n",
       "    .dataframe thead th {\n",
       "        text-align: right;\n",
       "    }\n",
       "</style>\n",
       "<table border=\"1\" class=\"dataframe\">\n",
       "  <thead>\n",
       "    <tr style=\"text-align: right;\">\n",
       "      <th></th>\n",
       "      <th>product_id</th>\n",
       "      <th>product_name</th>\n",
       "      <th>product_price</th>\n",
       "    </tr>\n",
       "  </thead>\n",
       "  <tbody>\n",
       "    <tr>\n",
       "      <th>0</th>\n",
       "      <td>1X1</td>\n",
       "      <td>Zzz Bag</td>\n",
       "      <td>100.00</td>\n",
       "    </tr>\n",
       "    <tr>\n",
       "      <th>1</th>\n",
       "      <td>5X5</td>\n",
       "      <td>Tiny Tent</td>\n",
       "      <td>150.00</td>\n",
       "    </tr>\n",
       "    <tr>\n",
       "      <th>2</th>\n",
       "      <td>6X6</td>\n",
       "      <td>Biggy Tent</td>\n",
       "      <td>250.00</td>\n",
       "    </tr>\n",
       "  </tbody>\n",
       "</table>\n",
       "</div>"
      ],
      "text/plain": [
       "  product_id product_name product_price\n",
       "0        1X1      Zzz Bag        100.00\n",
       "1        5X5    Tiny Tent        150.00\n",
       "2        6X6   Biggy Tent        250.00"
      ]
     },
     "metadata": {},
     "output_type": "display_data"
    }
   ],
   "source": [
    "sql = \"\"\"SELECT product_id, product_name, product_price \n",
    "            FROM product \n",
    "            WHERE product_price >= 100\"\"\"\n",
    "\n",
    "_,df = dataframe_query(conn, sql)\n",
    "display(df)\n",
    "        "
   ]
  },
  {
   "cell_type": "markdown",
   "id": "cdd7ec51-999e-4dac-8d65-573ee120fc0c",
   "metadata": {},
   "source": [
    "### 4. Display the product ID, product name, product price, and vendor name for all products. Sort the results by product ID."
   ]
  },
  {
   "cell_type": "code",
   "execution_count": 7,
   "id": "0b25cc1e-f4e2-49b6-8737-46781641c489",
   "metadata": {
    "tags": []
   },
   "outputs": [
    {
     "data": {
      "text/html": [
       "<div>\n",
       "<style scoped>\n",
       "    .dataframe tbody tr th:only-of-type {\n",
       "        vertical-align: middle;\n",
       "    }\n",
       "\n",
       "    .dataframe tbody tr th {\n",
       "        vertical-align: top;\n",
       "    }\n",
       "\n",
       "    .dataframe thead th {\n",
       "        text-align: right;\n",
       "    }\n",
       "</style>\n",
       "<table border=\"1\" class=\"dataframe\">\n",
       "  <thead>\n",
       "    <tr style=\"text-align: right;\">\n",
       "      <th></th>\n",
       "      <th>product_id</th>\n",
       "      <th>product_name</th>\n",
       "      <th>product_price</th>\n",
       "      <th>vendor_name</th>\n",
       "    </tr>\n",
       "  </thead>\n",
       "  <tbody>\n",
       "    <tr>\n",
       "      <th>0</th>\n",
       "      <td>1X1</td>\n",
       "      <td>Zzz Bag</td>\n",
       "      <td>100.00</td>\n",
       "      <td>Pacifica Gear</td>\n",
       "    </tr>\n",
       "    <tr>\n",
       "      <th>1</th>\n",
       "      <td>2X2</td>\n",
       "      <td>Easy Boot</td>\n",
       "      <td>70.00</td>\n",
       "      <td>Mountain King</td>\n",
       "    </tr>\n",
       "    <tr>\n",
       "      <th>2</th>\n",
       "      <td>3X3</td>\n",
       "      <td>Cosy Sock</td>\n",
       "      <td>15.00</td>\n",
       "      <td>Mountain King</td>\n",
       "    </tr>\n",
       "    <tr>\n",
       "      <th>3</th>\n",
       "      <td>4X4</td>\n",
       "      <td>Dura Boot</td>\n",
       "      <td>90.00</td>\n",
       "      <td>Pacifica Gear</td>\n",
       "    </tr>\n",
       "    <tr>\n",
       "      <th>4</th>\n",
       "      <td>5X5</td>\n",
       "      <td>Tiny Tent</td>\n",
       "      <td>150.00</td>\n",
       "      <td>Mountain King</td>\n",
       "    </tr>\n",
       "    <tr>\n",
       "      <th>5</th>\n",
       "      <td>6X6</td>\n",
       "      <td>Biggy Tent</td>\n",
       "      <td>250.00</td>\n",
       "      <td>Mountain King</td>\n",
       "    </tr>\n",
       "  </tbody>\n",
       "</table>\n",
       "</div>"
      ],
      "text/plain": [
       "  product_id product_name product_price    vendor_name\n",
       "0        1X1      Zzz Bag        100.00  Pacifica Gear\n",
       "1        2X2    Easy Boot         70.00  Mountain King\n",
       "2        3X3    Cosy Sock         15.00  Mountain King\n",
       "3        4X4    Dura Boot         90.00  Pacifica Gear\n",
       "4        5X5    Tiny Tent        150.00  Mountain King\n",
       "5        6X6   Biggy Tent        250.00  Mountain King"
      ]
     },
     "metadata": {},
     "output_type": "display_data"
    }
   ],
   "source": [
    "sql = \"\"\"\n",
    "        SELECT p.product_id, p.product_name, p.product_price, v.vendor_name\n",
    "            FROM product as p, vendor as v\n",
    "            WHERE p.vendor_id = v.vendor_id\n",
    "            ORDER BY p.product_id ASC\n",
    "      \"\"\"\n",
    "\n",
    "_,df = dataframe_query(conn, sql)\n",
    "display(df)"
   ]
  },
  {
   "cell_type": "markdown",
   "id": "f4fa0df8-fd77-4d2b-9dd7-3c73182630ff",
   "metadata": {},
   "source": [
    "### 5. Display the product ID, product name, product price, vendor name, and category name for all products. Sort the results by product ID."
   ]
  },
  {
   "cell_type": "code",
   "execution_count": 8,
   "id": "ad2c3fe3-46bc-4d80-8443-74c851ae130b",
   "metadata": {
    "tags": []
   },
   "outputs": [
    {
     "data": {
      "text/html": [
       "<div>\n",
       "<style scoped>\n",
       "    .dataframe tbody tr th:only-of-type {\n",
       "        vertical-align: middle;\n",
       "    }\n",
       "\n",
       "    .dataframe tbody tr th {\n",
       "        vertical-align: top;\n",
       "    }\n",
       "\n",
       "    .dataframe thead th {\n",
       "        text-align: right;\n",
       "    }\n",
       "</style>\n",
       "<table border=\"1\" class=\"dataframe\">\n",
       "  <thead>\n",
       "    <tr style=\"text-align: right;\">\n",
       "      <th></th>\n",
       "      <th>product_id</th>\n",
       "      <th>product_name</th>\n",
       "      <th>product_price</th>\n",
       "      <th>vendor_name</th>\n",
       "      <th>category_name</th>\n",
       "    </tr>\n",
       "  </thead>\n",
       "  <tbody>\n",
       "    <tr>\n",
       "      <th>0</th>\n",
       "      <td>1X1</td>\n",
       "      <td>Zzz Bag</td>\n",
       "      <td>100.00</td>\n",
       "      <td>Pacifica Gear</td>\n",
       "      <td>Camping</td>\n",
       "    </tr>\n",
       "    <tr>\n",
       "      <th>1</th>\n",
       "      <td>2X2</td>\n",
       "      <td>Easy Boot</td>\n",
       "      <td>70.00</td>\n",
       "      <td>Mountain King</td>\n",
       "      <td>Footwear</td>\n",
       "    </tr>\n",
       "    <tr>\n",
       "      <th>2</th>\n",
       "      <td>3X3</td>\n",
       "      <td>Cosy Sock</td>\n",
       "      <td>15.00</td>\n",
       "      <td>Mountain King</td>\n",
       "      <td>Footwear</td>\n",
       "    </tr>\n",
       "    <tr>\n",
       "      <th>3</th>\n",
       "      <td>4X4</td>\n",
       "      <td>Dura Boot</td>\n",
       "      <td>90.00</td>\n",
       "      <td>Pacifica Gear</td>\n",
       "      <td>Footwear</td>\n",
       "    </tr>\n",
       "    <tr>\n",
       "      <th>4</th>\n",
       "      <td>5X5</td>\n",
       "      <td>Tiny Tent</td>\n",
       "      <td>150.00</td>\n",
       "      <td>Mountain King</td>\n",
       "      <td>Camping</td>\n",
       "    </tr>\n",
       "    <tr>\n",
       "      <th>5</th>\n",
       "      <td>6X6</td>\n",
       "      <td>Biggy Tent</td>\n",
       "      <td>250.00</td>\n",
       "      <td>Mountain King</td>\n",
       "      <td>Camping</td>\n",
       "    </tr>\n",
       "  </tbody>\n",
       "</table>\n",
       "</div>"
      ],
      "text/plain": [
       "  product_id product_name product_price    vendor_name category_name\n",
       "0        1X1      Zzz Bag        100.00  Pacifica Gear       Camping\n",
       "1        2X2    Easy Boot         70.00  Mountain King      Footwear\n",
       "2        3X3    Cosy Sock         15.00  Mountain King      Footwear\n",
       "3        4X4    Dura Boot         90.00  Pacifica Gear      Footwear\n",
       "4        5X5    Tiny Tent        150.00  Mountain King       Camping\n",
       "5        6X6   Biggy Tent        250.00  Mountain King       Camping"
      ]
     },
     "metadata": {},
     "output_type": "display_data"
    }
   ],
   "source": [
    "sql = \"\"\"\n",
    "        SELECT p.product_id, p.product_name, p.product_price, v.vendor_name, c.category_name\n",
    "            FROM product as p, vendor as v, category as c\n",
    "            WHERE p.vendor_id = v.vendor_id AND p.category_id = c.category_id\n",
    "            ORDER BY p.product_id ASC\n",
    "      \"\"\"\n",
    "\n",
    "_,df = dataframe_query(conn, sql)\n",
    "display(df)"
   ]
  },
  {
   "cell_type": "markdown",
   "id": "167efdaf-71e6-43dc-a581-ee75a275d2b7",
   "metadata": {},
   "source": [
    "### 6. Display the product ID, product name, and product price for products in the category whose category name value is Camping. Sort the results by product ID."
   ]
  },
  {
   "cell_type": "code",
   "execution_count": 9,
   "id": "7544a8cb-ae53-420d-9830-967e79a01ef1",
   "metadata": {
    "tags": []
   },
   "outputs": [
    {
     "data": {
      "text/html": [
       "<div>\n",
       "<style scoped>\n",
       "    .dataframe tbody tr th:only-of-type {\n",
       "        vertical-align: middle;\n",
       "    }\n",
       "\n",
       "    .dataframe tbody tr th {\n",
       "        vertical-align: top;\n",
       "    }\n",
       "\n",
       "    .dataframe thead th {\n",
       "        text-align: right;\n",
       "    }\n",
       "</style>\n",
       "<table border=\"1\" class=\"dataframe\">\n",
       "  <thead>\n",
       "    <tr style=\"text-align: right;\">\n",
       "      <th></th>\n",
       "      <th>product ID</th>\n",
       "      <th>product name</th>\n",
       "      <th>product price</th>\n",
       "    </tr>\n",
       "  </thead>\n",
       "  <tbody>\n",
       "    <tr>\n",
       "      <th>0</th>\n",
       "      <td>1X1</td>\n",
       "      <td>Zzz Bag</td>\n",
       "      <td>100.00</td>\n",
       "    </tr>\n",
       "    <tr>\n",
       "      <th>1</th>\n",
       "      <td>5X5</td>\n",
       "      <td>Tiny Tent</td>\n",
       "      <td>150.00</td>\n",
       "    </tr>\n",
       "    <tr>\n",
       "      <th>2</th>\n",
       "      <td>6X6</td>\n",
       "      <td>Biggy Tent</td>\n",
       "      <td>250.00</td>\n",
       "    </tr>\n",
       "  </tbody>\n",
       "</table>\n",
       "</div>"
      ],
      "text/plain": [
       "  product ID product name product price\n",
       "0        1X1      Zzz Bag        100.00\n",
       "1        5X5    Tiny Tent        150.00\n",
       "2        6X6   Biggy Tent        250.00"
      ]
     },
     "metadata": {},
     "output_type": "display_data"
    }
   ],
   "source": [
    "sql = \"\"\"\n",
    "        SELECT p.product_id as \"product ID\", p.product_name as \"product name\", p.product_price as \"product price\"\n",
    "            FROM product as p, category as c\n",
    "            WHERE p.category_id = c.category_id AND c.category_name = 'Camping'\n",
    "            ORDER BY p.product_id ASC\n",
    "     \"\"\"\n",
    "\n",
    "_,df = dataframe_query(conn, sql)\n",
    "display(df)"
   ]
  },
  {
   "cell_type": "markdown",
   "id": "98023530-8ba3-4f32-ad3e-a32976d782ec",
   "metadata": {},
   "source": [
    "### 7. Display the transaction ID, customer name, and transaction date for sales transactions involving a customer buying a product whose product name is Dura Boot."
   ]
  },
  {
   "cell_type": "code",
   "execution_count": 10,
   "id": "409a4997-7ce7-4b4a-8075-c7baa0d27c32",
   "metadata": {
    "tags": []
   },
   "outputs": [
    {
     "data": {
      "text/html": [
       "<div>\n",
       "<style scoped>\n",
       "    .dataframe tbody tr th:only-of-type {\n",
       "        vertical-align: middle;\n",
       "    }\n",
       "\n",
       "    .dataframe tbody tr th {\n",
       "        vertical-align: top;\n",
       "    }\n",
       "\n",
       "    .dataframe thead th {\n",
       "        text-align: right;\n",
       "    }\n",
       "</style>\n",
       "<table border=\"1\" class=\"dataframe\">\n",
       "  <thead>\n",
       "    <tr style=\"text-align: right;\">\n",
       "      <th></th>\n",
       "      <th>transaction ID</th>\n",
       "      <th>customer name</th>\n",
       "      <th>transaction date</th>\n",
       "    </tr>\n",
       "  </thead>\n",
       "  <tbody>\n",
       "    <tr>\n",
       "      <th>0</th>\n",
       "      <td>T444</td>\n",
       "      <td>Pam</td>\n",
       "      <td>2023-02-02</td>\n",
       "    </tr>\n",
       "    <tr>\n",
       "      <th>1</th>\n",
       "      <td>T555</td>\n",
       "      <td>Tony</td>\n",
       "      <td>2023-02-02</td>\n",
       "    </tr>\n",
       "  </tbody>\n",
       "</table>\n",
       "</div>"
      ],
      "text/plain": [
       "  transaction ID customer name transaction date\n",
       "0           T444          Pam        2023-02-02\n",
       "1           T555          Tony       2023-02-02"
      ]
     },
     "metadata": {},
     "output_type": "display_data"
    }
   ],
   "source": [
    "sql = \"\"\"\n",
    "        SELECT s.tid as \"transaction ID\", c.customer_name as \"customer name\", s.tdate as \"transaction date\"\n",
    "            FROM sales_transaction as s, customer as c, sold_via as sv, product as p\n",
    "            WHERE s.customer_id = c.customer_id AND s.tid = sv.tid AND sv.product_id = p.product_id AND p.product_name = \"Dura Boot\"\n",
    "            ORDER BY p.product_ID\n",
    "     \"\"\"\n",
    "\n",
    "_,df = dataframe_query(conn, sql)\n",
    "display(df)"
   ]
  },
  {
   "cell_type": "code",
   "execution_count": null,
   "id": "21be558d-7d13-48c8-bc54-58c32e12c14e",
   "metadata": {},
   "outputs": [],
   "source": []
  }
 ],
 "metadata": {
  "kernelspec": {
   "display_name": "Python 3 (ipykernel)",
   "language": "python",
   "name": "python3"
  },
  "language_info": {
   "codemirror_mode": {
    "name": "ipython",
    "version": 3
   },
   "file_extension": ".py",
   "mimetype": "text/x-python",
   "name": "python",
   "nbconvert_exporter": "python",
   "pygments_lexer": "ipython3",
   "version": "3.11.4"
  }
 },
 "nbformat": 4,
 "nbformat_minor": 5
}
