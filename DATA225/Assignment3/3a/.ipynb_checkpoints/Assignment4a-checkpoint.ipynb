{
 "cells": [
  {
   "cell_type": "markdown",
   "metadata": {},
   "source": [
    "<center>\n",
    "    <h1> Assignment 4a </h1>\n",
    "    <h3> Team: RAIR Data </h3>\n",
    "</center>"
   ]
  },
  {
   "cell_type": "code",
   "execution_count": 19,
   "metadata": {},
   "outputs": [],
   "source": [
    "# importing required modules\n",
    "import pandas as pd\n",
    "from DATA225utils import make_connection, dataframe_query\n",
    "import csv"
   ]
  },
  {
   "cell_type": "code",
   "execution_count": 20,
   "metadata": {},
   "outputs": [],
   "source": [
    "# try to connect to the database, other wise create the database and connect\n",
    "try:\n",
    "    conn = make_connection(config_file = './hospital.ini')\n",
    "except:\n",
    "    from create_schema import makedb\n",
    "    makedb()\n",
    "    conn = make_connection(config_file = './hospital.ini')\n",
    "\n",
    "cursor = conn.cursor()"
   ]
  },
  {
   "cell_type": "code",
   "execution_count": 21,
   "metadata": {},
   "outputs": [],
   "source": [
    "cursor.execute(\"DROP TABLE IF EXISTS Doctor_Contact\")\n",
    "cursor.execute(\"DROP TABLE IF EXISTS Stays\")\n",
    "cursor.execute(\"DROP TABLE IF EXISTS Cared_by\")\n",
    "cursor.execute(\"DROP TABLE IF EXISTS Hospital_stay\")\n",
    "cursor.execute(\"DROP TABLE IF EXISTS Ward\")\n",
    "cursor.execute(\"DROP TABLE IF EXISTS Doctor\")\n",
    "cursor.execute(\"DROP TABLE IF EXISTS Patient_Contact\")\n",
    "cursor.execute(\"DROP TABLE IF EXISTS Department\")\n",
    "cursor.execute(\"DROP TABLE IF EXISTS Building\")\n",
    "cursor.execute(\"DROP TABLE IF EXISTS Patient\")"
   ]
  },
  {
   "cell_type": "markdown",
   "metadata": {},
   "source": [
    "Creating the database"
   ]
  },
  {
   "cell_type": "code",
   "execution_count": 22,
   "metadata": {},
   "outputs": [],
   "source": [
    "cursor.execute(\"\"\"\n",
    "CREATE TABLE Patient\n",
    "(\n",
    "  Name VARCHAR(50) NOT NULL,\n",
    "  Sex VARCHAR(1) NOT NULL,\n",
    "  Date_of_birth DATE NOT NULL,\n",
    "  Address VARCHAR(50),\n",
    "  ID INT NOT NULL,\n",
    "  PRIMARY KEY (ID)\n",
    ");\n",
    "\n",
    "\"\"\")\n",
    "cursor.execute(\"\"\"\n",
    "CREATE TABLE Building\n",
    "(\n",
    "  ID INT NOT NULL,\n",
    "  street VARCHAR(50) NOT NULL,\n",
    "  building_number INT NOT NULL,\n",
    "  PRIMARY KEY (ID)\n",
    ");\n",
    "\n",
    "\"\"\")\n",
    "cursor.execute(\"\"\"\n",
    "CREATE TABLE Department\n",
    "(\n",
    "  ID INT NOT NULL,\n",
    "  Type VARCHAR(50) NOT NULL,\n",
    "  Building_ID INT NOT NULL,\n",
    "  PRIMARY KEY (ID),\n",
    "  CONSTRAINT dept_in_building FOREIGN KEY (Building_ID) REFERENCES Building(ID)\n",
    ");\n",
    "\n",
    "\"\"\")\n",
    "cursor.execute(\"\"\"\n",
    "CREATE TABLE Patient_Contact\n",
    "(\n",
    "  Contact VARCHAR(10) NOT NULL,\n",
    "  Patient_ID INT NOT NULL,\n",
    "  PRIMARY KEY (Contact, Patient_ID),\n",
    "  CONSTRAINT patient_contact_info FOREIGN KEY (Patient_ID) REFERENCES Patient(ID)\n",
    ");\n",
    "\n",
    "\"\"\")\n",
    "cursor.execute(\"\"\"\n",
    "CREATE TABLE Doctor\n",
    "(\n",
    "  Name VARCHAR(50) NOT NULL,\n",
    "  Sex VARCHAR(1) NOT NULL,\n",
    "  Date_of_birth DATE NOT NULL,\n",
    "  Specialization VARCHAR(50) NOT NULL,\n",
    "  ID INT NOT NULL,\n",
    "  Department_ID INT NOT NULL,\n",
    "  PRIMARY KEY (ID),\n",
    "  CONSTRAINT doctor_belongs_department FOREIGN KEY (Department_ID) REFERENCES Department(ID)\n",
    ");\n",
    "\n",
    "\"\"\")\n",
    "cursor.execute(\"\"\"\n",
    "CREATE TABLE Ward\n",
    "(\n",
    "  ID INT NOT NULL,\n",
    "  number_of_beds INT NOT NULL,\n",
    "  Building_ID INT NOT NULL,\n",
    "  PRIMARY KEY (ID),\n",
    "  CONSTRAINT ward_in_building FOREIGN KEY (Building_ID) REFERENCES Building(ID)\n",
    ");\n",
    "\n",
    "\"\"\")\n",
    "cursor.execute(\"\"\"\n",
    "CREATE TABLE Hospital_stay\n",
    "(\n",
    "  ID INT NOT NULL,\n",
    "  Admit_date DATE NOT NULL,\n",
    "  Discharge_date DATE NOT NULL,\n",
    "  Ward_ID INT NOT NULL,\n",
    "  PRIMARY KEY (ID),\n",
    "  CONSTRAINT stay_in_ward FOREIGN KEY (Ward_ID) REFERENCES Ward(ID)\n",
    ");\n",
    "\n",
    "\"\"\")\n",
    "cursor.execute(\"\"\"\n",
    "CREATE TABLE Cared_by\n",
    "(\n",
    "  Patient_ID INT NOT NULL,\n",
    "  Doctor_ID INT NOT NULL,\n",
    "  PRIMARY KEY (Patient_ID, Doctor_ID),\n",
    "  CONSTRAINT patient_cared FOREIGN KEY (Patient_ID) REFERENCES Patient(ID),\n",
    "  CONSTRAINT doctor_cares FOREIGN KEY (Doctor_ID) REFERENCES Doctor(ID)\n",
    ");\n",
    "\n",
    "\"\"\")\n",
    "cursor.execute(\"\"\"\n",
    "CREATE TABLE Stays\n",
    "(\n",
    "  Patient_ID INT NOT NULL,\n",
    "  Ward_ID INT NOT NULL,\n",
    "  PRIMARY KEY (Patient_ID, Ward_ID),\n",
    "  CONSTRAINT patient_stays FOREIGN KEY (Patient_ID) REFERENCES Patient(ID),\n",
    "  CONSTRAINT ward_used FOREIGN KEY (Ward_ID) REFERENCES Ward(ID)\n",
    ");\n",
    "\n",
    "\"\"\")\n",
    "cursor.execute(\"\"\"\n",
    "CREATE TABLE Doctor_Contact\n",
    "(\n",
    "  Contact VARCHAR(10) NOT NULL,\n",
    "  Doctor_ID INT NOT NULL,\n",
    "  PRIMARY KEY (Contact, Doctor_ID)\n",
    ");\n",
    "\n",
    "\"\"\")"
   ]
  },
  {
   "cell_type": "markdown",
   "metadata": {},
   "source": [
    "Using alter table to modify Doctor_Contact table"
   ]
  },
  {
   "cell_type": "code",
   "execution_count": 23,
   "metadata": {},
   "outputs": [],
   "source": [
    "cursor.execute(\"\"\"\n",
    "ALTER TABLE Doctor_Contact\n",
    "ADD CONSTRAINT doctor_contact_info FOREIGN KEY (Doctor_ID) REFERENCES Doctor(ID)\n",
    "\"\"\")"
   ]
  },
  {
   "cell_type": "markdown",
   "metadata": {},
   "source": [
    "inserting data"
   ]
  },
  {
   "cell_type": "code",
   "execution_count": null,
   "metadata": {},
   "outputs": [],
   "source": []
  }
 ],
 "metadata": {
  "kernelspec": {
   "display_name": "base",
   "language": "python",
   "name": "python3"
  },
  "language_info": {
   "codemirror_mode": {
    "name": "ipython",
    "version": 3
   },
   "file_extension": ".py",
   "mimetype": "text/x-python",
   "name": "python",
   "nbconvert_exporter": "python",
   "pygments_lexer": "ipython3",
   "version": "3.10.9"
  },
  "orig_nbformat": 4
 },
 "nbformat": 4,
 "nbformat_minor": 2
}
