{
 "cells": [
  {
   "cell_type": "markdown",
   "id": "41abd8e6",
   "metadata": {},
   "source": [
    "# Fetch Records from a Database"
   ]
  },
  {
   "cell_type": "code",
   "execution_count": 8,
   "id": "f5cf0bc4",
   "metadata": {
    "tags": []
   },
   "outputs": [],
   "source": [
    "from DATA225utils import make_connection"
   ]
  },
  {
   "cell_type": "code",
   "execution_count": 9,
   "id": "5a74bcad",
   "metadata": {
    "tags": []
   },
   "outputs": [],
   "source": [
    "conn = make_connection('school.ini')\n",
    "cursor = conn.cursor()"
   ]
  },
  {
   "cell_type": "markdown",
   "id": "f8e12e6b",
   "metadata": {},
   "source": [
    "### Use `cursor.fetchall()` to **fetch all the rows** from a query."
   ]
  },
  {
   "cell_type": "code",
   "execution_count": 10,
   "id": "7602b028",
   "metadata": {
    "tags": []
   },
   "outputs": [
    {
     "name": "stdout",
     "output_type": "stream",
     "text": [
      "Fetched 5 rows.\n",
      "\n",
      "('DATA 200', 'Python Programming', 101, 'T7051')\n",
      "('DATA 220', 'Mathematical Models', 114, 'T7008')\n",
      "('DATA 225', 'Database Systems', 101, 'T7003')\n",
      "('DATA 240', 'Data Mining', 120, 'T7012')\n",
      "('DATA 245', 'Machine Learning', 115, 'T7051')\n"
     ]
    }
   ],
   "source": [
    "sql = \"SELECT * FROM class\"\n",
    "\n",
    "cursor.execute(sql)\n",
    "rows  = cursor.fetchall()\n",
    "count = cursor.rowcount\n",
    "\n",
    "print(f'Fetched {count} rows.')\n",
    "print()\n",
    "\n",
    "for row in rows:\n",
    "    print(row)"
   ]
  },
  {
   "cell_type": "code",
   "execution_count": 11,
   "id": "6fd8afc8",
   "metadata": {
    "tags": []
   },
   "outputs": [],
   "source": [
    "cursor.close()\n",
    "conn.close()"
   ]
  },
  {
   "cell_type": "code",
   "execution_count": 12,
   "id": "294bf4e0",
   "metadata": {
    "tags": []
   },
   "outputs": [],
   "source": [
    "# Copyright (c) 2023 by Ronald Mak"
   ]
  },
  {
   "cell_type": "code",
   "execution_count": null,
   "id": "4eee270d-dccc-4ca6-8c18-7ac5adcd6041",
   "metadata": {},
   "outputs": [],
   "source": []
  }
 ],
 "metadata": {
  "kernelspec": {
   "display_name": "Python 3 (ipykernel)",
   "language": "python",
   "name": "python3"
  },
  "language_info": {
   "codemirror_mode": {
    "name": "ipython",
    "version": 3
   },
   "file_extension": ".py",
   "mimetype": "text/x-python",
   "name": "python",
   "nbconvert_exporter": "python",
   "pygments_lexer": "ipython3",
   "version": "3.11.4"
  }
 },
 "nbformat": 4,
 "nbformat_minor": 5
}
