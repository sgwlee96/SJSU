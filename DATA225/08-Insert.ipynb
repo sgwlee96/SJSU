{
 "cells": [
  {
   "cell_type": "markdown",
   "id": "a4f0eb3f-f612-4277-821f-b0d3e61032c2",
   "metadata": {},
   "source": [
    "# Insert Rows into a Table"
   ]
  },
  {
   "cell_type": "code",
   "execution_count": 1,
   "id": "adbb53dc-6fb1-4787-b372-5db5ccf69846",
   "metadata": {
    "tags": []
   },
   "outputs": [],
   "source": [
    "from DATA225utils import make_connection\n",
    "from employee import reset_employee, print_employee"
   ]
  },
  {
   "cell_type": "code",
   "execution_count": 2,
   "id": "fc14f5fa-ca60-44af-8ad6-07b20794e143",
   "metadata": {
    "tags": []
   },
   "outputs": [],
   "source": [
    "conn = make_connection(config_file = 'personnel.ini')\n",
    "cursor = conn.cursor()\n",
    "\n",
    "reset_employee(conn)"
   ]
  },
  {
   "cell_type": "markdown",
   "id": "63e3869b-3803-4438-839b-9c71ee6658e6",
   "metadata": {},
   "source": [
    "### Insert one row at a time"
   ]
  },
  {
   "cell_type": "code",
   "execution_count": 3,
   "id": "03d2546d-ba0c-40af-9aff-6180db3c9f17",
   "metadata": {
    "tags": []
   },
   "outputs": [],
   "source": [
    "sql = ( \"\"\"\n",
    "        INSERT INTO employee\n",
    "        VALUES (123, 'Jones', 'Mary', 150000.00)\n",
    "        \"\"\"\n",
    "      )\n",
    "       \n",
    "cursor.execute(sql)\n",
    "conn.commit()"
   ]
  },
  {
   "cell_type": "markdown",
   "id": "ff4566ac-2e6d-4230-bca9-3a938ada4acd",
   "metadata": {},
   "source": [
    "### SQL syntax does not allow `_` in numbers."
   ]
  },
  {
   "cell_type": "markdown",
   "id": "57b5ca07-3818-4451-8efc-fa7a7385f3f2",
   "metadata": {},
   "source": [
    "### Insert multiple rows"
   ]
  },
  {
   "cell_type": "code",
   "execution_count": 4,
   "id": "fe4265a0-4e1f-448a-b2f7-02c5fde3f7b4",
   "metadata": {
    "tags": []
   },
   "outputs": [],
   "source": [
    "sql = ( \"\"\"\n",
    "        INSERT INTO employee\n",
    "        VALUES (456, 'Smith',  'George', 100000.00),\n",
    "               (789, 'Brown',  'Leslie', 125000.00),\n",
    "               (941, 'Wilson', 'Sidney', 250000.00)\n",
    "        \"\"\"\n",
    "      ) \n",
    "\n",
    "cursor.execute(sql)\n",
    "conn.commit()"
   ]
  },
  {
   "cell_type": "markdown",
   "id": "435df950-7b78-4169-9dfa-84439bac1d6c",
   "metadata": {},
   "source": [
    "#### An insertion requires a `conn.commit()` or it doesn’t actually happen."
   ]
  },
  {
   "cell_type": "markdown",
   "id": "ef8c567b-e11a-4a59-bc65-b7d29d8c7195",
   "metadata": {},
   "source": [
    "### Insert specific columns"
   ]
  },
  {
   "cell_type": "code",
   "execution_count": 5,
   "id": "5b2b2de7-09dc-4c72-bfb4-879d42e4fbd3",
   "metadata": {
    "tags": []
   },
   "outputs": [],
   "source": [
    "sql = ( \"\"\"\n",
    "        INSERT INTO employee (last, first, id)\n",
    "        VALUES ('Schmidt', 'Frank', 604)\n",
    "        \"\"\"\n",
    "      )\n",
    "    \n",
    "cursor.execute(sql)\n",
    "conn.commit()"
   ]
  },
  {
   "cell_type": "code",
   "execution_count": 6,
   "id": "1c13096d-a9cb-456b-bb34-fa2e8b689ea0",
   "metadata": {
    "tags": []
   },
   "outputs": [
    {
     "name": "stdout",
     "output_type": "stream",
     "text": [
      "5 rows:\n",
      "\n"
     ]
    },
    {
     "data": {
      "text/html": [
       "<div>\n",
       "<style scoped>\n",
       "    .dataframe tbody tr th:only-of-type {\n",
       "        vertical-align: middle;\n",
       "    }\n",
       "\n",
       "    .dataframe tbody tr th {\n",
       "        vertical-align: top;\n",
       "    }\n",
       "\n",
       "    .dataframe thead th {\n",
       "        text-align: right;\n",
       "    }\n",
       "</style>\n",
       "<table border=\"1\" class=\"dataframe\">\n",
       "  <thead>\n",
       "    <tr style=\"text-align: right;\">\n",
       "      <th></th>\n",
       "      <th>id</th>\n",
       "      <th>last</th>\n",
       "      <th>first</th>\n",
       "      <th>salary</th>\n",
       "    </tr>\n",
       "  </thead>\n",
       "  <tbody>\n",
       "    <tr>\n",
       "      <th>0</th>\n",
       "      <td>123</td>\n",
       "      <td>Jones</td>\n",
       "      <td>Mary</td>\n",
       "      <td>150000.0</td>\n",
       "    </tr>\n",
       "    <tr>\n",
       "      <th>1</th>\n",
       "      <td>456</td>\n",
       "      <td>Smith</td>\n",
       "      <td>George</td>\n",
       "      <td>100000.0</td>\n",
       "    </tr>\n",
       "    <tr>\n",
       "      <th>2</th>\n",
       "      <td>604</td>\n",
       "      <td>Schmidt</td>\n",
       "      <td>Frank</td>\n",
       "      <td>NaN</td>\n",
       "    </tr>\n",
       "    <tr>\n",
       "      <th>3</th>\n",
       "      <td>789</td>\n",
       "      <td>Brown</td>\n",
       "      <td>Leslie</td>\n",
       "      <td>125000.0</td>\n",
       "    </tr>\n",
       "    <tr>\n",
       "      <th>4</th>\n",
       "      <td>941</td>\n",
       "      <td>Wilson</td>\n",
       "      <td>Sidney</td>\n",
       "      <td>250000.0</td>\n",
       "    </tr>\n",
       "  </tbody>\n",
       "</table>\n",
       "</div>"
      ],
      "text/plain": [
       "    id     last   first    salary\n",
       "0  123    Jones    Mary  150000.0\n",
       "1  456    Smith  George  100000.0\n",
       "2  604  Schmidt   Frank       NaN\n",
       "3  789    Brown  Leslie  125000.0\n",
       "4  941   Wilson  Sidney  250000.0"
      ]
     },
     "metadata": {},
     "output_type": "display_data"
    }
   ],
   "source": [
    "print_employee(conn)"
   ]
  },
  {
   "cell_type": "code",
   "execution_count": 7,
   "id": "8a775d05-1f88-46fd-8f68-b74d5d3739b3",
   "metadata": {
    "tags": []
   },
   "outputs": [],
   "source": [
    "cursor.close()\n",
    "conn.close()"
   ]
  },
  {
   "cell_type": "code",
   "execution_count": null,
   "id": "3176c687-a024-408c-a965-17a52f986444",
   "metadata": {},
   "outputs": [],
   "source": [
    "# Copyright (c) 2023 by Ronald Mak"
   ]
  }
 ],
 "metadata": {
  "kernelspec": {
   "display_name": "Python 3 (ipykernel)",
   "language": "python",
   "name": "python3"
  },
  "language_info": {
   "codemirror_mode": {
    "name": "ipython",
    "version": 3
   },
   "file_extension": ".py",
   "mimetype": "text/x-python",
   "name": "python",
   "nbconvert_exporter": "python",
   "pygments_lexer": "ipython3",
   "version": "3.11.4"
  }
 },
 "nbformat": 4,
 "nbformat_minor": 5
}
