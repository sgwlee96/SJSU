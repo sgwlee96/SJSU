{
 "cells": [
  {
   "cell_type": "code",
   "execution_count": 19,
   "id": "e9bf2efc-94b3-48c0-b975-691c2a5baba5",
   "metadata": {
    "tags": []
   },
   "outputs": [],
   "source": [
    "import pandas as pd\n",
    "from pandas import DataFrame\n",
    "import matplotlib.pyplot as plt\n",
    "from DATA225utils import make_connection, dataframe_query"
   ]
  },
  {
   "cell_type": "code",
   "execution_count": 20,
   "id": "60b668df-08f3-4a02-9c44-eee1b700793a",
   "metadata": {
    "tags": []
   },
   "outputs": [],
   "source": [
    "conn = make_connection(config_file = 'price.ini')\n",
    "cursor = conn.cursor()"
   ]
  },
  {
   "cell_type": "code",
   "execution_count": null,
   "id": "989a32e1-641c-43d2-8ceb-7bcbbff55a2d",
   "metadata": {},
   "outputs": [],
   "source": [
    "def print_correlation_matrix(price, bedrooms, bathrooms, sqft_living):\n",
    "    \"\"\"\n",
    "    Display the pairwise correlation matrix.\n",
    "    \"\"\"\n",
    "    M = np.array([price, bedrooms, bathrooms, sqft_living]).T\n",
    "\n",
    "    df = DataFrame(M)\n",
    "    df.columns = ['price, bedrooms, bathrooms, sqft_living]\n",
    "\n",
    "    display(df.corr(method='pearson', min_periods=1))"
   ]
  }
 ],
 "metadata": {
  "kernelspec": {
   "display_name": "Python 3 (ipykernel)",
   "language": "python",
   "name": "python3"
  },
  "language_info": {
   "codemirror_mode": {
    "name": "ipython",
    "version": 3
   },
   "file_extension": ".py",
   "mimetype": "text/x-python",
   "name": "python",
   "nbconvert_exporter": "python",
   "pygments_lexer": "ipython3",
   "version": "3.11.4"
  }
 },
 "nbformat": 4,
 "nbformat_minor": 5
}
