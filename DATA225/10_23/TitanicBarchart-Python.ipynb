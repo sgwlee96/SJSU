{
 "cells": [
  {
   "cell_type": "markdown",
   "id": "f9a9691c-c2c0-413f-a7e7-ab4e1140d9e3",
   "metadata": {},
   "source": [
    "# Bar Charts of Titanic Passenger Ages\n",
    "## Compute age frequencies with client-side Python"
   ]
  },
  {
   "cell_type": "code",
   "execution_count": 1,
   "id": "62f19ef0-cf1a-4b1b-8a5c-4af7cd3b46a7",
   "metadata": {
    "tags": []
   },
   "outputs": [],
   "source": [
    "import matplotlib.pyplot as plt\n",
    "import numpy as np\n",
    "from DATA225utils import make_connection, dataframe_query"
   ]
  },
  {
   "cell_type": "markdown",
   "id": "445ce3bc-c56a-4dc7-b1fa-95d4c2550d35",
   "metadata": {},
   "source": [
    "#### Download all the data and do the frequency calculations."
   ]
  },
  {
   "cell_type": "code",
   "execution_count": 3,
   "id": "1361c45f-8522-4a27-ac02-72f5088af242",
   "metadata": {
    "tags": []
   },
   "outputs": [],
   "source": [
    "conn = make_connection(config_file = 'titanic.ini')\n",
    "cursor = conn.cursor()"
   ]
  },
  {
   "cell_type": "code",
   "execution_count": 4,
   "id": "aba98674-937e-4a3a-85e6-45c1df14db39",
   "metadata": {
    "tags": []
   },
   "outputs": [
    {
     "ename": "ProgrammingError",
     "evalue": "1146 (42S02): Table 'titanic.passengers' doesn't exist",
     "output_type": "error",
     "traceback": [
      "\u001b[0;31m---------------------------------------------------------------------------\u001b[0m",
      "\u001b[0;31mProgrammingError\u001b[0m                          Traceback (most recent call last)",
      "Cell \u001b[0;32mIn[4], line 1\u001b[0m\n\u001b[0;32m----> 1\u001b[0m cursor\u001b[38;5;241m.\u001b[39mexecute(\u001b[38;5;124m'\u001b[39m\u001b[38;5;124mSELECT * FROM passengers\u001b[39m\u001b[38;5;124m'\u001b[39m)\n\u001b[1;32m      2\u001b[0m rows \u001b[38;5;241m=\u001b[39m cursor\u001b[38;5;241m.\u001b[39mfetchall()\n",
      "File \u001b[0;32m~/anaconda3/lib/python3.11/site-packages/mysql/connector/cursor.py:617\u001b[0m, in \u001b[0;36mMySQLCursor.execute\u001b[0;34m(self, operation, params, multi)\u001b[0m\n\u001b[1;32m    614\u001b[0m     \u001b[38;5;28;01mreturn\u001b[39;00m \u001b[38;5;28mself\u001b[39m\u001b[38;5;241m.\u001b[39m_execute_iter(\u001b[38;5;28mself\u001b[39m\u001b[38;5;241m.\u001b[39m_connection\u001b[38;5;241m.\u001b[39mcmd_query_iter(stmt))\n\u001b[1;32m    616\u001b[0m \u001b[38;5;28;01mtry\u001b[39;00m:\n\u001b[0;32m--> 617\u001b[0m     \u001b[38;5;28mself\u001b[39m\u001b[38;5;241m.\u001b[39m_handle_result(\u001b[38;5;28mself\u001b[39m\u001b[38;5;241m.\u001b[39m_connection\u001b[38;5;241m.\u001b[39mcmd_query(stmt))\n\u001b[1;32m    618\u001b[0m \u001b[38;5;28;01mexcept\u001b[39;00m InterfaceError \u001b[38;5;28;01mas\u001b[39;00m err:\n\u001b[1;32m    619\u001b[0m     \u001b[38;5;28;01mif\u001b[39;00m \u001b[38;5;28mself\u001b[39m\u001b[38;5;241m.\u001b[39m_connection\u001b[38;5;241m.\u001b[39mhave_next_result:\n",
      "File \u001b[0;32m~/anaconda3/lib/python3.11/site-packages/mysql/connector/opentelemetry/context_propagation.py:77\u001b[0m, in \u001b[0;36mwith_context_propagation.<locals>.wrapper\u001b[0;34m(cnx, *args, **kwargs)\u001b[0m\n\u001b[1;32m     75\u001b[0m \u001b[38;5;250m\u001b[39m\u001b[38;5;124;03m\"\"\"Context propagation decorator.\"\"\"\u001b[39;00m\n\u001b[1;32m     76\u001b[0m \u001b[38;5;28;01mif\u001b[39;00m \u001b[38;5;129;01mnot\u001b[39;00m OTEL_ENABLED \u001b[38;5;129;01mor\u001b[39;00m \u001b[38;5;129;01mnot\u001b[39;00m cnx\u001b[38;5;241m.\u001b[39motel_context_propagation:\n\u001b[0;32m---> 77\u001b[0m     \u001b[38;5;28;01mreturn\u001b[39;00m method(cnx, \u001b[38;5;241m*\u001b[39margs, \u001b[38;5;241m*\u001b[39m\u001b[38;5;241m*\u001b[39mkwargs)\n\u001b[1;32m     79\u001b[0m current_span \u001b[38;5;241m=\u001b[39m trace\u001b[38;5;241m.\u001b[39mget_current_span()\n\u001b[1;32m     80\u001b[0m tp_header \u001b[38;5;241m=\u001b[39m \u001b[38;5;28;01mNone\u001b[39;00m\n",
      "File \u001b[0;32m~/anaconda3/lib/python3.11/site-packages/mysql/connector/connection.py:1069\u001b[0m, in \u001b[0;36mMySQLConnection.cmd_query\u001b[0;34m(self, query, raw, buffered, raw_as_string)\u001b[0m\n\u001b[1;32m   1067\u001b[0m query \u001b[38;5;241m=\u001b[39m \u001b[38;5;28mbytes\u001b[39m(packet)\n\u001b[1;32m   1068\u001b[0m \u001b[38;5;28;01mtry\u001b[39;00m:\n\u001b[0;32m-> 1069\u001b[0m     result \u001b[38;5;241m=\u001b[39m \u001b[38;5;28mself\u001b[39m\u001b[38;5;241m.\u001b[39m_handle_result(\u001b[38;5;28mself\u001b[39m\u001b[38;5;241m.\u001b[39m_send_cmd(ServerCmd\u001b[38;5;241m.\u001b[39mQUERY, query))\n\u001b[1;32m   1070\u001b[0m \u001b[38;5;28;01mexcept\u001b[39;00m ProgrammingError \u001b[38;5;28;01mas\u001b[39;00m err:\n\u001b[1;32m   1071\u001b[0m     \u001b[38;5;28;01mif\u001b[39;00m err\u001b[38;5;241m.\u001b[39merrno \u001b[38;5;241m==\u001b[39m \u001b[38;5;241m3948\u001b[39m \u001b[38;5;129;01mand\u001b[39;00m \u001b[38;5;124m\"\u001b[39m\u001b[38;5;124mLoading local data is disabled\u001b[39m\u001b[38;5;124m\"\u001b[39m \u001b[38;5;129;01min\u001b[39;00m err\u001b[38;5;241m.\u001b[39mmsg:\n",
      "File \u001b[0;32m~/anaconda3/lib/python3.11/site-packages/mysql/connector/connection.py:846\u001b[0m, in \u001b[0;36mMySQLConnection._handle_result\u001b[0;34m(self, packet)\u001b[0m\n\u001b[1;32m    844\u001b[0m     \u001b[38;5;28;01mreturn\u001b[39;00m \u001b[38;5;28mself\u001b[39m\u001b[38;5;241m.\u001b[39m_handle_eof(packet)\n\u001b[1;32m    845\u001b[0m \u001b[38;5;28;01mif\u001b[39;00m packet[\u001b[38;5;241m4\u001b[39m] \u001b[38;5;241m==\u001b[39m \u001b[38;5;241m255\u001b[39m:\n\u001b[0;32m--> 846\u001b[0m     \u001b[38;5;28;01mraise\u001b[39;00m get_exception(packet)\n\u001b[1;32m    848\u001b[0m \u001b[38;5;66;03m# We have a text result set\u001b[39;00m\n\u001b[1;32m    849\u001b[0m column_count \u001b[38;5;241m=\u001b[39m \u001b[38;5;28mself\u001b[39m\u001b[38;5;241m.\u001b[39m_protocol\u001b[38;5;241m.\u001b[39mparse_column_count(packet)\n",
      "\u001b[0;31mProgrammingError\u001b[0m: 1146 (42S02): Table 'titanic.passengers' doesn't exist"
     ]
    }
   ],
   "source": [
    "cursor.execute('SELECT * FROM passengers')\n",
    "rows = cursor.fetchall()"
   ]
  },
  {
   "cell_type": "code",
   "execution_count": null,
   "id": "98be2e3c-c802-4a62-88bd-abcbaaeae78e",
   "metadata": {},
   "outputs": [],
   "source": [
    "baby = 0\n",
    "child = 0\n",
    "teen = 0\n",
    "youth = 0\n",
    "adult = 0\n",
    "senior = 0\n",
    "\n",
    "print(f'{rows[0] = }')\n",
    "print(f'{rows[0][3] = }')"
   ]
  },
  {
   "cell_type": "code",
   "execution_count": null,
   "id": "2c97c7b3-ec11-49ff-884f-3fa641942eeb",
   "metadata": {},
   "outputs": [],
   "source": [
    "for row in rows:\n",
    "    age = row[3]\n",
    "    \n",
    "    if age != 0:\n",
    "        age = float(age)  # string to float\n",
    "        \n",
    "        if   age >= 65:  senior += 1\n",
    "        elif age >= 25:   adult += 1\n",
    "        elif age >= 20:   youth += 1\n",
    "        elif age >= 13:    teen += 1\n",
    "        elif age >=  2:   child += 1\n",
    "        else:              baby += 1"
   ]
  },
  {
   "cell_type": "code",
   "execution_count": null,
   "id": "9b3a4f06-1fe0-4b93-a096-ced7f798ecf3",
   "metadata": {},
   "outputs": [],
   "source": [
    "print(f'{   baby = }')\n",
    "print(f'{  child = }')\n",
    "print(f'{   teen = }')\n",
    "print(f'{  youth = }')\n",
    "print(f'{  adult = }')\n",
    "print(f'{ senior = }')"
   ]
  },
  {
   "cell_type": "markdown",
   "id": "e7d6a462-f180-4a66-a968-71dc107ac613",
   "metadata": {
    "tags": []
   },
   "source": [
    "#### Create the bar chart."
   ]
  },
  {
   "cell_type": "code",
   "execution_count": null,
   "id": "7dd6c047-c344-47ac-9955-7cff91e4a628",
   "metadata": {},
   "outputs": [],
   "source": [
    "labels = [ 'baby', 'child', 'teen', \n",
    "          'youth', 'adult', 'senior' ]\n",
    "counts = [ baby, child, teen,\n",
    "           youth, adult, senior ]\n",
    "\n",
    "fig = plt.figure(figsize = (6, 5))\n",
    "\n",
    "plt.bar(labels, counts, color = 'maroon', width = 0.5)\n",
    "\n",
    "plt.xlabel('Age categories')\n",
    "plt.ylabel('Counts')\n",
    "plt.title('Titanic Age Counts')"
   ]
  },
  {
   "cell_type": "code",
   "execution_count": null,
   "id": "d8df8b37-51b8-46f6-b1cb-78e869613c0e",
   "metadata": {},
   "outputs": [],
   "source": [
    "cursor.close()\n",
    "conn.close()"
   ]
  },
  {
   "cell_type": "code",
   "execution_count": null,
   "id": "22527c19-2cb5-42e7-8dcf-d90daa83f1ac",
   "metadata": {},
   "outputs": [],
   "source": []
  }
 ],
 "metadata": {
  "kernelspec": {
   "display_name": "Python 3 (ipykernel)",
   "language": "python",
   "name": "python3"
  },
  "language_info": {
   "codemirror_mode": {
    "name": "ipython",
    "version": 3
   },
   "file_extension": ".py",
   "mimetype": "text/x-python",
   "name": "python",
   "nbconvert_exporter": "python",
   "pygments_lexer": "ipython3",
   "version": "3.11.4"
  }
 },
 "nbformat": 4,
 "nbformat_minor": 5
}
