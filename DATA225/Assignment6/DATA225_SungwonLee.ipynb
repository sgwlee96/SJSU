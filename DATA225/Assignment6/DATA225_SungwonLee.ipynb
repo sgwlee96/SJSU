{
 "cells": [
  {
   "cell_type": "markdown",
   "id": "48065ac7-05d3-45ad-b713-25a16a83c4f7",
   "metadata": {},
   "source": [
    "# Assignment 6\n",
    "\n",
    "### Sungwon Lee\n",
    "### 017473950"
   ]
  },
  {
   "cell_type": "markdown",
   "id": "e15b1bce-bb3a-4f9e-9917-6213d93643b5",
   "metadata": {},
   "source": [
    "## 1. INSERT INTO SELECT with CASE"
   ]
  },
  {
   "cell_type": "code",
   "execution_count": null,
   "id": "a21ee7ff-87fa-4e4d-93a5-d684b2f9de05",
   "metadata": {},
   "outputs": [],
   "source": []
  }
 ],
 "metadata": {
  "kernelspec": {
   "display_name": "Python 3 (ipykernel)",
   "language": "python",
   "name": "python3"
  },
  "language_info": {
   "codemirror_mode": {
    "name": "ipython",
    "version": 3
   },
   "file_extension": ".py",
   "mimetype": "text/x-python",
   "name": "python",
   "nbconvert_exporter": "python",
   "pygments_lexer": "ipython3",
   "version": "3.8.17"
  }
 },
 "nbformat": 4,
 "nbformat_minor": 5
}
