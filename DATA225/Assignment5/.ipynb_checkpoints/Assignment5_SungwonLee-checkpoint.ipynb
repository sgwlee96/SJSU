{
 "cells": [
  {
   "cell_type": "markdown",
   "id": "cbb84d36-2ad2-4dcd-9806-b9561e2fc59b",
   "metadata": {},
   "source": [
    "# DATA 225 Assignment 5\n",
    "\n",
    "## Sungwon Lee\n",
    "## 017473950"
   ]
  },
  {
   "cell_type": "code",
   "execution_count": 1,
   "id": "843acade-bce8-4417-8a18-a16a61d4f303",
   "metadata": {
    "tags": []
   },
   "outputs": [],
   "source": [
    "import mysql.connector\n",
    "import pandas as pd\n",
    "from configparser import ConfigParser\n",
    "from DATA225utils import make_connection, dataframe_query"
   ]
  },
  {
   "cell_type": "code",
   "execution_count": 2,
   "id": "fdf954a7-5448-41e8-a9a4-4fd1b97a1221",
   "metadata": {
    "tags": []
   },
   "outputs": [],
   "source": [
    "conn = make_connection(config_file='ZAGI.ini')"
   ]
  },
  {
   "cell_type": "code",
   "execution_count": 3,
   "id": "8a8e1169-04f9-43b4-8e6a-a75b4ee564a4",
   "metadata": {
    "tags": []
   },
   "outputs": [],
   "source": [
    "cursor = conn.cursor()"
   ]
  },
  {
   "cell_type": "markdown",
   "id": "06bc49e7-2940-46e2-8692-46aa81e584dd",
   "metadata": {},
   "source": [
    "### SQL practice #2"
   ]
  },
  {
   "cell_type": "markdown",
   "id": "dc0be9cb-d2c9-42fc-8844-a3039a236708",
   "metadata": {},
   "source": [
    "1. [10 points] Display the region ID, region name, and number of stores in the \\\n",
    "region for all regions"
   ]
  },
  {
   "cell_type": "code",
   "execution_count": 4,
   "id": "404eedc4-130c-4853-a844-c55d3e206ad6",
   "metadata": {
    "tags": []
   },
   "outputs": [
    {
     "data": {
      "text/html": [
       "<div>\n",
       "<style scoped>\n",
       "    .dataframe tbody tr th:only-of-type {\n",
       "        vertical-align: middle;\n",
       "    }\n",
       "\n",
       "    .dataframe tbody tr th {\n",
       "        vertical-align: top;\n",
       "    }\n",
       "\n",
       "    .dataframe thead th {\n",
       "        text-align: right;\n",
       "    }\n",
       "</style>\n",
       "<table border=\"1\" class=\"dataframe\">\n",
       "  <thead>\n",
       "    <tr style=\"text-align: right;\">\n",
       "      <th></th>\n",
       "      <th>region ID</th>\n",
       "      <th>region name</th>\n",
       "      <th>number of stores</th>\n",
       "    </tr>\n",
       "  </thead>\n",
       "  <tbody>\n",
       "    <tr>\n",
       "      <th>0</th>\n",
       "      <td>C</td>\n",
       "      <td>Chicagoland</td>\n",
       "      <td>2</td>\n",
       "    </tr>\n",
       "    <tr>\n",
       "      <th>1</th>\n",
       "      <td>T</td>\n",
       "      <td>Tristate</td>\n",
       "      <td>1</td>\n",
       "    </tr>\n",
       "  </tbody>\n",
       "</table>\n",
       "</div>"
      ],
      "text/plain": [
       "  region ID  region name  number of stores\n",
       "0         C  Chicagoland                 2\n",
       "1         T     Tristate                 1"
      ]
     },
     "metadata": {},
     "output_type": "display_data"
    }
   ],
   "source": [
    "sql = \"\"\"Select r.region_id as 'region ID', r.region_name as 'region name', count(s.region_id) as 'number of stores'\n",
    "            From region r, store s\n",
    "            Where r.region_id = s.region_id\n",
    "            Group by r.region_id\"\"\"\n",
    "\n",
    "\n",
    "_, df = dataframe_query(conn, sql)\n",
    "display(df)"
   ]
  },
  {
   "cell_type": "markdown",
   "id": "91ed1637-bea6-40d3-affb-a0f4a97f04cd",
   "metadata": {},
   "source": [
    "2. [10 points] For each product category, display the category ID, category name,\n",
    "and average price of a product in the category."
   ]
  },
  {
   "cell_type": "code",
   "execution_count": 5,
   "id": "ce48ded6-f778-4a33-a2d7-dab668d8b05c",
   "metadata": {
    "tags": []
   },
   "outputs": [
    {
     "data": {
      "text/html": [
       "<div>\n",
       "<style scoped>\n",
       "    .dataframe tbody tr th:only-of-type {\n",
       "        vertical-align: middle;\n",
       "    }\n",
       "\n",
       "    .dataframe tbody tr th {\n",
       "        vertical-align: top;\n",
       "    }\n",
       "\n",
       "    .dataframe thead th {\n",
       "        text-align: right;\n",
       "    }\n",
       "</style>\n",
       "<table border=\"1\" class=\"dataframe\">\n",
       "  <thead>\n",
       "    <tr style=\"text-align: right;\">\n",
       "      <th></th>\n",
       "      <th>category ID</th>\n",
       "      <th>category name</th>\n",
       "      <th>average price</th>\n",
       "    </tr>\n",
       "  </thead>\n",
       "  <tbody>\n",
       "    <tr>\n",
       "      <th>0</th>\n",
       "      <td>CP</td>\n",
       "      <td>Camping</td>\n",
       "      <td>166.666667</td>\n",
       "    </tr>\n",
       "    <tr>\n",
       "      <th>1</th>\n",
       "      <td>FW</td>\n",
       "      <td>Footwear</td>\n",
       "      <td>58.333333</td>\n",
       "    </tr>\n",
       "  </tbody>\n",
       "</table>\n",
       "</div>"
      ],
      "text/plain": [
       "  category ID category name average price\n",
       "0          CP       Camping    166.666667\n",
       "1          FW      Footwear     58.333333"
      ]
     },
     "metadata": {},
     "output_type": "display_data"
    }
   ],
   "source": [
    "sql = \"\"\"\n",
    "    Select c.category_id as 'category ID', c.category_name as 'category name', AVG(p.product_price) as 'average price'\n",
    "        From category c, product p\n",
    "        Where c.category_id = p.category_id\n",
    "        Group by c.category_id\n",
    "        \"\"\"\n",
    "\n",
    "_, df = dataframe_query(conn, sql)\n",
    "display(df)"
   ]
  },
  {
   "cell_type": "markdown",
   "id": "e075f592-ad4d-4446-9255-0cff03846ec5",
   "metadata": {},
   "source": [
    "3. [10 points] For each product category, display the category ID and the total \\\n",
    "number of items purchased in the category."
   ]
  },
  {
   "cell_type": "code",
   "execution_count": 6,
   "id": "1c8549ff-b444-43ab-936c-858eb63a5f52",
   "metadata": {
    "tags": []
   },
   "outputs": [
    {
     "data": {
      "text/html": [
       "<div>\n",
       "<style scoped>\n",
       "    .dataframe tbody tr th:only-of-type {\n",
       "        vertical-align: middle;\n",
       "    }\n",
       "\n",
       "    .dataframe tbody tr th {\n",
       "        vertical-align: top;\n",
       "    }\n",
       "\n",
       "    .dataframe thead th {\n",
       "        text-align: right;\n",
       "    }\n",
       "</style>\n",
       "<table border=\"1\" class=\"dataframe\">\n",
       "  <thead>\n",
       "    <tr style=\"text-align: right;\">\n",
       "      <th></th>\n",
       "      <th>cateogory id</th>\n",
       "      <th>Total number of items purchased</th>\n",
       "    </tr>\n",
       "  </thead>\n",
       "  <tbody>\n",
       "    <tr>\n",
       "      <th>0</th>\n",
       "      <td>CP</td>\n",
       "      <td>5</td>\n",
       "    </tr>\n",
       "    <tr>\n",
       "      <th>1</th>\n",
       "      <td>FW</td>\n",
       "      <td>13</td>\n",
       "    </tr>\n",
       "  </tbody>\n",
       "</table>\n",
       "</div>"
      ],
      "text/plain": [
       "  cateogory id Total number of items purchased\n",
       "0           CP                               5\n",
       "1           FW                              13"
      ]
     },
     "metadata": {},
     "output_type": "display_data"
    }
   ],
   "source": [
    "sql  = \"\"\"\n",
    "        Select c.category_id as 'cateogory id', SUM(s.no_of_items) as 'Total number of items purchased'\n",
    "            From category c, product p, sold_via s\n",
    "            Where c.category_id = p.category_id AND p.product_id = s.product_id\n",
    "            Group by c.category_id\n",
    "        \"\"\"\n",
    "\n",
    "\n",
    "_, df = dataframe_query(conn, sql)\n",
    "display(df)"
   ]
  },
  {
   "cell_type": "markdown",
   "id": "4886ff19-5cef-46f9-b24b-b460b0511ac0",
   "metadata": {},
   "source": [
    "4. [10 points] Display the TID and the total number of items (of all products) sold \\\n",
    "within the transaction for all sales transactions whose total number of items (of all \\\n",
    "products) sold within the transaction is greater than five."
   ]
  },
  {
   "cell_type": "code",
   "execution_count": 7,
   "id": "96498647-395b-4893-a431-1be3906a960b",
   "metadata": {
    "tags": []
   },
   "outputs": [
    {
     "data": {
      "text/html": [
       "<div>\n",
       "<style scoped>\n",
       "    .dataframe tbody tr th:only-of-type {\n",
       "        vertical-align: middle;\n",
       "    }\n",
       "\n",
       "    .dataframe tbody tr th {\n",
       "        vertical-align: top;\n",
       "    }\n",
       "\n",
       "    .dataframe thead th {\n",
       "        text-align: right;\n",
       "    }\n",
       "</style>\n",
       "<table border=\"1\" class=\"dataframe\">\n",
       "  <thead>\n",
       "    <tr style=\"text-align: right;\">\n",
       "      <th></th>\n",
       "      <th>TID</th>\n",
       "      <th>Total number of items sold</th>\n",
       "    </tr>\n",
       "  </thead>\n",
       "  <tbody>\n",
       "    <tr>\n",
       "      <th>0</th>\n",
       "      <td>T333</td>\n",
       "      <td>6</td>\n",
       "    </tr>\n",
       "    <tr>\n",
       "      <th>1</th>\n",
       "      <td>T555</td>\n",
       "      <td>7</td>\n",
       "    </tr>\n",
       "  </tbody>\n",
       "</table>\n",
       "</div>"
      ],
      "text/plain": [
       "    TID Total number of items sold\n",
       "0  T333                          6\n",
       "1  T555                          7"
      ]
     },
     "metadata": {},
     "output_type": "display_data"
    }
   ],
   "source": [
    "sql = \"\"\"Select tid as 'TID', SUM(no_of_items) as 'Total number of items sold'\n",
    "            From sold_via\n",
    "            Group By tid\n",
    "            Having SUM(no_of_items) > 5 \"\"\"\n",
    "\n",
    "_, df = dataframe_query(conn, sql)\n",
    "display(df)\n",
    "        "
   ]
  },
  {
   "cell_type": "markdown",
   "id": "adf1b3c2-490d-440e-a912-5c5cc4ddbefb",
   "metadata": {},
   "source": [
    "5. [10 points] Display the product ID and ProductName of the cheapest product."
   ]
  },
  {
   "cell_type": "code",
   "execution_count": 8,
   "id": "19f73ac8-5e28-43ce-9daa-492602751697",
   "metadata": {
    "tags": []
   },
   "outputs": [
    {
     "data": {
      "text/html": [
       "<div>\n",
       "<style scoped>\n",
       "    .dataframe tbody tr th:only-of-type {\n",
       "        vertical-align: middle;\n",
       "    }\n",
       "\n",
       "    .dataframe tbody tr th {\n",
       "        vertical-align: top;\n",
       "    }\n",
       "\n",
       "    .dataframe thead th {\n",
       "        text-align: right;\n",
       "    }\n",
       "</style>\n",
       "<table border=\"1\" class=\"dataframe\">\n",
       "  <thead>\n",
       "    <tr style=\"text-align: right;\">\n",
       "      <th></th>\n",
       "      <th>product ID</th>\n",
       "      <th>Product Name</th>\n",
       "    </tr>\n",
       "  </thead>\n",
       "  <tbody>\n",
       "    <tr>\n",
       "      <th>0</th>\n",
       "      <td>3X3</td>\n",
       "      <td>Cosy Sock</td>\n",
       "    </tr>\n",
       "  </tbody>\n",
       "</table>\n",
       "</div>"
      ],
      "text/plain": [
       "  product ID Product Name\n",
       "0        3X3    Cosy Sock"
      ]
     },
     "metadata": {},
     "output_type": "display_data"
    }
   ],
   "source": [
    "sql = \"\"\" Select product_id as 'product ID', product_name as 'Product Name'\n",
    "            From product\n",
    "            Order By product_price ASC\n",
    "            Limit 1\"\"\"\n",
    "\n",
    "_, df = dataframe_query(conn, sql)\n",
    "display(df)"
   ]
  },
  {
   "cell_type": "markdown",
   "id": "de5e7591-cfa0-442c-9e7c-1168a916011f",
   "metadata": {},
   "source": [
    "6. [10 points] Display the product ID for the product that has been sold the most \\\n",
    "(i.e., that has been sold in the highest quantity)."
   ]
  },
  {
   "cell_type": "code",
   "execution_count": 9,
   "id": "2f52cc78-f3c5-47fd-9b62-e3dd2409e0bf",
   "metadata": {
    "tags": []
   },
   "outputs": [
    {
     "data": {
      "text/html": [
       "<div>\n",
       "<style scoped>\n",
       "    .dataframe tbody tr th:only-of-type {\n",
       "        vertical-align: middle;\n",
       "    }\n",
       "\n",
       "    .dataframe tbody tr th {\n",
       "        vertical-align: top;\n",
       "    }\n",
       "\n",
       "    .dataframe thead th {\n",
       "        text-align: right;\n",
       "    }\n",
       "</style>\n",
       "<table border=\"1\" class=\"dataframe\">\n",
       "  <thead>\n",
       "    <tr style=\"text-align: right;\">\n",
       "      <th></th>\n",
       "      <th>product ID</th>\n",
       "    </tr>\n",
       "  </thead>\n",
       "  <tbody>\n",
       "    <tr>\n",
       "      <th>0</th>\n",
       "      <td>3X3</td>\n",
       "    </tr>\n",
       "    <tr>\n",
       "      <th>1</th>\n",
       "      <td>4X4</td>\n",
       "    </tr>\n",
       "  </tbody>\n",
       "</table>\n",
       "</div>"
      ],
      "text/plain": [
       "  product ID\n",
       "0        3X3\n",
       "1        4X4"
      ]
     },
     "metadata": {},
     "output_type": "display_data"
    }
   ],
   "source": [
    "sql  = \"\"\" Select t.product_id as 'product ID'\n",
    "                From (Select p.product_id, SUM(s.no_of_items) as 'totalsold', DENSE_RANK() OVER(ORDER BY SUM(s.no_of_items) DESC) as 'Rank'\n",
    "                From product p, sold_via s\n",
    "                Where p.product_id = s.product_id\n",
    "                Group By p.product_id) t\n",
    "                Where t.Rank = 1\"\"\"\n",
    "\n",
    "_, df = dataframe_query(conn, sql)\n",
    "display(df)"
   ]
  },
  {
   "cell_type": "markdown",
   "id": "a11b0cec-e3fe-4eb6-9030-3a7e983e7157",
   "metadata": {},
   "source": [
    "7. [20 points] Rewrite the following query using a join instead of the nested query. \\\n",
    "Your rewritten query should produce the same results."
   ]
  },
  {
   "cell_type": "code",
   "execution_count": 10,
   "id": "7374dacb-bf4b-40c7-81e4-ec6b9bfdd0e6",
   "metadata": {
    "tags": []
   },
   "outputs": [
    {
     "data": {
      "text/html": [
       "<div>\n",
       "<style scoped>\n",
       "    .dataframe tbody tr th:only-of-type {\n",
       "        vertical-align: middle;\n",
       "    }\n",
       "\n",
       "    .dataframe tbody tr th {\n",
       "        vertical-align: top;\n",
       "    }\n",
       "\n",
       "    .dataframe thead th {\n",
       "        text-align: right;\n",
       "    }\n",
       "</style>\n",
       "<table border=\"1\" class=\"dataframe\">\n",
       "  <thead>\n",
       "    <tr style=\"text-align: right;\">\n",
       "      <th></th>\n",
       "      <th>product_id</th>\n",
       "      <th>product_name</th>\n",
       "      <th>product_price</th>\n",
       "    </tr>\n",
       "  </thead>\n",
       "  <tbody>\n",
       "    <tr>\n",
       "      <th>0</th>\n",
       "      <td>3X3</td>\n",
       "      <td>Cosy Sock</td>\n",
       "      <td>15.00</td>\n",
       "    </tr>\n",
       "    <tr>\n",
       "      <th>1</th>\n",
       "      <td>4X4</td>\n",
       "      <td>Dura Boot</td>\n",
       "      <td>90.00</td>\n",
       "    </tr>\n",
       "  </tbody>\n",
       "</table>\n",
       "</div>"
      ],
      "text/plain": [
       "  product_id product_name product_price\n",
       "0        3X3    Cosy Sock         15.00\n",
       "1        4X4    Dura Boot         90.00"
      ]
     },
     "metadata": {},
     "output_type": "display_data"
    }
   ],
   "source": [
    "sql = \"\"\"Select p.product_id, p.product_name, p.product_price\n",
    "            From product p\n",
    "            LEFT JOIN sold_via as s\n",
    "            ON p.product_id = s.product_id \n",
    "            Group By p.product_id\n",
    "            HAVING SUM(s.no_of_items) > 3\"\"\"\n",
    "\n",
    "_, df = dataframe_query(conn, sql)\n",
    "display(df)"
   ]
  },
  {
   "cell_type": "markdown",
   "id": "880fe72d-70be-4a66-a595-31f3dcccc54b",
   "metadata": {},
   "source": [
    "8. [20 points] Rewrite the following query using a join instead of the nested query. \\\n",
    "Your rewritten query should produce the same results."
   ]
  },
  {
   "cell_type": "code",
   "execution_count": 11,
   "id": "aae14156-2cc2-410f-a6f7-8e24bd64fefe",
   "metadata": {
    "tags": []
   },
   "outputs": [
    {
     "data": {
      "text/html": [
       "<div>\n",
       "<style scoped>\n",
       "    .dataframe tbody tr th:only-of-type {\n",
       "        vertical-align: middle;\n",
       "    }\n",
       "\n",
       "    .dataframe tbody tr th {\n",
       "        vertical-align: top;\n",
       "    }\n",
       "\n",
       "    .dataframe thead th {\n",
       "        text-align: right;\n",
       "    }\n",
       "</style>\n",
       "<table border=\"1\" class=\"dataframe\">\n",
       "  <thead>\n",
       "    <tr style=\"text-align: right;\">\n",
       "      <th></th>\n",
       "      <th>product_id</th>\n",
       "      <th>product_name</th>\n",
       "      <th>product_price</th>\n",
       "    </tr>\n",
       "  </thead>\n",
       "  <tbody>\n",
       "    <tr>\n",
       "      <th>0</th>\n",
       "      <td>1X1</td>\n",
       "      <td>Zzz Bag</td>\n",
       "      <td>100.00</td>\n",
       "    </tr>\n",
       "    <tr>\n",
       "      <th>1</th>\n",
       "      <td>2X2</td>\n",
       "      <td>Easy Boot</td>\n",
       "      <td>70.00</td>\n",
       "    </tr>\n",
       "    <tr>\n",
       "      <th>2</th>\n",
       "      <td>4X4</td>\n",
       "      <td>Dura Boot</td>\n",
       "      <td>90.00</td>\n",
       "    </tr>\n",
       "  </tbody>\n",
       "</table>\n",
       "</div>"
      ],
      "text/plain": [
       "  product_id product_name product_price\n",
       "0        1X1      Zzz Bag        100.00\n",
       "1        2X2    Easy Boot         70.00\n",
       "2        4X4    Dura Boot         90.00"
      ]
     },
     "metadata": {},
     "output_type": "display_data"
    }
   ],
   "source": [
    "sql = \"\"\"\n",
    "        Select p.product_id, p.product_name, p.product_price\n",
    "            From product p\n",
    "            LEFT JOIN sold_via as s\n",
    "            ON p.product_id = s.product_id\n",
    "            Group By p.product_id\n",
    "            HAVING COUNT(*) > 1 \"\"\"\n",
    "\n",
    "_, df = dataframe_query(conn, sql)\n",
    "display(df)"
   ]
  }
 ],
 "metadata": {
  "kernelspec": {
   "display_name": "Python 3 (ipykernel)",
   "language": "python",
   "name": "python3"
  },
  "language_info": {
   "codemirror_mode": {
    "name": "ipython",
    "version": 3
   },
   "file_extension": ".py",
   "mimetype": "text/x-python",
   "name": "python",
   "nbconvert_exporter": "python",
   "pygments_lexer": "ipython3",
   "version": "3.8.17"
  }
 },
 "nbformat": 4,
 "nbformat_minor": 5
}
