{
 "cells": [
  {
   "cell_type": "code",
   "execution_count": 1,
   "id": "0551d7ab-5d57-470d-b11e-7365bff8438e",
   "metadata": {
    "tags": []
   },
   "outputs": [],
   "source": [
    "import mysql.connector\n",
    "import pandas as pd\n",
    "from configparser import ConfigParser\n",
    "from DATA225utils import make_connection, dataframe_query"
   ]
  },
  {
   "cell_type": "code",
   "execution_count": 2,
   "id": "6a3ad255-518c-4d3a-ae1c-6c2e52eeb3d0",
   "metadata": {
    "tags": []
   },
   "outputs": [
    {
     "ename": "Exception",
     "evalue": "Connection failed: 1049 (42000): Unknown database 'zagi_sales'",
     "output_type": "error",
     "traceback": [
      "\u001b[1;31m---------------------------------------------------------------------------\u001b[0m",
      "\u001b[1;31mProgrammingError\u001b[0m                          Traceback (most recent call last)",
      "File \u001b[1;32m~\\OneDrive\\문서\\SJSU\\SJSU_git\\SJSU\\DATA225\\Assignment3\\3b\\DATA225utils.py:48\u001b[0m, in \u001b[0;36mmake_connection\u001b[1;34m(config_file, section)\u001b[0m\n\u001b[0;32m     47\u001b[0m db_config \u001b[38;5;241m=\u001b[39m read_config(config_file, section)\n\u001b[1;32m---> 48\u001b[0m conn \u001b[38;5;241m=\u001b[39m \u001b[43mMySQLConnection\u001b[49m\u001b[43m(\u001b[49m\u001b[38;5;241;43m*\u001b[39;49m\u001b[38;5;241;43m*\u001b[39;49m\u001b[43mdb_config\u001b[49m\u001b[43m)\u001b[49m\n\u001b[0;32m     50\u001b[0m \u001b[38;5;28;01mif\u001b[39;00m conn\u001b[38;5;241m.\u001b[39mis_connected():\n",
      "File \u001b[1;32m~\\anaconda3\\lib\\site-packages\\mysql\\connector\\connection.py:169\u001b[0m, in \u001b[0;36mMySQLConnection.__init__\u001b[1;34m(self, **kwargs)\u001b[0m\n\u001b[0;32m    168\u001b[0m \u001b[38;5;28;01mtry\u001b[39;00m:\n\u001b[1;32m--> 169\u001b[0m     \u001b[38;5;28;43mself\u001b[39;49m\u001b[38;5;241;43m.\u001b[39;49m\u001b[43mconnect\u001b[49m\u001b[43m(\u001b[49m\u001b[38;5;241;43m*\u001b[39;49m\u001b[38;5;241;43m*\u001b[39;49m\u001b[43mkwargs\u001b[49m\u001b[43m)\u001b[49m\n\u001b[0;32m    170\u001b[0m \u001b[38;5;28;01mexcept\u001b[39;00m \u001b[38;5;167;01mException\u001b[39;00m:\n\u001b[0;32m    171\u001b[0m     \u001b[38;5;66;03m# Tidy-up underlying socket on failure\u001b[39;00m\n",
      "File \u001b[1;32m~\\anaconda3\\lib\\site-packages\\mysql\\connector\\abstracts.py:1217\u001b[0m, in \u001b[0;36mMySQLConnectionAbstract.connect\u001b[1;34m(self, **kwargs)\u001b[0m\n\u001b[0;32m   1216\u001b[0m \u001b[38;5;28mself\u001b[39m\u001b[38;5;241m.\u001b[39mdisconnect()\n\u001b[1;32m-> 1217\u001b[0m \u001b[38;5;28;43mself\u001b[39;49m\u001b[38;5;241;43m.\u001b[39;49m\u001b[43m_open_connection\u001b[49m\u001b[43m(\u001b[49m\u001b[43m)\u001b[49m\n\u001b[0;32m   1218\u001b[0m \u001b[38;5;66;03m# Server does not allow to run any other statement different from ALTER\u001b[39;00m\n\u001b[0;32m   1219\u001b[0m \u001b[38;5;66;03m# when user's password has been expired.\u001b[39;00m\n",
      "File \u001b[1;32m~\\anaconda3\\lib\\site-packages\\mysql\\connector\\connection.py:581\u001b[0m, in \u001b[0;36mMySQLConnection._open_connection\u001b[1;34m(self)\u001b[0m\n\u001b[0;32m    580\u001b[0m \u001b[38;5;66;03m# start authentication negotiation\u001b[39;00m\n\u001b[1;32m--> 581\u001b[0m \u001b[38;5;28;43mself\u001b[39;49m\u001b[38;5;241;43m.\u001b[39;49m\u001b[43m_do_auth\u001b[49m\u001b[43m(\u001b[49m\n\u001b[0;32m    582\u001b[0m \u001b[43m    \u001b[49m\u001b[38;5;28;43mself\u001b[39;49m\u001b[38;5;241;43m.\u001b[39;49m\u001b[43m_user\u001b[49m\u001b[43m,\u001b[49m\n\u001b[0;32m    583\u001b[0m \u001b[43m    \u001b[49m\u001b[38;5;28;43mself\u001b[39;49m\u001b[38;5;241;43m.\u001b[39;49m\u001b[43m_password\u001b[49m\u001b[43m,\u001b[49m\n\u001b[0;32m    584\u001b[0m \u001b[43m    \u001b[49m\u001b[38;5;28;43mself\u001b[39;49m\u001b[38;5;241;43m.\u001b[39;49m\u001b[43m_database\u001b[49m\u001b[43m,\u001b[49m\n\u001b[0;32m    585\u001b[0m \u001b[43m    \u001b[49m\u001b[38;5;28;43mself\u001b[39;49m\u001b[38;5;241;43m.\u001b[39;49m\u001b[43m_client_flags\u001b[49m\u001b[43m,\u001b[49m\n\u001b[0;32m    586\u001b[0m \u001b[43m    \u001b[49m\u001b[38;5;28;43mself\u001b[39;49m\u001b[38;5;241;43m.\u001b[39;49m\u001b[43m_charset_id\u001b[49m\u001b[43m,\u001b[49m\n\u001b[0;32m    587\u001b[0m \u001b[43m    \u001b[49m\u001b[38;5;28;43mself\u001b[39;49m\u001b[38;5;241;43m.\u001b[39;49m\u001b[43m_ssl\u001b[49m\u001b[43m,\u001b[49m\n\u001b[0;32m    588\u001b[0m \u001b[43m    \u001b[49m\u001b[38;5;28;43mself\u001b[39;49m\u001b[38;5;241;43m.\u001b[39;49m\u001b[43m_conn_attrs\u001b[49m\u001b[43m,\u001b[49m\n\u001b[0;32m    589\u001b[0m \u001b[43m\u001b[49m\u001b[43m)\u001b[49m\n\u001b[0;32m    590\u001b[0m \u001b[38;5;28mself\u001b[39m\u001b[38;5;241m.\u001b[39mset_converter_class(\u001b[38;5;28mself\u001b[39m\u001b[38;5;241m.\u001b[39m_converter_class)\n",
      "File \u001b[1;32m~\\anaconda3\\lib\\site-packages\\mysql\\connector\\connection.py:314\u001b[0m, in \u001b[0;36mMySQLConnection._do_auth\u001b[1;34m(self, username, password, database, client_flags, charset, ssl_options, conn_attrs)\u001b[0m\n\u001b[0;32m    313\u001b[0m \u001b[38;5;28mself\u001b[39m\u001b[38;5;241m.\u001b[39m_socket\u001b[38;5;241m.\u001b[39msend(packet)\n\u001b[1;32m--> 314\u001b[0m \u001b[38;5;28;43mself\u001b[39;49m\u001b[38;5;241;43m.\u001b[39;49m\u001b[43m_auth_switch_request\u001b[49m\u001b[43m(\u001b[49m\u001b[43musername\u001b[49m\u001b[43m,\u001b[49m\u001b[43m \u001b[49m\u001b[43mpassword\u001b[49m\u001b[43m)\u001b[49m\n\u001b[0;32m    316\u001b[0m \u001b[38;5;28;01mif\u001b[39;00m \u001b[38;5;129;01mnot\u001b[39;00m (client_flags \u001b[38;5;241m&\u001b[39m ClientFlag\u001b[38;5;241m.\u001b[39mCONNECT_WITH_DB) \u001b[38;5;129;01mand\u001b[39;00m database:\n",
      "File \u001b[1;32m~\\anaconda3\\lib\\site-packages\\mysql\\connector\\connection.py:371\u001b[0m, in \u001b[0;36mMySQLConnection._auth_switch_request\u001b[1;34m(self, username, password)\u001b[0m\n\u001b[0;32m    370\u001b[0m \u001b[38;5;28;01mif\u001b[39;00m packet[\u001b[38;5;241m4\u001b[39m] \u001b[38;5;241m==\u001b[39m \u001b[38;5;241m255\u001b[39m:\n\u001b[1;32m--> 371\u001b[0m     \u001b[38;5;28;01mraise\u001b[39;00m get_exception(packet)\n\u001b[0;32m    372\u001b[0m \u001b[38;5;28;01mreturn\u001b[39;00m \u001b[38;5;28;01mNone\u001b[39;00m\n",
      "\u001b[1;31mProgrammingError\u001b[0m: 1049 (42000): Unknown database 'zagi_sales'",
      "\nDuring handling of the above exception, another exception occurred:\n",
      "\u001b[1;31mException\u001b[0m                                 Traceback (most recent call last)",
      "Cell \u001b[1;32mIn[2], line 1\u001b[0m\n\u001b[1;32m----> 1\u001b[0m conn \u001b[38;5;241m=\u001b[39m \u001b[43mmake_connection\u001b[49m\u001b[43m(\u001b[49m\u001b[43mconfig_file\u001b[49m\u001b[38;5;241;43m=\u001b[39;49m\u001b[38;5;124;43m'\u001b[39;49m\u001b[38;5;124;43mZAGI.ini\u001b[39;49m\u001b[38;5;124;43m'\u001b[39;49m\u001b[43m)\u001b[49m\n",
      "File \u001b[1;32m~\\OneDrive\\문서\\SJSU\\SJSU_git\\SJSU\\DATA225\\Assignment3\\3b\\DATA225utils.py:54\u001b[0m, in \u001b[0;36mmake_connection\u001b[1;34m(config_file, section)\u001b[0m\n\u001b[0;32m     51\u001b[0m         \u001b[38;5;28;01mreturn\u001b[39;00m conn\n\u001b[0;32m     53\u001b[0m \u001b[38;5;28;01mexcept\u001b[39;00m Error \u001b[38;5;28;01mas\u001b[39;00m e:\n\u001b[1;32m---> 54\u001b[0m     \u001b[38;5;28;01mraise\u001b[39;00m \u001b[38;5;167;01mException\u001b[39;00m(\u001b[38;5;124mf\u001b[39m\u001b[38;5;124m'\u001b[39m\u001b[38;5;124mConnection failed: \u001b[39m\u001b[38;5;132;01m{\u001b[39;00me\u001b[38;5;132;01m}\u001b[39;00m\u001b[38;5;124m'\u001b[39m)\n",
      "\u001b[1;31mException\u001b[0m: Connection failed: 1049 (42000): Unknown database 'zagi_sales'"
     ]
    }
   ],
   "source": [
    "conn = make_connection(config_file='ZAGI.ini')"
   ]
  },
  {
   "cell_type": "code",
   "execution_count": 3,
   "id": "0ce48846-15bb-4984-83ee-b05b8d2ce3a3",
   "metadata": {
    "tags": []
   },
   "outputs": [],
   "source": [
    "cursor = conn.cursor()"
   ]
  },
  {
   "cell_type": "markdown",
   "id": "3dbcf05d-8d85-4609-ab89-54c50397c6d4",
   "metadata": {},
   "source": [
    "### 1. Display the vendor ID and vendor name for all vendors."
   ]
  },
  {
   "cell_type": "code",
   "execution_count": 4,
   "id": "c7fa42a3-5600-4c87-b901-b0b368917128",
   "metadata": {
    "tags": []
   },
   "outputs": [
    {
     "data": {
      "text/html": [
       "<div>\n",
       "<style scoped>\n",
       "    .dataframe tbody tr th:only-of-type {\n",
       "        vertical-align: middle;\n",
       "    }\n",
       "\n",
       "    .dataframe tbody tr th {\n",
       "        vertical-align: top;\n",
       "    }\n",
       "\n",
       "    .dataframe thead th {\n",
       "        text-align: right;\n",
       "    }\n",
       "</style>\n",
       "<table border=\"1\" class=\"dataframe\">\n",
       "  <thead>\n",
       "    <tr style=\"text-align: right;\">\n",
       "      <th></th>\n",
       "      <th>vendor_id</th>\n",
       "      <th>vendor_name</th>\n",
       "    </tr>\n",
       "  </thead>\n",
       "  <tbody>\n",
       "    <tr>\n",
       "      <th>0</th>\n",
       "      <td>MK</td>\n",
       "      <td>Mountain King</td>\n",
       "    </tr>\n",
       "    <tr>\n",
       "      <th>1</th>\n",
       "      <td>PG</td>\n",
       "      <td>Pacifica Gear</td>\n",
       "    </tr>\n",
       "  </tbody>\n",
       "</table>\n",
       "</div>"
      ],
      "text/plain": [
       "  vendor_id    vendor_name\n",
       "0        MK  Mountain King\n",
       "1        PG  Pacifica Gear"
      ]
     },
     "metadata": {},
     "output_type": "display_data"
    }
   ],
   "source": [
    "sql = \"\"\"SELECT vendor_id, vendor_name FROM vendor\"\"\"\n",
    "\n",
    "_, df = dataframe_query(conn, sql)\n",
    "display(df)"
   ]
  },
  {
   "cell_type": "markdown",
   "id": "ee253552-b3f0-48d2-b306-1b6a44d5a22e",
   "metadata": {},
   "source": [
    "### 2. Display the customer name and customer ZIP for all customers."
   ]
  },
  {
   "cell_type": "code",
   "execution_count": 5,
   "id": "4b41ea2b-472c-4dbb-9add-90a4ccdf4947",
   "metadata": {
    "tags": []
   },
   "outputs": [
    {
     "data": {
      "text/html": [
       "<div>\n",
       "<style scoped>\n",
       "    .dataframe tbody tr th:only-of-type {\n",
       "        vertical-align: middle;\n",
       "    }\n",
       "\n",
       "    .dataframe tbody tr th {\n",
       "        vertical-align: top;\n",
       "    }\n",
       "\n",
       "    .dataframe thead th {\n",
       "        text-align: right;\n",
       "    }\n",
       "</style>\n",
       "<table border=\"1\" class=\"dataframe\">\n",
       "  <thead>\n",
       "    <tr style=\"text-align: right;\">\n",
       "      <th></th>\n",
       "      <th>customer_name</th>\n",
       "      <th>customer_zip</th>\n",
       "    </tr>\n",
       "  </thead>\n",
       "  <tbody>\n",
       "    <tr>\n",
       "      <th>0</th>\n",
       "      <td>Tina</td>\n",
       "      <td>60137</td>\n",
       "    </tr>\n",
       "    <tr>\n",
       "      <th>1</th>\n",
       "      <td>Tony</td>\n",
       "      <td>60611</td>\n",
       "    </tr>\n",
       "    <tr>\n",
       "      <th>2</th>\n",
       "      <td>Pam</td>\n",
       "      <td>35401</td>\n",
       "    </tr>\n",
       "  </tbody>\n",
       "</table>\n",
       "</div>"
      ],
      "text/plain": [
       "  customer_name customer_zip\n",
       "0          Tina        60137\n",
       "1          Tony        60611\n",
       "2          Pam         35401"
      ]
     },
     "metadata": {},
     "output_type": "display_data"
    }
   ],
   "source": [
    "sql = \"\"\"SELECT customer_name, customer_zip FROM customer\"\"\"\n",
    "\n",
    "_,df = dataframe_query(conn, sql)\n",
    "display(df)"
   ]
  },
  {
   "cell_type": "markdown",
   "id": "b13050da-48da-4605-8cee-d983739e8484",
   "metadata": {},
   "source": [
    "### 3. Display the product ID, product name, and product price for products with a product price of $100 or higher."
   ]
  },
  {
   "cell_type": "code",
   "execution_count": 6,
   "id": "97616fe8-526a-45ee-84fa-7701c357dc7e",
   "metadata": {
    "tags": []
   },
   "outputs": [
    {
     "data": {
      "text/html": [
       "<div>\n",
       "<style scoped>\n",
       "    .dataframe tbody tr th:only-of-type {\n",
       "        vertical-align: middle;\n",
       "    }\n",
       "\n",
       "    .dataframe tbody tr th {\n",
       "        vertical-align: top;\n",
       "    }\n",
       "\n",
       "    .dataframe thead th {\n",
       "        text-align: right;\n",
       "    }\n",
       "</style>\n",
       "<table border=\"1\" class=\"dataframe\">\n",
       "  <thead>\n",
       "    <tr style=\"text-align: right;\">\n",
       "      <th></th>\n",
       "      <th>product_id</th>\n",
       "      <th>product_name</th>\n",
       "      <th>product_price</th>\n",
       "    </tr>\n",
       "  </thead>\n",
       "  <tbody>\n",
       "    <tr>\n",
       "      <th>0</th>\n",
       "      <td>1X1</td>\n",
       "      <td>Zzz Bag</td>\n",
       "      <td>100.00</td>\n",
       "    </tr>\n",
       "    <tr>\n",
       "      <th>1</th>\n",
       "      <td>5X5</td>\n",
       "      <td>Tiny Tent</td>\n",
       "      <td>150.00</td>\n",
       "    </tr>\n",
       "    <tr>\n",
       "      <th>2</th>\n",
       "      <td>6X6</td>\n",
       "      <td>Biggy Tent</td>\n",
       "      <td>250.00</td>\n",
       "    </tr>\n",
       "  </tbody>\n",
       "</table>\n",
       "</div>"
      ],
      "text/plain": [
       "  product_id product_name product_price\n",
       "0        1X1      Zzz Bag        100.00\n",
       "1        5X5    Tiny Tent        150.00\n",
       "2        6X6   Biggy Tent        250.00"
      ]
     },
     "metadata": {},
     "output_type": "display_data"
    }
   ],
   "source": [
    "sql = \"\"\"SELECT product_id, product_name, product_price \n",
    "            FROM product \n",
    "            WHERE product_price >= 100\"\"\"\n",
    "\n",
    "_,df = dataframe_query(conn, sql)\n",
    "display(df)\n",
    "        "
   ]
  },
  {
   "cell_type": "markdown",
   "id": "cdd7ec51-999e-4dac-8d65-573ee120fc0c",
   "metadata": {},
   "source": [
    "### 4. Display the product ID, product name, product price, and vendor name for all products. Sort the results by product ID."
   ]
  },
  {
   "cell_type": "code",
   "execution_count": 7,
   "id": "0b25cc1e-f4e2-49b6-8737-46781641c489",
   "metadata": {
    "tags": []
   },
   "outputs": [
    {
     "data": {
      "text/html": [
       "<div>\n",
       "<style scoped>\n",
       "    .dataframe tbody tr th:only-of-type {\n",
       "        vertical-align: middle;\n",
       "    }\n",
       "\n",
       "    .dataframe tbody tr th {\n",
       "        vertical-align: top;\n",
       "    }\n",
       "\n",
       "    .dataframe thead th {\n",
       "        text-align: right;\n",
       "    }\n",
       "</style>\n",
       "<table border=\"1\" class=\"dataframe\">\n",
       "  <thead>\n",
       "    <tr style=\"text-align: right;\">\n",
       "      <th></th>\n",
       "      <th>product_id</th>\n",
       "      <th>product_name</th>\n",
       "      <th>product_price</th>\n",
       "      <th>vendor_name</th>\n",
       "    </tr>\n",
       "  </thead>\n",
       "  <tbody>\n",
       "    <tr>\n",
       "      <th>0</th>\n",
       "      <td>1X1</td>\n",
       "      <td>Zzz Bag</td>\n",
       "      <td>100.00</td>\n",
       "      <td>Pacifica Gear</td>\n",
       "    </tr>\n",
       "    <tr>\n",
       "      <th>1</th>\n",
       "      <td>2X2</td>\n",
       "      <td>Easy Boot</td>\n",
       "      <td>70.00</td>\n",
       "      <td>Mountain King</td>\n",
       "    </tr>\n",
       "    <tr>\n",
       "      <th>2</th>\n",
       "      <td>3X3</td>\n",
       "      <td>Cosy Sock</td>\n",
       "      <td>15.00</td>\n",
       "      <td>Mountain King</td>\n",
       "    </tr>\n",
       "    <tr>\n",
       "      <th>3</th>\n",
       "      <td>4X4</td>\n",
       "      <td>Dura Boot</td>\n",
       "      <td>90.00</td>\n",
       "      <td>Pacifica Gear</td>\n",
       "    </tr>\n",
       "    <tr>\n",
       "      <th>4</th>\n",
       "      <td>5X5</td>\n",
       "      <td>Tiny Tent</td>\n",
       "      <td>150.00</td>\n",
       "      <td>Mountain King</td>\n",
       "    </tr>\n",
       "    <tr>\n",
       "      <th>5</th>\n",
       "      <td>6X6</td>\n",
       "      <td>Biggy Tent</td>\n",
       "      <td>250.00</td>\n",
       "      <td>Mountain King</td>\n",
       "    </tr>\n",
       "  </tbody>\n",
       "</table>\n",
       "</div>"
      ],
      "text/plain": [
       "  product_id product_name product_price    vendor_name\n",
       "0        1X1      Zzz Bag        100.00  Pacifica Gear\n",
       "1        2X2    Easy Boot         70.00  Mountain King\n",
       "2        3X3    Cosy Sock         15.00  Mountain King\n",
       "3        4X4    Dura Boot         90.00  Pacifica Gear\n",
       "4        5X5    Tiny Tent        150.00  Mountain King\n",
       "5        6X6   Biggy Tent        250.00  Mountain King"
      ]
     },
     "metadata": {},
     "output_type": "display_data"
    }
   ],
   "source": [
    "sql = \"\"\"\n",
    "        SELECT p.product_id, p.product_name, p.product_price, v.vendor_name\n",
    "            FROM product as p, vendor as v\n",
    "            WHERE p.vendor_id = v.vendor_id\n",
    "            ORDER BY p.product_id ASC\n",
    "      \"\"\"\n",
    "\n",
    "_,df = dataframe_query(conn, sql)\n",
    "display(df)"
   ]
  },
  {
   "cell_type": "markdown",
   "id": "f4fa0df8-fd77-4d2b-9dd7-3c73182630ff",
   "metadata": {},
   "source": [
    "### 5. Display the product ID, product name, product price, vendor name, and category name for all products. Sort the results by product ID."
   ]
  },
  {
   "cell_type": "code",
   "execution_count": 8,
   "id": "ad2c3fe3-46bc-4d80-8443-74c851ae130b",
   "metadata": {
    "tags": []
   },
   "outputs": [
    {
     "data": {
      "text/html": [
       "<div>\n",
       "<style scoped>\n",
       "    .dataframe tbody tr th:only-of-type {\n",
       "        vertical-align: middle;\n",
       "    }\n",
       "\n",
       "    .dataframe tbody tr th {\n",
       "        vertical-align: top;\n",
       "    }\n",
       "\n",
       "    .dataframe thead th {\n",
       "        text-align: right;\n",
       "    }\n",
       "</style>\n",
       "<table border=\"1\" class=\"dataframe\">\n",
       "  <thead>\n",
       "    <tr style=\"text-align: right;\">\n",
       "      <th></th>\n",
       "      <th>product_id</th>\n",
       "      <th>product_name</th>\n",
       "      <th>product_price</th>\n",
       "      <th>vendor_name</th>\n",
       "      <th>category_name</th>\n",
       "    </tr>\n",
       "  </thead>\n",
       "  <tbody>\n",
       "    <tr>\n",
       "      <th>0</th>\n",
       "      <td>1X1</td>\n",
       "      <td>Zzz Bag</td>\n",
       "      <td>100.00</td>\n",
       "      <td>Pacifica Gear</td>\n",
       "      <td>Camping</td>\n",
       "    </tr>\n",
       "    <tr>\n",
       "      <th>1</th>\n",
       "      <td>2X2</td>\n",
       "      <td>Easy Boot</td>\n",
       "      <td>70.00</td>\n",
       "      <td>Mountain King</td>\n",
       "      <td>Footwear</td>\n",
       "    </tr>\n",
       "    <tr>\n",
       "      <th>2</th>\n",
       "      <td>3X3</td>\n",
       "      <td>Cosy Sock</td>\n",
       "      <td>15.00</td>\n",
       "      <td>Mountain King</td>\n",
       "      <td>Footwear</td>\n",
       "    </tr>\n",
       "    <tr>\n",
       "      <th>3</th>\n",
       "      <td>4X4</td>\n",
       "      <td>Dura Boot</td>\n",
       "      <td>90.00</td>\n",
       "      <td>Pacifica Gear</td>\n",
       "      <td>Footwear</td>\n",
       "    </tr>\n",
       "    <tr>\n",
       "      <th>4</th>\n",
       "      <td>5X5</td>\n",
       "      <td>Tiny Tent</td>\n",
       "      <td>150.00</td>\n",
       "      <td>Mountain King</td>\n",
       "      <td>Camping</td>\n",
       "    </tr>\n",
       "    <tr>\n",
       "      <th>5</th>\n",
       "      <td>6X6</td>\n",
       "      <td>Biggy Tent</td>\n",
       "      <td>250.00</td>\n",
       "      <td>Mountain King</td>\n",
       "      <td>Camping</td>\n",
       "    </tr>\n",
       "  </tbody>\n",
       "</table>\n",
       "</div>"
      ],
      "text/plain": [
       "  product_id product_name product_price    vendor_name category_name\n",
       "0        1X1      Zzz Bag        100.00  Pacifica Gear       Camping\n",
       "1        2X2    Easy Boot         70.00  Mountain King      Footwear\n",
       "2        3X3    Cosy Sock         15.00  Mountain King      Footwear\n",
       "3        4X4    Dura Boot         90.00  Pacifica Gear      Footwear\n",
       "4        5X5    Tiny Tent        150.00  Mountain King       Camping\n",
       "5        6X6   Biggy Tent        250.00  Mountain King       Camping"
      ]
     },
     "metadata": {},
     "output_type": "display_data"
    }
   ],
   "source": [
    "sql = \"\"\"\n",
    "        SELECT p.product_id, p.product_name, p.product_price, v.vendor_name, c.category_name\n",
    "            FROM product as p, vendor as v, category as c\n",
    "            WHERE p.vendor_id = v.vendor_id AND p.category_id = c.category_id\n",
    "            ORDER BY p.product_id ASC\n",
    "      \"\"\"\n",
    "\n",
    "_,df = dataframe_query(conn, sql)\n",
    "display(df)"
   ]
  },
  {
   "cell_type": "markdown",
   "id": "167efdaf-71e6-43dc-a581-ee75a275d2b7",
   "metadata": {},
   "source": [
    "### 6. Display the product ID, product name, and product price for products in the category whose category name value is Camping. Sort the results by product ID."
   ]
  },
  {
   "cell_type": "code",
   "execution_count": 9,
   "id": "7544a8cb-ae53-420d-9830-967e79a01ef1",
   "metadata": {
    "tags": []
   },
   "outputs": [
    {
     "data": {
      "text/html": [
       "<div>\n",
       "<style scoped>\n",
       "    .dataframe tbody tr th:only-of-type {\n",
       "        vertical-align: middle;\n",
       "    }\n",
       "\n",
       "    .dataframe tbody tr th {\n",
       "        vertical-align: top;\n",
       "    }\n",
       "\n",
       "    .dataframe thead th {\n",
       "        text-align: right;\n",
       "    }\n",
       "</style>\n",
       "<table border=\"1\" class=\"dataframe\">\n",
       "  <thead>\n",
       "    <tr style=\"text-align: right;\">\n",
       "      <th></th>\n",
       "      <th>product ID</th>\n",
       "      <th>product name</th>\n",
       "      <th>product price</th>\n",
       "    </tr>\n",
       "  </thead>\n",
       "  <tbody>\n",
       "    <tr>\n",
       "      <th>0</th>\n",
       "      <td>1X1</td>\n",
       "      <td>Zzz Bag</td>\n",
       "      <td>100.00</td>\n",
       "    </tr>\n",
       "    <tr>\n",
       "      <th>1</th>\n",
       "      <td>5X5</td>\n",
       "      <td>Tiny Tent</td>\n",
       "      <td>150.00</td>\n",
       "    </tr>\n",
       "    <tr>\n",
       "      <th>2</th>\n",
       "      <td>6X6</td>\n",
       "      <td>Biggy Tent</td>\n",
       "      <td>250.00</td>\n",
       "    </tr>\n",
       "  </tbody>\n",
       "</table>\n",
       "</div>"
      ],
      "text/plain": [
       "  product ID product name product price\n",
       "0        1X1      Zzz Bag        100.00\n",
       "1        5X5    Tiny Tent        150.00\n",
       "2        6X6   Biggy Tent        250.00"
      ]
     },
     "metadata": {},
     "output_type": "display_data"
    }
   ],
   "source": [
    "sql = \"\"\"\n",
    "        SELECT p.product_id as \"product ID\", p.product_name as \"product name\", p.product_price as \"product price\"\n",
    "            FROM product as p, category as c\n",
    "            WHERE p.category_id = c.category_id AND c.category_name = 'Camping'\n",
    "            ORDER BY p.product_id ASC\n",
    "     \"\"\"\n",
    "\n",
    "_,df = dataframe_query(conn, sql)\n",
    "display(df)"
   ]
  },
  {
   "cell_type": "markdown",
   "id": "98023530-8ba3-4f32-ad3e-a32976d782ec",
   "metadata": {},
   "source": [
    "### 7. Display the transaction ID, customer name, and transaction date for sales transactions involving a customer buying a product whose product name is Dura Boot."
   ]
  },
  {
   "cell_type": "code",
   "execution_count": 10,
   "id": "409a4997-7ce7-4b4a-8075-c7baa0d27c32",
   "metadata": {
    "tags": []
   },
   "outputs": [
    {
     "data": {
      "text/html": [
       "<div>\n",
       "<style scoped>\n",
       "    .dataframe tbody tr th:only-of-type {\n",
       "        vertical-align: middle;\n",
       "    }\n",
       "\n",
       "    .dataframe tbody tr th {\n",
       "        vertical-align: top;\n",
       "    }\n",
       "\n",
       "    .dataframe thead th {\n",
       "        text-align: right;\n",
       "    }\n",
       "</style>\n",
       "<table border=\"1\" class=\"dataframe\">\n",
       "  <thead>\n",
       "    <tr style=\"text-align: right;\">\n",
       "      <th></th>\n",
       "      <th>transaction ID</th>\n",
       "      <th>customer name</th>\n",
       "      <th>transaction date</th>\n",
       "    </tr>\n",
       "  </thead>\n",
       "  <tbody>\n",
       "    <tr>\n",
       "      <th>0</th>\n",
       "      <td>T444</td>\n",
       "      <td>Pam</td>\n",
       "      <td>2023-02-02</td>\n",
       "    </tr>\n",
       "    <tr>\n",
       "      <th>1</th>\n",
       "      <td>T555</td>\n",
       "      <td>Tony</td>\n",
       "      <td>2023-02-02</td>\n",
       "    </tr>\n",
       "  </tbody>\n",
       "</table>\n",
       "</div>"
      ],
      "text/plain": [
       "  transaction ID customer name transaction date\n",
       "0           T444          Pam        2023-02-02\n",
       "1           T555          Tony       2023-02-02"
      ]
     },
     "metadata": {},
     "output_type": "display_data"
    }
   ],
   "source": [
    "sql = \"\"\"\n",
    "        SELECT s.tid as \"transaction ID\", c.customer_name as \"customer name\", s.tdate as \"transaction date\"\n",
    "            FROM sales_transaction as s, customer as c, sold_via as sv, product as p\n",
    "            WHERE s.customer_id = c.customer_id AND s.tid = sv.tid AND sv.product_id = p.product_id AND p.product_name = \"Dura Boot\"\n",
    "            ORDER BY p.product_ID\n",
    "     \"\"\"\n",
    "\n",
    "_,df = dataframe_query(conn, sql)\n",
    "display(df)"
   ]
  },
  {
   "cell_type": "code",
   "execution_count": null,
   "id": "21be558d-7d13-48c8-bc54-58c32e12c14e",
   "metadata": {},
   "outputs": [],
   "source": []
  }
 ],
 "metadata": {
  "kernelspec": {
   "display_name": "Python 3 (ipykernel)",
   "language": "python",
   "name": "python3"
  },
  "language_info": {
   "codemirror_mode": {
    "name": "ipython",
    "version": 3
   },
   "file_extension": ".py",
   "mimetype": "text/x-python",
   "name": "python",
   "nbconvert_exporter": "python",
   "pygments_lexer": "ipython3",
   "version": "3.8.17"
  }
 },
 "nbformat": 4,
 "nbformat_minor": 5
}
