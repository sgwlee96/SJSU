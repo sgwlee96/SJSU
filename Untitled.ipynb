{
 "cells": [
  {
   "cell_type": "code",
   "execution_count": 5,
   "id": "85f15fbb-4aa7-408f-9952-ee62ce132a2b",
   "metadata": {
    "tags": []
   },
   "outputs": [
    {
     "name": "stdout",
     "output_type": "stream",
     "text": [
      "My name is\n",
      "Jimmy Five Times (0)\n",
      "Jimmy Five Times (1)\n",
      "Jimmy Five Times (2)\n",
      "Jimmy Five Times (3)\n",
      "Jimmy Five Times (4)\n"
     ]
    }
   ],
   "source": [
    "print('My name is')\n",
    "for i in range(5):\n",
    "    print('Jimmy Five Times (' + str(i) + ')')"
   ]
  },
  {
   "cell_type": "code",
   "execution_count": 9,
   "id": "0ac8c418-9e4a-4c84-b150-eee00e957e39",
   "metadata": {
    "tags": []
   },
   "outputs": [
    {
     "name": "stdout",
     "output_type": "stream",
     "text": [
      "Problem 1: Number of options for picking 8 tiles: 165\n",
      "Problem 2: Number of options for picking at least 4 green and exactly 1 blue tile: 129\n",
      "Problem 3: Number of options for picking with more red than green tiles: 130\n"
     ]
    }
   ],
   "source": [
    "import math\n",
    "\n",
    "# Function to calculate combinations with replacement\n",
    "def combinations_with_replacement(n, r):\n",
    "    return math.comb(n + r - 1, r)\n",
    "\n",
    "# Problem 1: How many different options do you have for picking 8 tiles?\n",
    "options_problem_1 = combinations_with_replacement(4, 8)\n",
    "\n",
    "# Problem 2: How many different options do you have for picking at least 4 green tiles and exactly 1 blue tile?\n",
    "# Calculate the options with exactly 1 blue and 4 or more green, and then subtract it from the total options.\n",
    "options_exactly_1_blue = combinations_with_replacement(3, 7)  # 3 options excluding blue\n",
    "options_at_least_4_green = combinations_with_replacement(4, 8) - options_exactly_1_blue\n",
    "\n",
    "# Problem 3: How many different options do you have for picking 8 tiles with more red than green?\n",
    "# Calculate the options with equal or more green than red, and then subtract it from the total options.\n",
    "options_more_red_than_green = combinations_with_replacement(4, 8) - combinations_with_replacement(4, 4)\n",
    "\n",
    "# Print the results\n",
    "print(\"Problem 1: Number of options for picking 8 tiles:\", options_problem_1)\n",
    "print(\"Problem 2: Number of options for picking at least 4 green and exactly 1 blue tile:\", options_at_least_4_green)\n",
    "print(\"Problem 3: Number of options for picking with more red than green tiles:\", options_more_red_than_green)\n"
   ]
  },
  {
   "cell_type": "code",
   "execution_count": null,
   "id": "1f430d60-be0d-449f-801b-251dea6c39ff",
   "metadata": {},
   "outputs": [],
   "source": []
  }
 ],
 "metadata": {
  "kernelspec": {
   "display_name": "Python 3 (ipykernel)",
   "language": "python",
   "name": "python3"
  },
  "language_info": {
   "codemirror_mode": {
    "name": "ipython",
    "version": 3
   },
   "file_extension": ".py",
   "mimetype": "text/x-python",
   "name": "python",
   "nbconvert_exporter": "python",
   "pygments_lexer": "ipython3",
   "version": "3.11.4"
  }
 },
 "nbformat": 4,
 "nbformat_minor": 5
}
