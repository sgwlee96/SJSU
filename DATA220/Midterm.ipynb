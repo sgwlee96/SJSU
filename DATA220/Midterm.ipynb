{
 "cells": [
  {
   "cell_type": "code",
   "execution_count": 2,
   "id": "8db137ed-3b18-4d67-a864-dec4c1070e1d",
   "metadata": {
    "tags": []
   },
   "outputs": [],
   "source": [
    "import numpy as np"
   ]
  },
  {
   "cell_type": "markdown",
   "id": "c49fcabe-07a6-40b8-b0e9-42c2e95befe5",
   "metadata": {},
   "source": [
    "## Matrix"
   ]
  },
  {
   "cell_type": "code",
   "execution_count": 5,
   "id": "5ff4e1e1-f147-4e47-8e48-caf7c86d5a5f",
   "metadata": {
    "tags": []
   },
   "outputs": [
    {
     "name": "stdout",
     "output_type": "stream",
     "text": [
      "[[1 3 4]\n",
      " [2 3 5]]\n",
      "(2, 3)\n"
     ]
    }
   ],
   "source": [
    "A = np.array([[1,3,4],[2,3,5]])\n",
    "print(A)\n",
    "print(A.shape)"
   ]
  },
  {
   "cell_type": "code",
   "execution_count": 7,
   "id": "ddf2b087-6dde-4b53-82d1-15b07cabff41",
   "metadata": {
    "tags": []
   },
   "outputs": [
    {
     "name": "stdout",
     "output_type": "stream",
     "text": [
      "[[1. 0. 0.]\n",
      " [0. 1. 0.]\n",
      " [0. 0. 1.]]\n",
      "[[1. 0. 0.]\n",
      " [0. 1. 0.]\n",
      " [0. 0. 1.]]\n"
     ]
    }
   ],
   "source": [
    "I = np.eye(3)\n",
    "I1 = np.identity(3)\n",
    "\n",
    "print(I)\n",
    "print(I1)"
   ]
  },
  {
   "cell_type": "code",
   "execution_count": 9,
   "id": "fe569a40-202d-4c5d-a655-44a7fb14da25",
   "metadata": {
    "tags": []
   },
   "outputs": [
    {
     "name": "stdout",
     "output_type": "stream",
     "text": [
      "[[0. 0. 0.]\n",
      " [0. 0. 0.]\n",
      " [0. 0. 0.]]\n"
     ]
    }
   ],
   "source": [
    "O = np.zeros([3,3])\n",
    "print(O)"
   ]
  },
  {
   "cell_type": "markdown",
   "id": "b9273c8f-7358-49c3-a812-95d4080651c7",
   "metadata": {},
   "source": [
    "## Transpose"
   ]
  },
  {
   "cell_type": "code",
   "execution_count": 10,
   "id": "21c80499-f543-4741-8e92-5a47a35c7377",
   "metadata": {
    "tags": []
   },
   "outputs": [
    {
     "name": "stdout",
     "output_type": "stream",
     "text": [
      "[[1 2]\n",
      " [3 3]\n",
      " [4 5]]\n"
     ]
    }
   ],
   "source": [
    "print(A.T)"
   ]
  },
  {
   "cell_type": "markdown",
   "id": "8a2e2edf-dd6a-4a8a-8e49-199874aeff72",
   "metadata": {},
   "source": [
    "## Matrix Multiplication"
   ]
  },
  {
   "cell_type": "code",
   "execution_count": 11,
   "id": "2bf62af6-a9d6-4077-aa9f-a231d499722c",
   "metadata": {
    "tags": []
   },
   "outputs": [
    {
     "ename": "NameError",
     "evalue": "name 'v1' is not defined",
     "output_type": "error",
     "traceback": [
      "\u001b[0;31m---------------------------------------------------------------------------\u001b[0m",
      "\u001b[0;31mNameError\u001b[0m                                 Traceback (most recent call last)",
      "Cell \u001b[0;32mIn[11], line 1\u001b[0m\n\u001b[0;32m----> 1\u001b[0m A \u001b[38;5;241m=\u001b[39m np\u001b[38;5;241m.\u001b[39mvstack(v1, v2, v3)\n\u001b[1;32m      2\u001b[0m B \u001b[38;5;241m=\u001b[39m np\u001b[38;5;241m.\u001b[39marray([[\u001b[38;5;241m1\u001b[39m,\u001b[38;5;241m4\u001b[39m,\u001b[38;5;241m-\u001b[39m\u001b[38;5;241m1\u001b[39m],[\u001b[38;5;241m3\u001b[39m,\u001b[38;5;241m2\u001b[39m,\u001b[38;5;241m7\u001b[39m],[\u001b[38;5;241m2\u001b[39m,\u001b[38;5;241m5\u001b[39m,\u001b[38;5;241m5\u001b[39m]])\n\u001b[1;32m      3\u001b[0m \u001b[38;5;28mprint\u001b[39m(A)\n",
      "\u001b[0;31mNameError\u001b[0m: name 'v1' is not defined"
     ]
    }
   ],
   "source": [
    "A = np.vstack(v1, v2, v3)\n",
    "B = np.array([[1,4,-1],[3,2,7],[2,5,5]])\n",
    "print(A)\n"
   ]
  },
  {
   "cell_type": "code",
   "execution_count": 12,
   "id": "14625ac5-ba5c-4cc1-b794-06086fbbbc70",
   "metadata": {
    "tags": []
   },
   "outputs": [
    {
     "name": "stdout",
     "output_type": "stream",
     "text": [
      "[[ 2  1  1]\n",
      " [ 1  1  1]\n",
      " [ 1 -1  2]]\n"
     ]
    }
   ],
   "source": [
    "A = np.array([[2,1,1,],[1,1,1],[1,-1,2]])\n",
    "print(A)"
   ]
  },
  {
   "cell_type": "code",
   "execution_count": 14,
   "id": "f17cbae6-7fc5-4e49-8eed-a567ac808b84",
   "metadata": {
    "tags": []
   },
   "outputs": [
    {
     "ename": "AttributeError",
     "evalue": "'numpy.ndarray' object has no attribute 'getH'",
     "output_type": "error",
     "traceback": [
      "\u001b[0;31m---------------------------------------------------------------------------\u001b[0m",
      "\u001b[0;31mAttributeError\u001b[0m                            Traceback (most recent call last)",
      "Cell \u001b[0;32mIn[14], line 1\u001b[0m\n\u001b[0;32m----> 1\u001b[0m A\u001b[38;5;241m.\u001b[39mgetH()\n",
      "\u001b[0;31mAttributeError\u001b[0m: 'numpy.ndarray' object has no attribute 'getH'"
     ]
    }
   ],
   "source": [
    "A.getH()"
   ]
  },
  {
   "cell_type": "code",
   "execution_count": 15,
   "id": "6dfe8b87-f882-4a4e-8ff7-949799738846",
   "metadata": {
    "tags": []
   },
   "outputs": [
    {
     "name": "stdout",
     "output_type": "stream",
     "text": [
      "Adjoint Matrix:\n",
      "[[ 3. -3.  0.]\n",
      " [-1.  3. -1.]\n",
      " [-2.  3.  1.]]\n"
     ]
    }
   ],
   "source": [
    "\n",
    "def adjoint_matrix(matrix):\n",
    "    n = len(matrix)\n",
    "    adj_matrix = np.zeros((n, n))\n",
    "\n",
    "    for i in range(n):\n",
    "        for j in range(n):\n",
    "            # Calculate the cofactor of (i, j) element\n",
    "            minor_matrix = np.delete(np.delete(matrix, i, axis=0), j, axis=1)\n",
    "            cofactor = ((-1) ** (i + j)) * np.linalg.det(minor_matrix)\n",
    "\n",
    "            # Assign the cofactor to the adjoint matrix\n",
    "            adj_matrix[j, i] = cofactor\n",
    "\n",
    "    return adj_matrix\n",
    "\n",
    "# Your matrix A\n",
    "A = np.array([[2, 1, 1], [1, 1, 1], [1, -1, 2]])\n",
    "\n",
    "# Calculate the adjoint matrix\n",
    "adj_A = adjoint_matrix(A)\n",
    "\n",
    "print(\"Adjoint Matrix:\")\n",
    "print(adj_A)"
   ]
  },
  {
   "cell_type": "code",
   "execution_count": null,
   "id": "a484afaf-ed5c-4cdd-b922-4b9ee9e87c3b",
   "metadata": {},
   "outputs": [],
   "source": []
  }
 ],
 "metadata": {
  "kernelspec": {
   "display_name": "Python 3 (ipykernel)",
   "language": "python",
   "name": "python3"
  },
  "language_info": {
   "codemirror_mode": {
    "name": "ipython",
    "version": 3
   },
   "file_extension": ".py",
   "mimetype": "text/x-python",
   "name": "python",
   "nbconvert_exporter": "python",
   "pygments_lexer": "ipython3",
   "version": "3.11.4"
  }
 },
 "nbformat": 4,
 "nbformat_minor": 5
}
