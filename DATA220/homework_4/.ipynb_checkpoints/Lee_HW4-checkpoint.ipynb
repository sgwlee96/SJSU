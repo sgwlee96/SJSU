{
 "cells": [
  {
   "cell_type": "markdown",
   "id": "eb87e9ac-8bd1-46ed-ae94-a9f7fd2d8357",
   "metadata": {},
   "source": [
    "## **Homework 4**\n",
    "\n",
    "_Sungwon Lee_\n",
    "\n",
    "_017473950_"
   ]
  },
  {
   "cell_type": "code",
   "execution_count": 1,
   "id": "b8dcc090-23b5-429a-9d28-466834f405ed",
   "metadata": {
    "tags": []
   },
   "outputs": [],
   "source": [
    "from scipy.stats import *\n",
    "import pandas as pd\n",
    "import numpy as np"
   ]
  },
  {
   "cell_type": "markdown",
   "id": "0534dfbe-436f-42b9-a71b-fbdc090e99a8",
   "metadata": {},
   "source": [
    "### 1."
   ]
  },
  {
   "cell_type": "code",
   "execution_count": 5,
   "id": "43eb893c-aa63-40a8-8592-3f2532d194fb",
   "metadata": {
    "tags": []
   },
   "outputs": [
    {
     "data": {
      "text/html": [
       "<div>\n",
       "<style scoped>\n",
       "    .dataframe tbody tr th:only-of-type {\n",
       "        vertical-align: middle;\n",
       "    }\n",
       "\n",
       "    .dataframe tbody tr th {\n",
       "        vertical-align: top;\n",
       "    }\n",
       "\n",
       "    .dataframe thead th {\n",
       "        text-align: right;\n",
       "    }\n",
       "</style>\n",
       "<table border=\"1\" class=\"dataframe\">\n",
       "  <thead>\n",
       "    <tr style=\"text-align: right;\">\n",
       "      <th></th>\n",
       "      <th>Unnamed: 0</th>\n",
       "      <th>Age</th>\n",
       "      <th>Income</th>\n",
       "      <th>Education</th>\n",
       "      <th>PersonalLoan</th>\n",
       "    </tr>\n",
       "  </thead>\n",
       "  <tbody>\n",
       "    <tr>\n",
       "      <th>0</th>\n",
       "      <td>0</td>\n",
       "      <td>25</td>\n",
       "      <td>49</td>\n",
       "      <td>1</td>\n",
       "      <td>0</td>\n",
       "    </tr>\n",
       "    <tr>\n",
       "      <th>1</th>\n",
       "      <td>1</td>\n",
       "      <td>45</td>\n",
       "      <td>34</td>\n",
       "      <td>1</td>\n",
       "      <td>0</td>\n",
       "    </tr>\n",
       "    <tr>\n",
       "      <th>2</th>\n",
       "      <td>2</td>\n",
       "      <td>39</td>\n",
       "      <td>11</td>\n",
       "      <td>1</td>\n",
       "      <td>0</td>\n",
       "    </tr>\n",
       "    <tr>\n",
       "      <th>3</th>\n",
       "      <td>3</td>\n",
       "      <td>35</td>\n",
       "      <td>100</td>\n",
       "      <td>2</td>\n",
       "      <td>0</td>\n",
       "    </tr>\n",
       "    <tr>\n",
       "      <th>4</th>\n",
       "      <td>4</td>\n",
       "      <td>35</td>\n",
       "      <td>45</td>\n",
       "      <td>2</td>\n",
       "      <td>0</td>\n",
       "    </tr>\n",
       "  </tbody>\n",
       "</table>\n",
       "</div>"
      ],
      "text/plain": [
       "   Unnamed: 0  Age  Income  Education  PersonalLoan\n",
       "0           0   25      49          1             0\n",
       "1           1   45      34          1             0\n",
       "2           2   39      11          1             0\n",
       "3           3   35     100          2             0\n",
       "4           4   35      45          2             0"
      ]
     },
     "execution_count": 5,
     "metadata": {},
     "output_type": "execute_result"
    }
   ],
   "source": [
    "bankdf = pd.read_csv(\"Bank.csv\")\n",
    "bankdf.head()\n"
   ]
  },
  {
   "cell_type": "markdown",
   "id": "e8592e27-9564-4f55-808d-682d0acf4d7b",
   "metadata": {},
   "source": [
    "### 2."
   ]
  },
  {
   "cell_type": "code",
   "execution_count": 6,
   "id": "22f1ac2c-e3be-4747-a236-53c6e24c25c0",
   "metadata": {
    "tags": []
   },
   "outputs": [],
   "source": [
    "LoanYes = bankdf[bankdf[\"PersonalLoan\"] == 1]\n",
    "LoanNo = bankdf[bankdf[\"PersonalLoan\"] == 0]"
   ]
  },
  {
   "cell_type": "code",
   "execution_count": 7,
   "id": "e04a1620-70ff-42e8-a2f2-347f8ce6b28b",
   "metadata": {
    "tags": []
   },
   "outputs": [
    {
     "data": {
      "text/html": [
       "<div>\n",
       "<style scoped>\n",
       "    .dataframe tbody tr th:only-of-type {\n",
       "        vertical-align: middle;\n",
       "    }\n",
       "\n",
       "    .dataframe tbody tr th {\n",
       "        vertical-align: top;\n",
       "    }\n",
       "\n",
       "    .dataframe thead th {\n",
       "        text-align: right;\n",
       "    }\n",
       "</style>\n",
       "<table border=\"1\" class=\"dataframe\">\n",
       "  <thead>\n",
       "    <tr style=\"text-align: right;\">\n",
       "      <th></th>\n",
       "      <th>Unnamed: 0</th>\n",
       "      <th>Age</th>\n",
       "      <th>Income</th>\n",
       "      <th>Education</th>\n",
       "      <th>PersonalLoan</th>\n",
       "    </tr>\n",
       "  </thead>\n",
       "  <tbody>\n",
       "    <tr>\n",
       "      <th>9</th>\n",
       "      <td>9</td>\n",
       "      <td>34</td>\n",
       "      <td>180</td>\n",
       "      <td>3</td>\n",
       "      <td>1</td>\n",
       "    </tr>\n",
       "    <tr>\n",
       "      <th>16</th>\n",
       "      <td>16</td>\n",
       "      <td>38</td>\n",
       "      <td>130</td>\n",
       "      <td>3</td>\n",
       "      <td>1</td>\n",
       "    </tr>\n",
       "    <tr>\n",
       "      <th>18</th>\n",
       "      <td>18</td>\n",
       "      <td>46</td>\n",
       "      <td>193</td>\n",
       "      <td>3</td>\n",
       "      <td>1</td>\n",
       "    </tr>\n",
       "    <tr>\n",
       "      <th>29</th>\n",
       "      <td>29</td>\n",
       "      <td>38</td>\n",
       "      <td>119</td>\n",
       "      <td>2</td>\n",
       "      <td>1</td>\n",
       "    </tr>\n",
       "    <tr>\n",
       "      <th>38</th>\n",
       "      <td>38</td>\n",
       "      <td>42</td>\n",
       "      <td>141</td>\n",
       "      <td>3</td>\n",
       "      <td>1</td>\n",
       "    </tr>\n",
       "  </tbody>\n",
       "</table>\n",
       "</div>"
      ],
      "text/plain": [
       "    Unnamed: 0  Age  Income  Education  PersonalLoan\n",
       "9            9   34     180          3             1\n",
       "16          16   38     130          3             1\n",
       "18          18   46     193          3             1\n",
       "29          29   38     119          2             1\n",
       "38          38   42     141          3             1"
      ]
     },
     "execution_count": 7,
     "metadata": {},
     "output_type": "execute_result"
    }
   ],
   "source": [
    "LoanYes.head()"
   ]
  },
  {
   "cell_type": "code",
   "execution_count": 8,
   "id": "98f4455d-b158-4805-bc7d-56175d0ca5da",
   "metadata": {
    "tags": []
   },
   "outputs": [
    {
     "data": {
      "text/html": [
       "<div>\n",
       "<style scoped>\n",
       "    .dataframe tbody tr th:only-of-type {\n",
       "        vertical-align: middle;\n",
       "    }\n",
       "\n",
       "    .dataframe tbody tr th {\n",
       "        vertical-align: top;\n",
       "    }\n",
       "\n",
       "    .dataframe thead th {\n",
       "        text-align: right;\n",
       "    }\n",
       "</style>\n",
       "<table border=\"1\" class=\"dataframe\">\n",
       "  <thead>\n",
       "    <tr style=\"text-align: right;\">\n",
       "      <th></th>\n",
       "      <th>Unnamed: 0</th>\n",
       "      <th>Age</th>\n",
       "      <th>Income</th>\n",
       "      <th>Education</th>\n",
       "      <th>PersonalLoan</th>\n",
       "    </tr>\n",
       "  </thead>\n",
       "  <tbody>\n",
       "    <tr>\n",
       "      <th>0</th>\n",
       "      <td>0</td>\n",
       "      <td>25</td>\n",
       "      <td>49</td>\n",
       "      <td>1</td>\n",
       "      <td>0</td>\n",
       "    </tr>\n",
       "    <tr>\n",
       "      <th>1</th>\n",
       "      <td>1</td>\n",
       "      <td>45</td>\n",
       "      <td>34</td>\n",
       "      <td>1</td>\n",
       "      <td>0</td>\n",
       "    </tr>\n",
       "    <tr>\n",
       "      <th>2</th>\n",
       "      <td>2</td>\n",
       "      <td>39</td>\n",
       "      <td>11</td>\n",
       "      <td>1</td>\n",
       "      <td>0</td>\n",
       "    </tr>\n",
       "    <tr>\n",
       "      <th>3</th>\n",
       "      <td>3</td>\n",
       "      <td>35</td>\n",
       "      <td>100</td>\n",
       "      <td>2</td>\n",
       "      <td>0</td>\n",
       "    </tr>\n",
       "    <tr>\n",
       "      <th>4</th>\n",
       "      <td>4</td>\n",
       "      <td>35</td>\n",
       "      <td>45</td>\n",
       "      <td>2</td>\n",
       "      <td>0</td>\n",
       "    </tr>\n",
       "  </tbody>\n",
       "</table>\n",
       "</div>"
      ],
      "text/plain": [
       "   Unnamed: 0  Age  Income  Education  PersonalLoan\n",
       "0           0   25      49          1             0\n",
       "1           1   45      34          1             0\n",
       "2           2   39      11          1             0\n",
       "3           3   35     100          2             0\n",
       "4           4   35      45          2             0"
      ]
     },
     "execution_count": 8,
     "metadata": {},
     "output_type": "execute_result"
    }
   ],
   "source": [
    "LoanNo.head()"
   ]
  },
  {
   "cell_type": "markdown",
   "id": "3a1350a5-ec67-4fe3-8fa3-8cf9f983828c",
   "metadata": {},
   "source": [
    "### 3-a."
   ]
  },
  {
   "cell_type": "markdown",
   "id": "62d1ff72-1bf8-4974-bc70-f3d4473ca403",
   "metadata": {},
   "source": [
    "Show your results for a 95% confidence level (p=0.05). \\\n",
    "(Note: your Null hypothesis (H0) is that the population mean of the two groups is the same (no difference)"
   ]
  },
  {
   "cell_type": "markdown",
   "id": "23a06b00-85d3-4e6a-98a4-7b8cb50382e3",
   "metadata": {},
   "source": [
    "#### Age"
   ]
  },
  {
   "cell_type": "code",
   "execution_count": 9,
   "id": "8f213c8a-75e0-410d-8d96-8bbc540bb352",
   "metadata": {
    "tags": []
   },
   "outputs": [
    {
     "name": "stdout",
     "output_type": "stream",
     "text": [
      "t_c = -0.546, p = 0.585\n",
      "Cannot reject H0 : No difference\n"
     ]
    }
   ],
   "source": [
    "tstat, p = ttest_ind(LoanYes[\"Age\"], LoanNo[\"Age\"])\n",
    "print('t_c = %.3f, p = %.3f' % (tstat, p))\n",
    "\n",
    "if p > 0.05:\n",
    "    print(\"Cannot reject H0 : No difference\")\n",
    "else:\n",
    "    print(\"Can reject H0 : Difference\")"
   ]
  },
  {
   "cell_type": "markdown",
   "id": "f6619768-a920-474b-97e8-19fd4ae2c61f",
   "metadata": {},
   "source": [
    "#### Income"
   ]
  },
  {
   "cell_type": "code",
   "execution_count": 11,
   "id": "48fea457-5e62-43c1-9567-e2d4e9b46d40",
   "metadata": {
    "tags": []
   },
   "outputs": [
    {
     "name": "stdout",
     "output_type": "stream",
     "text": [
      "t_c = 41.085, p = 0.000\n",
      "Can reject H0 : Difference\n"
     ]
    }
   ],
   "source": [
    "tstat, p = ttest_ind(LoanYes[\"Income\"], LoanNo[\"Income\"])\n",
    "print('t_c = %.3f, p = %.3f' % (tstat, p))\n",
    "\n",
    "if p > 0.05:\n",
    "    print(\"Cannot reject H0 : No difference\")\n",
    "else:\n",
    "    print(\"Can reject H0 : Difference\")"
   ]
  },
  {
   "cell_type": "markdown",
   "id": "ae28782d-697f-401c-9dd9-57d85368fb5a",
   "metadata": {},
   "source": [
    "#### Education"
   ]
  },
  {
   "cell_type": "code",
   "execution_count": 12,
   "id": "430bbe9f-7174-4b4c-a4cf-814f57bef7d8",
   "metadata": {
    "tags": []
   },
   "outputs": [
    {
     "name": "stdout",
     "output_type": "stream",
     "text": [
      "t_c = 9.757, p = 0.000\n",
      "Can reject H0 : Difference\n"
     ]
    }
   ],
   "source": [
    "tstat, p = ttest_ind(LoanYes[\"Education\"], LoanNo[\"Education\"])\n",
    "print('t_c = %.3f, p = %.3f' % (tstat, p))\n",
    "\n",
    "if p > 0.05:\n",
    "    print(\"Cannot reject H0 : No difference\")\n",
    "else:\n",
    "    print(\"Can reject H0 : Difference\")"
   ]
  },
  {
   "cell_type": "markdown",
   "id": "e41565e4-85cf-45c3-ba59-02cffdc9d0bc",
   "metadata": {},
   "source": [
    "### 3-b."
   ]
  },
  {
   "cell_type": "markdown",
   "id": "9a2748be-baf2-4402-bd1e-b06c8170dd7a",
   "metadata": {},
   "source": [
    "Show your results for a 99% confidence level (p=0.05). \\\n",
    "(Note: your Null hypothesis (H0) is that the population mean of the two groups is the same (no difference)"
   ]
  },
  {
   "cell_type": "markdown",
   "id": "0e18f762-b50b-4c57-b9fa-dc45d1ee8b5d",
   "metadata": {},
   "source": [
    "#### Age"
   ]
  },
  {
   "cell_type": "code",
   "execution_count": 13,
   "id": "0b425976-4b37-4954-8b34-20a3621456af",
   "metadata": {
    "tags": []
   },
   "outputs": [
    {
     "name": "stdout",
     "output_type": "stream",
     "text": [
      "t_c = -0.546, p = 0.585\n",
      "Cannot reject H0 : No difference\n"
     ]
    }
   ],
   "source": [
    "tstat, p = ttest_ind(LoanYes[\"Age\"], LoanNo[\"Age\"])\n",
    "print('t_c = %.3f, p = %.3f' % (tstat, p))\n",
    "\n",
    "if p > 0.01:\n",
    "    print(\"Cannot reject H0 : No difference\")\n",
    "else:\n",
    "    print(\"Can reject H0 : Difference\")"
   ]
  },
  {
   "cell_type": "markdown",
   "id": "a0d15e49-cfac-4fef-bb17-4629fc1b01f2",
   "metadata": {},
   "source": [
    "#### Income"
   ]
  },
  {
   "cell_type": "code",
   "execution_count": 14,
   "id": "364843bb-cdbe-43c0-b2c2-7f70ace1c95e",
   "metadata": {
    "tags": []
   },
   "outputs": [
    {
     "name": "stdout",
     "output_type": "stream",
     "text": [
      "t_c = 41.085, p = 0.000\n",
      "Can reject H0 : Difference\n"
     ]
    }
   ],
   "source": [
    "tstat, p = ttest_ind(LoanYes[\"Income\"], LoanNo[\"Income\"])\n",
    "print('t_c = %.3f, p = %.3f' % (tstat, p))\n",
    "\n",
    "if p > 0.05:\n",
    "    print(\"Cannot reject H0 : No difference\")\n",
    "else:\n",
    "    print(\"Can reject H0 : Difference\")"
   ]
  },
  {
   "cell_type": "markdown",
   "id": "4ec54d2a-fd86-4273-a34d-4ea5da84ef17",
   "metadata": {},
   "source": [
    "#### Education"
   ]
  },
  {
   "cell_type": "code",
   "execution_count": 15,
   "id": "d99b0718-4569-4593-9fdc-ea141a36bf69",
   "metadata": {
    "tags": []
   },
   "outputs": [
    {
     "name": "stdout",
     "output_type": "stream",
     "text": [
      "t_c = 9.757, p = 0.000\n",
      "Can reject H0 : Difference\n"
     ]
    }
   ],
   "source": [
    "tstat, p = ttest_ind(LoanYes[\"Education\"], LoanNo[\"Education\"])\n",
    "print('t_c = %.3f, p = %.3f' % (tstat, p))\n",
    "\n",
    "if p > 0.05:\n",
    "    print(\"Cannot reject H0 : No difference\")\n",
    "else:\n",
    "    print(\"Can reject H0 : Difference\")"
   ]
  },
  {
   "cell_type": "code",
   "execution_count": null,
   "id": "13f37d06-164e-43fe-9cca-0166a0e7340b",
   "metadata": {},
   "outputs": [],
   "source": []
  }
 ],
 "metadata": {
  "kernelspec": {
   "display_name": "Python 3 (ipykernel)",
   "language": "python",
   "name": "python3"
  },
  "language_info": {
   "codemirror_mode": {
    "name": "ipython",
    "version": 3
   },
   "file_extension": ".py",
   "mimetype": "text/x-python",
   "name": "python",
   "nbconvert_exporter": "python",
   "pygments_lexer": "ipython3",
   "version": "3.11.4"
  }
 },
 "nbformat": 4,
 "nbformat_minor": 5
}
