{
 "cells": [
  {
   "cell_type": "code",
   "execution_count": 1,
   "id": "745d3dcb-fa6c-4f01-a645-d873cf95d634",
   "metadata": {
    "tags": []
   },
   "outputs": [],
   "source": [
    "import pandas as pd\n",
    "import numpy as np"
   ]
  },
  {
   "cell_type": "markdown",
   "id": "0b0dc60b-692e-4d0b-9669-85b387feb8e6",
   "metadata": {
    "tags": []
   },
   "source": [
    "# Part 1"
   ]
  },
  {
   "cell_type": "code",
   "execution_count": 2,
   "id": "2bd5ef68-d339-44cf-ae13-a3c10d34c701",
   "metadata": {
    "tags": []
   },
   "outputs": [],
   "source": [
    "heartTraindf = pd.read_csv(\"Part1_dataset/heart-train.csv\")\n",
    "heartTestdf = pd.read_csv(\"Part1_dataset/heart-test.csv\")"
   ]
  },
  {
   "cell_type": "markdown",
   "id": "4a95a031-b6bc-4509-80be-5e1fa1dbc425",
   "metadata": {},
   "source": [
    "### 1. Identify the dataset columns into nominal, categorical, continuous, etc. categories"
   ]
  },
  {
   "cell_type": "code",
   "execution_count": 9,
   "id": "a3cab2f9-b259-4cf1-910c-2353194eacef",
   "metadata": {
    "tags": []
   },
   "outputs": [
    {
     "data": {
      "text/html": [
       "<div>\n",
       "<style scoped>\n",
       "    .dataframe tbody tr th:only-of-type {\n",
       "        vertical-align: middle;\n",
       "    }\n",
       "\n",
       "    .dataframe tbody tr th {\n",
       "        vertical-align: top;\n",
       "    }\n",
       "\n",
       "    .dataframe thead th {\n",
       "        text-align: right;\n",
       "    }\n",
       "</style>\n",
       "<table border=\"1\" class=\"dataframe\">\n",
       "  <thead>\n",
       "    <tr style=\"text-align: right;\">\n",
       "      <th></th>\n",
       "      <th>sbp</th>\n",
       "      <th>tobacco</th>\n",
       "      <th>ldl</th>\n",
       "      <th>adiposity</th>\n",
       "      <th>famhist</th>\n",
       "      <th>typea</th>\n",
       "      <th>obesity</th>\n",
       "      <th>alcohol</th>\n",
       "      <th>age</th>\n",
       "      <th>chd</th>\n",
       "    </tr>\n",
       "  </thead>\n",
       "  <tbody>\n",
       "    <tr>\n",
       "      <th>0</th>\n",
       "      <td>134</td>\n",
       "      <td>13.60</td>\n",
       "      <td>3.50</td>\n",
       "      <td>27.78</td>\n",
       "      <td>Present</td>\n",
       "      <td>60</td>\n",
       "      <td>25.99</td>\n",
       "      <td>57.34</td>\n",
       "      <td>49</td>\n",
       "      <td>1</td>\n",
       "    </tr>\n",
       "    <tr>\n",
       "      <th>1</th>\n",
       "      <td>132</td>\n",
       "      <td>6.20</td>\n",
       "      <td>6.47</td>\n",
       "      <td>36.21</td>\n",
       "      <td>Present</td>\n",
       "      <td>62</td>\n",
       "      <td>30.77</td>\n",
       "      <td>14.14</td>\n",
       "      <td>45</td>\n",
       "      <td>0</td>\n",
       "    </tr>\n",
       "    <tr>\n",
       "      <th>2</th>\n",
       "      <td>142</td>\n",
       "      <td>4.05</td>\n",
       "      <td>3.38</td>\n",
       "      <td>16.20</td>\n",
       "      <td>Absent</td>\n",
       "      <td>59</td>\n",
       "      <td>20.81</td>\n",
       "      <td>2.62</td>\n",
       "      <td>38</td>\n",
       "      <td>0</td>\n",
       "    </tr>\n",
       "    <tr>\n",
       "      <th>3</th>\n",
       "      <td>114</td>\n",
       "      <td>4.08</td>\n",
       "      <td>4.59</td>\n",
       "      <td>14.60</td>\n",
       "      <td>Present</td>\n",
       "      <td>62</td>\n",
       "      <td>23.11</td>\n",
       "      <td>6.72</td>\n",
       "      <td>58</td>\n",
       "      <td>1</td>\n",
       "    </tr>\n",
       "    <tr>\n",
       "      <th>4</th>\n",
       "      <td>114</td>\n",
       "      <td>0.00</td>\n",
       "      <td>3.83</td>\n",
       "      <td>19.40</td>\n",
       "      <td>Present</td>\n",
       "      <td>49</td>\n",
       "      <td>24.86</td>\n",
       "      <td>2.49</td>\n",
       "      <td>29</td>\n",
       "      <td>0</td>\n",
       "    </tr>\n",
       "  </tbody>\n",
       "</table>\n",
       "</div>"
      ],
      "text/plain": [
       "   sbp  tobacco   ldl  adiposity  famhist  typea  obesity  alcohol  age  chd\n",
       "0  134    13.60  3.50      27.78  Present     60    25.99    57.34   49    1\n",
       "1  132     6.20  6.47      36.21  Present     62    30.77    14.14   45    0\n",
       "2  142     4.05  3.38      16.20   Absent     59    20.81     2.62   38    0\n",
       "3  114     4.08  4.59      14.60  Present     62    23.11     6.72   58    1\n",
       "4  114     0.00  3.83      19.40  Present     49    24.86     2.49   29    0"
      ]
     },
     "execution_count": 9,
     "metadata": {},
     "output_type": "execute_result"
    }
   ],
   "source": [
    "heartTraindf.head()"
   ]
  },
  {
   "cell_type": "code",
   "execution_count": 10,
   "id": "e6ac9328-37da-4dde-b8ef-12f5f11d7c3e",
   "metadata": {
    "tags": []
   },
   "outputs": [
    {
     "data": {
      "text/plain": [
       "sbp            int64\n",
       "tobacco      float64\n",
       "ldl          float64\n",
       "adiposity    float64\n",
       "famhist       object\n",
       "typea          int64\n",
       "obesity      float64\n",
       "alcohol      float64\n",
       "age            int64\n",
       "chd            int64\n",
       "dtype: object"
      ]
     },
     "execution_count": 10,
     "metadata": {},
     "output_type": "execute_result"
    }
   ],
   "source": [
    "heartTraindf.dtypes"
   ]
  },
  {
   "cell_type": "markdown",
   "id": "387d1e06",
   "metadata": {},
   "source": [
    "By observing the values of each columns, we could conclude as below:\n",
    "\n",
    "sbp (Systolic blood pressure):\n",
    " - Datatype: Continuous\n",
    "\n",
    "tobacco (Cumulative tobacco consumption, in kg):\n",
    " - Datatype: Continuous\n",
    "\n",
    "ldl (Low-density lipoprotein cholesterol):\n",
    "  - Datatype: Continuous\n",
    "\n",
    "adiposity (Adipose tissue concentration):\n",
    "  - Datatype: Continuous\n",
    "\n",
    "famhist (Family history of heart disease; 1=Present, 0=Absent):\n",
    "  - Datatype: Nominal\n",
    "\n",
    "typea (Score on a test designed to measure type-A behavior):\n",
    "  - Datatype: Continuous\n",
    "\n",
    "obesity (Obesity):\n",
    "  - Datatype: Continuous\n",
    "\n",
    "alcohol (Current consumption of alcohol):\n",
    "  - Datatype: Continuous\n",
    "\n",
    "age (Age of subject):\n",
    "  - Datatype: Continuous\n",
    "\n",
    "chd (Coronary heart disease; 1=Yes, 0=No):\n",
    "  - Datatype: Nominal\n",
    "\n",
    "\n",
    "_In the case of `Age` column, it sometimes considered as discrete variable. However, in this analysis, we considered it to be continouous variable._ "
   ]
  },
  {
   "cell_type": "markdown",
   "id": "e6a4af8c",
   "metadata": {},
   "source": [
    "### 2. Present insights about the data."
   ]
  },
  {
   "cell_type": "code",
   "execution_count": 22,
   "id": "973897b2",
   "metadata": {},
   "outputs": [
    {
     "data": {
      "text/html": [
       "<div>\n",
       "<style scoped>\n",
       "    .dataframe tbody tr th:only-of-type {\n",
       "        vertical-align: middle;\n",
       "    }\n",
       "\n",
       "    .dataframe tbody tr th {\n",
       "        vertical-align: top;\n",
       "    }\n",
       "\n",
       "    .dataframe thead th {\n",
       "        text-align: right;\n",
       "    }\n",
       "</style>\n",
       "<table border=\"1\" class=\"dataframe\">\n",
       "  <thead>\n",
       "    <tr style=\"text-align: right;\">\n",
       "      <th></th>\n",
       "      <th>sbp</th>\n",
       "      <th>tobacco</th>\n",
       "      <th>ldl</th>\n",
       "      <th>adiposity</th>\n",
       "      <th>typea</th>\n",
       "      <th>obesity</th>\n",
       "      <th>alcohol</th>\n",
       "      <th>age</th>\n",
       "    </tr>\n",
       "  </thead>\n",
       "  <tbody>\n",
       "    <tr>\n",
       "      <th>count</th>\n",
       "      <td>412.000000</td>\n",
       "      <td>412.000000</td>\n",
       "      <td>412.000000</td>\n",
       "      <td>412.000000</td>\n",
       "      <td>412.000000</td>\n",
       "      <td>412.000000</td>\n",
       "      <td>412.000000</td>\n",
       "      <td>412.000000</td>\n",
       "    </tr>\n",
       "    <tr>\n",
       "      <th>mean</th>\n",
       "      <td>139.240291</td>\n",
       "      <td>3.666262</td>\n",
       "      <td>4.589539</td>\n",
       "      <td>25.151214</td>\n",
       "      <td>52.135922</td>\n",
       "      <td>25.802112</td>\n",
       "      <td>18.030073</td>\n",
       "      <td>42.686893</td>\n",
       "    </tr>\n",
       "    <tr>\n",
       "      <th>std</th>\n",
       "      <td>20.451903</td>\n",
       "      <td>4.518501</td>\n",
       "      <td>1.883744</td>\n",
       "      <td>7.740794</td>\n",
       "      <td>9.592727</td>\n",
       "      <td>4.081745</td>\n",
       "      <td>25.298909</td>\n",
       "      <td>15.129338</td>\n",
       "    </tr>\n",
       "    <tr>\n",
       "      <th>min</th>\n",
       "      <td>101.000000</td>\n",
       "      <td>0.000000</td>\n",
       "      <td>0.980000</td>\n",
       "      <td>6.740000</td>\n",
       "      <td>20.000000</td>\n",
       "      <td>17.890000</td>\n",
       "      <td>0.000000</td>\n",
       "      <td>15.000000</td>\n",
       "    </tr>\n",
       "    <tr>\n",
       "      <th>25%</th>\n",
       "      <td>125.500000</td>\n",
       "      <td>0.037500</td>\n",
       "      <td>3.240000</td>\n",
       "      <td>19.397500</td>\n",
       "      <td>46.000000</td>\n",
       "      <td>22.737500</td>\n",
       "      <td>0.447500</td>\n",
       "      <td>30.750000</td>\n",
       "    </tr>\n",
       "    <tr>\n",
       "      <th>50%</th>\n",
       "      <td>136.000000</td>\n",
       "      <td>1.805000</td>\n",
       "      <td>4.225000</td>\n",
       "      <td>26.090000</td>\n",
       "      <td>52.000000</td>\n",
       "      <td>25.635000</td>\n",
       "      <td>7.510000</td>\n",
       "      <td>45.000000</td>\n",
       "    </tr>\n",
       "    <tr>\n",
       "      <th>75%</th>\n",
       "      <td>148.000000</td>\n",
       "      <td>5.850000</td>\n",
       "      <td>5.527500</td>\n",
       "      <td>30.755000</td>\n",
       "      <td>58.000000</td>\n",
       "      <td>28.167500</td>\n",
       "      <td>24.960000</td>\n",
       "      <td>57.000000</td>\n",
       "    </tr>\n",
       "    <tr>\n",
       "      <th>max</th>\n",
       "      <td>218.000000</td>\n",
       "      <td>27.400000</td>\n",
       "      <td>14.160000</td>\n",
       "      <td>42.490000</td>\n",
       "      <td>73.000000</td>\n",
       "      <td>45.720000</td>\n",
       "      <td>145.290000</td>\n",
       "      <td>64.000000</td>\n",
       "    </tr>\n",
       "  </tbody>\n",
       "</table>\n",
       "</div>"
      ],
      "text/plain": [
       "              sbp     tobacco         ldl   adiposity       typea     obesity  \\\n",
       "count  412.000000  412.000000  412.000000  412.000000  412.000000  412.000000   \n",
       "mean   139.240291    3.666262    4.589539   25.151214   52.135922   25.802112   \n",
       "std     20.451903    4.518501    1.883744    7.740794    9.592727    4.081745   \n",
       "min    101.000000    0.000000    0.980000    6.740000   20.000000   17.890000   \n",
       "25%    125.500000    0.037500    3.240000   19.397500   46.000000   22.737500   \n",
       "50%    136.000000    1.805000    4.225000   26.090000   52.000000   25.635000   \n",
       "75%    148.000000    5.850000    5.527500   30.755000   58.000000   28.167500   \n",
       "max    218.000000   27.400000   14.160000   42.490000   73.000000   45.720000   \n",
       "\n",
       "          alcohol         age  \n",
       "count  412.000000  412.000000  \n",
       "mean    18.030073   42.686893  \n",
       "std     25.298909   15.129338  \n",
       "min      0.000000   15.000000  \n",
       "25%      0.447500   30.750000  \n",
       "50%      7.510000   45.000000  \n",
       "75%     24.960000   57.000000  \n",
       "max    145.290000   64.000000  "
      ]
     },
     "execution_count": 22,
     "metadata": {},
     "output_type": "execute_result"
    }
   ],
   "source": [
    "# general statistics for all the coninous columns.\n",
    "\n",
    "heartTraindf.iloc[:,:-1].describe()"
   ]
  },
  {
   "cell_type": "code",
   "execution_count": 26,
   "id": "61237c29",
   "metadata": {},
   "outputs": [
    {
     "name": "stdout",
     "output_type": "stream",
     "text": [
      "Absent     239\n",
      "Present    173\n",
      "Name: famhist, dtype: int64\n",
      "0    275\n",
      "1    137\n",
      "Name: chd, dtype: int64\n"
     ]
    }
   ],
   "source": [
    "print(heartTraindf['famhist'].value_counts())\n",
    "print(heartTraindf['chd'].value_counts())"
   ]
  },
  {
   "cell_type": "markdown",
   "id": "86a54f33",
   "metadata": {},
   "source": [
    "_**Insight**_\n",
    "\n",
    "\n",
    "\n",
    "#### Insights from Simple Statistics:\n",
    "sbp (Systolic Blood Pressure):\n",
    " - The average systolic blood pressure is around 139.24 with a standard deviation of 20.45.\n",
    " - The minimum blood pressure recorded is 101, and the maximum is 218.\n",
    "\n",
    "tobacco (Cumulative Tobacco Consumption):\n",
    " - The average cumulative tobacco consumption is approximately 3.67 kg, with a standard deviation of 4.52.\n",
    " - There is a wide range of tobacco consumption, from 0 to 27.4 kg.\n",
    "\n",
    "ldl (Low-Density Lipoprotein Cholesterol):\n",
    " - The average LDL cholesterol level is around 4.59, with a standard deviation of 1.88.\n",
    " - The minimum LDL cholesterol level is 0.98, and the maximum is 14.16.\n",
    "\n",
    "adiposity (Adipose Tissue Concentration):\n",
    " - The average adiposity is 25.15, with a standard deviation of 7.74.\n",
    " - Adiposity ranges from 6.74 to 42.49.\n",
    "\n",
    "typea (Type-A Behavior Score):\n",
    " - The average type-A behavior score is 52.14, with a standard deviation of 9.59.\n",
    " - Scores range from 20 to 73.\n",
    "\n",
    "obesity:\n",
    " - The average obesity level is 25.80, with a standard deviation of 4.08.\n",
    " - Obesity levels range from 17.89 to 45.72.\n",
    "\n",
    "alcohol (Alcohol Consumption):\n",
    " - The average alcohol consumption is 18.03, with a wide standard deviation of 25.30.\n",
    "\n",
    "Some individuals have very high alcohol consumption, as indicated by the maximum value of 145.29.\n",
    "age:\n",
    " - The average age is 42.69, with a standard deviation of 15.13.\n",
    " - Age ranges from 15 to 64.\n",
    "\n",
    "#### Insights from Value Counts:\n",
    "famhist (Family History of Heart Disease):\n",
    " - 239 individuals have no family history of heart disease (Absent), while 173 have a family history (Present).\n",
    "\n",
    "chd (Coronary Heart Disease):\n",
    " - 275 individuals do not have coronary heart disease (chd=0), while 137 individuals have coronary heart disease (chd=1)."
   ]
  },
  {
   "cell_type": "markdown",
   "id": "4b494729",
   "metadata": {},
   "source": [
    "### 3. Find the number of null values for each column"
   ]
  },
  {
   "cell_type": "code",
   "execution_count": 36,
   "id": "0f920f7e",
   "metadata": {},
   "outputs": [
    {
     "data": {
      "text/plain": [
       "sbp          0\n",
       "tobacco      0\n",
       "ldl          0\n",
       "adiposity    0\n",
       "famhist      0\n",
       "typea        0\n",
       "obesity      0\n",
       "alcohol      0\n",
       "age          0\n",
       "chd          0\n",
       "dtype: int64"
      ]
     },
     "execution_count": 36,
     "metadata": {},
     "output_type": "execute_result"
    }
   ],
   "source": [
    "heartTraindf.isnull().sum()"
   ]
  },
  {
   "cell_type": "code",
   "execution_count": 37,
   "id": "09bae04c",
   "metadata": {},
   "outputs": [
    {
     "data": {
      "text/plain": [
       "ID           0\n",
       "sbp          0\n",
       "tobacco      0\n",
       "ldl          0\n",
       "adiposity    0\n",
       "famhist      0\n",
       "typea        0\n",
       "obesity      0\n",
       "alcohol      0\n",
       "age          0\n",
       "dtype: int64"
      ]
     },
     "execution_count": 37,
     "metadata": {},
     "output_type": "execute_result"
    }
   ],
   "source": [
    "heartTestdf.isnull().sum()"
   ]
  },
  {
   "cell_type": "markdown",
   "id": "928dc9b8",
   "metadata": {},
   "source": [
    "### 4. Know about the patients:"
   ]
  },
  {
   "cell_type": "code",
   "execution_count": null,
   "id": "986a32ee",
   "metadata": {},
   "outputs": [],
   "source": []
  }
 ],
 "metadata": {
  "kernelspec": {
   "display_name": "Python 3 (ipykernel)",
   "language": "python",
   "name": "python3"
  },
  "language_info": {
   "codemirror_mode": {
    "name": "ipython",
    "version": 3
   },
   "file_extension": ".py",
   "mimetype": "text/x-python",
   "name": "python",
   "nbconvert_exporter": "python",
   "pygments_lexer": "ipython3",
   "version": "3.11.4"
  }
 },
 "nbformat": 4,
 "nbformat_minor": 5
}
