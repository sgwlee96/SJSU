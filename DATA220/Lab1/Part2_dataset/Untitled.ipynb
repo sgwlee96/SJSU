{
 "cells": [
  {
   "cell_type": "code",
   "execution_count": 1,
   "id": "d64f9c29-7f23-4618-ad89-b1cfbcd471b2",
   "metadata": {
    "tags": []
   },
   "outputs": [
    {
     "name": "stdout",
     "output_type": "stream",
     "text": [
      "[1, 3, 7, 9]\n"
     ]
    }
   ],
   "source": [
    "\n",
    "seq = [0,1,3,4,6,7,9,10]\n",
    "\n",
    "result = filter(lambda x: x % 2 !=0, seq)\n",
    "\n",
    "print(list(result))"
   ]
  },
  {
   "cell_type": "code",
   "execution_count": 4,
   "id": "935ff352-a3b8-41f7-9d90-d66f1b82f681",
   "metadata": {
    "tags": []
   },
   "outputs": [
    {
     "name": "stdout",
     "output_type": "stream",
     "text": [
      "python\n"
     ]
    }
   ],
   "source": [
    "def code(str):\n",
    "\n",
    "     alphabet = \"abcdefghijklmnopqrstuvwxyz\"\n",
    "\n",
    "     tmp = \"\" \n",
    "\n",
    "     for ch in str:\n",
    "\n",
    "        x = alphabet.find(ch)\n",
    "\n",
    "        y = (x + 13) % 26\n",
    "\n",
    "        tmp = tmp + alphabet[y]     \n",
    "\n",
    "     return tmp\n",
    "\n",
    "print(code(\"clguba\"))"
   ]
  },
  {
   "cell_type": "code",
   "execution_count": 5,
   "id": "e08b7117-27d7-4866-b823-01990d756c2b",
   "metadata": {
    "tags": []
   },
   "outputs": [
    {
     "name": "stdout",
     "output_type": "stream",
     "text": [
      "['apple', 'banana', 'mango']\n"
     ]
    }
   ],
   "source": [
    "fruits = [\"apple\", \"banana\", \"cherry\", \"kiwi\", \"mango\"]\n",
    "newlist = []\n",
    "\n",
    "for x in fruits:\n",
    "  if \"a\" in x:\n",
    "    newlist.append(x)\n",
    "\n",
    "print(newlist)"
   ]
  },
  {
   "cell_type": "code",
   "execution_count": 6,
   "id": "eda78303-e79d-4318-b589-6b80d8a5fba9",
   "metadata": {
    "tags": []
   },
   "outputs": [
    {
     "name": "stdout",
     "output_type": "stream",
     "text": [
      "['apple', 'banana', 'mango']\n"
     ]
    }
   ],
   "source": [
    "newlist = [x for x in fruits if \"a\" in x]\n",
    "print(newlist)"
   ]
  },
  {
   "cell_type": "code",
   "execution_count": null,
   "id": "646996f5-805a-4f50-a7bd-17c04779314c",
   "metadata": {},
   "outputs": [],
   "source": []
  }
 ],
 "metadata": {
  "kernelspec": {
   "display_name": "Python 3 (ipykernel)",
   "language": "python",
   "name": "python3"
  },
  "language_info": {
   "codemirror_mode": {
    "name": "ipython",
    "version": 3
   },
   "file_extension": ".py",
   "mimetype": "text/x-python",
   "name": "python",
   "nbconvert_exporter": "python",
   "pygments_lexer": "ipython3",
   "version": "3.11.4"
  }
 },
 "nbformat": 4,
 "nbformat_minor": 5
}
