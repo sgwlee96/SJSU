{
 "cells": [
  {
   "cell_type": "code",
   "execution_count": 2,
   "id": "0adabafa-3118-4b6f-8033-909436d481de",
   "metadata": {
    "tags": []
   },
   "outputs": [],
   "source": [
    "import pandas as pd\n",
    "import matplotlib.pyplot as plt"
   ]
  },
  {
   "cell_type": "code",
   "execution_count": 3,
   "id": "38784aa6-1460-4d12-b0a0-dab4787af5a1",
   "metadata": {
    "tags": []
   },
   "outputs": [],
   "source": [
    "df_retail = pd.read_csv(\"retail_sales_dataset.csv\")"
   ]
  },
  {
   "cell_type": "markdown",
   "id": "7fd77d46-067e-436e-9474-1afeaa9161f5",
   "metadata": {},
   "source": [
    "## 1. Describtive Statistics"
   ]
  },
  {
   "cell_type": "code",
   "execution_count": 4,
   "id": "8a6c5eff-17b2-4b81-aeb6-7f9a000cba13",
   "metadata": {
    "tags": []
   },
   "outputs": [
    {
     "data": {
      "text/html": [
       "<div>\n",
       "<style scoped>\n",
       "    .dataframe tbody tr th:only-of-type {\n",
       "        vertical-align: middle;\n",
       "    }\n",
       "\n",
       "    .dataframe tbody tr th {\n",
       "        vertical-align: top;\n",
       "    }\n",
       "\n",
       "    .dataframe thead th {\n",
       "        text-align: right;\n",
       "    }\n",
       "</style>\n",
       "<table border=\"1\" class=\"dataframe\">\n",
       "  <thead>\n",
       "    <tr style=\"text-align: right;\">\n",
       "      <th></th>\n",
       "      <th>Transaction ID</th>\n",
       "      <th>Date</th>\n",
       "      <th>Customer ID</th>\n",
       "      <th>Gender</th>\n",
       "      <th>Age</th>\n",
       "      <th>Product Category</th>\n",
       "      <th>Quantity</th>\n",
       "      <th>Price per Unit</th>\n",
       "      <th>Total Amount</th>\n",
       "    </tr>\n",
       "  </thead>\n",
       "  <tbody>\n",
       "    <tr>\n",
       "      <th>0</th>\n",
       "      <td>1</td>\n",
       "      <td>2023-11-24</td>\n",
       "      <td>CUST001</td>\n",
       "      <td>Male</td>\n",
       "      <td>34</td>\n",
       "      <td>Beauty</td>\n",
       "      <td>3</td>\n",
       "      <td>50</td>\n",
       "      <td>150</td>\n",
       "    </tr>\n",
       "    <tr>\n",
       "      <th>1</th>\n",
       "      <td>2</td>\n",
       "      <td>2023-02-27</td>\n",
       "      <td>CUST002</td>\n",
       "      <td>Female</td>\n",
       "      <td>26</td>\n",
       "      <td>Clothing</td>\n",
       "      <td>2</td>\n",
       "      <td>500</td>\n",
       "      <td>1000</td>\n",
       "    </tr>\n",
       "    <tr>\n",
       "      <th>2</th>\n",
       "      <td>3</td>\n",
       "      <td>2023-01-13</td>\n",
       "      <td>CUST003</td>\n",
       "      <td>Male</td>\n",
       "      <td>50</td>\n",
       "      <td>Electronics</td>\n",
       "      <td>1</td>\n",
       "      <td>30</td>\n",
       "      <td>30</td>\n",
       "    </tr>\n",
       "    <tr>\n",
       "      <th>3</th>\n",
       "      <td>4</td>\n",
       "      <td>2023-05-21</td>\n",
       "      <td>CUST004</td>\n",
       "      <td>Male</td>\n",
       "      <td>37</td>\n",
       "      <td>Clothing</td>\n",
       "      <td>1</td>\n",
       "      <td>500</td>\n",
       "      <td>500</td>\n",
       "    </tr>\n",
       "    <tr>\n",
       "      <th>4</th>\n",
       "      <td>5</td>\n",
       "      <td>2023-05-06</td>\n",
       "      <td>CUST005</td>\n",
       "      <td>Male</td>\n",
       "      <td>30</td>\n",
       "      <td>Beauty</td>\n",
       "      <td>2</td>\n",
       "      <td>50</td>\n",
       "      <td>100</td>\n",
       "    </tr>\n",
       "  </tbody>\n",
       "</table>\n",
       "</div>"
      ],
      "text/plain": [
       "   Transaction ID        Date Customer ID  Gender  Age Product Category  \\\n",
       "0               1  2023-11-24     CUST001    Male   34           Beauty   \n",
       "1               2  2023-02-27     CUST002  Female   26         Clothing   \n",
       "2               3  2023-01-13     CUST003    Male   50      Electronics   \n",
       "3               4  2023-05-21     CUST004    Male   37         Clothing   \n",
       "4               5  2023-05-06     CUST005    Male   30           Beauty   \n",
       "\n",
       "   Quantity  Price per Unit  Total Amount  \n",
       "0         3              50           150  \n",
       "1         2             500          1000  \n",
       "2         1              30            30  \n",
       "3         1             500           500  \n",
       "4         2              50           100  "
      ]
     },
     "execution_count": 4,
     "metadata": {},
     "output_type": "execute_result"
    }
   ],
   "source": [
    "# print first five row of the dataframe\n",
    "\n",
    "df_retail.head()"
   ]
  },
  {
   "cell_type": "code",
   "execution_count": 5,
   "id": "15564581-e961-49a2-94eb-d01509934753",
   "metadata": {
    "tags": []
   },
   "outputs": [],
   "source": [
    "# set Transaction ID as a new index\n",
    "df_retail = df_retail.set_index(\"Transaction ID\")"
   ]
  },
  {
   "cell_type": "code",
   "execution_count": 6,
   "id": "39fea382-5ab3-40a9-a728-5b70346e2d80",
   "metadata": {
    "tags": []
   },
   "outputs": [
    {
     "name": "stdout",
     "output_type": "stream",
     "text": [
      "<class 'pandas.core.frame.DataFrame'>\n",
      "Int64Index: 1000 entries, 1 to 1000\n",
      "Data columns (total 8 columns):\n",
      " #   Column            Non-Null Count  Dtype \n",
      "---  ------            --------------  ----- \n",
      " 0   Date              1000 non-null   object\n",
      " 1   Customer ID       1000 non-null   object\n",
      " 2   Gender            1000 non-null   object\n",
      " 3   Age               1000 non-null   int64 \n",
      " 4   Product Category  1000 non-null   object\n",
      " 5   Quantity          1000 non-null   int64 \n",
      " 6   Price per Unit    1000 non-null   int64 \n",
      " 7   Total Amount      1000 non-null   int64 \n",
      "dtypes: int64(4), object(4)\n",
      "memory usage: 70.3+ KB\n"
     ]
    }
   ],
   "source": [
    "# get the general information\n",
    "\n",
    "df_retail.info()"
   ]
  },
  {
   "cell_type": "code",
   "execution_count": 7,
   "id": "d60873c7-0eb1-4310-94ae-37e9f696b05a",
   "metadata": {
    "tags": []
   },
   "outputs": [
    {
     "data": {
      "text/plain": [
       "(1000, 8)"
      ]
     },
     "execution_count": 7,
     "metadata": {},
     "output_type": "execute_result"
    }
   ],
   "source": [
    "# get the data size\n",
    "\n",
    "df_retail.shape"
   ]
  },
  {
   "cell_type": "code",
   "execution_count": 8,
   "id": "a17de599-de73-4e13-a88c-d766cc2d6856",
   "metadata": {
    "tags": []
   },
   "outputs": [
    {
     "data": {
      "text/plain": [
       "Index(['Date', 'Customer ID', 'Gender', 'Age', 'Product Category', 'Quantity',\n",
       "       'Price per Unit', 'Total Amount'],\n",
       "      dtype='object')"
      ]
     },
     "execution_count": 8,
     "metadata": {},
     "output_type": "execute_result"
    }
   ],
   "source": [
    "# get the data columns\n",
    "\n",
    "df_retail.columns"
   ]
  },
  {
   "cell_type": "code",
   "execution_count": 9,
   "id": "99c206d5-d744-48ed-af5a-dec1f25fddc9",
   "metadata": {
    "tags": []
   },
   "outputs": [
    {
     "data": {
      "text/plain": [
       "Int64Index([   1,    2,    3,    4,    5,    6,    7,    8,    9,   10,\n",
       "            ...\n",
       "             991,  992,  993,  994,  995,  996,  997,  998,  999, 1000],\n",
       "           dtype='int64', name='Transaction ID', length=1000)"
      ]
     },
     "execution_count": 9,
     "metadata": {},
     "output_type": "execute_result"
    }
   ],
   "source": [
    "df_retail.index"
   ]
  },
  {
   "cell_type": "markdown",
   "id": "9f2a6423-3f22-4c46-83ac-3c4c34eb4104",
   "metadata": {},
   "source": [
    "#### Summary statistics of retail dataset"
   ]
  },
  {
   "cell_type": "code",
   "execution_count": 10,
   "id": "47076319-d6b9-45aa-bc62-a3f8fe87aa01",
   "metadata": {
    "tags": []
   },
   "outputs": [
    {
     "data": {
      "text/html": [
       "<div>\n",
       "<style scoped>\n",
       "    .dataframe tbody tr th:only-of-type {\n",
       "        vertical-align: middle;\n",
       "    }\n",
       "\n",
       "    .dataframe tbody tr th {\n",
       "        vertical-align: top;\n",
       "    }\n",
       "\n",
       "    .dataframe thead th {\n",
       "        text-align: right;\n",
       "    }\n",
       "</style>\n",
       "<table border=\"1\" class=\"dataframe\">\n",
       "  <thead>\n",
       "    <tr style=\"text-align: right;\">\n",
       "      <th></th>\n",
       "      <th>Age</th>\n",
       "      <th>Quantity</th>\n",
       "      <th>Price per Unit</th>\n",
       "      <th>Total Amount</th>\n",
       "    </tr>\n",
       "  </thead>\n",
       "  <tbody>\n",
       "    <tr>\n",
       "      <th>count</th>\n",
       "      <td>1000.00000</td>\n",
       "      <td>1000.000000</td>\n",
       "      <td>1000.000000</td>\n",
       "      <td>1000.000000</td>\n",
       "    </tr>\n",
       "    <tr>\n",
       "      <th>mean</th>\n",
       "      <td>41.39200</td>\n",
       "      <td>2.514000</td>\n",
       "      <td>179.890000</td>\n",
       "      <td>456.000000</td>\n",
       "    </tr>\n",
       "    <tr>\n",
       "      <th>std</th>\n",
       "      <td>13.68143</td>\n",
       "      <td>1.132734</td>\n",
       "      <td>189.681356</td>\n",
       "      <td>559.997632</td>\n",
       "    </tr>\n",
       "    <tr>\n",
       "      <th>min</th>\n",
       "      <td>18.00000</td>\n",
       "      <td>1.000000</td>\n",
       "      <td>25.000000</td>\n",
       "      <td>25.000000</td>\n",
       "    </tr>\n",
       "    <tr>\n",
       "      <th>25%</th>\n",
       "      <td>29.00000</td>\n",
       "      <td>1.000000</td>\n",
       "      <td>30.000000</td>\n",
       "      <td>60.000000</td>\n",
       "    </tr>\n",
       "    <tr>\n",
       "      <th>50%</th>\n",
       "      <td>42.00000</td>\n",
       "      <td>3.000000</td>\n",
       "      <td>50.000000</td>\n",
       "      <td>135.000000</td>\n",
       "    </tr>\n",
       "    <tr>\n",
       "      <th>75%</th>\n",
       "      <td>53.00000</td>\n",
       "      <td>4.000000</td>\n",
       "      <td>300.000000</td>\n",
       "      <td>900.000000</td>\n",
       "    </tr>\n",
       "    <tr>\n",
       "      <th>max</th>\n",
       "      <td>64.00000</td>\n",
       "      <td>4.000000</td>\n",
       "      <td>500.000000</td>\n",
       "      <td>2000.000000</td>\n",
       "    </tr>\n",
       "  </tbody>\n",
       "</table>\n",
       "</div>"
      ],
      "text/plain": [
       "              Age     Quantity  Price per Unit  Total Amount\n",
       "count  1000.00000  1000.000000     1000.000000   1000.000000\n",
       "mean     41.39200     2.514000      179.890000    456.000000\n",
       "std      13.68143     1.132734      189.681356    559.997632\n",
       "min      18.00000     1.000000       25.000000     25.000000\n",
       "25%      29.00000     1.000000       30.000000     60.000000\n",
       "50%      42.00000     3.000000       50.000000    135.000000\n",
       "75%      53.00000     4.000000      300.000000    900.000000\n",
       "max      64.00000     4.000000      500.000000   2000.000000"
      ]
     },
     "execution_count": 10,
     "metadata": {},
     "output_type": "execute_result"
    }
   ],
   "source": [
    "# For numerical variables\n",
    "\n",
    "df_retail.describe()"
   ]
  },
  {
   "cell_type": "code",
   "execution_count": 11,
   "id": "cf82309b-fb4c-4c4c-abbe-a425001989a6",
   "metadata": {
    "tags": []
   },
   "outputs": [
    {
     "name": "stdout",
     "output_type": "stream",
     "text": [
      "Median\n",
      "Age                42.0\n",
      "Quantity            3.0\n",
      "Price per Unit     50.0\n",
      "Total Amount      135.0\n",
      "dtype: float64\n",
      "\n",
      "\n",
      "Mode\n",
      "   Age  Quantity  Price per Unit  Total Amount\n",
      "0   43       4.0            50.0          50.0\n",
      "1   64       NaN             NaN           NaN\n",
      "\n",
      "\n",
      "Variance\n",
      "Age                  187.181518\n",
      "Quantity               1.283087\n",
      "Price per Unit     35979.016917\n",
      "Total Amount      313597.347347\n",
      "dtype: float64\n"
     ]
    }
   ],
   "source": [
    "# median, mode, variance of ['Age',\t'Quantity',\t'Price per Unit',\t'Total Amount']\n",
    "\n",
    "print(\"Median\")\n",
    "print(df_retail[['Age',\t'Quantity',\t'Price per Unit',\t'Total Amount']].median())\n",
    "print(\"\\n\")\n",
    "print(\"Mode\")\n",
    "print(df_retail[['Age',\t'Quantity',\t'Price per Unit',\t'Total Amount']].mode())\n",
    "print(\"\\n\")\n",
    "print(\"Variance\")\n",
    "print(df_retail[['Age',\t'Quantity',\t'Price per Unit',\t'Total Amount']].var())"
   ]
  },
  {
   "cell_type": "code",
   "execution_count": 12,
   "id": "3a39aaf8-c4de-4905-bdfc-c0b0aed37196",
   "metadata": {
    "tags": []
   },
   "outputs": [
    {
     "data": {
      "text/html": [
       "<div>\n",
       "<style scoped>\n",
       "    .dataframe tbody tr th:only-of-type {\n",
       "        vertical-align: middle;\n",
       "    }\n",
       "\n",
       "    .dataframe tbody tr th {\n",
       "        vertical-align: top;\n",
       "    }\n",
       "\n",
       "    .dataframe thead th {\n",
       "        text-align: right;\n",
       "    }\n",
       "</style>\n",
       "<table border=\"1\" class=\"dataframe\">\n",
       "  <thead>\n",
       "    <tr style=\"text-align: right;\">\n",
       "      <th></th>\n",
       "      <th>Date</th>\n",
       "      <th>Customer ID</th>\n",
       "      <th>Gender</th>\n",
       "      <th>Product Category</th>\n",
       "    </tr>\n",
       "  </thead>\n",
       "  <tbody>\n",
       "    <tr>\n",
       "      <th>count</th>\n",
       "      <td>1000</td>\n",
       "      <td>1000</td>\n",
       "      <td>1000</td>\n",
       "      <td>1000</td>\n",
       "    </tr>\n",
       "    <tr>\n",
       "      <th>unique</th>\n",
       "      <td>345</td>\n",
       "      <td>1000</td>\n",
       "      <td>2</td>\n",
       "      <td>3</td>\n",
       "    </tr>\n",
       "    <tr>\n",
       "      <th>top</th>\n",
       "      <td>2023-05-16</td>\n",
       "      <td>CUST001</td>\n",
       "      <td>Female</td>\n",
       "      <td>Clothing</td>\n",
       "    </tr>\n",
       "    <tr>\n",
       "      <th>freq</th>\n",
       "      <td>11</td>\n",
       "      <td>1</td>\n",
       "      <td>510</td>\n",
       "      <td>351</td>\n",
       "    </tr>\n",
       "  </tbody>\n",
       "</table>\n",
       "</div>"
      ],
      "text/plain": [
       "              Date Customer ID  Gender Product Category\n",
       "count         1000        1000    1000             1000\n",
       "unique         345        1000       2                3\n",
       "top     2023-05-16     CUST001  Female         Clothing\n",
       "freq            11           1     510              351"
      ]
     },
     "execution_count": 12,
     "metadata": {},
     "output_type": "execute_result"
    }
   ],
   "source": [
    "# For categorical variables\n",
    "\n",
    "df_retail.describe(include='object')"
   ]
  },
  {
   "cell_type": "markdown",
   "id": "afba4103-8c0c-4beb-b620-1a54459ee2c0",
   "metadata": {},
   "source": [
    "## 2. Histogram and Distribution of Total Amount"
   ]
  },
  {
   "cell_type": "code",
   "execution_count": 13,
   "id": "c9c1a0e3-af41-4e85-bfb1-1abd8e4e1697",
   "metadata": {
    "tags": []
   },
   "outputs": [
    {
     "data": {
      "image/png": "[encoded data removed]",
      "text/plain": [
       "<Figure size 640x480 with 1 Axes>"
      ]
     },
     "metadata": {},
     "output_type": "display_data"
    }
   ],
   "source": [
    "hist_retail = df_retail['Total Amount'].hist(bins=10)\n",
    "plt.title('Distribution of Total Amount')\n",
    "plt.xlabel('Total Amount')\n",
    "plt.ylabel('Frequency')\n",
    "plt.show()"
   ]
  },
  {
   "cell_type": "markdown",
   "id": "955a3cf8-b812-4e68-ba16-af025d1e17cc",
   "metadata": {},
   "source": [
    "The above histogram refers that most of `Total Amount` of the retail sales products are in between the range of 50 to 250."
   ]
  },
  {
   "cell_type": "markdown",
   "id": "95671602-5723-4551-ae58-7cd703ce5ec8",
   "metadata": {},
   "source": [
    "## 3. Statistics of Male and Female by `Clothing`"
   ]
  },
  {
   "cell_type": "code",
   "execution_count": 14,
   "id": "f04353fc-906f-4d10-86c5-9d77333560f4",
   "metadata": {
    "tags": []
   },
   "outputs": [
    {
     "data": {
      "text/html": [
       "<div>\n",
       "<style scoped>\n",
       "    .dataframe tbody tr th:only-of-type {\n",
       "        vertical-align: middle;\n",
       "    }\n",
       "\n",
       "    .dataframe tbody tr th {\n",
       "        vertical-align: top;\n",
       "    }\n",
       "\n",
       "    .dataframe thead th {\n",
       "        text-align: right;\n",
       "    }\n",
       "</style>\n",
       "<table border=\"1\" class=\"dataframe\">\n",
       "  <thead>\n",
       "    <tr style=\"text-align: right;\">\n",
       "      <th>Gender</th>\n",
       "      <th>Female</th>\n",
       "      <th>Male</th>\n",
       "    </tr>\n",
       "  </thead>\n",
       "  <tbody>\n",
       "    <tr>\n",
       "      <th>count</th>\n",
       "      <td>174.000000</td>\n",
       "      <td>177.000000</td>\n",
       "    </tr>\n",
       "    <tr>\n",
       "      <th>mean</th>\n",
       "      <td>467.097701</td>\n",
       "      <td>419.802260</td>\n",
       "    </tr>\n",
       "    <tr>\n",
       "      <th>std</th>\n",
       "      <td>577.016491</td>\n",
       "      <td>524.116237</td>\n",
       "    </tr>\n",
       "    <tr>\n",
       "      <th>min</th>\n",
       "      <td>25.000000</td>\n",
       "      <td>25.000000</td>\n",
       "    </tr>\n",
       "    <tr>\n",
       "      <th>25%</th>\n",
       "      <td>63.750000</td>\n",
       "      <td>60.000000</td>\n",
       "    </tr>\n",
       "    <tr>\n",
       "      <th>50%</th>\n",
       "      <td>120.000000</td>\n",
       "      <td>150.000000</td>\n",
       "    </tr>\n",
       "    <tr>\n",
       "      <th>75%</th>\n",
       "      <td>900.000000</td>\n",
       "      <td>600.000000</td>\n",
       "    </tr>\n",
       "    <tr>\n",
       "      <th>max</th>\n",
       "      <td>2000.000000</td>\n",
       "      <td>2000.000000</td>\n",
       "    </tr>\n",
       "  </tbody>\n",
       "</table>\n",
       "</div>"
      ],
      "text/plain": [
       "Gender       Female         Male\n",
       "count    174.000000   177.000000\n",
       "mean     467.097701   419.802260\n",
       "std      577.016491   524.116237\n",
       "min       25.000000    25.000000\n",
       "25%       63.750000    60.000000\n",
       "50%      120.000000   150.000000\n",
       "75%      900.000000   600.000000\n",
       "max     2000.000000  2000.000000"
      ]
     },
     "execution_count": 14,
     "metadata": {},
     "output_type": "execute_result"
    }
   ],
   "source": [
    "# Statistics of Total Amount grouped Male and Female filtered by \"Product Category\" == \"Clothing\"\n",
    "\n",
    "df_retail[df_retail[\"Product Category\"] == \"Clothing\"].groupby(\"Gender\").describe()['Total Amount'].transpose()"
   ]
  },
  {
   "cell_type": "code",
   "execution_count": 15,
   "id": "5688a910-81f2-412f-8609-fdec1077fa3e",
   "metadata": {
    "tags": []
   },
   "outputs": [
    {
     "name": "stdout",
     "output_type": "stream",
     "text": [
      "Male\n",
      "              Age    Quantity  Price per Unit  Total Amount\n",
      "count  177.000000  177.000000      177.000000    177.000000\n",
      "mean    40.751412    2.559322      169.435028    419.802260\n",
      "std     13.721057    1.137249      185.444697    524.116237\n",
      "min     18.000000    1.000000       25.000000     25.000000\n",
      "25%     29.000000    2.000000       30.000000     60.000000\n",
      "50%     41.000000    3.000000       50.000000    150.000000\n",
      "75%     53.000000    4.000000      300.000000    600.000000\n",
      "max     64.000000    4.000000      500.000000   2000.000000\n",
      "\n",
      "\n",
      "Female\n",
      "              Age    Quantity  Price per Unit  Total Amount\n",
      "count  174.000000  174.000000      174.000000    174.000000\n",
      "mean    43.166667    2.534483      179.224138    467.097701\n",
      "std     13.195762    1.151257      187.002832    577.016491\n",
      "min     18.000000    1.000000       25.000000     25.000000\n",
      "25%     33.000000    1.000000       30.000000     63.750000\n",
      "50%     43.500000    3.000000       50.000000    120.000000\n",
      "75%     54.000000    4.000000      300.000000    900.000000\n",
      "max     64.000000    4.000000      500.000000   2000.000000\n"
     ]
    }
   ],
   "source": [
    "retail_M = df_retail[(df_retail['Gender'] == \"Male\")]\n",
    "retail_F = df_retail[(df_retail['Gender'] == \"Female\")]\n",
    "\n",
    "print(\"Male\")\n",
    "print(retail_M[retail_M[\"Product Category\"] == \"Clothing\"].describe())\n",
    "print(\"\\n\")\n",
    "print(\"Female\")\n",
    "print(retail_F[retail_F[\"Product Category\"] == \"Clothing\"].describe())"
   ]
  },
  {
   "cell_type": "markdown",
   "id": "8e97a420-f31b-4dc7-b465-38cf6643cacc",
   "metadata": {},
   "source": [
    "Both codes(using groupby function and subset the dataset by male and female) give the same results"
   ]
  },
  {
   "cell_type": "markdown",
   "id": "955ee180-2e24-46ee-a097-7ef3c477e29b",
   "metadata": {},
   "source": [
    "## 4. Draw Box Plot of each male and female dataframe"
   ]
  },
  {
   "cell_type": "code",
   "execution_count": 16,
   "id": "3615e86f-0dd0-4247-8208-80bc6bda9215",
   "metadata": {
    "tags": []
   },
   "outputs": [
    {
     "data": {
      "image/png": "[encoded data removed]",
      "text/plain": [
       "<Figure size 800x600 with 1 Axes>"
      ]
     },
     "metadata": {},
     "output_type": "display_data"
    }
   ],
   "source": [
    "# Total Amount Box plot\n",
    "\n",
    "plt.figure(figsize=(8, 6))\n",
    "plt.title('Box Plot of Total Amount Grouped by Male and Female who bought Clothing')\n",
    "plt.xticks([1, 2], ['Male', 'Female'])\n",
    "plt.xlabel('Gender')\n",
    "plt.ylabel('Total Amount')\n",
    "plt.grid(axis='y')\n",
    "\n",
    "\n",
    "box_data = [df_retail['Total Amount'][(df_retail['Gender'] == 'Male') & (df_retail['Product Category'] == \"Clothing\")],\n",
    "            df_retail['Total Amount'][(df_retail['Gender'] == 'Female') & (df_retail['Product Category'] == \"Clothing\")]]\n",
    "\n",
    "plt.boxplot(box_data, labels=['Male', 'Female'])\n",
    "plt.show()"
   ]
  },
  {
   "cell_type": "code",
   "execution_count": null,
   "id": "771c3029-a9a9-410a-9430-e2e6d06f3fe7",
   "metadata": {},
   "outputs": [],
   "source": []
  }
 ],
 "metadata": {
  "kernelspec": {
   "display_name": "Python 3 (ipykernel)",
   "language": "python",
   "name": "python3"
  },
  "language_info": {
   "codemirror_mode": {
    "name": "ipython",
    "version": 3
   },
   "file_extension": ".py",
   "mimetype": "text/x-python",
   "name": "python",
   "nbconvert_exporter": "python",
   "pygments_lexer": "ipython3",
   "version": "3.11.4"
  }
 },
 "nbformat": 4,
 "nbformat_minor": 5
}
