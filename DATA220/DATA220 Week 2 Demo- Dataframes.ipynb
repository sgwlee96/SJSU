{
 "cells": [
  {
   "cell_type": "markdown",
   "id": "4dd9db1a",
   "metadata": {},
   "source": [
    "DataFrame is a 2-dimensional labeled data structure with columns of potentially different types"
   ]
  },
  {
   "cell_type": "code",
   "execution_count": null,
   "id": "12903e3b",
   "metadata": {
    "scrolled": true
   },
   "outputs": [],
   "source": [
    "# Importing the Pandas and NumPy module\n",
    "import pandas as pd\n",
    "import numpy as np"
   ]
  },
  {
   "cell_type": "markdown",
   "id": "c803acea",
   "metadata": {},
   "source": [
    "Two ways to create dataframes-Manually and importing"
   ]
  },
  {
   "cell_type": "code",
   "execution_count": null,
   "id": "74b07f76",
   "metadata": {
    "scrolled": true
   },
   "outputs": [],
   "source": [
    "#Manually Creating the dataframe\n",
    "df1 = pd.DataFrame({'Order': [1, 2, 3, 4, 5, 6, 7, 8, 9, 10,\n",
    "                            11, 12, 13, 14, 15, 16, 17, 18, 19, 20],\n",
    "                   'Gender': ['Male', 'Female', 'Male', 'Male', 'Male', 'Male',\n",
    "                               'Male', 'Male', 'Male', 'Female', 'Female', 'Female', 'Female',\n",
    "                               'Male', 'Male', 'Male', 'Male', 'Female', 'Female', 'Female'],\n",
    "                   'DominantHand': ['R', 'R', 'R', 'R', 'L', 'R', 'L', 'R', 'R', 'R', 'R',\n",
    "                               'L', 'L', 'R', 'L', 'R', 'R', 'R', 'R', 'R']})"
   ]
  },
  {
   "cell_type": "code",
   "execution_count": 100,
   "id": "38f2e72a",
   "metadata": {
    "scrolled": true
   },
   "outputs": [
    {
     "name": "stdout",
     "output_type": "stream",
     "text": [
      "    Order  Gender DominantHand\n",
      "0       1    Male            R\n",
      "1       2  Female            R\n",
      "2       3    Male            R\n",
      "3       4    Male            R\n",
      "4       5    Male            L\n",
      "5       6    Male            R\n",
      "6       7    Male            L\n",
      "7       8    Male            R\n",
      "8       9    Male            R\n",
      "9      10  Female            R\n",
      "10     11  Female            R\n",
      "11     12  Female            L\n",
      "12     13  Female            L\n",
      "13     14    Male            R\n",
      "14     15    Male            L\n",
      "15     16    Male            R\n",
      "16     17    Male            R\n",
      "17     18  Female            R\n",
      "18     19  Female            R\n",
      "19     20  Female            R\n"
     ]
    }
   ],
   "source": [
    "#Printing the dataframe\n",
    "print(df1)\n"
   ]
  },
  {
   "cell_type": "code",
   "execution_count": 101,
   "id": "480ea69e",
   "metadata": {
    "scrolled": true
   },
   "outputs": [],
   "source": [
    "#Reading from CSV file to a Dataframe\n",
    "df2= pd.read_csv('demographics.csv')"
   ]
  },
  {
   "cell_type": "code",
   "execution_count": 102,
   "id": "263d4b24",
   "metadata": {},
   "outputs": [
    {
     "name": "stdout",
     "output_type": "stream",
     "text": [
      "   First Name  DominantHand  Gender\n",
      "0       Aaron  Right Handed  Female\n",
      "1     Abigail  Right Handed    Male\n",
      "2     Addison   Left Handed  Female\n",
      "3       Aiden  Right Handed    Male\n",
      "4   Alexander  Right Handed    Male\n",
      "..        ...           ...     ...\n",
      "95    William  Right Handed    Male\n",
      "96     Willow  Right Handed  Female\n",
      "97      Wyatt   Left Handed  Female\n",
      "98        Zoe  Right Handed  Female\n",
      "99       Zoey  Right Handed    Male\n",
      "\n",
      "[100 rows x 3 columns]\n"
     ]
    }
   ],
   "source": [
    "print(df2)"
   ]
  },
  {
   "cell_type": "code",
   "execution_count": 103,
   "id": "8cde136f",
   "metadata": {
    "scrolled": true
   },
   "outputs": [
    {
     "data": {
      "text/html": [
       "<div>\n",
       "<style scoped>\n",
       "    .dataframe tbody tr th:only-of-type {\n",
       "        vertical-align: middle;\n",
       "    }\n",
       "\n",
       "    .dataframe tbody tr th {\n",
       "        vertical-align: top;\n",
       "    }\n",
       "\n",
       "    .dataframe thead th {\n",
       "        text-align: right;\n",
       "    }\n",
       "</style>\n",
       "<table border=\"1\" class=\"dataframe\">\n",
       "  <thead>\n",
       "    <tr style=\"text-align: right;\">\n",
       "      <th></th>\n",
       "      <th>First Name</th>\n",
       "      <th>DominantHand</th>\n",
       "      <th>Gender</th>\n",
       "    </tr>\n",
       "  </thead>\n",
       "  <tbody>\n",
       "    <tr>\n",
       "      <th>0</th>\n",
       "      <td>Aaron</td>\n",
       "      <td>Right Handed</td>\n",
       "      <td>Female</td>\n",
       "    </tr>\n",
       "    <tr>\n",
       "      <th>1</th>\n",
       "      <td>Abigail</td>\n",
       "      <td>Right Handed</td>\n",
       "      <td>Male</td>\n",
       "    </tr>\n",
       "    <tr>\n",
       "      <th>2</th>\n",
       "      <td>Addison</td>\n",
       "      <td>Left Handed</td>\n",
       "      <td>Female</td>\n",
       "    </tr>\n",
       "    <tr>\n",
       "      <th>3</th>\n",
       "      <td>Aiden</td>\n",
       "      <td>Right Handed</td>\n",
       "      <td>Male</td>\n",
       "    </tr>\n",
       "    <tr>\n",
       "      <th>4</th>\n",
       "      <td>Alexander</td>\n",
       "      <td>Right Handed</td>\n",
       "      <td>Male</td>\n",
       "    </tr>\n",
       "  </tbody>\n",
       "</table>\n",
       "</div>"
      ],
      "text/plain": [
       "  First Name  DominantHand  Gender\n",
       "0      Aaron  Right Handed  Female\n",
       "1    Abigail  Right Handed    Male\n",
       "2    Addison   Left Handed  Female\n",
       "3      Aiden  Right Handed    Male\n",
       "4  Alexander  Right Handed    Male"
      ]
     },
     "execution_count": 103,
     "metadata": {},
     "output_type": "execute_result"
    }
   ],
   "source": [
    "#printing Top 5 Rows of the DF\n",
    "df2.head()"
   ]
  },
  {
   "cell_type": "code",
   "execution_count": 104,
   "id": "62e553b4",
   "metadata": {
    "scrolled": true
   },
   "outputs": [
    {
     "data": {
      "text/plain": [
       "(100, 3)"
      ]
     },
     "execution_count": 104,
     "metadata": {},
     "output_type": "execute_result"
    }
   ],
   "source": [
    "#using shape property to get the number of rows and columns\n",
    "df2.shape"
   ]
  },
  {
   "cell_type": "code",
   "execution_count": 105,
   "id": "db24ec02",
   "metadata": {
    "scrolled": true
   },
   "outputs": [
    {
     "name": "stdout",
     "output_type": "stream",
     "text": [
      "<class 'pandas.core.frame.DataFrame'>\n",
      "RangeIndex: 100 entries, 0 to 99\n",
      "Data columns (total 3 columns):\n",
      " #   Column        Non-Null Count  Dtype \n",
      "---  ------        --------------  ----- \n",
      " 0   First Name    100 non-null    object\n",
      " 1   DominantHand  100 non-null    object\n",
      " 2   Gender        100 non-null    object\n",
      "dtypes: object(3)\n",
      "memory usage: 2.5+ KB\n"
     ]
    }
   ],
   "source": [
    "#info funtion returns some basic tallied data about the dataframe\n",
    "df2.info()"
   ]
  },
  {
   "cell_type": "code",
   "execution_count": 106,
   "id": "bde1f108",
   "metadata": {
    "scrolled": true
   },
   "outputs": [
    {
     "data": {
      "text/plain": [
       "RangeIndex(start=0, stop=100, step=1)"
      ]
     },
     "execution_count": 106,
     "metadata": {},
     "output_type": "execute_result"
    }
   ],
   "source": [
    "#index property returns the starting index, ending index and the step size of the dataframe\n",
    "df2.index"
   ]
  },
  {
   "cell_type": "code",
   "execution_count": 107,
   "id": "c6b17f2c",
   "metadata": {
    "scrolled": true
   },
   "outputs": [
    {
     "data": {
      "text/plain": [
       "Index(['First Name', 'DominantHand', 'Gender'], dtype='object')"
      ]
     },
     "execution_count": 107,
     "metadata": {},
     "output_type": "execute_result"
    }
   ],
   "source": [
    "#printing Top 5 Rows of the DF\n",
    "df2.columns"
   ]
  },
  {
   "cell_type": "code",
   "execution_count": 108,
   "id": "b5ff9714",
   "metadata": {
    "scrolled": true
   },
   "outputs": [
    {
     "data": {
      "text/html": [
       "<div>\n",
       "<style scoped>\n",
       "    .dataframe tbody tr th:only-of-type {\n",
       "        vertical-align: middle;\n",
       "    }\n",
       "\n",
       "    .dataframe tbody tr th {\n",
       "        vertical-align: top;\n",
       "    }\n",
       "\n",
       "    .dataframe thead th {\n",
       "        text-align: right;\n",
       "    }\n",
       "</style>\n",
       "<table border=\"1\" class=\"dataframe\">\n",
       "  <thead>\n",
       "    <tr style=\"text-align: right;\">\n",
       "      <th></th>\n",
       "      <th>First Name</th>\n",
       "      <th>DominantHand</th>\n",
       "      <th>Gender</th>\n",
       "    </tr>\n",
       "  </thead>\n",
       "  <tbody>\n",
       "    <tr>\n",
       "      <th>count</th>\n",
       "      <td>100</td>\n",
       "      <td>100</td>\n",
       "      <td>100</td>\n",
       "    </tr>\n",
       "    <tr>\n",
       "      <th>unique</th>\n",
       "      <td>93</td>\n",
       "      <td>2</td>\n",
       "      <td>2</td>\n",
       "    </tr>\n",
       "    <tr>\n",
       "      <th>top</th>\n",
       "      <td>Jackson</td>\n",
       "      <td>Right Handed</td>\n",
       "      <td>Male</td>\n",
       "    </tr>\n",
       "    <tr>\n",
       "      <th>freq</th>\n",
       "      <td>2</td>\n",
       "      <td>87</td>\n",
       "      <td>52</td>\n",
       "    </tr>\n",
       "  </tbody>\n",
       "</table>\n",
       "</div>"
      ],
      "text/plain": [
       "       First Name  DominantHand Gender\n",
       "count         100           100    100\n",
       "unique         93             2      2\n",
       "top       Jackson  Right Handed   Male\n",
       "freq            2            87     52"
      ]
     },
     "execution_count": 108,
     "metadata": {},
     "output_type": "execute_result"
    }
   ],
   "source": [
    "#printing Top 5 Rows of the DF\n",
    "df2.describe()"
   ]
  },
  {
   "cell_type": "code",
   "execution_count": 109,
   "id": "3bf00ed7",
   "metadata": {
    "scrolled": true
   },
   "outputs": [
    {
     "data": {
      "text/plain": [
       "First Name             Aaron\n",
       "DominantHand    Right Handed\n",
       "Gender                Female\n",
       "Name: 0, dtype: object"
      ]
     },
     "execution_count": 109,
     "metadata": {},
     "output_type": "execute_result"
    }
   ],
   "source": [
    "#printing the row at a specific location\n",
    "df2.loc[0]"
   ]
  },
  {
   "cell_type": "code",
   "execution_count": 111,
   "id": "5e34acd3",
   "metadata": {
    "scrolled": true
   },
   "outputs": [
    {
     "name": "stdout",
     "output_type": "stream",
     "text": [
      "   First Name  DominantHand  Gender\n",
      "0       Aaron  Right Handed  Female\n",
      "10     Aubrey  Right Handed  Female\n"
     ]
    }
   ],
   "source": [
    "#printing the rows at a specific locations\n",
    "print(df2.loc[[0, 10]])"
   ]
  },
  {
   "cell_type": "code",
   "execution_count": 112,
   "id": "7c60681d",
   "metadata": {
    "scrolled": true
   },
   "outputs": [
    {
     "data": {
      "text/html": [
       "<div>\n",
       "<style scoped>\n",
       "    .dataframe tbody tr th:only-of-type {\n",
       "        vertical-align: middle;\n",
       "    }\n",
       "\n",
       "    .dataframe tbody tr th {\n",
       "        vertical-align: top;\n",
       "    }\n",
       "\n",
       "    .dataframe thead th {\n",
       "        text-align: right;\n",
       "    }\n",
       "</style>\n",
       "<table border=\"1\" class=\"dataframe\">\n",
       "  <thead>\n",
       "    <tr style=\"text-align: right;\">\n",
       "      <th></th>\n",
       "      <th>First Name</th>\n",
       "      <th>DominantHand</th>\n",
       "      <th>Gender</th>\n",
       "    </tr>\n",
       "  </thead>\n",
       "  <tbody>\n",
       "    <tr>\n",
       "      <th>0</th>\n",
       "      <td>False</td>\n",
       "      <td>False</td>\n",
       "      <td>False</td>\n",
       "    </tr>\n",
       "    <tr>\n",
       "      <th>1</th>\n",
       "      <td>False</td>\n",
       "      <td>False</td>\n",
       "      <td>False</td>\n",
       "    </tr>\n",
       "    <tr>\n",
       "      <th>2</th>\n",
       "      <td>False</td>\n",
       "      <td>False</td>\n",
       "      <td>False</td>\n",
       "    </tr>\n",
       "    <tr>\n",
       "      <th>3</th>\n",
       "      <td>False</td>\n",
       "      <td>False</td>\n",
       "      <td>False</td>\n",
       "    </tr>\n",
       "    <tr>\n",
       "      <th>4</th>\n",
       "      <td>False</td>\n",
       "      <td>False</td>\n",
       "      <td>False</td>\n",
       "    </tr>\n",
       "    <tr>\n",
       "      <th>...</th>\n",
       "      <td>...</td>\n",
       "      <td>...</td>\n",
       "      <td>...</td>\n",
       "    </tr>\n",
       "    <tr>\n",
       "      <th>95</th>\n",
       "      <td>False</td>\n",
       "      <td>False</td>\n",
       "      <td>False</td>\n",
       "    </tr>\n",
       "    <tr>\n",
       "      <th>96</th>\n",
       "      <td>False</td>\n",
       "      <td>False</td>\n",
       "      <td>False</td>\n",
       "    </tr>\n",
       "    <tr>\n",
       "      <th>97</th>\n",
       "      <td>False</td>\n",
       "      <td>False</td>\n",
       "      <td>False</td>\n",
       "    </tr>\n",
       "    <tr>\n",
       "      <th>98</th>\n",
       "      <td>False</td>\n",
       "      <td>False</td>\n",
       "      <td>False</td>\n",
       "    </tr>\n",
       "    <tr>\n",
       "      <th>99</th>\n",
       "      <td>False</td>\n",
       "      <td>False</td>\n",
       "      <td>False</td>\n",
       "    </tr>\n",
       "  </tbody>\n",
       "</table>\n",
       "<p>100 rows × 3 columns</p>\n",
       "</div>"
      ],
      "text/plain": [
       "    First Name  DominantHand  Gender\n",
       "0        False         False   False\n",
       "1        False         False   False\n",
       "2        False         False   False\n",
       "3        False         False   False\n",
       "4        False         False   False\n",
       "..         ...           ...     ...\n",
       "95       False         False   False\n",
       "96       False         False   False\n",
       "97       False         False   False\n",
       "98       False         False   False\n",
       "99       False         False   False\n",
       "\n",
       "[100 rows x 3 columns]"
      ]
     },
     "execution_count": 112,
     "metadata": {},
     "output_type": "execute_result"
    }
   ],
   "source": [
    "#checking for null values\n",
    "df2.isnull()"
   ]
  },
  {
   "cell_type": "code",
   "execution_count": null,
   "id": "4144486c",
   "metadata": {
    "scrolled": true
   },
   "outputs": [],
   "source": [
    "#filling the null values with a constant\n",
    "df2.fillna(0)"
   ]
  },
  {
   "cell_type": "code",
   "execution_count": null,
   "id": "7e032dde",
   "metadata": {
    "scrolled": true
   },
   "outputs": [],
   "source": [
    "#dropping rows with null values\n",
    "df2.dropna()"
   ]
  },
  {
   "cell_type": "code",
   "execution_count": 116,
   "id": "43d32761",
   "metadata": {
    "scrolled": true
   },
   "outputs": [],
   "source": [
    "#Manually Creating the dataframe\n",
    "df3 = pd.DataFrame({'Order': [1, 2, 3, 4, 5, 6, 7, 8, 9, 10,\n",
    "                            11, 12, 13, 14, 15, 16, 17, 18, 19, 20],\n",
    "                   'Gender': ['Male', 'Female', 'Male', 'Male', 'Male', 'Male',\n",
    "                               'Male', 'Male', 'Male', 'Female', 'Female', 'Female', 'Female',\n",
    "                               'Male', 'Male', 'Male', 'Male', 'Female', 'Female', 'Female'],\n",
    "                   'DominantHand': [np.nan, 'R', 'R', 'R', 'L', 'R', 'L', 'R', 'R', 'R', 'R',\n",
    "                               'L', 'L', 'R', 'L', 'L', 'R', 'R', 'R', 'R']})"
   ]
  },
  {
   "cell_type": "code",
   "execution_count": 113,
   "id": "4ebde20c",
   "metadata": {
    "scrolled": true
   },
   "outputs": [
    {
     "data": {
      "text/html": [
       "<div>\n",
       "<style scoped>\n",
       "    .dataframe tbody tr th:only-of-type {\n",
       "        vertical-align: middle;\n",
       "    }\n",
       "\n",
       "    .dataframe tbody tr th {\n",
       "        vertical-align: top;\n",
       "    }\n",
       "\n",
       "    .dataframe thead th {\n",
       "        text-align: right;\n",
       "    }\n",
       "</style>\n",
       "<table border=\"1\" class=\"dataframe\">\n",
       "  <thead>\n",
       "    <tr style=\"text-align: right;\">\n",
       "      <th></th>\n",
       "      <th>Order</th>\n",
       "      <th>Gender</th>\n",
       "      <th>DominantHand</th>\n",
       "    </tr>\n",
       "  </thead>\n",
       "  <tbody>\n",
       "    <tr>\n",
       "      <th>0</th>\n",
       "      <td>1</td>\n",
       "      <td>Male</td>\n",
       "      <td>NaN</td>\n",
       "    </tr>\n",
       "    <tr>\n",
       "      <th>1</th>\n",
       "      <td>2</td>\n",
       "      <td>Female</td>\n",
       "      <td>R</td>\n",
       "    </tr>\n",
       "    <tr>\n",
       "      <th>2</th>\n",
       "      <td>3</td>\n",
       "      <td>Male</td>\n",
       "      <td>R</td>\n",
       "    </tr>\n",
       "    <tr>\n",
       "      <th>3</th>\n",
       "      <td>4</td>\n",
       "      <td>Male</td>\n",
       "      <td>R</td>\n",
       "    </tr>\n",
       "    <tr>\n",
       "      <th>4</th>\n",
       "      <td>5</td>\n",
       "      <td>Male</td>\n",
       "      <td>L</td>\n",
       "    </tr>\n",
       "  </tbody>\n",
       "</table>\n",
       "</div>"
      ],
      "text/plain": [
       "   Order  Gender DominantHand\n",
       "0      1    Male          NaN\n",
       "1      2  Female            R\n",
       "2      3    Male            R\n",
       "3      4    Male            R\n",
       "4      5    Male            L"
      ]
     },
     "execution_count": 113,
     "metadata": {},
     "output_type": "execute_result"
    }
   ],
   "source": [
    "df3.head()"
   ]
  },
  {
   "cell_type": "code",
   "execution_count": 114,
   "id": "c912d9d2",
   "metadata": {
    "scrolled": true
   },
   "outputs": [
    {
     "data": {
      "text/html": [
       "<div>\n",
       "<style scoped>\n",
       "    .dataframe tbody tr th:only-of-type {\n",
       "        vertical-align: middle;\n",
       "    }\n",
       "\n",
       "    .dataframe tbody tr th {\n",
       "        vertical-align: top;\n",
       "    }\n",
       "\n",
       "    .dataframe thead th {\n",
       "        text-align: right;\n",
       "    }\n",
       "</style>\n",
       "<table border=\"1\" class=\"dataframe\">\n",
       "  <thead>\n",
       "    <tr style=\"text-align: right;\">\n",
       "      <th></th>\n",
       "      <th>Order</th>\n",
       "      <th>Gender</th>\n",
       "      <th>DominantHand</th>\n",
       "    </tr>\n",
       "  </thead>\n",
       "  <tbody>\n",
       "    <tr>\n",
       "      <th>0</th>\n",
       "      <td>False</td>\n",
       "      <td>False</td>\n",
       "      <td>True</td>\n",
       "    </tr>\n",
       "    <tr>\n",
       "      <th>1</th>\n",
       "      <td>False</td>\n",
       "      <td>False</td>\n",
       "      <td>False</td>\n",
       "    </tr>\n",
       "    <tr>\n",
       "      <th>2</th>\n",
       "      <td>False</td>\n",
       "      <td>False</td>\n",
       "      <td>False</td>\n",
       "    </tr>\n",
       "    <tr>\n",
       "      <th>3</th>\n",
       "      <td>False</td>\n",
       "      <td>False</td>\n",
       "      <td>False</td>\n",
       "    </tr>\n",
       "    <tr>\n",
       "      <th>4</th>\n",
       "      <td>False</td>\n",
       "      <td>False</td>\n",
       "      <td>False</td>\n",
       "    </tr>\n",
       "    <tr>\n",
       "      <th>5</th>\n",
       "      <td>False</td>\n",
       "      <td>False</td>\n",
       "      <td>False</td>\n",
       "    </tr>\n",
       "    <tr>\n",
       "      <th>6</th>\n",
       "      <td>False</td>\n",
       "      <td>False</td>\n",
       "      <td>False</td>\n",
       "    </tr>\n",
       "    <tr>\n",
       "      <th>7</th>\n",
       "      <td>False</td>\n",
       "      <td>False</td>\n",
       "      <td>False</td>\n",
       "    </tr>\n",
       "    <tr>\n",
       "      <th>8</th>\n",
       "      <td>False</td>\n",
       "      <td>False</td>\n",
       "      <td>False</td>\n",
       "    </tr>\n",
       "    <tr>\n",
       "      <th>9</th>\n",
       "      <td>False</td>\n",
       "      <td>False</td>\n",
       "      <td>False</td>\n",
       "    </tr>\n",
       "    <tr>\n",
       "      <th>10</th>\n",
       "      <td>False</td>\n",
       "      <td>False</td>\n",
       "      <td>False</td>\n",
       "    </tr>\n",
       "    <tr>\n",
       "      <th>11</th>\n",
       "      <td>False</td>\n",
       "      <td>False</td>\n",
       "      <td>False</td>\n",
       "    </tr>\n",
       "    <tr>\n",
       "      <th>12</th>\n",
       "      <td>False</td>\n",
       "      <td>False</td>\n",
       "      <td>False</td>\n",
       "    </tr>\n",
       "    <tr>\n",
       "      <th>13</th>\n",
       "      <td>False</td>\n",
       "      <td>False</td>\n",
       "      <td>False</td>\n",
       "    </tr>\n",
       "    <tr>\n",
       "      <th>14</th>\n",
       "      <td>False</td>\n",
       "      <td>False</td>\n",
       "      <td>False</td>\n",
       "    </tr>\n",
       "    <tr>\n",
       "      <th>15</th>\n",
       "      <td>False</td>\n",
       "      <td>False</td>\n",
       "      <td>False</td>\n",
       "    </tr>\n",
       "    <tr>\n",
       "      <th>16</th>\n",
       "      <td>False</td>\n",
       "      <td>False</td>\n",
       "      <td>False</td>\n",
       "    </tr>\n",
       "    <tr>\n",
       "      <th>17</th>\n",
       "      <td>False</td>\n",
       "      <td>False</td>\n",
       "      <td>False</td>\n",
       "    </tr>\n",
       "    <tr>\n",
       "      <th>18</th>\n",
       "      <td>False</td>\n",
       "      <td>False</td>\n",
       "      <td>False</td>\n",
       "    </tr>\n",
       "    <tr>\n",
       "      <th>19</th>\n",
       "      <td>False</td>\n",
       "      <td>False</td>\n",
       "      <td>False</td>\n",
       "    </tr>\n",
       "  </tbody>\n",
       "</table>\n",
       "</div>"
      ],
      "text/plain": [
       "    Order  Gender  DominantHand\n",
       "0   False   False          True\n",
       "1   False   False         False\n",
       "2   False   False         False\n",
       "3   False   False         False\n",
       "4   False   False         False\n",
       "5   False   False         False\n",
       "6   False   False         False\n",
       "7   False   False         False\n",
       "8   False   False         False\n",
       "9   False   False         False\n",
       "10  False   False         False\n",
       "11  False   False         False\n",
       "12  False   False         False\n",
       "13  False   False         False\n",
       "14  False   False         False\n",
       "15  False   False         False\n",
       "16  False   False         False\n",
       "17  False   False         False\n",
       "18  False   False         False\n",
       "19  False   False         False"
      ]
     },
     "execution_count": 114,
     "metadata": {},
     "output_type": "execute_result"
    }
   ],
   "source": [
    "df3.isnull()"
   ]
  },
  {
   "cell_type": "code",
   "execution_count": 115,
   "id": "6447c6e1",
   "metadata": {
    "scrolled": true
   },
   "outputs": [
    {
     "data": {
      "text/html": [
       "<div>\n",
       "<style scoped>\n",
       "    .dataframe tbody tr th:only-of-type {\n",
       "        vertical-align: middle;\n",
       "    }\n",
       "\n",
       "    .dataframe tbody tr th {\n",
       "        vertical-align: top;\n",
       "    }\n",
       "\n",
       "    .dataframe thead th {\n",
       "        text-align: right;\n",
       "    }\n",
       "</style>\n",
       "<table border=\"1\" class=\"dataframe\">\n",
       "  <thead>\n",
       "    <tr style=\"text-align: right;\">\n",
       "      <th></th>\n",
       "      <th>Order</th>\n",
       "      <th>Gender</th>\n",
       "      <th>DominantHand</th>\n",
       "    </tr>\n",
       "  </thead>\n",
       "  <tbody>\n",
       "    <tr>\n",
       "      <th>0</th>\n",
       "      <td>1</td>\n",
       "      <td>Male</td>\n",
       "      <td>R</td>\n",
       "    </tr>\n",
       "    <tr>\n",
       "      <th>1</th>\n",
       "      <td>2</td>\n",
       "      <td>Female</td>\n",
       "      <td>R</td>\n",
       "    </tr>\n",
       "    <tr>\n",
       "      <th>2</th>\n",
       "      <td>3</td>\n",
       "      <td>Male</td>\n",
       "      <td>R</td>\n",
       "    </tr>\n",
       "    <tr>\n",
       "      <th>3</th>\n",
       "      <td>4</td>\n",
       "      <td>Male</td>\n",
       "      <td>R</td>\n",
       "    </tr>\n",
       "    <tr>\n",
       "      <th>4</th>\n",
       "      <td>5</td>\n",
       "      <td>Male</td>\n",
       "      <td>L</td>\n",
       "    </tr>\n",
       "    <tr>\n",
       "      <th>5</th>\n",
       "      <td>6</td>\n",
       "      <td>Male</td>\n",
       "      <td>R</td>\n",
       "    </tr>\n",
       "    <tr>\n",
       "      <th>6</th>\n",
       "      <td>7</td>\n",
       "      <td>Male</td>\n",
       "      <td>L</td>\n",
       "    </tr>\n",
       "    <tr>\n",
       "      <th>7</th>\n",
       "      <td>8</td>\n",
       "      <td>Male</td>\n",
       "      <td>R</td>\n",
       "    </tr>\n",
       "    <tr>\n",
       "      <th>8</th>\n",
       "      <td>9</td>\n",
       "      <td>Male</td>\n",
       "      <td>R</td>\n",
       "    </tr>\n",
       "    <tr>\n",
       "      <th>9</th>\n",
       "      <td>10</td>\n",
       "      <td>Female</td>\n",
       "      <td>R</td>\n",
       "    </tr>\n",
       "    <tr>\n",
       "      <th>10</th>\n",
       "      <td>11</td>\n",
       "      <td>Female</td>\n",
       "      <td>R</td>\n",
       "    </tr>\n",
       "    <tr>\n",
       "      <th>11</th>\n",
       "      <td>12</td>\n",
       "      <td>Female</td>\n",
       "      <td>L</td>\n",
       "    </tr>\n",
       "    <tr>\n",
       "      <th>12</th>\n",
       "      <td>13</td>\n",
       "      <td>Female</td>\n",
       "      <td>L</td>\n",
       "    </tr>\n",
       "    <tr>\n",
       "      <th>13</th>\n",
       "      <td>14</td>\n",
       "      <td>Male</td>\n",
       "      <td>R</td>\n",
       "    </tr>\n",
       "    <tr>\n",
       "      <th>14</th>\n",
       "      <td>15</td>\n",
       "      <td>Male</td>\n",
       "      <td>L</td>\n",
       "    </tr>\n",
       "    <tr>\n",
       "      <th>15</th>\n",
       "      <td>16</td>\n",
       "      <td>Male</td>\n",
       "      <td>L</td>\n",
       "    </tr>\n",
       "    <tr>\n",
       "      <th>16</th>\n",
       "      <td>17</td>\n",
       "      <td>Male</td>\n",
       "      <td>R</td>\n",
       "    </tr>\n",
       "    <tr>\n",
       "      <th>17</th>\n",
       "      <td>18</td>\n",
       "      <td>Female</td>\n",
       "      <td>R</td>\n",
       "    </tr>\n",
       "    <tr>\n",
       "      <th>18</th>\n",
       "      <td>19</td>\n",
       "      <td>Female</td>\n",
       "      <td>R</td>\n",
       "    </tr>\n",
       "    <tr>\n",
       "      <th>19</th>\n",
       "      <td>20</td>\n",
       "      <td>Female</td>\n",
       "      <td>R</td>\n",
       "    </tr>\n",
       "  </tbody>\n",
       "</table>\n",
       "</div>"
      ],
      "text/plain": [
       "    Order  Gender DominantHand\n",
       "0       1    Male            R\n",
       "1       2  Female            R\n",
       "2       3    Male            R\n",
       "3       4    Male            R\n",
       "4       5    Male            L\n",
       "5       6    Male            R\n",
       "6       7    Male            L\n",
       "7       8    Male            R\n",
       "8       9    Male            R\n",
       "9      10  Female            R\n",
       "10     11  Female            R\n",
       "11     12  Female            L\n",
       "12     13  Female            L\n",
       "13     14    Male            R\n",
       "14     15    Male            L\n",
       "15     16    Male            L\n",
       "16     17    Male            R\n",
       "17     18  Female            R\n",
       "18     19  Female            R\n",
       "19     20  Female            R"
      ]
     },
     "execution_count": 115,
     "metadata": {},
     "output_type": "execute_result"
    }
   ],
   "source": [
    "df3.fillna('R')"
   ]
  },
  {
   "cell_type": "code",
   "execution_count": 117,
   "id": "bede307e",
   "metadata": {
    "scrolled": true
   },
   "outputs": [
    {
     "data": {
      "text/html": [
       "<div>\n",
       "<style scoped>\n",
       "    .dataframe tbody tr th:only-of-type {\n",
       "        vertical-align: middle;\n",
       "    }\n",
       "\n",
       "    .dataframe tbody tr th {\n",
       "        vertical-align: top;\n",
       "    }\n",
       "\n",
       "    .dataframe thead th {\n",
       "        text-align: right;\n",
       "    }\n",
       "</style>\n",
       "<table border=\"1\" class=\"dataframe\">\n",
       "  <thead>\n",
       "    <tr style=\"text-align: right;\">\n",
       "      <th></th>\n",
       "      <th>Order</th>\n",
       "      <th>Gender</th>\n",
       "      <th>DominantHand</th>\n",
       "    </tr>\n",
       "  </thead>\n",
       "  <tbody>\n",
       "    <tr>\n",
       "      <th>1</th>\n",
       "      <td>2</td>\n",
       "      <td>Female</td>\n",
       "      <td>R</td>\n",
       "    </tr>\n",
       "    <tr>\n",
       "      <th>2</th>\n",
       "      <td>3</td>\n",
       "      <td>Male</td>\n",
       "      <td>R</td>\n",
       "    </tr>\n",
       "    <tr>\n",
       "      <th>3</th>\n",
       "      <td>4</td>\n",
       "      <td>Male</td>\n",
       "      <td>R</td>\n",
       "    </tr>\n",
       "    <tr>\n",
       "      <th>4</th>\n",
       "      <td>5</td>\n",
       "      <td>Male</td>\n",
       "      <td>L</td>\n",
       "    </tr>\n",
       "    <tr>\n",
       "      <th>5</th>\n",
       "      <td>6</td>\n",
       "      <td>Male</td>\n",
       "      <td>R</td>\n",
       "    </tr>\n",
       "    <tr>\n",
       "      <th>6</th>\n",
       "      <td>7</td>\n",
       "      <td>Male</td>\n",
       "      <td>L</td>\n",
       "    </tr>\n",
       "    <tr>\n",
       "      <th>7</th>\n",
       "      <td>8</td>\n",
       "      <td>Male</td>\n",
       "      <td>R</td>\n",
       "    </tr>\n",
       "    <tr>\n",
       "      <th>8</th>\n",
       "      <td>9</td>\n",
       "      <td>Male</td>\n",
       "      <td>R</td>\n",
       "    </tr>\n",
       "    <tr>\n",
       "      <th>9</th>\n",
       "      <td>10</td>\n",
       "      <td>Female</td>\n",
       "      <td>R</td>\n",
       "    </tr>\n",
       "    <tr>\n",
       "      <th>10</th>\n",
       "      <td>11</td>\n",
       "      <td>Female</td>\n",
       "      <td>R</td>\n",
       "    </tr>\n",
       "    <tr>\n",
       "      <th>11</th>\n",
       "      <td>12</td>\n",
       "      <td>Female</td>\n",
       "      <td>L</td>\n",
       "    </tr>\n",
       "    <tr>\n",
       "      <th>12</th>\n",
       "      <td>13</td>\n",
       "      <td>Female</td>\n",
       "      <td>L</td>\n",
       "    </tr>\n",
       "    <tr>\n",
       "      <th>13</th>\n",
       "      <td>14</td>\n",
       "      <td>Male</td>\n",
       "      <td>R</td>\n",
       "    </tr>\n",
       "    <tr>\n",
       "      <th>14</th>\n",
       "      <td>15</td>\n",
       "      <td>Male</td>\n",
       "      <td>L</td>\n",
       "    </tr>\n",
       "    <tr>\n",
       "      <th>15</th>\n",
       "      <td>16</td>\n",
       "      <td>Male</td>\n",
       "      <td>L</td>\n",
       "    </tr>\n",
       "    <tr>\n",
       "      <th>16</th>\n",
       "      <td>17</td>\n",
       "      <td>Male</td>\n",
       "      <td>R</td>\n",
       "    </tr>\n",
       "    <tr>\n",
       "      <th>17</th>\n",
       "      <td>18</td>\n",
       "      <td>Female</td>\n",
       "      <td>R</td>\n",
       "    </tr>\n",
       "    <tr>\n",
       "      <th>18</th>\n",
       "      <td>19</td>\n",
       "      <td>Female</td>\n",
       "      <td>R</td>\n",
       "    </tr>\n",
       "    <tr>\n",
       "      <th>19</th>\n",
       "      <td>20</td>\n",
       "      <td>Female</td>\n",
       "      <td>R</td>\n",
       "    </tr>\n",
       "  </tbody>\n",
       "</table>\n",
       "</div>"
      ],
      "text/plain": [
       "    Order  Gender DominantHand\n",
       "1       2  Female            R\n",
       "2       3    Male            R\n",
       "3       4    Male            R\n",
       "4       5    Male            L\n",
       "5       6    Male            R\n",
       "6       7    Male            L\n",
       "7       8    Male            R\n",
       "8       9    Male            R\n",
       "9      10  Female            R\n",
       "10     11  Female            R\n",
       "11     12  Female            L\n",
       "12     13  Female            L\n",
       "13     14    Male            R\n",
       "14     15    Male            L\n",
       "15     16    Male            L\n",
       "16     17    Male            R\n",
       "17     18  Female            R\n",
       "18     19  Female            R\n",
       "19     20  Female            R"
      ]
     },
     "execution_count": 117,
     "metadata": {},
     "output_type": "execute_result"
    }
   ],
   "source": [
    "df3.dropna()"
   ]
  },
  {
   "cell_type": "markdown",
   "id": "eeea6a7a",
   "metadata": {},
   "source": [
    "index()\tMethod returns index (row labels) of the DataFrame\n",
    "insert()\tMethod inserts a column into a DataFrame\n",
    "add()\tMethod returns addition of dataframe and other, element-wise (binary operator add)\n",
    "sub()\tMethod returns subtraction of dataframe and other, element-wise (binary operator sub)\n",
    "mul()\tMethod returns multiplication of dataframe and other, element-wise (binary operator mul)\n",
    "div()\tMethod returns floating division of dataframe and other, element-wise (binary operator truediv)\n",
    "unique()\tMethod extracts the unique values in the dataframe\n",
    "nunique()\tMethod returns count of the unique values in the dataframe\n",
    "value_counts()\tMethod counts the number of times each unique value occurs within the Series\n",
    "columns()\tMethod returns the column labels of the DataFrame\n",
    "axes()\tMethod returns a list representing the axes of the DataFrame\n",
    "isnull()\tMethod creates a Boolean Series for extracting rows with null values\n",
    "notnull()\tMethod creates a Boolean Series for extracting rows with non-null values\n",
    "between()\tMethod extracts rows where a column value falls in between a predefined range\n",
    "isin()\tMethod extracts rows from a DataFrame where a column value exists in a predefined collection\n",
    "dtypes()\tMethod returns a Series with the data type of each column. The result’s index is the original DataFrame’s columns\n",
    "astype()\tMethod converts the data types in a Series\n",
    "values()\tMethod returns a Numpy representation of the DataFrame i.e. only the values in the DataFrame will be returned, the axes labels will be removed\n",
    "sort_values()- Set1, Set2\tMethod sorts a data frame in Ascending or Descending order of passed Column\n",
    "sort_index()\tMethod sorts the values in a DataFrame based on their index positions or labels instead of their values but sometimes a data frame is made out of two or more data frames and hence later index can be changed using this method\n",
    "rename()\tMethod is called on a DataFrame to change the names of the index labels or column names\n",
    "columns()\tMethod is an alternative attribute to change the coloumn name\n",
    "drop()\tMethod is used to delete rows or columns from a DataFrame\n",
    "pop()\tMethod is used to delete rows or columns from a DataFrame\n",
    "sample()\tMethod pulls out a random sample of rows or columns from a DataFrame\n",
    "nsmallest()\tMethod pulls out the rows with the smallest values in a column\n",
    "nlargest()\tMethod pulls out the rows with the largest values in a column\n",
    "shape()\tMethod returns a tuple representing the dimensionality of the DataFrame\n",
    "ndim()\tMethod returns an ‘int’ representing the number of axes / array dimensions.\n",
    "Returns 1 if Series, otherwise returns 2 if DataFrame\n",
    "dropna()\tMethod allows the user to analyze and drop Rows/Columns with Null values in different ways\n",
    "fillna()\tMethod manages and let the user replace NaN values with some value of their own\n",
    "rank()\tValues in a Series can be ranked in order with this method\n",
    "query()\tMethod is an alternate string-based syntax for extracting a subset from a DataFrame\n",
    "copy()\tMethod creates an independent copy of a pandas object\n",
    "duplicated()\tMethod creates a Boolean Series and uses it to extract rows that have duplicate values\n",
    "drop_duplicates()\tMethod is an alternative option to identifying duplicate rows and removing them through filtering\n",
    "set_index()\tMethod sets the DataFrame index (row labels) using one or more existing columns\n",
    "reset_index()\tMethod resets index of a Data Frame. This method sets a list of integer ranging from 0 to length of data as index\n",
    "where()\tMethod is used to check a Data Frame for one or more condition and return the result accordingly. By default, the rows not satisfying the condition are filled with NaN value"
   ]
  },
  {
   "cell_type": "code",
   "execution_count": null,
   "id": "708d9bc8",
   "metadata": {
    "scrolled": true
   },
   "outputs": [],
   "source": []
  }
 ],
 "metadata": {
  "kernelspec": {
   "display_name": "Python 3 (ipykernel)",
   "language": "python",
   "name": "python3"
  },
  "language_info": {
   "codemirror_mode": {
    "name": "ipython",
    "version": 3
   },
   "file_extension": ".py",
   "mimetype": "text/x-python",
   "name": "python",
   "nbconvert_exporter": "python",
   "pygments_lexer": "ipython3",
   "version": "3.11.4"
  }
 },
 "nbformat": 4,
 "nbformat_minor": 5
}
