{
 "cells": [
  {
   "cell_type": "markdown",
   "metadata": {},
   "source": [
    "## Homework 5\n",
    "### Data 220\n",
    "### Sungwon Lee\n",
    "### 017473950"
   ]
  },
  {
   "cell_type": "code",
   "execution_count": 1,
   "metadata": {
    "tags": []
   },
   "outputs": [],
   "source": [
    "import numpy as np\n",
    "import pandas as pd\n",
    "import matplotlib.pyplot as plt\n",
    "import scipy.linalg as la\n",
    "import numpy.linalg as nla\n",
    "import random"
   ]
  },
  {
   "cell_type": "code",
   "execution_count": 2,
   "metadata": {
    "tags": []
   },
   "outputs": [],
   "source": [
    "np.random.seed(220)"
   ]
  },
  {
   "cell_type": "markdown",
   "metadata": {},
   "source": [
    "# Q1. Least Squares Method (10 Points)"
   ]
  },
  {
   "cell_type": "markdown",
   "metadata": {},
   "source": [
    "### 1A. Generate data x, y, and z by following: (5 points)"
   ]
  },
  {
   "cell_type": "code",
   "execution_count": 3,
   "metadata": {
    "tags": []
   },
   "outputs": [],
   "source": [
    "# 1.A.1\n",
    "\n",
    "a0, a1, a2 = 2, 3, 2"
   ]
  },
  {
   "cell_type": "code",
   "execution_count": 4,
   "metadata": {
    "tags": []
   },
   "outputs": [],
   "source": [
    "# 1.A.2\n",
    "\n",
    "ndata = 1000"
   ]
  },
  {
   "cell_type": "code",
   "execution_count": 5,
   "metadata": {
    "tags": []
   },
   "outputs": [],
   "source": [
    "# 1.A.3\n",
    "\n",
    "x = np.random.rand(ndata)\n",
    "y = np.random.rand(ndata)\n",
    "\n",
    "# print(x)\n",
    "# print(y)"
   ]
  },
  {
   "cell_type": "code",
   "execution_count": 6,
   "metadata": {
    "tags": []
   },
   "outputs": [],
   "source": [
    "# 1.A.4\n",
    "\n",
    "noise = 0.01*np.random.randn()"
   ]
  },
  {
   "cell_type": "code",
   "execution_count": 7,
   "metadata": {
    "tags": []
   },
   "outputs": [],
   "source": [
    "# 1.A.5\n",
    "\n",
    "z = a0 + a1*x + a2*y + noise"
   ]
  },
  {
   "cell_type": "markdown",
   "metadata": {
    "tags": []
   },
   "source": [
    "### 1B. Do least squares and find the corresponding a0*, a1*, a2* (5 points)"
   ]
  },
  {
   "cell_type": "code",
   "execution_count": 8,
   "metadata": {
    "tags": []
   },
   "outputs": [
    {
     "name": "stdout",
     "output_type": "stream",
     "text": [
      "Original Coefficients: a0 = 2, a1 = 3, a2 = 2\n",
      "Least Squares Coefficients: a0 = 2.011486156986056, a1 = 2.999999999999998, a2 = 2.0000000000000018\n"
     ]
    }
   ],
   "source": [
    "A = np.vstack([np.ones(ndata), x, y]).T\n",
    "result = np.linalg.lstsq(A, z, rcond=None)\n",
    "\n",
    "a0_ls, a1_ls, a2_ls = result[0]\n",
    "\n",
    "# Print the results\n",
    "print(f\"Original Coefficients: a0 = {a0}, a1 = {a1}, a2 = {a2}\")\n",
    "print(f\"Least Squares Coefficients: a0 = {a0_ls}, a1 = {a1_ls}, a2 = {a2_ls}\")"
   ]
  },
  {
   "cell_type": "markdown",
   "metadata": {},
   "source": [
    "# Q2. Linear Independence (5 Points)"
   ]
  },
  {
   "cell_type": "markdown",
   "metadata": {},
   "source": [
    "We have three vectors, v1 = (1, -2, 3), v2 = (-2, 4, -6), and v3 = (3, -6, 9). Please check that these vectors\n",
    "are linearly independent or not using python code. "
   ]
  },
  {
   "cell_type": "code",
   "execution_count": 9,
   "metadata": {
    "tags": []
   },
   "outputs": [],
   "source": [
    "v1, v2, v3 = np.array([1,-2, 3]),np.array([-2, 4, -6]), np.array([3, -6, 9]) "
   ]
  },
  {
   "cell_type": "code",
   "execution_count": 10,
   "metadata": {
    "tags": []
   },
   "outputs": [
    {
     "data": {
      "text/plain": [
       "array([[ 1, -2,  3],\n",
       "       [-2,  4, -6],\n",
       "       [ 3, -6,  9]])"
      ]
     },
     "execution_count": 10,
     "metadata": {},
     "output_type": "execute_result"
    }
   ],
   "source": [
    "# create matrix V\n",
    "V = np.array([v1, v2, v3])\n",
    "V"
   ]
  },
  {
   "cell_type": "code",
   "execution_count": 11,
   "metadata": {
    "tags": []
   },
   "outputs": [
    {
     "name": "stdout",
     "output_type": "stream",
     "text": [
      "Vectors are linearly dependent.\n"
     ]
    }
   ],
   "source": [
    "# Create a matrix with these vectors as columns\n",
    "V = np.column_stack((v1, v2, v3))\n",
    "\n",
    "# Check if the vectors are linearly independent\n",
    "if np.linalg.matrix_rank(V) == len([v1, v2, v3]):\n",
    "    print(\"Vectors are linearly independent.\")\n",
    "else:\n",
    "    print(\"Vectors are linearly dependent.\")"
   ]
  },
  {
   "cell_type": "markdown",
   "metadata": {},
   "source": [
    "Since the rank of the matrix V is not equal to the number of vectors(v1, v2, v3), we can conclude that these vectors are linearly dependent. "
   ]
  },
  {
   "cell_type": "markdown",
   "metadata": {},
   "source": [
    "# Q3. Demonstrate using Python Code (5 Points)"
   ]
  },
  {
   "cell_type": "markdown",
   "metadata": {},
   "source": [
    "###  3A. Take two vectors of 3 elements each and perform the following\n"
   ]
  },
  {
   "cell_type": "markdown",
   "metadata": {
    "tags": []
   },
   "source": [
    "#### 3.A.1. Find the Normal form of  both the Vectors."
   ]
  },
  {
   "cell_type": "code",
   "execution_count": 12,
   "metadata": {
    "tags": []
   },
   "outputs": [
    {
     "name": "stdout",
     "output_type": "stream",
     "text": [
      "vector 1: [1 2 4]\n",
      "vector 2: [0 1 2]\n",
      "Normal form of vector 1: 4.58257569495584\n",
      "Normal form of vector 2: 2.23606797749979\n"
     ]
    }
   ],
   "source": [
    "# Define two vectors\n",
    "\n",
    "v1 = np.array([np.random.randint(0,9),np.random.randint(0,9),np.random.randint(0,9)])\n",
    "v2 = np.array([np.random.randint(0,9),np.random.randint(0,9),np.random.randint(0,9)])\n",
    "\n",
    "print(f\"vector 1: {v1}\")\n",
    "print(f\"vector 2: {v2}\")\n",
    "\n",
    "# Calculate the norms\n",
    "norm_v1 = np.linalg.norm(v1)\n",
    "norm_v2 = np.linalg.norm(v2)\n",
    "\n",
    "print(f\"Normal form of vector 1: {norm_v1}\")\n",
    "print(f\"Normal form of vector 2: {norm_v2}\")"
   ]
  },
  {
   "cell_type": "markdown",
   "metadata": {
    "tags": []
   },
   "source": [
    "#### 3.A.2. Find the Dot Product of the two Vectors."
   ]
  },
  {
   "cell_type": "code",
   "execution_count": 13,
   "metadata": {
    "tags": []
   },
   "outputs": [
    {
     "name": "stdout",
     "output_type": "stream",
     "text": [
      "The Dot Product of the two vectors is: 10\n"
     ]
    }
   ],
   "source": [
    "print(f\"The Dot Product of the two vectors is: {v1@v2}\")"
   ]
  },
  {
   "cell_type": "markdown",
   "metadata": {},
   "source": [
    "### 3B.  Take a 3x3 Matrix and perform the following"
   ]
  },
  {
   "cell_type": "markdown",
   "metadata": {},
   "source": [
    "#### 3.B.1. Show the Shape of the matrix"
   ]
  },
  {
   "cell_type": "code",
   "execution_count": 14,
   "metadata": {
    "tags": []
   },
   "outputs": [
    {
     "name": "stdout",
     "output_type": "stream",
     "text": [
      "Matrix: \n",
      " [[8 1 5]\n",
      " [5 6 6]\n",
      " [8 8 2]]\n",
      "Shape of the matrix: (3, 3)\n"
     ]
    }
   ],
   "source": [
    "# Define Matrix\n",
    "\n",
    "v1 = np.array([np.random.randint(0,9),np.random.randint(0,9),np.random.randint(0,9)])\n",
    "v2 = np.array([np.random.randint(0,9),np.random.randint(0,9),np.random.randint(0,9)])\n",
    "v3 = np.array([np.random.randint(0,9),np.random.randint(0,9),np.random.randint(0,9)])\n",
    "\n",
    "V = np.array([v1, v2, v3])\n",
    "\n",
    "print(\"Matrix: \\n\",V)\n",
    "print(f\"Shape of the matrix: {V.shape}\")"
   ]
  },
  {
   "cell_type": "markdown",
   "metadata": {},
   "source": [
    "#### 3.B.2. Find the Inverse of the Transpose of the Matrix"
   ]
  },
  {
   "cell_type": "code",
   "execution_count": 15,
   "metadata": {
    "tags": []
   },
   "outputs": [
    {
     "name": "stdout",
     "output_type": "stream",
     "text": [
      "Inverse of the Transpose of the Matrix V: \n",
      " [[ 0.12413793 -0.13103448  0.02758621]\n",
      " [-0.13103448  0.08275862  0.19310345]\n",
      " [ 0.08275862  0.07931034 -0.14827586]]\n"
     ]
    }
   ],
   "source": [
    "InvT_V = np.linalg.inv(V.T)\n",
    "print(\"Inverse of the Transpose of the Matrix V: \\n\", InvT_V)"
   ]
  },
  {
   "cell_type": "markdown",
   "metadata": {},
   "source": [
    "#### 3.B.3. Find the Rank of the Matrix"
   ]
  },
  {
   "cell_type": "code",
   "execution_count": 16,
   "metadata": {
    "tags": []
   },
   "outputs": [
    {
     "name": "stdout",
     "output_type": "stream",
     "text": [
      "Rank of the Matrix V: 3\n"
     ]
    }
   ],
   "source": [
    "print(f\"Rank of the Matrix V: {np.linalg.matrix_rank(V)}\")"
   ]
  }
 ],
 "metadata": {
  "kernelspec": {
   "display_name": "Python 3 (ipykernel)",
   "language": "python",
   "name": "python3"
  },
  "language_info": {
   "codemirror_mode": {
    "name": "ipython",
    "version": 3
   },
   "file_extension": ".py",
   "mimetype": "text/x-python",
   "name": "python",
   "nbconvert_exporter": "python",
   "pygments_lexer": "ipython3",
   "version": "3.11.4"
  },
  "vscode": {
   "interpreter": {
    "hash": "0242e30884514878fc595dea871c0426108da91e03f705214d5f223d92d1ae7e"
   }
  }
 },
 "nbformat": 4,
 "nbformat_minor": 4
}
