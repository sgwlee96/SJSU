{
 "cells": [
  {
   "cell_type": "markdown",
   "id": "55b1ee3f",
   "metadata": {},
   "source": [
    "# DEMO - 8/21/23"
   ]
  },
  {
   "cell_type": "markdown",
   "id": "41b982e6",
   "metadata": {},
   "source": [
    "# Python for Data Analysis"
   ]
  },
  {
   "cell_type": "code",
   "execution_count": 41,
   "id": "7ff65ba2",
   "metadata": {},
   "outputs": [
    {
     "name": "stdout",
     "output_type": "stream",
     "text": [
      "Hello and welcome Sowmya!\n"
     ]
    }
   ],
   "source": [
    "your_name = \"Sowmya\"\n",
    "print(\"Hello and welcome \" + your_name + \"!\")"
   ]
  },
  {
   "cell_type": "markdown",
   "id": "34567ee3",
   "metadata": {},
   "source": [
    "# Lists"
   ]
  },
  {
   "cell_type": "code",
   "execution_count": 42,
   "id": "648001af",
   "metadata": {},
   "outputs": [],
   "source": [
    "skills_list = [\"PYTHON\", \"SQL\", \"R\", \"EXCEL\", \"ETL\"]"
   ]
  },
  {
   "cell_type": "code",
   "execution_count": 43,
   "id": "ed8e33e4",
   "metadata": {},
   "outputs": [
    {
     "data": {
      "text/plain": [
       "['PYTHON', 'SQL', 'R', 'EXCEL', 'ETL']"
      ]
     },
     "execution_count": 43,
     "metadata": {},
     "output_type": "execute_result"
    }
   ],
   "source": [
    "skills_list"
   ]
  },
  {
   "cell_type": "code",
   "execution_count": 44,
   "id": "3a5e1e2e",
   "metadata": {},
   "outputs": [],
   "source": [
    "skills_list.append(\"NoSQL\")"
   ]
  },
  {
   "cell_type": "code",
   "execution_count": 45,
   "id": "c32a295d",
   "metadata": {},
   "outputs": [
    {
     "data": {
      "text/plain": [
       "['PYTHON', 'SQL', 'R', 'EXCEL', 'ETL', 'NoSQL']"
      ]
     },
     "execution_count": 45,
     "metadata": {},
     "output_type": "execute_result"
    }
   ],
   "source": [
    "skills_list"
   ]
  },
  {
   "cell_type": "markdown",
   "id": "0595e658",
   "metadata": {},
   "source": [
    "# Control Structures"
   ]
  },
  {
   "cell_type": "code",
   "execution_count": 46,
   "id": "ddfa89b3",
   "metadata": {},
   "outputs": [
    {
     "name": "stdout",
     "output_type": "stream",
     "text": [
      "PYTHON\n",
      "SQL\n",
      "R\n",
      "EXCEL\n",
      "ETL\n",
      "NoSQL\n"
     ]
    }
   ],
   "source": [
    "for i in skills_list:\n",
    "    print(i)"
   ]
  },
  {
   "cell_type": "markdown",
   "id": "0fe0b80d",
   "metadata": {},
   "source": [
    "# Functions"
   ]
  },
  {
   "cell_type": "code",
   "execution_count": 47,
   "id": "47e9851c",
   "metadata": {},
   "outputs": [
    {
     "name": "stdout",
     "output_type": "stream",
     "text": [
      "The class average of Sec23 is 55.0\n"
     ]
    }
   ],
   "source": [
    "class_score = [10,20,30,40,50,60,70,80,90,100]\n",
    "\n",
    "def class_average(class_score):\n",
    "    sum = 0\n",
    "    for i in class_score:\n",
    "        sum = sum + i\n",
    "    average = sum/len(class_score)\n",
    "    return average\n",
    "\n",
    "print(\"The class average of Sec23 is\", class_average(class_score))\n"
   ]
  },
  {
   "cell_type": "markdown",
   "id": "3623917f",
   "metadata": {},
   "source": [
    "# Numpy for Numerical Computations"
   ]
  },
  {
   "cell_type": "code",
   "execution_count": 48,
   "id": "a1e6488f",
   "metadata": {},
   "outputs": [
    {
     "name": "stdout",
     "output_type": "stream",
     "text": [
      "The class average of Sec23 is 55.0\n"
     ]
    }
   ],
   "source": [
    "import numpy as np\n",
    "\n",
    "numpy_class_scores = np.array(class_score)\n",
    "average = np.mean(numpy_class_scores)\n",
    "print(\"The class average of Sec23 is\", average)\n"
   ]
  },
  {
   "cell_type": "markdown",
   "id": "7a63d99e",
   "metadata": {},
   "source": [
    "# Pandas for Data Manipulation and Analysis"
   ]
  },
  {
   "cell_type": "code",
   "execution_count": 51,
   "id": "563ce4c8",
   "metadata": {},
   "outputs": [
    {
     "data": {
      "text/html": [
       "<div>\n",
       "<style scoped>\n",
       "    .dataframe tbody tr th:only-of-type {\n",
       "        vertical-align: middle;\n",
       "    }\n",
       "\n",
       "    .dataframe tbody tr th {\n",
       "        vertical-align: top;\n",
       "    }\n",
       "\n",
       "    .dataframe thead th {\n",
       "        text-align: right;\n",
       "    }\n",
       "</style>\n",
       "<table border=\"1\" class=\"dataframe\">\n",
       "  <thead>\n",
       "    <tr style=\"text-align: right;\">\n",
       "      <th></th>\n",
       "      <th>Python</th>\n",
       "      <th>Sql</th>\n",
       "      <th>ML</th>\n",
       "      <th>Tableau</th>\n",
       "      <th>Excel</th>\n",
       "      <th>Student Placed</th>\n",
       "    </tr>\n",
       "  </thead>\n",
       "  <tbody>\n",
       "    <tr>\n",
       "      <th>0</th>\n",
       "      <td>0.80</td>\n",
       "      <td>0.57</td>\n",
       "      <td>0.63</td>\n",
       "      <td>0.50</td>\n",
       "      <td>0.34</td>\n",
       "      <td>Yes</td>\n",
       "    </tr>\n",
       "    <tr>\n",
       "      <th>1</th>\n",
       "      <td>0.81</td>\n",
       "      <td>0.90</td>\n",
       "      <td>0.62</td>\n",
       "      <td>0.71</td>\n",
       "      <td>0.92</td>\n",
       "      <td>No</td>\n",
       "    </tr>\n",
       "    <tr>\n",
       "      <th>2</th>\n",
       "      <td>0.49</td>\n",
       "      <td>0.69</td>\n",
       "      <td>0.62</td>\n",
       "      <td>0.64</td>\n",
       "      <td>0.41</td>\n",
       "      <td>No</td>\n",
       "    </tr>\n",
       "    <tr>\n",
       "      <th>3</th>\n",
       "      <td>0.40</td>\n",
       "      <td>0.94</td>\n",
       "      <td>0.60</td>\n",
       "      <td>0.26</td>\n",
       "      <td>0.47</td>\n",
       "      <td>No</td>\n",
       "    </tr>\n",
       "    <tr>\n",
       "      <th>4</th>\n",
       "      <td>0.31</td>\n",
       "      <td>0.87</td>\n",
       "      <td>1.00</td>\n",
       "      <td>0.23</td>\n",
       "      <td>0.99</td>\n",
       "      <td>No</td>\n",
       "    </tr>\n",
       "  </tbody>\n",
       "</table>\n",
       "</div>"
      ],
      "text/plain": [
       "   Python   Sql    ML  Tableau  Excel Student Placed\n",
       "0    0.80  0.57  0.63     0.50   0.34            Yes\n",
       "1    0.81  0.90  0.62     0.71   0.92             No\n",
       "2    0.49  0.69  0.62     0.64   0.41             No\n",
       "3    0.40  0.94  0.60     0.26   0.47             No\n",
       "4    0.31  0.87  1.00     0.23   0.99             No"
      ]
     },
     "execution_count": 51,
     "metadata": {},
     "output_type": "execute_result"
    }
   ],
   "source": [
    "import pandas as pd\n",
    "\n",
    "df = pd.read_csv('scores.csv')\n",
    "df.head()"
   ]
  },
  {
   "cell_type": "code",
   "execution_count": 50,
   "id": "44419f5a",
   "metadata": {},
   "outputs": [
    {
     "data": {
      "text/html": [
       "<div>\n",
       "<style scoped>\n",
       "    .dataframe tbody tr th:only-of-type {\n",
       "        vertical-align: middle;\n",
       "    }\n",
       "\n",
       "    .dataframe tbody tr th {\n",
       "        vertical-align: top;\n",
       "    }\n",
       "\n",
       "    .dataframe thead th {\n",
       "        text-align: right;\n",
       "    }\n",
       "</style>\n",
       "<table border=\"1\" class=\"dataframe\">\n",
       "  <thead>\n",
       "    <tr style=\"text-align: right;\">\n",
       "      <th></th>\n",
       "      <th>Python</th>\n",
       "      <th>Sql</th>\n",
       "      <th>ML</th>\n",
       "      <th>Tableau</th>\n",
       "      <th>Excel</th>\n",
       "    </tr>\n",
       "  </thead>\n",
       "  <tbody>\n",
       "    <tr>\n",
       "      <th>count</th>\n",
       "      <td>200.000000</td>\n",
       "      <td>200.000000</td>\n",
       "      <td>200.000000</td>\n",
       "      <td>200.000000</td>\n",
       "      <td>200.000000</td>\n",
       "    </tr>\n",
       "    <tr>\n",
       "      <th>mean</th>\n",
       "      <td>0.514100</td>\n",
       "      <td>0.495850</td>\n",
       "      <td>0.514350</td>\n",
       "      <td>0.495150</td>\n",
       "      <td>0.474950</td>\n",
       "    </tr>\n",
       "    <tr>\n",
       "      <th>std</th>\n",
       "      <td>0.305749</td>\n",
       "      <td>0.290694</td>\n",
       "      <td>0.285211</td>\n",
       "      <td>0.292463</td>\n",
       "      <td>0.281686</td>\n",
       "    </tr>\n",
       "    <tr>\n",
       "      <th>min</th>\n",
       "      <td>0.000000</td>\n",
       "      <td>0.010000</td>\n",
       "      <td>0.000000</td>\n",
       "      <td>0.010000</td>\n",
       "      <td>0.000000</td>\n",
       "    </tr>\n",
       "    <tr>\n",
       "      <th>25%</th>\n",
       "      <td>0.237500</td>\n",
       "      <td>0.227500</td>\n",
       "      <td>0.267500</td>\n",
       "      <td>0.240000</td>\n",
       "      <td>0.227500</td>\n",
       "    </tr>\n",
       "    <tr>\n",
       "      <th>50%</th>\n",
       "      <td>0.545000</td>\n",
       "      <td>0.490000</td>\n",
       "      <td>0.540000</td>\n",
       "      <td>0.500000</td>\n",
       "      <td>0.485000</td>\n",
       "    </tr>\n",
       "    <tr>\n",
       "      <th>75%</th>\n",
       "      <td>0.800000</td>\n",
       "      <td>0.740000</td>\n",
       "      <td>0.770000</td>\n",
       "      <td>0.740000</td>\n",
       "      <td>0.702500</td>\n",
       "    </tr>\n",
       "    <tr>\n",
       "      <th>max</th>\n",
       "      <td>1.000000</td>\n",
       "      <td>1.000000</td>\n",
       "      <td>1.000000</td>\n",
       "      <td>1.000000</td>\n",
       "      <td>0.990000</td>\n",
       "    </tr>\n",
       "  </tbody>\n",
       "</table>\n",
       "</div>"
      ],
      "text/plain": [
       "           Python         Sql          ML     Tableau       Excel\n",
       "count  200.000000  200.000000  200.000000  200.000000  200.000000\n",
       "mean     0.514100    0.495850    0.514350    0.495150    0.474950\n",
       "std      0.305749    0.290694    0.285211    0.292463    0.281686\n",
       "min      0.000000    0.010000    0.000000    0.010000    0.000000\n",
       "25%      0.237500    0.227500    0.267500    0.240000    0.227500\n",
       "50%      0.545000    0.490000    0.540000    0.500000    0.485000\n",
       "75%      0.800000    0.740000    0.770000    0.740000    0.702500\n",
       "max      1.000000    1.000000    1.000000    1.000000    0.990000"
      ]
     },
     "execution_count": 50,
     "metadata": {},
     "output_type": "execute_result"
    }
   ],
   "source": [
    "df.describe()"
   ]
  },
  {
   "cell_type": "markdown",
   "id": "97a509ce",
   "metadata": {},
   "source": [
    "# Matplotlib for Data Visualization"
   ]
  },
  {
   "cell_type": "code",
   "execution_count": 37,
   "id": "d315203d",
   "metadata": {},
   "outputs": [],
   "source": [
    "import matplotlib.pyplot as plt\n",
    "\n",
    "placed_students = df[df['Student Placed'] == 'Yes']\n",
    "\n",
    "placed_count = len(placed_students)\n",
    "not_placed_count = len(df) - placed_count\n",
    "\n",
    "labels = ['Placed', 'Not Placed']\n",
    "counts = [placed_count, not_placed_count]"
   ]
  },
  {
   "cell_type": "code",
   "execution_count": 38,
   "id": "cf91b62f",
   "metadata": {},
   "outputs": [
    {
     "data": {
      "image/png": "[encoded data removed]",
      "text/plain": [
       "<Figure size 640x480 with 1 Axes>"
      ]
     },
     "metadata": {},
     "output_type": "display_data"
    }
   ],
   "source": [
    "plt.bar(labels, counts, color=['green', 'red'])\n",
    "\n",
    "plt.title('Students Placed vs. Not Placed')\n",
    "plt.xlabel('Placement Status')\n",
    "plt.ylabel('Number of Students')\n",
    "\n",
    "plt.show()\n"
   ]
  }
 ],
 "metadata": {
  "kernelspec": {
   "display_name": "Python 3 (ipykernel)",
   "language": "python",
   "name": "python3"
  },
  "language_info": {
   "codemirror_mode": {
    "name": "ipython",
    "version": 3
   },
   "file_extension": ".py",
   "mimetype": "text/x-python",
   "name": "python",
   "nbconvert_exporter": "python",
   "pygments_lexer": "ipython3",
   "version": "3.11.4"
  }
 },
 "nbformat": 4,
 "nbformat_minor": 5
}
