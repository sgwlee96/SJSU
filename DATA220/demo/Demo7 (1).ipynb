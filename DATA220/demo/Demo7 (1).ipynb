{
 "cells": [
  {
   "cell_type": "markdown",
   "id": "9a182ee2",
   "metadata": {},
   "source": [
    "# Least Squared Method"
   ]
  },
  {
   "cell_type": "code",
   "execution_count": 65,
   "id": "dcee14ed",
   "metadata": {},
   "outputs": [],
   "source": [
    "import matplotlib.pyplot as plt\n",
    "import numpy.linalg as la"
   ]
  },
  {
   "cell_type": "code",
   "execution_count": 63,
   "id": "4dab61a4",
   "metadata": {},
   "outputs": [
    {
     "data": {
      "image/png": "[encoded data removed]",
      "text/plain": [
       "<Figure size 640x480 with 1 Axes>"
      ]
     },
     "metadata": {},
     "output_type": "display_data"
    }
   ],
   "source": [
    "a0 = 2\n",
    "a1 = 3\n",
    "N = 1000\n",
    "x = np.random.rand(N)\n",
    "noise = 0.1 * np.random.rand(N)\n",
    "y = a0 + a1*x + noise\n",
    "plt.scatter(x,y)\n",
    "plt.show()"
   ]
  },
  {
   "cell_type": "raw",
   "id": "155d63fb",
   "metadata": {},
   "source": [
    "* a0 = 2 and a1 = 3: These are constants used to create a linear relationship between x and y in the synthetic dataset. Specifically, the relationship is y = a0 + a1 * x.\n",
    "* N = 1000: This variable defines the number of data points in the dataset. In this case, you are generating 1000 data points.\n",
    "* x = np.random.rand(N): This line generates an array of random numbers between 0 and 1 using numpy's rand function. The length of the array is N, which is 1000 in this case. This array represents the independent variable x.\n",
    "* noise = 0.1 * np.random.rand(N): This line generates another array of random numbers between 0 and 0.1 (scaled by a factor of 0.1) using numpy's rand function. This array represents random noise that is added to the linear relationship to make the dataset more realistic.\n",
    "* y = a0 + a1 * x + noise: This line calculates the dependent variable y based on the linear relationship y = a0 + a1 * x and adds the random noise. This simulates a dataset where y is influenced by x with some random variation."
   ]
  },
  {
   "cell_type": "code",
   "execution_count": 66,
   "id": "cbf96ba8",
   "metadata": {},
   "outputs": [
    {
     "name": "stdout",
     "output_type": "stream",
     "text": [
      "(1000, 2)\n",
      "[2.04893162 3.00126377]\n"
     ]
    }
   ],
   "source": [
    "X = np.column_stack([np.ones(N),x])\n",
    "print(X.shape)\n",
    "a = la.solve(X.T@X,X.T@y)\n",
    "print(a)"
   ]
  },
  {
   "cell_type": "markdown",
   "id": "f1dfa77b",
   "metadata": {},
   "source": [
    "# Eigen Values and Eigen Vectors"
   ]
  },
  {
   "cell_type": "raw",
   "id": "aa800d3f",
   "metadata": {},
   "source": [
    "Eigenvalue:\n",
    "\n",
    "An eigenvalue is a scalar (a single number) that is associated with a square matrix. It represents a scaling factor by which an eigenvector is stretched or compressed when the matrix is applied to it.\n",
    "Mathematically, for a square matrix A, an eigenvalue λ and its corresponding eigenvector v satisfy the equation: \n",
    "Av = λv.\n",
    "\n",
    "Eigenvector:\n",
    "\n",
    "An eigenvector is a nonzero vector that remains in the same direction (or parallel) after the application of a square matrix A, except that it may be scaled by the corresponding eigenvalue λ.\n",
    "Eigenvectors are associated with eigenvalues, and they provide insight into the transformation properties of a matrix.\n",
    "\n",
    "To those of you intrested to calculate EVs by hand :https://www.youtube.com/watch?v=IdsV0RaC9jM&t=4s"
   ]
  },
  {
   "cell_type": "code",
   "execution_count": 2,
   "id": "e850246e",
   "metadata": {},
   "outputs": [],
   "source": [
    "import numpy as np\n",
    "import numpy.linalg as nla\n",
    "import scipy.linalg as sla"
   ]
  },
  {
   "cell_type": "code",
   "execution_count": 3,
   "id": "1f12fea6",
   "metadata": {},
   "outputs": [],
   "source": [
    "A = np.array([[5, -2],[0,1]])\n",
    "evalue, evector = nla.eig(A)"
   ]
  },
  {
   "cell_type": "code",
   "execution_count": 4,
   "id": "688c78be",
   "metadata": {},
   "outputs": [
    {
     "name": "stdout",
     "output_type": "stream",
     "text": [
      "[5. 1.]\n"
     ]
    }
   ],
   "source": [
    "print(evalue)"
   ]
  },
  {
   "cell_type": "code",
   "execution_count": 5,
   "id": "988d3380",
   "metadata": {},
   "outputs": [
    {
     "name": "stdout",
     "output_type": "stream",
     "text": [
      "[[1.         0.4472136 ]\n",
      " [0.         0.89442719]]\n"
     ]
    }
   ],
   "source": [
    "print(evector)"
   ]
  },
  {
   "cell_type": "code",
   "execution_count": 6,
   "id": "11ea86f4",
   "metadata": {},
   "outputs": [],
   "source": [
    "evalue1, evector1 = sla.eig(A)"
   ]
  },
  {
   "cell_type": "code",
   "execution_count": 7,
   "id": "faeed77a",
   "metadata": {},
   "outputs": [
    {
     "name": "stdout",
     "output_type": "stream",
     "text": [
      "[5.+0.j 1.+0.j]\n"
     ]
    }
   ],
   "source": [
    "print(evalue1)"
   ]
  },
  {
   "cell_type": "code",
   "execution_count": 8,
   "id": "a3aad0d6",
   "metadata": {},
   "outputs": [
    {
     "name": "stdout",
     "output_type": "stream",
     "text": [
      "[5. 1.]\n"
     ]
    }
   ],
   "source": [
    "print(evalue1.real)"
   ]
  },
  {
   "cell_type": "code",
   "execution_count": 9,
   "id": "15883f0d",
   "metadata": {},
   "outputs": [
    {
     "name": "stdout",
     "output_type": "stream",
     "text": [
      "[[1.         0.4472136 ]\n",
      " [0.         0.89442719]]\n"
     ]
    }
   ],
   "source": [
    "print(evector1)"
   ]
  },
  {
   "cell_type": "code",
   "execution_count": 14,
   "id": "8a8a3a7a",
   "metadata": {},
   "outputs": [
    {
     "data": {
      "text/plain": [
       "array([[5.        , 0.4472136 ],\n",
       "       [0.        , 0.89442719]])"
      ]
     },
     "execution_count": 14,
     "metadata": {},
     "output_type": "execute_result"
    }
   ],
   "source": [
    "evalue*evector"
   ]
  },
  {
   "cell_type": "code",
   "execution_count": 12,
   "id": "afd1cb43",
   "metadata": {},
   "outputs": [
    {
     "data": {
      "text/plain": [
       "array([[5.        , 0.4472136 ],\n",
       "       [0.        , 0.89442719]])"
      ]
     },
     "execution_count": 12,
     "metadata": {},
     "output_type": "execute_result"
    }
   ],
   "source": [
    "A@evector"
   ]
  },
  {
   "cell_type": "raw",
   "id": "b6bd7b82",
   "metadata": {},
   "source": [
    "Eigenvalues and eigenvectors are used in various applications, such as solving systems of linear differential equations, diagonalizing matrices, and understanding the behavior of linear transformations. They are essential tools in linear algebra for studying the properties and behavior of linear systems."
   ]
  },
  {
   "cell_type": "markdown",
   "id": "04588185",
   "metadata": {},
   "source": [
    "# Singular Value Decomposition"
   ]
  },
  {
   "cell_type": "raw",
   "id": "95e87705",
   "metadata": {},
   "source": [
    "Singular Value Decomposition (SVD) is a fundamental matrix factorization technique in linear algebra. It is a way to decompose a matrix into three simpler matrices, which can be useful for various mathematical and practical applications, such as data compression, dimensionality reduction, image processing, and solving linear systems. \n",
    "SVD is widely used in fields like machine learning, signal processing, and data analysis.\n",
    "\n",
    "Mathematically, given a rectangular matrix A (with dimensions m x n), SVD factorizes it into three matrices as follows:\n",
    "\n",
    "U (m x m): Left singular vectors matrix\n",
    "Σ (m x n): Diagonal matrix of singular values (non-negative, ordered in descending order)\n",
    "V^T (n x n): Right singular vectors matrix (the transpose of V)\n",
    "The SVD of a matrix A is expressed as:\n",
    "A = U Σ V^T"
   ]
  },
  {
   "cell_type": "code",
   "execution_count": 30,
   "id": "1240a8f4",
   "metadata": {},
   "outputs": [],
   "source": [
    "from scipy.linalg import svd as SVD"
   ]
  },
  {
   "cell_type": "code",
   "execution_count": 31,
   "id": "30a8f5ac",
   "metadata": {},
   "outputs": [
    {
     "name": "stdout",
     "output_type": "stream",
     "text": [
      "[[1 1 1 0 0]\n",
      " [3 3 3 0 0]\n",
      " [4 4 4 0 0]\n",
      " [5 5 5 0 0]\n",
      " [0 2 0 4 4]\n",
      " [0 0 0 5 5]\n",
      " [0 1 0 2 2]]\n"
     ]
    }
   ],
   "source": [
    "v1 = np.array([1,1,1,0,0])\n",
    "v2 = np.array([3,3,3,0,0])\n",
    "v3 = np.array([4,4,4,0,0])\n",
    "v4 = np.array([5,5,5,0,0])\n",
    "v5 = np.array([0,2,0,4,4])\n",
    "v6 = np.array([0,0,0,5,5])\n",
    "v7 = np.array([0,1,0,2,2])\n",
    "A = np.vstack((v1,v2,v3,v4,v5,v6,v7))\n",
    "print(A)"
   ]
  },
  {
   "cell_type": "code",
   "execution_count": 32,
   "id": "c5582f84",
   "metadata": {},
   "outputs": [
    {
     "data": {
      "text/plain": [
       "(7, 5)"
      ]
     },
     "execution_count": 32,
     "metadata": {},
     "output_type": "execute_result"
    }
   ],
   "source": [
    "A.shape"
   ]
  },
  {
   "cell_type": "markdown",
   "id": "b3f017a4",
   "metadata": {},
   "source": [
    "# Number of elements to store = 7 * 5 = 35"
   ]
  },
  {
   "cell_type": "code",
   "execution_count": 33,
   "id": "bf8ed478",
   "metadata": {},
   "outputs": [
    {
     "data": {
      "text/plain": [
       "((7, 7), (5,), (5, 5))"
      ]
     },
     "execution_count": 33,
     "metadata": {},
     "output_type": "execute_result"
    }
   ],
   "source": [
    "U, S, V = SVD(A)\n",
    "U.shape, S.shape, V.shape"
   ]
  },
  {
   "cell_type": "code",
   "execution_count": 34,
   "id": "1ef15feb",
   "metadata": {},
   "outputs": [
    {
     "name": "stdout",
     "output_type": "stream",
     "text": [
      "[[-1.37599126e-01 -2.36114514e-02 -1.08084718e-02  5.60112034e-01\n",
      "  -3.75734575e-01 -7.00140042e-01 -1.87867287e-01]\n",
      " [-4.12797378e-01 -7.08343543e-02 -3.24254153e-02  2.06393278e-01\n",
      "   7.55974371e-01 -2.57991597e-01  3.77987186e-01]\n",
      " [-5.50396503e-01 -9.44458057e-02 -4.32338870e-02 -7.24808963e-01\n",
      "  -1.84603760e-01 -3.43988797e-01 -9.23018799e-02]\n",
      " [-6.87995629e-01 -1.18057257e-01 -5.40423588e-02  3.43988797e-01\n",
      "  -2.30754700e-01  5.70014004e-01 -1.15377350e-01]\n",
      " [-1.52775087e-01  5.91100963e-01  6.53650843e-01  2.58497890e-16\n",
      "   2.00000000e-01  0.00000000e+00 -4.00000000e-01]\n",
      " [-7.22165140e-02  7.31311857e-01 -6.78209218e-01  0.00000000e+00\n",
      "   0.00000000e+00  0.00000000e+00  0.00000000e+00]\n",
      " [-7.63875433e-02  2.95550482e-01  3.26825421e-01  1.29248945e-16\n",
      "  -4.00000000e-01  0.00000000e+00  8.00000000e-01]]\n"
     ]
    }
   ],
   "source": [
    "print(U)"
   ]
  },
  {
   "cell_type": "code",
   "execution_count": 35,
   "id": "b72d70e5",
   "metadata": {},
   "outputs": [
    {
     "name": "stdout",
     "output_type": "stream",
     "text": [
      "[[-5.62258405e-01 -5.92859901e-01 -5.62258405e-01 -9.01335372e-02\n",
      "  -9.01335372e-02]\n",
      " [-1.26641382e-01  2.87705846e-02 -1.26641382e-01  6.95376220e-01\n",
      "   6.95376220e-01]\n",
      " [-4.09667482e-01  8.04791520e-01 -4.09667482e-01 -9.12571001e-02\n",
      "  -9.12571001e-02]\n",
      " [-7.07106781e-01  1.11022302e-16  7.07106781e-01  5.55111512e-17\n",
      "   0.00000000e+00]\n",
      " [ 0.00000000e+00 -4.87723954e-17  4.87723954e-17 -7.07106781e-01\n",
      "   7.07106781e-01]]\n"
     ]
    }
   ],
   "source": [
    "print(V)"
   ]
  },
  {
   "cell_type": "code",
   "execution_count": 36,
   "id": "3a946814",
   "metadata": {},
   "outputs": [
    {
     "name": "stdout",
     "output_type": "stream",
     "text": [
      "[1.24810147e+01 9.50861406e+00 1.34555971e+00 3.04642685e-16\n",
      " 0.00000000e+00]\n"
     ]
    }
   ],
   "source": [
    "print(S)"
   ]
  },
  {
   "cell_type": "code",
   "execution_count": 37,
   "id": "312b2c61",
   "metadata": {},
   "outputs": [
    {
     "name": "stdout",
     "output_type": "stream",
     "text": [
      "[[1.24810147e+01 0.00000000e+00 0.00000000e+00 0.00000000e+00\n",
      "  0.00000000e+00]\n",
      " [0.00000000e+00 9.50861406e+00 0.00000000e+00 0.00000000e+00\n",
      "  0.00000000e+00]\n",
      " [0.00000000e+00 0.00000000e+00 1.34555971e+00 0.00000000e+00\n",
      "  0.00000000e+00]\n",
      " [0.00000000e+00 0.00000000e+00 0.00000000e+00 3.04642685e-16\n",
      "  0.00000000e+00]\n",
      " [0.00000000e+00 0.00000000e+00 0.00000000e+00 0.00000000e+00\n",
      "  0.00000000e+00]\n",
      " [0.00000000e+00 0.00000000e+00 0.00000000e+00 0.00000000e+00\n",
      "  0.00000000e+00]\n",
      " [0.00000000e+00 0.00000000e+00 0.00000000e+00 0.00000000e+00\n",
      "  0.00000000e+00]]\n"
     ]
    }
   ],
   "source": [
    "sigma = np.zeros((7,5))\n",
    "for i in range(5):\n",
    "    sigma[i,i] = S[i]\n",
    "print(sigma)"
   ]
  },
  {
   "cell_type": "code",
   "execution_count": 38,
   "id": "80ac6e74",
   "metadata": {},
   "outputs": [],
   "source": [
    "AR = U@sigma@V"
   ]
  },
  {
   "cell_type": "code",
   "execution_count": 39,
   "id": "ac92d19b",
   "metadata": {},
   "outputs": [
    {
     "name": "stdout",
     "output_type": "stream",
     "text": [
      "[[ 1.  1.  1. -0. -0.]\n",
      " [ 3.  3.  3. -0. -0.]\n",
      " [ 4.  4.  4. -0. -0.]\n",
      " [ 5.  5.  5. -0. -0.]\n",
      " [ 0.  2. -0.  4.  4.]\n",
      " [ 0.  0. -0.  5.  5.]\n",
      " [ 0.  1. -0.  2.  2.]]\n"
     ]
    }
   ],
   "source": [
    "print(np.round(AR))"
   ]
  },
  {
   "cell_type": "code",
   "execution_count": 52,
   "id": "233f8e37",
   "metadata": {},
   "outputs": [
    {
     "name": "stdout",
     "output_type": "stream",
     "text": [
      "[[1 1 1 0 0]\n",
      " [3 3 3 0 0]\n",
      " [4 4 4 0 0]\n",
      " [5 5 5 0 0]\n",
      " [0 2 0 4 4]\n",
      " [0 0 0 5 5]\n",
      " [0 1 0 2 2]]\n"
     ]
    }
   ],
   "source": [
    "print(A)"
   ]
  },
  {
   "cell_type": "markdown",
   "id": "c3d36d29",
   "metadata": {},
   "source": [
    "# Number of elements to store = 7*7 + 7*5 + 5*5 = 109"
   ]
  },
  {
   "cell_type": "markdown",
   "id": "3316aadc",
   "metadata": {},
   "source": [
    "# K=3"
   ]
  },
  {
   "cell_type": "code",
   "execution_count": 41,
   "id": "d0599785",
   "metadata": {},
   "outputs": [
    {
     "name": "stdout",
     "output_type": "stream",
     "text": [
      "[[-0.13759913 -0.02361145 -0.01080847]\n",
      " [-0.41279738 -0.07083435 -0.03242542]\n",
      " [-0.5503965  -0.09444581 -0.04323389]\n",
      " [-0.68799563 -0.11805726 -0.05404236]\n",
      " [-0.15277509  0.59110096  0.65365084]\n",
      " [-0.07221651  0.73131186 -0.67820922]\n",
      " [-0.07638754  0.29555048  0.32682542]]\n"
     ]
    }
   ],
   "source": [
    "UK = U[:,0:3]\n",
    "print(UK)"
   ]
  },
  {
   "cell_type": "code",
   "execution_count": 42,
   "id": "fc7d3078",
   "metadata": {},
   "outputs": [
    {
     "name": "stdout",
     "output_type": "stream",
     "text": [
      "[[12.48101469  0.          0.        ]\n",
      " [ 0.          9.50861406  0.        ]\n",
      " [ 0.          0.          1.34555971]]\n"
     ]
    }
   ],
   "source": [
    "SK = sigma[0:3,0:3]\n",
    "print(SK)"
   ]
  },
  {
   "cell_type": "code",
   "execution_count": 43,
   "id": "9a537b50",
   "metadata": {},
   "outputs": [
    {
     "name": "stdout",
     "output_type": "stream",
     "text": [
      "[[-0.56225841 -0.5928599  -0.56225841 -0.09013354 -0.09013354]\n",
      " [-0.12664138  0.02877058 -0.12664138  0.69537622  0.69537622]\n",
      " [-0.40966748  0.80479152 -0.40966748 -0.0912571  -0.0912571 ]]\n"
     ]
    }
   ],
   "source": [
    "VK = V[0:3,:]\n",
    "print(VK)"
   ]
  },
  {
   "cell_type": "code",
   "execution_count": 44,
   "id": "edda25e5",
   "metadata": {},
   "outputs": [
    {
     "name": "stdout",
     "output_type": "stream",
     "text": [
      "[[ 1.  1.  1. -0. -0.]\n",
      " [ 3.  3.  3. -0. -0.]\n",
      " [ 4.  4.  4. -0. -0.]\n",
      " [ 5.  5.  5. -0. -0.]\n",
      " [ 0.  2. -0.  4.  4.]\n",
      " [ 0.  0. -0.  5.  5.]\n",
      " [ 0.  1. -0.  2.  2.]]\n"
     ]
    }
   ],
   "source": [
    "ARK = UK@SK@VK\n",
    "print(np.round(ARK))"
   ]
  },
  {
   "cell_type": "code",
   "execution_count": 53,
   "id": "bb380e30",
   "metadata": {},
   "outputs": [
    {
     "name": "stdout",
     "output_type": "stream",
     "text": [
      "[[1 1 1 0 0]\n",
      " [3 3 3 0 0]\n",
      " [4 4 4 0 0]\n",
      " [5 5 5 0 0]\n",
      " [0 2 0 4 4]\n",
      " [0 0 0 5 5]\n",
      " [0 1 0 2 2]]\n"
     ]
    }
   ],
   "source": [
    "print(A)"
   ]
  },
  {
   "cell_type": "markdown",
   "id": "a59bd3c0",
   "metadata": {},
   "source": [
    "# Number of elements to store = 7*3 + 3*3 + 3*5 = 45"
   ]
  },
  {
   "cell_type": "markdown",
   "id": "e564e941",
   "metadata": {},
   "source": [
    "# K=2"
   ]
  },
  {
   "cell_type": "code",
   "execution_count": 45,
   "id": "13da403a",
   "metadata": {},
   "outputs": [
    {
     "name": "stdout",
     "output_type": "stream",
     "text": [
      "[[-0.13759913 -0.02361145]\n",
      " [-0.41279738 -0.07083435]\n",
      " [-0.5503965  -0.09444581]\n",
      " [-0.68799563 -0.11805726]\n",
      " [-0.15277509  0.59110096]\n",
      " [-0.07221651  0.73131186]\n",
      " [-0.07638754  0.29555048]]\n"
     ]
    }
   ],
   "source": [
    "UK = U[:,0:2]\n",
    "print(UK)"
   ]
  },
  {
   "cell_type": "code",
   "execution_count": 49,
   "id": "2dc33964",
   "metadata": {},
   "outputs": [
    {
     "name": "stdout",
     "output_type": "stream",
     "text": [
      "[[12.48101469  0.        ]\n",
      " [ 0.          9.50861406]]\n"
     ]
    }
   ],
   "source": [
    "SK = sigma[0:2,0:2]\n",
    "print(SK)"
   ]
  },
  {
   "cell_type": "code",
   "execution_count": 50,
   "id": "ad515c25",
   "metadata": {},
   "outputs": [
    {
     "name": "stdout",
     "output_type": "stream",
     "text": [
      "[[-0.56225841 -0.5928599  -0.56225841 -0.09013354 -0.09013354]\n",
      " [-0.12664138  0.02877058 -0.12664138  0.69537622  0.69537622]]\n"
     ]
    }
   ],
   "source": [
    "VK = V[0:2,:]\n",
    "print(VK)"
   ]
  },
  {
   "cell_type": "code",
   "execution_count": 51,
   "id": "f3b20735",
   "metadata": {},
   "outputs": [
    {
     "name": "stdout",
     "output_type": "stream",
     "text": [
      "[[ 1.  1.  1. -0. -0.]\n",
      " [ 3.  3.  3. -0. -0.]\n",
      " [ 4.  4.  4. -0. -0.]\n",
      " [ 5.  5.  5. -0. -0.]\n",
      " [ 0.  1.  0.  4.  4.]\n",
      " [-0.  1. -0.  5.  5.]\n",
      " [ 0.  1.  0.  2.  2.]]\n"
     ]
    }
   ],
   "source": [
    "ARK = UK@SK@VK\n",
    "print(np.round(ARK))"
   ]
  },
  {
   "cell_type": "code",
   "execution_count": 54,
   "id": "58f714e5",
   "metadata": {},
   "outputs": [
    {
     "name": "stdout",
     "output_type": "stream",
     "text": [
      "[[1 1 1 0 0]\n",
      " [3 3 3 0 0]\n",
      " [4 4 4 0 0]\n",
      " [5 5 5 0 0]\n",
      " [0 2 0 4 4]\n",
      " [0 0 0 5 5]\n",
      " [0 1 0 2 2]]\n"
     ]
    }
   ],
   "source": [
    "print(A)"
   ]
  },
  {
   "cell_type": "markdown",
   "id": "4c9f4333",
   "metadata": {},
   "source": [
    "# Number of elements to store = 7*2 + 3*6 + 2*5 = 30"
   ]
  },
  {
   "cell_type": "raw",
   "id": "fe3aa982",
   "metadata": {},
   "source": [
    "Applications of SVD:\n",
    "Data Compression: SVD can be used to reduce the dimensionality of data while preserving important information. By retaining only the top-k singular values and their corresponding columns in U and rows in V^T, you can approximate the original matrix with reduced storage requirements.\n",
    "\n",
    "Image Compression: SVD is employed in image compression techniques like JPEG to reduce the size of image files while maintaining image quality.\n",
    "\n",
    "Principal Component Analysis (PCA): SVD is used in PCA, a technique for reducing the dimensionality of data and extracting the most important features or components.\n",
    "\n",
    "Recommender Systems: In collaborative filtering and recommendation algorithms, SVD can be applied to predict user preferences based on historical data."
   ]
  }
 ],
 "metadata": {
  "kernelspec": {
   "display_name": "Python 3 (ipykernel)",
   "language": "python",
   "name": "python3"
  },
  "language_info": {
   "codemirror_mode": {
    "name": "ipython",
    "version": 3
   },
   "file_extension": ".py",
   "mimetype": "text/x-python",
   "name": "python",
   "nbconvert_exporter": "python",
   "pygments_lexer": "ipython3",
   "version": "3.11.4"
  }
 },
 "nbformat": 4,
 "nbformat_minor": 5
}
