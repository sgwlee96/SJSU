{
 "cells": [
  {
   "cell_type": "markdown",
   "id": "516a2fda",
   "metadata": {},
   "source": [
    "# Permutation and Combinations"
   ]
  },
  {
   "cell_type": "raw",
   "id": "68cb4a4f",
   "metadata": {},
   "source": [
    "itertools is a standard Python library module that provides various tools for working with iterators and combinations of elements. Eg: Finite, Infinite, Combinatoric etc.\n",
    "\n",
    "Combinatoric Iterators:\n",
    "\n",
    "product(iterable1, iterable2, ... , repeat): Computes the Cartesian product of input iterables, allowing repetitions.\n",
    "permutations(iterable, r): Generates all possible r-length tuples of elements from the iterable.\n",
    "combinations(iterable, r): Produces all possible r-length combinations of elements from the iterable.\n",
    "combinations_with_replacement(iterable, r): Generates all possible r-length combinations with replacement."
   ]
  },
  {
   "cell_type": "raw",
   "id": "94b06bbb",
   "metadata": {},
   "source": [
    "scipy.special is a subpackage within the SciPy library, a Python library for scientific and technical computing."
   ]
  },
  {
   "cell_type": "markdown",
   "id": "8b9af8a6",
   "metadata": {},
   "source": [
    "# Permutation with replacement - n^k"
   ]
  },
  {
   "cell_type": "raw",
   "id": "a02a2b22",
   "metadata": {},
   "source": [
    "The product function signifies the Cartesian product, encompassing all possible combinations of elements([1,2,3]). The repeat parameter (repeat = 3)denotes the option for item replacement.\n",
    "In this context, perm_wr serves as an iterator that generates a list of combinations."
   ]
  },
  {
   "cell_type": "code",
   "execution_count": 1,
   "id": "8c1b782d",
   "metadata": {
    "tags": []
   },
   "outputs": [],
   "source": [
    "from itertools import product\n",
    "perm_wr = product([1,2,3],repeat=3)"
   ]
  },
  {
   "cell_type": "code",
   "execution_count": 2,
   "id": "2e73a54e",
   "metadata": {
    "tags": []
   },
   "outputs": [
    {
     "name": "stdout",
     "output_type": "stream",
     "text": [
      "Number of choices: 27\n"
     ]
    }
   ],
   "source": [
    "perm_wr_list = list(perm_wr)\n",
    "print(\"Number of choices:\",  len(perm_wr_list))"
   ]
  },
  {
   "cell_type": "code",
   "execution_count": 3,
   "id": "e5b2196b",
   "metadata": {
    "tags": []
   },
   "outputs": [
    {
     "name": "stdout",
     "output_type": "stream",
     "text": [
      "(1, 1, 1)\n",
      "(1, 1, 2)\n",
      "(1, 1, 3)\n",
      "(1, 2, 1)\n",
      "(1, 2, 2)\n",
      "(1, 2, 3)\n",
      "(1, 3, 1)\n",
      "(1, 3, 2)\n",
      "(1, 3, 3)\n",
      "(2, 1, 1)\n",
      "(2, 1, 2)\n",
      "(2, 1, 3)\n",
      "(2, 2, 1)\n",
      "(2, 2, 2)\n",
      "(2, 2, 3)\n",
      "(2, 3, 1)\n",
      "(2, 3, 2)\n",
      "(2, 3, 3)\n",
      "(3, 1, 1)\n",
      "(3, 1, 2)\n",
      "(3, 1, 3)\n",
      "(3, 2, 1)\n",
      "(3, 2, 2)\n",
      "(3, 2, 3)\n",
      "(3, 3, 1)\n",
      "(3, 3, 2)\n",
      "(3, 3, 3)\n"
     ]
    }
   ],
   "source": [
    "from itertools import product\n",
    "perm_wr = product([1,2,3],repeat=3)\n",
    "\n",
    "for i in list(perm_wr):\n",
    "    print(i)"
   ]
  },
  {
   "cell_type": "markdown",
   "id": "c0fdac4c",
   "metadata": {},
   "source": [
    "# Permutation without replacement - nPr"
   ]
  },
  {
   "cell_type": "raw",
   "id": "78269158",
   "metadata": {},
   "source": [
    "Permutations function is employed to generate all possible permutations of 2 items from the given list [1, 2, 3]. \n",
    "The permutations function takes the list of available options and the number of choices as its parameters."
   ]
  },
  {
   "cell_type": "code",
   "execution_count": 4,
   "id": "6efed105",
   "metadata": {
    "tags": []
   },
   "outputs": [],
   "source": [
    "from itertools import permutations\n",
    "perm_wor = permutations([1,2,3],2)"
   ]
  },
  {
   "cell_type": "code",
   "execution_count": 5,
   "id": "d9b10d26",
   "metadata": {
    "tags": []
   },
   "outputs": [
    {
     "name": "stdout",
     "output_type": "stream",
     "text": [
      "Number of choices: 6\n"
     ]
    }
   ],
   "source": [
    "perm_wor_list = list(perm_wor)\n",
    "print(\"Number of choices:\", len(perm_wor_list))"
   ]
  },
  {
   "cell_type": "code",
   "execution_count": 6,
   "id": "07c47bc5",
   "metadata": {
    "tags": []
   },
   "outputs": [
    {
     "name": "stdout",
     "output_type": "stream",
     "text": [
      "(1, 2)\n",
      "(1, 3)\n",
      "(2, 1)\n",
      "(2, 3)\n",
      "(3, 1)\n",
      "(3, 2)\n"
     ]
    }
   ],
   "source": [
    "from itertools import permutations\n",
    "perm_wor = permutations([1,2,3],2)\n",
    "for i in list(perm_wor):\n",
    "    print(i)"
   ]
  },
  {
   "cell_type": "raw",
   "id": "af0d9f6d",
   "metadata": {},
   "source": [
    "The scipy.special.perm function calculates the number of permutations of k items from a set of n items.\n",
    "The exact=True parameter indicates that the result should be returned as an exact integer"
   ]
  },
  {
   "cell_type": "code",
   "execution_count": 7,
   "id": "0d881001",
   "metadata": {
    "tags": []
   },
   "outputs": [
    {
     "name": "stdout",
     "output_type": "stream",
     "text": [
      "Number of choices: 6\n"
     ]
    }
   ],
   "source": [
    "from scipy.special import perm\n",
    "perm_wor = perm(3,2, exact=True)\n",
    "print(\"Number of choices:\", perm_wor)"
   ]
  },
  {
   "cell_type": "markdown",
   "id": "b963fc55",
   "metadata": {},
   "source": [
    "# Combination with replacement - r+(n-1)C(n-1)"
   ]
  },
  {
   "cell_type": "code",
   "execution_count": 8,
   "id": "a21ee1d4",
   "metadata": {
    "tags": []
   },
   "outputs": [],
   "source": [
    "from itertools import combinations_with_replacement\n",
    "A = 'Apple'\n",
    "B = 'Banana'\n",
    "C = 'Cherry'\n",
    "D = 'Date'\n",
    "E = 'Fig'\n",
    "comb_wr = combinations_with_replacement([A,B,C,D,E], 3)"
   ]
  },
  {
   "cell_type": "code",
   "execution_count": 9,
   "id": "05fb7223",
   "metadata": {
    "tags": []
   },
   "outputs": [
    {
     "name": "stdout",
     "output_type": "stream",
     "text": [
      "Number of choices: 35\n"
     ]
    }
   ],
   "source": [
    "comb_wr_list = list(comb_wr)\n",
    "print(\"Number of choices:\", len(comb_wr_list))"
   ]
  },
  {
   "cell_type": "code",
   "execution_count": 10,
   "id": "8e1d803e",
   "metadata": {
    "tags": []
   },
   "outputs": [
    {
     "name": "stdout",
     "output_type": "stream",
     "text": [
      "('Apple', 'Apple', 'Apple')\n",
      "('Apple', 'Apple', 'Banana')\n",
      "('Apple', 'Apple', 'Cherry')\n",
      "('Apple', 'Apple', 'Date')\n",
      "('Apple', 'Apple', 'Fig')\n",
      "('Apple', 'Banana', 'Banana')\n",
      "('Apple', 'Banana', 'Cherry')\n",
      "('Apple', 'Banana', 'Date')\n",
      "('Apple', 'Banana', 'Fig')\n",
      "('Apple', 'Cherry', 'Cherry')\n",
      "('Apple', 'Cherry', 'Date')\n",
      "('Apple', 'Cherry', 'Fig')\n",
      "('Apple', 'Date', 'Date')\n",
      "('Apple', 'Date', 'Fig')\n",
      "('Apple', 'Fig', 'Fig')\n",
      "('Banana', 'Banana', 'Banana')\n",
      "('Banana', 'Banana', 'Cherry')\n",
      "('Banana', 'Banana', 'Date')\n",
      "('Banana', 'Banana', 'Fig')\n",
      "('Banana', 'Cherry', 'Cherry')\n",
      "('Banana', 'Cherry', 'Date')\n",
      "('Banana', 'Cherry', 'Fig')\n",
      "('Banana', 'Date', 'Date')\n",
      "('Banana', 'Date', 'Fig')\n",
      "('Banana', 'Fig', 'Fig')\n",
      "('Cherry', 'Cherry', 'Cherry')\n",
      "('Cherry', 'Cherry', 'Date')\n",
      "('Cherry', 'Cherry', 'Fig')\n",
      "('Cherry', 'Date', 'Date')\n",
      "('Cherry', 'Date', 'Fig')\n",
      "('Cherry', 'Fig', 'Fig')\n",
      "('Date', 'Date', 'Date')\n",
      "('Date', 'Date', 'Fig')\n",
      "('Date', 'Fig', 'Fig')\n",
      "('Fig', 'Fig', 'Fig')\n"
     ]
    }
   ],
   "source": [
    "from itertools import combinations_with_replacement\n",
    "A = 'Apple'\n",
    "B = 'Banana'\n",
    "C = 'Cherry'\n",
    "D = 'Date'\n",
    "E = 'Fig'\n",
    "comb_wr = combinations_with_replacement([A,B,C,D,E], 3)\n",
    "for i in list(comb_wr):\n",
    "    print(i)"
   ]
  },
  {
   "cell_type": "code",
   "execution_count": 11,
   "id": "9576d9be",
   "metadata": {
    "tags": []
   },
   "outputs": [
    {
     "name": "stdout",
     "output_type": "stream",
     "text": [
      "35\n"
     ]
    }
   ],
   "source": [
    "from scipy.special import comb\n",
    "\n",
    "comb_wr = comb(5,3, exact=True, repetition=True)\n",
    "print(comb_wr)"
   ]
  },
  {
   "cell_type": "markdown",
   "id": "7928d783",
   "metadata": {},
   "source": [
    "# Combination without replacement - nCr"
   ]
  },
  {
   "cell_type": "code",
   "execution_count": 12,
   "id": "833a00bd",
   "metadata": {
    "tags": []
   },
   "outputs": [],
   "source": [
    "from itertools import combinations\n",
    "A = 'Apple'\n",
    "B = 'Banana'\n",
    "C = 'Cherry'\n",
    "D = 'Date'\n",
    "E = 'Fig'\n",
    "comb_wor = combinations([A,B,C,D,E], 3)"
   ]
  },
  {
   "cell_type": "code",
   "execution_count": 13,
   "id": "ea9b1227",
   "metadata": {
    "tags": []
   },
   "outputs": [
    {
     "name": "stdout",
     "output_type": "stream",
     "text": [
      "Number of choices: 10\n"
     ]
    }
   ],
   "source": [
    "comb_wor_list = list(comb_wor)\n",
    "print(\"Number of choices:\", len(comb_wor_list))"
   ]
  },
  {
   "cell_type": "code",
   "execution_count": 14,
   "id": "c5bdcc81",
   "metadata": {
    "tags": []
   },
   "outputs": [
    {
     "name": "stdout",
     "output_type": "stream",
     "text": [
      "('Apple', 'Banana', 'Cherry')\n",
      "('Apple', 'Banana', 'Date')\n",
      "('Apple', 'Banana', 'Fig')\n",
      "('Apple', 'Cherry', 'Date')\n",
      "('Apple', 'Cherry', 'Fig')\n",
      "('Apple', 'Date', 'Fig')\n",
      "('Banana', 'Cherry', 'Date')\n",
      "('Banana', 'Cherry', 'Fig')\n",
      "('Banana', 'Date', 'Fig')\n",
      "('Cherry', 'Date', 'Fig')\n"
     ]
    }
   ],
   "source": [
    "from itertools import combinations\n",
    "A = 'Apple'\n",
    "B = 'Banana'\n",
    "C = 'Cherry'\n",
    "D = 'Date'\n",
    "E = 'Fig'\n",
    "comb_wor = combinations([A,B,C,D,E], 3)\n",
    "for i in list(comb_wor):\n",
    "    print(i)"
   ]
  },
  {
   "cell_type": "code",
   "execution_count": 15,
   "id": "c5f84162",
   "metadata": {
    "tags": []
   },
   "outputs": [
    {
     "name": "stdout",
     "output_type": "stream",
     "text": [
      "10\n"
     ]
    }
   ],
   "source": [
    "from scipy.special import comb\n",
    "\n",
    "comb_wor = comb(5,3, exact=True)\n",
    "print(comb_wor)"
   ]
  },
  {
   "cell_type": "markdown",
   "id": "8ad57b3e",
   "metadata": {},
   "source": [
    "# Descriptive Statistics"
   ]
  },
  {
   "cell_type": "raw",
   "id": "d5a98f0a",
   "metadata": {},
   "source": [
    "Descriptive statistics is a branch of statistics that deals with the collection, organization, analysis, interpretation, and presentation of data. Its primary purpose is to summarize and describe the main features of a dataset, providing a clear and concise overview of the data's characteristics. "
   ]
  },
  {
   "cell_type": "code",
   "execution_count": 16,
   "id": "f3255105",
   "metadata": {
    "tags": []
   },
   "outputs": [],
   "source": [
    "import pandas as pd"
   ]
  },
  {
   "cell_type": "code",
   "execution_count": 17,
   "id": "415909f0",
   "metadata": {
    "tags": []
   },
   "outputs": [],
   "source": [
    "df_grade = pd.read_csv('grade.csv')"
   ]
  },
  {
   "cell_type": "code",
   "execution_count": 18,
   "id": "1d2af6f9",
   "metadata": {
    "tags": []
   },
   "outputs": [
    {
     "data": {
      "text/html": [
       "<div>\n",
       "<style scoped>\n",
       "    .dataframe tbody tr th:only-of-type {\n",
       "        vertical-align: middle;\n",
       "    }\n",
       "\n",
       "    .dataframe tbody tr th {\n",
       "        vertical-align: top;\n",
       "    }\n",
       "\n",
       "    .dataframe thead th {\n",
       "        text-align: right;\n",
       "    }\n",
       "</style>\n",
       "<table border=\"1\" class=\"dataframe\">\n",
       "  <thead>\n",
       "    <tr style=\"text-align: right;\">\n",
       "      <th></th>\n",
       "      <th>id</th>\n",
       "      <th>msex</th>\n",
       "      <th>csex</th>\n",
       "      <th>grade</th>\n",
       "    </tr>\n",
       "  </thead>\n",
       "  <tbody>\n",
       "    <tr>\n",
       "      <th>0</th>\n",
       "      <td>1</td>\n",
       "      <td>Male</td>\n",
       "      <td>1</td>\n",
       "      <td>3</td>\n",
       "    </tr>\n",
       "    <tr>\n",
       "      <th>1</th>\n",
       "      <td>2</td>\n",
       "      <td>Male</td>\n",
       "      <td>1</td>\n",
       "      <td>4</td>\n",
       "    </tr>\n",
       "    <tr>\n",
       "      <th>2</th>\n",
       "      <td>3</td>\n",
       "      <td>Male</td>\n",
       "      <td>1</td>\n",
       "      <td>5</td>\n",
       "    </tr>\n",
       "    <tr>\n",
       "      <th>3</th>\n",
       "      <td>4</td>\n",
       "      <td>Male</td>\n",
       "      <td>1</td>\n",
       "      <td>3</td>\n",
       "    </tr>\n",
       "    <tr>\n",
       "      <th>4</th>\n",
       "      <td>5</td>\n",
       "      <td>Male</td>\n",
       "      <td>1</td>\n",
       "      <td>2</td>\n",
       "    </tr>\n",
       "  </tbody>\n",
       "</table>\n",
       "</div>"
      ],
      "text/plain": [
       "   id  msex  csex  grade\n",
       "0   1  Male     1      3\n",
       "1   2  Male     1      4\n",
       "2   3  Male     1      5\n",
       "3   4  Male     1      3\n",
       "4   5  Male     1      2"
      ]
     },
     "execution_count": 18,
     "metadata": {},
     "output_type": "execute_result"
    }
   ],
   "source": [
    "df_grade.head()"
   ]
  },
  {
   "cell_type": "code",
   "execution_count": 19,
   "id": "454701fb",
   "metadata": {
    "tags": []
   },
   "outputs": [
    {
     "name": "stdout",
     "output_type": "stream",
     "text": [
      "<class 'pandas.core.frame.DataFrame'>\n",
      "RangeIndex: 50 entries, 0 to 49\n",
      "Data columns (total 4 columns):\n",
      " #   Column  Non-Null Count  Dtype \n",
      "---  ------  --------------  ----- \n",
      " 0   id      50 non-null     int64 \n",
      " 1   msex    50 non-null     object\n",
      " 2   csex    50 non-null     int64 \n",
      " 3   grade   50 non-null     int64 \n",
      "dtypes: int64(3), object(1)\n",
      "memory usage: 1.7+ KB\n"
     ]
    }
   ],
   "source": [
    "df_grade.info()"
   ]
  },
  {
   "cell_type": "code",
   "execution_count": 20,
   "id": "a83709cb",
   "metadata": {
    "tags": []
   },
   "outputs": [
    {
     "data": {
      "text/plain": [
       "(50, 4)"
      ]
     },
     "execution_count": 20,
     "metadata": {},
     "output_type": "execute_result"
    }
   ],
   "source": [
    "df_grade.shape"
   ]
  },
  {
   "cell_type": "code",
   "execution_count": 21,
   "id": "e1b81043",
   "metadata": {
    "tags": []
   },
   "outputs": [
    {
     "data": {
      "text/plain": [
       "Index(['id', 'msex', 'csex', 'grade'], dtype='object')"
      ]
     },
     "execution_count": 21,
     "metadata": {},
     "output_type": "execute_result"
    }
   ],
   "source": [
    "df_grade.columns"
   ]
  },
  {
   "cell_type": "code",
   "execution_count": 22,
   "id": "68f7933f",
   "metadata": {
    "tags": []
   },
   "outputs": [
    {
     "data": {
      "text/plain": [
       "RangeIndex(start=0, stop=50, step=1)"
      ]
     },
     "execution_count": 22,
     "metadata": {},
     "output_type": "execute_result"
    }
   ],
   "source": [
    "df_grade.index"
   ]
  },
  {
   "cell_type": "raw",
   "id": "02482a04",
   "metadata": {},
   "source": [
    "Summary statistics: These include summary measures like the minimum, maximum, mean, median, standard deviation, and quartiles, which provide a concise overview of the data."
   ]
  },
  {
   "cell_type": "code",
   "execution_count": 23,
   "id": "f251d7e0",
   "metadata": {
    "tags": []
   },
   "outputs": [
    {
     "data": {
      "text/html": [
       "<div>\n",
       "<style scoped>\n",
       "    .dataframe tbody tr th:only-of-type {\n",
       "        vertical-align: middle;\n",
       "    }\n",
       "\n",
       "    .dataframe tbody tr th {\n",
       "        vertical-align: top;\n",
       "    }\n",
       "\n",
       "    .dataframe thead th {\n",
       "        text-align: right;\n",
       "    }\n",
       "</style>\n",
       "<table border=\"1\" class=\"dataframe\">\n",
       "  <thead>\n",
       "    <tr style=\"text-align: right;\">\n",
       "      <th></th>\n",
       "      <th>id</th>\n",
       "      <th>csex</th>\n",
       "      <th>grade</th>\n",
       "    </tr>\n",
       "  </thead>\n",
       "  <tbody>\n",
       "    <tr>\n",
       "      <th>count</th>\n",
       "      <td>50.00000</td>\n",
       "      <td>50.000000</td>\n",
       "      <td>50.000000</td>\n",
       "    </tr>\n",
       "    <tr>\n",
       "      <th>mean</th>\n",
       "      <td>25.50000</td>\n",
       "      <td>1.500000</td>\n",
       "      <td>3.460000</td>\n",
       "    </tr>\n",
       "    <tr>\n",
       "      <th>std</th>\n",
       "      <td>14.57738</td>\n",
       "      <td>0.505076</td>\n",
       "      <td>0.994064</td>\n",
       "    </tr>\n",
       "    <tr>\n",
       "      <th>min</th>\n",
       "      <td>1.00000</td>\n",
       "      <td>1.000000</td>\n",
       "      <td>1.000000</td>\n",
       "    </tr>\n",
       "    <tr>\n",
       "      <th>25%</th>\n",
       "      <td>13.25000</td>\n",
       "      <td>1.000000</td>\n",
       "      <td>3.000000</td>\n",
       "    </tr>\n",
       "    <tr>\n",
       "      <th>50%</th>\n",
       "      <td>25.50000</td>\n",
       "      <td>1.500000</td>\n",
       "      <td>4.000000</td>\n",
       "    </tr>\n",
       "    <tr>\n",
       "      <th>75%</th>\n",
       "      <td>37.75000</td>\n",
       "      <td>2.000000</td>\n",
       "      <td>4.000000</td>\n",
       "    </tr>\n",
       "    <tr>\n",
       "      <th>max</th>\n",
       "      <td>50.00000</td>\n",
       "      <td>2.000000</td>\n",
       "      <td>5.000000</td>\n",
       "    </tr>\n",
       "  </tbody>\n",
       "</table>\n",
       "</div>"
      ],
      "text/plain": [
       "             id       csex      grade\n",
       "count  50.00000  50.000000  50.000000\n",
       "mean   25.50000   1.500000   3.460000\n",
       "std    14.57738   0.505076   0.994064\n",
       "min     1.00000   1.000000   1.000000\n",
       "25%    13.25000   1.000000   3.000000\n",
       "50%    25.50000   1.500000   4.000000\n",
       "75%    37.75000   2.000000   4.000000\n",
       "max    50.00000   2.000000   5.000000"
      ]
     },
     "execution_count": 23,
     "metadata": {},
     "output_type": "execute_result"
    }
   ],
   "source": [
    "df_grade.describe()"
   ]
  },
  {
   "cell_type": "raw",
   "id": "82796129",
   "metadata": {},
   "source": [
    "The code generates a box plot that represents the distribution of grades. It provides a visual summary of the central tendency and spread of the grade data, making it easier to understand the distribution of grades within the dataset."
   ]
  },
  {
   "cell_type": "code",
   "execution_count": 24,
   "id": "145e9828",
   "metadata": {
    "tags": []
   },
   "outputs": [],
   "source": [
    "import matplotlib.pyplot as plt"
   ]
  },
  {
   "cell_type": "code",
   "execution_count": 25,
   "id": "ec2dc732",
   "metadata": {
    "tags": []
   },
   "outputs": [
    {
     "data": {
      "image/png": "[encoded data removed]",
      "text/plain": [
       "<Figure size 800x600 with 1 Axes>"
      ]
     },
     "metadata": {},
     "output_type": "display_data"
    }
   ],
   "source": [
    "plt.figure(figsize=(8, 6))\n",
    "plt.title('Box Plot of Grades')\n",
    "plt.xlabel('Grade')\n",
    "plt.boxplot(df_grade['grade'])\n",
    "plt.show()"
   ]
  },
  {
   "cell_type": "raw",
   "id": "1b499c08",
   "metadata": {},
   "source": [
    "Shape of Distribution"
   ]
  },
  {
   "cell_type": "code",
   "execution_count": 26,
   "id": "1df58029",
   "metadata": {
    "tags": []
   },
   "outputs": [
    {
     "data": {
      "image/png": "[encoded data removed]",
      "text/plain": [
       "<Figure size 640x480 with 1 Axes>"
      ]
     },
     "metadata": {},
     "output_type": "display_data"
    }
   ],
   "source": [
    "grade_hist = df_grade['grade'].hist(bins=10)"
   ]
  },
  {
   "cell_type": "code",
   "execution_count": 92,
   "id": "6265f615",
   "metadata": {},
   "outputs": [],
   "source": [
    "grade_M = df_grade[(df_grade['csex'] == 1)]\n",
    "grade_F = df_grade[(df_grade['csex'] == 2)]"
   ]
  },
  {
   "cell_type": "code",
   "execution_count": 93,
   "id": "f8923949",
   "metadata": {
    "scrolled": true
   },
   "outputs": [
    {
     "data": {
      "text/html": [
       "<div>\n",
       "<style scoped>\n",
       "    .dataframe tbody tr th:only-of-type {\n",
       "        vertical-align: middle;\n",
       "    }\n",
       "\n",
       "    .dataframe tbody tr th {\n",
       "        vertical-align: top;\n",
       "    }\n",
       "\n",
       "    .dataframe thead th {\n",
       "        text-align: right;\n",
       "    }\n",
       "</style>\n",
       "<table border=\"1\" class=\"dataframe\">\n",
       "  <thead>\n",
       "    <tr style=\"text-align: right;\">\n",
       "      <th></th>\n",
       "      <th>id</th>\n",
       "      <th>csex</th>\n",
       "      <th>grade</th>\n",
       "    </tr>\n",
       "  </thead>\n",
       "  <tbody>\n",
       "    <tr>\n",
       "      <th>count</th>\n",
       "      <td>25.000000</td>\n",
       "      <td>25.0</td>\n",
       "      <td>25.000000</td>\n",
       "    </tr>\n",
       "    <tr>\n",
       "      <th>mean</th>\n",
       "      <td>13.000000</td>\n",
       "      <td>1.0</td>\n",
       "      <td>3.480000</td>\n",
       "    </tr>\n",
       "    <tr>\n",
       "      <th>std</th>\n",
       "      <td>7.359801</td>\n",
       "      <td>0.0</td>\n",
       "      <td>1.084743</td>\n",
       "    </tr>\n",
       "    <tr>\n",
       "      <th>min</th>\n",
       "      <td>1.000000</td>\n",
       "      <td>1.0</td>\n",
       "      <td>1.000000</td>\n",
       "    </tr>\n",
       "    <tr>\n",
       "      <th>25%</th>\n",
       "      <td>7.000000</td>\n",
       "      <td>1.0</td>\n",
       "      <td>3.000000</td>\n",
       "    </tr>\n",
       "    <tr>\n",
       "      <th>50%</th>\n",
       "      <td>13.000000</td>\n",
       "      <td>1.0</td>\n",
       "      <td>4.000000</td>\n",
       "    </tr>\n",
       "    <tr>\n",
       "      <th>75%</th>\n",
       "      <td>19.000000</td>\n",
       "      <td>1.0</td>\n",
       "      <td>4.000000</td>\n",
       "    </tr>\n",
       "    <tr>\n",
       "      <th>max</th>\n",
       "      <td>25.000000</td>\n",
       "      <td>1.0</td>\n",
       "      <td>5.000000</td>\n",
       "    </tr>\n",
       "  </tbody>\n",
       "</table>\n",
       "</div>"
      ],
      "text/plain": [
       "              id  csex      grade\n",
       "count  25.000000  25.0  25.000000\n",
       "mean   13.000000   1.0   3.480000\n",
       "std     7.359801   0.0   1.084743\n",
       "min     1.000000   1.0   1.000000\n",
       "25%     7.000000   1.0   3.000000\n",
       "50%    13.000000   1.0   4.000000\n",
       "75%    19.000000   1.0   4.000000\n",
       "max    25.000000   1.0   5.000000"
      ]
     },
     "execution_count": 93,
     "metadata": {},
     "output_type": "execute_result"
    }
   ],
   "source": [
    "grade_M.describe()"
   ]
  },
  {
   "cell_type": "code",
   "execution_count": 94,
   "id": "8efe8f17",
   "metadata": {},
   "outputs": [
    {
     "data": {
      "image/png": "[encoded data removed]",
      "text/plain": [
       "<Figure size 640x480 with 1 Axes>"
      ]
     },
     "metadata": {},
     "output_type": "display_data"
    }
   ],
   "source": [
    "grade_Mhist = grade_M['grade'].hist(bins=10)"
   ]
  },
  {
   "cell_type": "code",
   "execution_count": 16,
   "id": "365035d0",
   "metadata": {},
   "outputs": [
    {
     "data": {
      "text/html": [
       "<div>\n",
       "<style scoped>\n",
       "    .dataframe tbody tr th:only-of-type {\n",
       "        vertical-align: middle;\n",
       "    }\n",
       "\n",
       "    .dataframe tbody tr th {\n",
       "        vertical-align: top;\n",
       "    }\n",
       "\n",
       "    .dataframe thead th {\n",
       "        text-align: right;\n",
       "    }\n",
       "</style>\n",
       "<table border=\"1\" class=\"dataframe\">\n",
       "  <thead>\n",
       "    <tr style=\"text-align: right;\">\n",
       "      <th></th>\n",
       "      <th>id</th>\n",
       "      <th>csex</th>\n",
       "      <th>grade</th>\n",
       "    </tr>\n",
       "  </thead>\n",
       "  <tbody>\n",
       "    <tr>\n",
       "      <th>count</th>\n",
       "      <td>25.000000</td>\n",
       "      <td>25.0</td>\n",
       "      <td>25.000000</td>\n",
       "    </tr>\n",
       "    <tr>\n",
       "      <th>mean</th>\n",
       "      <td>38.000000</td>\n",
       "      <td>2.0</td>\n",
       "      <td>3.440000</td>\n",
       "    </tr>\n",
       "    <tr>\n",
       "      <th>std</th>\n",
       "      <td>7.359801</td>\n",
       "      <td>0.0</td>\n",
       "      <td>0.916515</td>\n",
       "    </tr>\n",
       "    <tr>\n",
       "      <th>min</th>\n",
       "      <td>26.000000</td>\n",
       "      <td>2.0</td>\n",
       "      <td>1.000000</td>\n",
       "    </tr>\n",
       "    <tr>\n",
       "      <th>25%</th>\n",
       "      <td>32.000000</td>\n",
       "      <td>2.0</td>\n",
       "      <td>3.000000</td>\n",
       "    </tr>\n",
       "    <tr>\n",
       "      <th>50%</th>\n",
       "      <td>38.000000</td>\n",
       "      <td>2.0</td>\n",
       "      <td>4.000000</td>\n",
       "    </tr>\n",
       "    <tr>\n",
       "      <th>75%</th>\n",
       "      <td>44.000000</td>\n",
       "      <td>2.0</td>\n",
       "      <td>4.000000</td>\n",
       "    </tr>\n",
       "    <tr>\n",
       "      <th>max</th>\n",
       "      <td>50.000000</td>\n",
       "      <td>2.0</td>\n",
       "      <td>5.000000</td>\n",
       "    </tr>\n",
       "  </tbody>\n",
       "</table>\n",
       "</div>"
      ],
      "text/plain": [
       "              id  csex      grade\n",
       "count  25.000000  25.0  25.000000\n",
       "mean   38.000000   2.0   3.440000\n",
       "std     7.359801   0.0   0.916515\n",
       "min    26.000000   2.0   1.000000\n",
       "25%    32.000000   2.0   3.000000\n",
       "50%    38.000000   2.0   4.000000\n",
       "75%    44.000000   2.0   4.000000\n",
       "max    50.000000   2.0   5.000000"
      ]
     },
     "execution_count": 16,
     "metadata": {},
     "output_type": "execute_result"
    }
   ],
   "source": [
    "grade_F.describe()"
   ]
  },
  {
   "cell_type": "code",
   "execution_count": 95,
   "id": "4f4a8f9c",
   "metadata": {},
   "outputs": [
    {
     "data": {
      "image/png": "[encoded data removed]",
      "text/plain": [
       "<Figure size 640x480 with 1 Axes>"
      ]
     },
     "metadata": {},
     "output_type": "display_data"
    }
   ],
   "source": [
    "grade_Fhist = grade_F['grade'].hist(bins=10)"
   ]
  },
  {
   "cell_type": "code",
   "execution_count": 98,
   "id": "791e6c46",
   "metadata": {},
   "outputs": [
    {
     "data": {
      "image/png": "[encoded data removed]",
      "text/plain": [
       "<Figure size 800x600 with 1 Axes>"
      ]
     },
     "metadata": {},
     "output_type": "display_data"
    }
   ],
   "source": [
    "plt.figure(figsize=(8, 6))\n",
    "plt.title('Box Plot of Grades by msex and csex')\n",
    "plt.xticks([1, 2], ['msex', 'csex'])\n",
    "plt.xlabel('Category')\n",
    "plt.ylabel('Grade')\n",
    "plt.grid(axis='y')\n",
    "\n",
    "box_data = [df_grade['grade'][(df_grade['msex'] == 'Male') & (df_grade['csex'] == 1)],\n",
    "            df_grade['grade'][(df_grade['msex'] == 'Female') & (df_grade['csex'] == 2)]]\n",
    "\n",
    "plt.boxplot(box_data, labels=['Male, csex=1', 'Female, csex=2'])\n",
    "plt.show()"
   ]
  }
 ],
 "metadata": {
  "kernelspec": {
   "display_name": "Python 3 (ipykernel)",
   "language": "python",
   "name": "python3"
  },
  "language_info": {
   "codemirror_mode": {
    "name": "ipython",
    "version": 3
   },
   "file_extension": ".py",
   "mimetype": "text/x-python",
   "name": "python",
   "nbconvert_exporter": "python",
   "pygments_lexer": "ipython3",
   "version": "3.11.4"
  }
 },
 "nbformat": 4,
 "nbformat_minor": 5
}
