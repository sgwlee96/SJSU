{
 "cells": [
  {
   "cell_type": "markdown",
   "id": "7c14964f",
   "metadata": {},
   "source": [
    "# Vectors"
   ]
  },
  {
   "cell_type": "code",
   "execution_count": null,
   "id": "f915c825",
   "metadata": {},
   "outputs": [],
   "source": [
    "import numpy as np\n",
    "import pandas as pd\n",
    "import matplotlib.pyplot as plt\n",
    "import scipy.linalg as la\n",
    "import numpy.linalg as nla"
   ]
  },
  {
   "cell_type": "code",
   "execution_count": null,
   "id": "6a3bbfa2",
   "metadata": {},
   "outputs": [],
   "source": [
    "v1= np.array([2,2,3])"
   ]
  },
  {
   "cell_type": "code",
   "execution_count": null,
   "id": "3cb18fe5",
   "metadata": {},
   "outputs": [],
   "source": [
    "v2=np.array([-1,2,2])"
   ]
  },
  {
   "cell_type": "markdown",
   "id": "24b70c86",
   "metadata": {},
   "source": [
    "Vector Operations"
   ]
  },
  {
   "cell_type": "code",
   "execution_count": null,
   "id": "f0789467",
   "metadata": {},
   "outputs": [],
   "source": [
    "v3=v1+v2\n",
    "print(v3)"
   ]
  },
  {
   "cell_type": "code",
   "execution_count": null,
   "id": "c20328ee",
   "metadata": {},
   "outputs": [],
   "source": [
    "v4=2*v1+3*v2\n",
    "print(v4)"
   ]
  },
  {
   "cell_type": "markdown",
   "id": "8ca41a9a",
   "metadata": {},
   "source": [
    "Normal Form : Sq.Rt (Sum of Squares of each element)"
   ]
  },
  {
   "cell_type": "code",
   "execution_count": null,
   "id": "95e84cc9",
   "metadata": {},
   "outputs": [],
   "source": [
    "v1_norm=la.norm(v1)\n",
    "print(v1_norm)"
   ]
  },
  {
   "cell_type": "code",
   "execution_count": null,
   "id": "5aed1172",
   "metadata": {},
   "outputs": [],
   "source": [
    "v1_norm=np.sqrt(v1@v1)\n",
    "print(v1_norm)"
   ]
  },
  {
   "cell_type": "markdown",
   "id": "6a8b77e1",
   "metadata": {},
   "source": [
    "Dot Product : Sum of products of corresponding elements"
   ]
  },
  {
   "cell_type": "code",
   "execution_count": null,
   "id": "a81131ae",
   "metadata": {},
   "outputs": [],
   "source": [
    "v1_dot=np.dot(v1,v2)\n",
    "print(v1_dot)"
   ]
  },
  {
   "cell_type": "code",
   "execution_count": null,
   "id": "1f5a3fa1",
   "metadata": {},
   "outputs": [],
   "source": [
    "v2_dot= v1@v2\n",
    "print(v2_dot)"
   ]
  },
  {
   "cell_type": "code",
   "execution_count": null,
   "id": "4e55f753",
   "metadata": {},
   "outputs": [],
   "source": [
    "v3_dot=v1.dot(v2)\n",
    "print(v2_dot)"
   ]
  },
  {
   "cell_type": "markdown",
   "id": "0307d8d8",
   "metadata": {},
   "source": [
    "# Matrix"
   ]
  },
  {
   "cell_type": "code",
   "execution_count": null,
   "id": "48d01ad9",
   "metadata": {},
   "outputs": [],
   "source": [
    "A=np.array([[1,3,4],[2,3,5]])\n",
    "print(A)\n"
   ]
  },
  {
   "cell_type": "code",
   "execution_count": null,
   "id": "bafc51d0",
   "metadata": {},
   "outputs": [],
   "source": [
    "print(\"Matrix Shape :\", A.shape)"
   ]
  },
  {
   "cell_type": "code",
   "execution_count": null,
   "id": "430707e9",
   "metadata": {},
   "outputs": [],
   "source": [
    "I1=np.eye(3)\n",
    "print(I1)"
   ]
  },
  {
   "cell_type": "code",
   "execution_count": null,
   "id": "5184fac3",
   "metadata": {},
   "outputs": [],
   "source": [
    "I2=np.identity(3)\n",
    "print(I2)"
   ]
  },
  {
   "cell_type": "code",
   "execution_count": null,
   "id": "b2f198eb",
   "metadata": {},
   "outputs": [],
   "source": [
    "O1=np.zeros([3,3])\n",
    "print(O1)"
   ]
  },
  {
   "cell_type": "code",
   "execution_count": null,
   "id": "baa3a87e",
   "metadata": {},
   "outputs": [],
   "source": [
    "print(A)\n",
    "print(A.T)"
   ]
  },
  {
   "cell_type": "code",
   "execution_count": null,
   "id": "ac57a98f",
   "metadata": {},
   "outputs": [],
   "source": [
    "A=np.vstack((v1,v2,v3))\n",
    "print(A)"
   ]
  },
  {
   "cell_type": "code",
   "execution_count": null,
   "id": "9714c5e0",
   "metadata": {},
   "outputs": [],
   "source": [
    "B=np.array(([1,4,-1],[3,2,7],[2,5,5]))\n",
    "print(B)"
   ]
  },
  {
   "cell_type": "code",
   "execution_count": null,
   "id": "dbbcb843",
   "metadata": {},
   "outputs": [],
   "source": [
    "C=A@B\n",
    "print(C)"
   ]
  },
  {
   "cell_type": "code",
   "execution_count": null,
   "id": "b9006c77",
   "metadata": {},
   "outputs": [],
   "source": [
    "C=A*B\n",
    "print(C)"
   ]
  },
  {
   "cell_type": "markdown",
   "id": "3a6d42d3",
   "metadata": {},
   "source": [
    "Inverse Matrix"
   ]
  },
  {
   "cell_type": "code",
   "execution_count": null,
   "id": "c4af1335",
   "metadata": {},
   "outputs": [],
   "source": [
    "B_inv=la.inv(B)\n",
    "print(B_inv)"
   ]
  },
  {
   "cell_type": "code",
   "execution_count": null,
   "id": "7fcf48a1",
   "metadata": {},
   "outputs": [],
   "source": [
    "B_inv=nla.inv(B)\n",
    "print(B_inv)"
   ]
  },
  {
   "cell_type": "markdown",
   "id": "816e2f2c",
   "metadata": {},
   "source": [
    "Matrix Rank"
   ]
  },
  {
   "cell_type": "code",
   "execution_count": null,
   "id": "b2bab105",
   "metadata": {},
   "outputs": [],
   "source": [
    "print(\"Rank of A is : \", nla.matrix_rank(A))\n",
    "print(\"Rank of A is : \", nla.matrix_rank(B))"
   ]
  },
  {
   "cell_type": "markdown",
   "id": "94447013",
   "metadata": {},
   "source": [
    "Linear Equations"
   ]
  },
  {
   "cell_type": "code",
   "execution_count": null,
   "id": "04b1b842",
   "metadata": {},
   "outputs": [],
   "source": [
    "A=np.array(([1,4,-1],[3,2,7],[2,5,5]))\n",
    "B= np.array([2,2,3])\n",
    "X=la.solve(A,B)\n",
    "print(X)"
   ]
  },
  {
   "cell_type": "code",
   "execution_count": null,
   "id": "e5091af3",
   "metadata": {},
   "outputs": [],
   "source": [
    "import random\n",
    "\n",
    "A = np.arange(6).reshape(2,3) + random.randint(0, 10)\n",
    "print(A)\n"
   ]
  },
  {
   "cell_type": "markdown",
   "id": "c5422482",
   "metadata": {},
   "source": [
    "ARG-MAX"
   ]
  },
  {
   "cell_type": "code",
   "execution_count": null,
   "id": "ac0b3ed7",
   "metadata": {},
   "outputs": [],
   "source": [
    "np.argmax(A)"
   ]
  },
  {
   "cell_type": "code",
   "execution_count": null,
   "id": "8d15d962",
   "metadata": {},
   "outputs": [],
   "source": [
    "np.argmax(A, axis=0)"
   ]
  },
  {
   "cell_type": "code",
   "execution_count": null,
   "id": "ca26abd7",
   "metadata": {},
   "outputs": [],
   "source": [
    "np.argmax(A, axis=1)"
   ]
  },
  {
   "cell_type": "markdown",
   "id": "bc3990b6",
   "metadata": {},
   "source": [
    "One-Hot Encoding"
   ]
  },
  {
   "cell_type": "markdown",
   "id": "c8e6a756",
   "metadata": {},
   "source": [
    "One-hot encoding is a technique used in machine learning and data preprocessing to represent categorical data as binary vectors"
   ]
  },
  {
   "cell_type": "markdown",
   "id": "db64e004",
   "metadata": {},
   "source": [
    "It's commonly employed when you have categorical variables, like colors or types, that cannot be directly used in many machine learning algorithms, which require numerical inputs"
   ]
  },
  {
   "cell_type": "code",
   "execution_count": null,
   "id": "809e0297",
   "metadata": {},
   "outputs": [],
   "source": [
    "\n",
    "# Sample data with a \"Color\" column\n",
    "data = {'Color': ['Red', 'Green', 'Blue', 'Red', 'Blue']}\n",
    "df = pd.DataFrame(data)\n",
    "\n",
    "print (df)\n"
   ]
  },
  {
   "cell_type": "code",
   "execution_count": null,
   "id": "30d1f1c5",
   "metadata": {},
   "outputs": [],
   "source": [
    "# Using pandas' get_dummies() function for one-hot encoding\n",
    "one_hot_encoded = pd.get_dummies(df, columns=['Color'])\n",
    "\n",
    "print(one_hot_encoded)"
   ]
  }
 ],
 "metadata": {
  "kernelspec": {
   "display_name": "Python 3 (ipykernel)",
   "language": "python",
   "name": "python3"
  },
  "language_info": {
   "codemirror_mode": {
    "name": "ipython",
    "version": 3
   },
   "file_extension": ".py",
   "mimetype": "text/x-python",
   "name": "python",
   "nbconvert_exporter": "python",
   "pygments_lexer": "ipython3",
   "version": "3.11.4"
  }
 },
 "nbformat": 4,
 "nbformat_minor": 5
}
