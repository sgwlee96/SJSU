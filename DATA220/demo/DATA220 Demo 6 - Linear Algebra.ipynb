{
 "cells": [
  {
   "cell_type": "markdown",
   "id": "7c14964f",
   "metadata": {},
   "source": [
    "# Vectors"
   ]
  },
  {
   "cell_type": "code",
   "execution_count": 1,
   "id": "f915c825",
   "metadata": {},
   "outputs": [],
   "source": [
    "import numpy as np\n",
    "import pandas as pd\n",
    "import matplotlib.pyplot as plt\n",
    "import scipy.linalg as la\n",
    "import numpy.linalg as nla"
   ]
  },
  {
   "cell_type": "code",
   "execution_count": 2,
   "id": "6a3bbfa2",
   "metadata": {},
   "outputs": [],
   "source": [
    "v1= np.array([2,2,3])"
   ]
  },
  {
   "cell_type": "code",
   "execution_count": 3,
   "id": "3cb18fe5",
   "metadata": {},
   "outputs": [],
   "source": [
    "v2=np.array([-1,2,2])"
   ]
  },
  {
   "cell_type": "markdown",
   "id": "24b70c86",
   "metadata": {},
   "source": [
    "Vector Operations"
   ]
  },
  {
   "cell_type": "code",
   "execution_count": 4,
   "id": "f0789467",
   "metadata": {},
   "outputs": [
    {
     "name": "stdout",
     "output_type": "stream",
     "text": [
      "[1 4 5]\n"
     ]
    }
   ],
   "source": [
    "v3=v1+v2\n",
    "print(v3)"
   ]
  },
  {
   "cell_type": "code",
   "execution_count": 5,
   "id": "c20328ee",
   "metadata": {},
   "outputs": [
    {
     "name": "stdout",
     "output_type": "stream",
     "text": [
      "[ 1 10 12]\n"
     ]
    }
   ],
   "source": [
    "v4=2*v1+3*v2\n",
    "print(v4)"
   ]
  },
  {
   "cell_type": "markdown",
   "id": "8ca41a9a",
   "metadata": {},
   "source": [
    "Normal Form : Sq.Rt (Sum of Squares of each element)"
   ]
  },
  {
   "cell_type": "code",
   "execution_count": 6,
   "id": "95e84cc9",
   "metadata": {},
   "outputs": [
    {
     "name": "stdout",
     "output_type": "stream",
     "text": [
      "4.123105625617661\n"
     ]
    }
   ],
   "source": [
    "v1_norm=la.norm(v1)\n",
    "print(v1_norm)"
   ]
  },
  {
   "cell_type": "code",
   "execution_count": 7,
   "id": "5aed1172",
   "metadata": {},
   "outputs": [
    {
     "name": "stdout",
     "output_type": "stream",
     "text": [
      "4.123105625617661\n"
     ]
    }
   ],
   "source": [
    "v1_norm=np.sqrt(v1@v1)\n",
    "print(v1_norm)"
   ]
  },
  {
   "cell_type": "markdown",
   "id": "6a8b77e1",
   "metadata": {},
   "source": [
    "Dot Product : Sum of products of corresponding elements"
   ]
  },
  {
   "cell_type": "code",
   "execution_count": 8,
   "id": "a81131ae",
   "metadata": {},
   "outputs": [
    {
     "name": "stdout",
     "output_type": "stream",
     "text": [
      "8\n"
     ]
    }
   ],
   "source": [
    "v1_dot=np.dot(v1,v2)\n",
    "print(v1_dot)"
   ]
  },
  {
   "cell_type": "code",
   "execution_count": 9,
   "id": "1f5a3fa1",
   "metadata": {},
   "outputs": [
    {
     "name": "stdout",
     "output_type": "stream",
     "text": [
      "8\n"
     ]
    }
   ],
   "source": [
    "v2_dot= v1@v2\n",
    "print(v2_dot)"
   ]
  },
  {
   "cell_type": "code",
   "execution_count": 10,
   "id": "4e55f753",
   "metadata": {},
   "outputs": [
    {
     "name": "stdout",
     "output_type": "stream",
     "text": [
      "8\n"
     ]
    }
   ],
   "source": [
    "v3_dot=v1.dot(v2)\n",
    "print(v2_dot)"
   ]
  },
  {
   "cell_type": "markdown",
   "id": "0307d8d8",
   "metadata": {},
   "source": [
    "# Matrix"
   ]
  },
  {
   "cell_type": "code",
   "execution_count": 11,
   "id": "48d01ad9",
   "metadata": {},
   "outputs": [
    {
     "name": "stdout",
     "output_type": "stream",
     "text": [
      "[[1 3 4]\n",
      " [2 3 5]]\n"
     ]
    }
   ],
   "source": [
    "A=np.array([[1,3,4],[2,3,5]])\n",
    "print(A)\n"
   ]
  },
  {
   "cell_type": "code",
   "execution_count": 12,
   "id": "bafc51d0",
   "metadata": {},
   "outputs": [
    {
     "name": "stdout",
     "output_type": "stream",
     "text": [
      "Matrix Shape : (2, 3)\n"
     ]
    }
   ],
   "source": [
    "print(\"Matrix Shape :\", A.shape)"
   ]
  },
  {
   "cell_type": "code",
   "execution_count": 13,
   "id": "430707e9",
   "metadata": {},
   "outputs": [
    {
     "name": "stdout",
     "output_type": "stream",
     "text": [
      "[[1. 0. 0.]\n",
      " [0. 1. 0.]\n",
      " [0. 0. 1.]]\n"
     ]
    }
   ],
   "source": [
    "I1=np.eye(3)\n",
    "print(I1)"
   ]
  },
  {
   "cell_type": "code",
   "execution_count": 14,
   "id": "5184fac3",
   "metadata": {},
   "outputs": [
    {
     "name": "stdout",
     "output_type": "stream",
     "text": [
      "[[1. 0. 0.]\n",
      " [0. 1. 0.]\n",
      " [0. 0. 1.]]\n"
     ]
    }
   ],
   "source": [
    "I2=np.identity(3)\n",
    "print(I2)"
   ]
  },
  {
   "cell_type": "code",
   "execution_count": 15,
   "id": "b2f198eb",
   "metadata": {},
   "outputs": [
    {
     "name": "stdout",
     "output_type": "stream",
     "text": [
      "[[0. 0. 0.]\n",
      " [0. 0. 0.]\n",
      " [0. 0. 0.]]\n"
     ]
    }
   ],
   "source": [
    "O1=np.zeros([3,3])\n",
    "print(O1)"
   ]
  },
  {
   "cell_type": "code",
   "execution_count": 16,
   "id": "baa3a87e",
   "metadata": {},
   "outputs": [
    {
     "name": "stdout",
     "output_type": "stream",
     "text": [
      "[[1 3 4]\n",
      " [2 3 5]]\n",
      "[[1 2]\n",
      " [3 3]\n",
      " [4 5]]\n"
     ]
    }
   ],
   "source": [
    "print(A)\n",
    "print(A.T)"
   ]
  },
  {
   "cell_type": "code",
   "execution_count": 17,
   "id": "ac57a98f",
   "metadata": {},
   "outputs": [
    {
     "name": "stdout",
     "output_type": "stream",
     "text": [
      "[[ 2  2  3]\n",
      " [-1  2  2]\n",
      " [ 1  4  5]]\n"
     ]
    }
   ],
   "source": [
    "A=np.vstack((v1,v2,v3))\n",
    "print(A)"
   ]
  },
  {
   "cell_type": "code",
   "execution_count": 18,
   "id": "9714c5e0",
   "metadata": {},
   "outputs": [
    {
     "name": "stdout",
     "output_type": "stream",
     "text": [
      "[[ 1  4 -1]\n",
      " [ 3  2  7]\n",
      " [ 2  5  5]]\n"
     ]
    }
   ],
   "source": [
    "B=np.array(([1,4,-1],[3,2,7],[2,5,5]))\n",
    "print(B)"
   ]
  },
  {
   "cell_type": "code",
   "execution_count": 19,
   "id": "dbbcb843",
   "metadata": {},
   "outputs": [
    {
     "name": "stdout",
     "output_type": "stream",
     "text": [
      "[[14 27 27]\n",
      " [ 9 10 25]\n",
      " [23 37 52]]\n"
     ]
    }
   ],
   "source": [
    "C=A@B\n",
    "print(C)"
   ]
  },
  {
   "cell_type": "code",
   "execution_count": 20,
   "id": "b9006c77",
   "metadata": {},
   "outputs": [
    {
     "name": "stdout",
     "output_type": "stream",
     "text": [
      "[[ 2  8 -3]\n",
      " [-3  4 14]\n",
      " [ 2 20 25]]\n"
     ]
    }
   ],
   "source": [
    "C=A*B\n",
    "print(C)"
   ]
  },
  {
   "cell_type": "markdown",
   "id": "3a6d42d3",
   "metadata": {},
   "source": [
    "Inverse Matrix"
   ]
  },
  {
   "cell_type": "code",
   "execution_count": 21,
   "id": "c4af1335",
   "metadata": {},
   "outputs": [
    {
     "name": "stdout",
     "output_type": "stream",
     "text": [
      "[[ 0.625  0.625 -0.75 ]\n",
      " [ 0.025 -0.175  0.25 ]\n",
      " [-0.275 -0.075  0.25 ]]\n"
     ]
    }
   ],
   "source": [
    "B_inv=la.inv(B)\n",
    "print(B_inv)"
   ]
  },
  {
   "cell_type": "code",
   "execution_count": 22,
   "id": "7fcf48a1",
   "metadata": {},
   "outputs": [
    {
     "name": "stdout",
     "output_type": "stream",
     "text": [
      "[[ 0.625  0.625 -0.75 ]\n",
      " [ 0.025 -0.175  0.25 ]\n",
      " [-0.275 -0.075  0.25 ]]\n"
     ]
    }
   ],
   "source": [
    "B_inv=nla.inv(B)\n",
    "print(B_inv)"
   ]
  },
  {
   "cell_type": "markdown",
   "id": "816e2f2c",
   "metadata": {},
   "source": [
    "\n",
    "Matrix Rank"
   ]
  },
  {
   "cell_type": "code",
   "execution_count": 23,
   "id": "b2bab105",
   "metadata": {},
   "outputs": [
    {
     "name": "stdout",
     "output_type": "stream",
     "text": [
      "Rank of A is :  2\n",
      "Rank of A is :  3\n"
     ]
    }
   ],
   "source": [
    "print(\"Rank of A is : \", nla.matrix_rank(A))\n",
    "print(\"Rank of A is : \", nla.matrix_rank(B))"
   ]
  },
  {
   "cell_type": "markdown",
   "id": "94447013",
   "metadata": {},
   "source": [
    "Linear Equations"
   ]
  },
  {
   "cell_type": "code",
   "execution_count": 24,
   "id": "04b1b842",
   "metadata": {},
   "outputs": [
    {
     "name": "stdout",
     "output_type": "stream",
     "text": [
      "[0.25 0.45 0.05]\n"
     ]
    }
   ],
   "source": [
    "A=np.array(([1,4,-1],[3,2,7],[2,5,5]))\n",
    "B= np.array([2,2,3])\n",
    "X=la.solve(A,B)\n",
    "print(X)"
   ]
  },
  {
   "cell_type": "code",
   "execution_count": 25,
   "id": "e5091af3",
   "metadata": {},
   "outputs": [
    {
     "name": "stdout",
     "output_type": "stream",
     "text": [
      "[[ 8  9 10]\n",
      " [11 12 13]]\n"
     ]
    }
   ],
   "source": [
    "import random\n",
    "\n",
    "A = np.arange(6).reshape(2,3) + random.randint(0, 10)\n",
    "print(A)\n"
   ]
  },
  {
   "cell_type": "markdown",
   "id": "c5422482",
   "metadata": {},
   "source": [
    "ARG-MAX"
   ]
  },
  {
   "cell_type": "code",
   "execution_count": 26,
   "id": "ac0b3ed7",
   "metadata": {},
   "outputs": [
    {
     "data": {
      "text/plain": [
       "5"
      ]
     },
     "execution_count": 26,
     "metadata": {},
     "output_type": "execute_result"
    }
   ],
   "source": [
    "np.argmax(A)"
   ]
  },
  {
   "cell_type": "code",
   "execution_count": 27,
   "id": "8d15d962",
   "metadata": {},
   "outputs": [
    {
     "data": {
      "text/plain": [
       "array([1, 1, 1])"
      ]
     },
     "execution_count": 27,
     "metadata": {},
     "output_type": "execute_result"
    }
   ],
   "source": [
    "np.argmax(A, axis=0)"
   ]
  },
  {
   "cell_type": "code",
   "execution_count": 28,
   "id": "ca26abd7",
   "metadata": {},
   "outputs": [
    {
     "data": {
      "text/plain": [
       "array([2, 2])"
      ]
     },
     "execution_count": 28,
     "metadata": {},
     "output_type": "execute_result"
    }
   ],
   "source": [
    "np.argmax(A, axis=1)"
   ]
  },
  {
   "cell_type": "markdown",
   "id": "bc3990b6",
   "metadata": {},
   "source": [
    "One-Hot Encoding"
   ]
  },
  {
   "cell_type": "markdown",
   "id": "c8e6a756",
   "metadata": {},
   "source": [
    "One-hot encoding is a technique used in machine learning and data preprocessing to represent categorical data as binary vectors"
   ]
  },
  {
   "cell_type": "markdown",
   "id": "db64e004",
   "metadata": {},
   "source": [
    "It's commonly employed when you have categorical variables, like colors or types, that cannot be directly used in many machine learning algorithms, which require numerical inputs"
   ]
  },
  {
   "cell_type": "code",
   "execution_count": 29,
   "id": "809e0297",
   "metadata": {},
   "outputs": [
    {
     "name": "stdout",
     "output_type": "stream",
     "text": [
      "   Color\n",
      "0    Red\n",
      "1  Green\n",
      "2   Blue\n",
      "3    Red\n",
      "4   Blue\n"
     ]
    }
   ],
   "source": [
    "\n",
    "# Sample data with a \"Color\" column\n",
    "data = {'Color': ['Red', 'Green', 'Blue', 'Red', 'Blue']}\n",
    "df = pd.DataFrame(data)\n",
    "\n",
    "print (df)\n"
   ]
  },
  {
   "cell_type": "code",
   "execution_count": 30,
   "id": "30d1f1c5",
   "metadata": {},
   "outputs": [
    {
     "name": "stdout",
     "output_type": "stream",
     "text": [
      "   Color_Blue  Color_Green  Color_Red\n",
      "0           0            0          1\n",
      "1           0            1          0\n",
      "2           1            0          0\n",
      "3           0            0          1\n",
      "4           1            0          0\n"
     ]
    }
   ],
   "source": [
    "# Using pandas' get_dummies() function for one-hot encoding\n",
    "one_hot_encoded = pd.get_dummies(df, columns=['Color'])\n",
    "\n",
    "print(one_hot_encoded)"
   ]
  },
  {
   "cell_type": "code",
   "execution_count": null,
   "id": "3d2fbb0e-14fa-41dd-a2bc-9fa225b23694",
   "metadata": {},
   "outputs": [],
   "source": []
  }
 ],
 "metadata": {
  "kernelspec": {
   "display_name": "Python 3 (ipykernel)",
   "language": "python",
   "name": "python3"
  },
  "language_info": {
   "codemirror_mode": {
    "name": "ipython",
    "version": 3
   },
   "file_extension": ".py",
   "mimetype": "text/x-python",
   "name": "python",
   "nbconvert_exporter": "python",
   "pygments_lexer": "ipython3",
   "version": "3.11.4"
  }
 },
 "nbformat": 4,
 "nbformat_minor": 5
}
