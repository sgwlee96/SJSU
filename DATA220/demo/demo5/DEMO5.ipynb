{
 "cells": [
  {
   "cell_type": "markdown",
   "id": "42fbc0d5",
   "metadata": {},
   "source": [
    "# Hypothesis Test"
   ]
  },
  {
   "cell_type": "code",
   "execution_count": 16,
   "id": "d7a8895f",
   "metadata": {},
   "outputs": [],
   "source": [
    "from scipy.stats import ttest_ind\n",
    "from scipy.stats import ttest_rel\n",
    "from scipy.stats import ttest_ind_from_stats\n",
    "from scipy.stats import ttest_1samp\n",
    "from scipy import stats\n",
    "import pandas as pd\n",
    "import numpy as np"
   ]
  },
  {
   "cell_type": "raw",
   "id": "e3d2afb9",
   "metadata": {},
   "source": [
    "The functions mentioned from the scipy.stats library are all used for hypothesis testing with t-tests, but they are applied in different scenarios. \n",
    "\n",
    "1. ttest_ind (Independent t-test):\n",
    "This function is used to perform a two-sample independent t-test (also known as Student's t-test) to compare the means of two independent groups or samples.\n",
    "It assumes that the two samples are independent of each other.\n",
    "Example use case: Comparing the test scores of two different groups of students (e.g., Group A and Group B) to determine if there is a statistically significant difference between their means.\n",
    "\n",
    "2. ttest_rel (Paired t-test):\n",
    "This function is used to perform a paired t-test (related samples t-test) to compare the means of two related or paired samples.\n",
    "It is typically used when you have paired data points, such as before-and-after measurements for the same set of subjects.\n",
    "Example use case: Testing whether a new drug has a statistically significant effect by comparing the before-treatment and after-treatment measurements for the same group of patients.\n",
    "\n",
    "3. ttest_ind_from_stats (t-test from summary statistics):\n",
    "This function is used when you want to perform an independent t-test, but you have access to the summary statistics (mean, standard deviation, and sample size) of the two groups instead of the raw data.\n",
    "It calculates the t-statistic and p-value from the provided summary statistics.\n",
    "Example use case: Conducting a t-test when you only have access to the summary statistics for two populations (e.g., population means and standard deviations).\n",
    "\n",
    "4. ttest_1samp (One-sample t-test):\n",
    "This function is used to perform a one-sample t-test to compare the mean of a single sample to a known population mean or a specified hypothesized mean.\n",
    "It is used when you want to determine if the sample mean is significantly different from a known or hypothesized population mean.\n",
    "Example use case: Testing if the mean weight of a sample of apples is significantly different from a specified average weight.\n"
   ]
  },
  {
   "cell_type": "markdown",
   "id": "06736361",
   "metadata": {},
   "source": [
    "# Independent t-test (ttest_ind):"
   ]
  },
  {
   "cell_type": "code",
   "execution_count": 17,
   "id": "5fa87e41",
   "metadata": {},
   "outputs": [
    {
     "name": "stdout",
     "output_type": "stream",
     "text": [
      "Independent t-test results:\n",
      "T-statistic: 1.0878401658401375\n",
      "P-value: 0.3083500337926927\n",
      "Cannot reject null hypothesis (H0 wins): There is no significant difference between the groups.\n"
     ]
    }
   ],
   "source": [
    "# Sample data for two independent groups\n",
    "#Comparing the test scores of two different groups of students (e.g., Group A and Group B) to determine if there is a statistically significant difference between their means.\n",
    "\n",
    "group_a = np.array([82, 87, 71, 75, 91])\n",
    "group_b = np.array([65, 70, 80, 85, 78])\n",
    "\n",
    "# Perform an independent t-test\n",
    "t_statistic, p_value = ttest_ind(group_a, group_b)\n",
    "\n",
    "# Print the results\n",
    "print(\"Independent t-test results:\")\n",
    "print(\"T-statistic:\", t_statistic)\n",
    "print(\"P-value:\", p_value)\n",
    "\n",
    "# Interpret the results based on the p-value and alpha level\n",
    "alpha = 0.05\n",
    "if p_value > alpha:\n",
    "    print(\"Cannot reject null hypothesis (H0 wins): There is no significant difference between the groups.\")\n",
    "else:\n",
    "    print(\"Cannot accept H0 (H1 wins): There is a significant difference between the groups.\")"
   ]
  },
  {
   "cell_type": "markdown",
   "id": "61a1e78d",
   "metadata": {},
   "source": [
    "# Paired t-test (ttest_rel):"
   ]
  },
  {
   "cell_type": "code",
   "execution_count": 3,
   "id": "30f52d5c",
   "metadata": {},
   "outputs": [
    {
     "name": "stdout",
     "output_type": "stream",
     "text": [
      "Paired t-test results:\n",
      "T-statistic: 5.999999999999998\n",
      "P-value: 0.0038825370469605155\n",
      "Cannot accept H0 (H1 wins): There is a significant difference between the groups.\n"
     ]
    }
   ],
   "source": [
    "# Sample data for paired observations (before and after)\n",
    "#T esting whether a new drug has a statistically significant effect by comparing the before-treatment and after-treatment measurements for the same group of patients.\n",
    "\n",
    "before = np.array([24, 28, 20, 22, 30])\n",
    "after = np.array([20, 26, 18, 20, 28])\n",
    "\n",
    "# Perform a paired t-test\n",
    "t_statistic, p_value = stats.ttest_rel(before, after)\n",
    "\n",
    "# Print the results\n",
    "print(\"Paired t-test results:\")\n",
    "print(\"T-statistic:\", t_statistic)\n",
    "print(\"P-value:\", p_value)\n",
    "\n",
    "# Interpret the results based on the p-value and alpha level\n",
    "alpha = 0.05\n",
    "if p_value > alpha:\n",
    "    print(\"Cannot reject null hypothesis (H0 wins): There is no significant difference between the groups.\")\n",
    "else:\n",
    "    print(\"Cannot accept H0 (H1 wins): There is a significant difference between the groups.\")"
   ]
  },
  {
   "cell_type": "markdown",
   "id": "739c1d83",
   "metadata": {},
   "source": [
    "# Independent t-test from summary statistics (ttest_ind_from_stats):"
   ]
  },
  {
   "cell_type": "code",
   "execution_count": 4,
   "id": "7e4ebbe0",
   "metadata": {},
   "outputs": [
    {
     "name": "stdout",
     "output_type": "stream",
     "text": [
      "Independent t-test from summary statistics:\n",
      "T-statistic: 2.0040941700985386\n",
      "P-value: 0.080007112154228\n",
      "Cannot reject null hypothesis (H0 wins): There is no significant difference between the groups.\n"
     ]
    }
   ],
   "source": [
    "# Summary statistics for two independent groups\n",
    "mean_a = 82\n",
    "stddev_a = 5\n",
    "n_a = 5\n",
    "mean_b = 75\n",
    "stddev_b = 6\n",
    "n_b = 5\n",
    "\n",
    "# Perform an independent t-test using summary statistics\n",
    "t_statistic, p_value = stats.ttest_ind_from_stats(mean_a, stddev_a, n_a, mean_b, stddev_b, n_b)\n",
    "\n",
    "# Print the results\n",
    "print(\"Independent t-test from summary statistics:\")\n",
    "print(\"T-statistic:\", t_statistic)\n",
    "print(\"P-value:\", p_value)\n",
    "\n",
    "# Interpret the results based on the p-value and alpha level\n",
    "alpha = 0.05\n",
    "if p_value > alpha:\n",
    "    print(\"Cannot reject null hypothesis (H0 wins): There is no significant difference between the groups.\")\n",
    "else:\n",
    "    print(\"Cannot accept H0 (H1 wins): There is a significant difference between the groups.\")\n"
   ]
  },
  {
   "cell_type": "markdown",
   "id": "29a408b7",
   "metadata": {},
   "source": [
    "# One-sample t-test (ttest_1samp):"
   ]
  },
  {
   "cell_type": "code",
   "execution_count": 5,
   "id": "0e876223",
   "metadata": {},
   "outputs": [
    {
     "name": "stdout",
     "output_type": "stream",
     "text": [
      "One-sample t-test results:\n",
      "T-statistic: 1.717911380774658\n",
      "P-value: 0.11993750720434512\n",
      "Cannot reject null hypothesis (H0 wins): There is no significant difference between the groups.\n"
     ]
    }
   ],
   "source": [
    "# Sample data for a one-sample t-test\n",
    "data = np.array([68, 72, 71, 69, 70, 73, 75, 72, 70, 71])\n",
    "\n",
    "# Hypothesized population mean\n",
    "pop_mean = 70\n",
    "\n",
    "# Perform a one-sample t-test\n",
    "t_statistic, p_value = stats.ttest_1samp(data, pop_mean)\n",
    "\n",
    "# Print the results\n",
    "print(\"One-sample t-test results:\")\n",
    "print(\"T-statistic:\", t_statistic)\n",
    "print(\"P-value:\", p_value)\n",
    "\n",
    "# Interpret the results based on the p-value and alpha level\n",
    "alpha = 0.05\n",
    "if p_value > alpha:\n",
    "    print(\"Cannot reject null hypothesis (H0 wins): There is no significant difference between the groups.\")\n",
    "else:\n",
    "    print(\"Cannot accept H0 (H1 wins): There is a significant difference between the groups.\")"
   ]
  },
  {
   "cell_type": "markdown",
   "id": "ef849c6c",
   "metadata": {},
   "source": [
    "# Test Dataset"
   ]
  },
  {
   "cell_type": "code",
   "execution_count": 12,
   "id": "c65b1f6a",
   "metadata": {},
   "outputs": [
    {
     "data": {
      "text/html": [
       "<div>\n",
       "<style scoped>\n",
       "    .dataframe tbody tr th:only-of-type {\n",
       "        vertical-align: middle;\n",
       "    }\n",
       "\n",
       "    .dataframe tbody tr th {\n",
       "        vertical-align: top;\n",
       "    }\n",
       "\n",
       "    .dataframe thead th {\n",
       "        text-align: right;\n",
       "    }\n",
       "</style>\n",
       "<table border=\"1\" class=\"dataframe\">\n",
       "  <thead>\n",
       "    <tr style=\"text-align: right;\">\n",
       "      <th></th>\n",
       "      <th>Income</th>\n",
       "      <th>Lot_Size</th>\n",
       "      <th>Ownership</th>\n",
       "    </tr>\n",
       "  </thead>\n",
       "  <tbody>\n",
       "    <tr>\n",
       "      <th>0</th>\n",
       "      <td>60.0</td>\n",
       "      <td>18.4</td>\n",
       "      <td>Owner</td>\n",
       "    </tr>\n",
       "    <tr>\n",
       "      <th>1</th>\n",
       "      <td>85.5</td>\n",
       "      <td>16.8</td>\n",
       "      <td>Owner</td>\n",
       "    </tr>\n",
       "    <tr>\n",
       "      <th>2</th>\n",
       "      <td>64.8</td>\n",
       "      <td>21.6</td>\n",
       "      <td>Owner</td>\n",
       "    </tr>\n",
       "    <tr>\n",
       "      <th>3</th>\n",
       "      <td>61.5</td>\n",
       "      <td>20.8</td>\n",
       "      <td>Owner</td>\n",
       "    </tr>\n",
       "    <tr>\n",
       "      <th>4</th>\n",
       "      <td>87.0</td>\n",
       "      <td>23.6</td>\n",
       "      <td>Owner</td>\n",
       "    </tr>\n",
       "  </tbody>\n",
       "</table>\n",
       "</div>"
      ],
      "text/plain": [
       "   Income  Lot_Size Ownership\n",
       "0    60.0      18.4     Owner\n",
       "1    85.5      16.8     Owner\n",
       "2    64.8      21.6     Owner\n",
       "3    61.5      20.8     Owner\n",
       "4    87.0      23.6     Owner"
      ]
     },
     "execution_count": 12,
     "metadata": {},
     "output_type": "execute_result"
    }
   ],
   "source": [
    "df = pd.read_csv('RidingMowers.csv')\n",
    "df.head()"
   ]
  },
  {
   "cell_type": "code",
   "execution_count": 13,
   "id": "a7b6498b",
   "metadata": {},
   "outputs": [
    {
     "data": {
      "text/html": [
       "<div>\n",
       "<style scoped>\n",
       "    .dataframe tbody tr th:only-of-type {\n",
       "        vertical-align: middle;\n",
       "    }\n",
       "\n",
       "    .dataframe tbody tr th {\n",
       "        vertical-align: top;\n",
       "    }\n",
       "\n",
       "    .dataframe thead th {\n",
       "        text-align: right;\n",
       "    }\n",
       "</style>\n",
       "<table border=\"1\" class=\"dataframe\">\n",
       "  <thead>\n",
       "    <tr style=\"text-align: right;\">\n",
       "      <th></th>\n",
       "      <th>Income</th>\n",
       "      <th>Lot_Size</th>\n",
       "      <th>Ownership</th>\n",
       "    </tr>\n",
       "  </thead>\n",
       "  <tbody>\n",
       "    <tr>\n",
       "      <th>19</th>\n",
       "      <td>66.0</td>\n",
       "      <td>18.4</td>\n",
       "      <td>Nonowner</td>\n",
       "    </tr>\n",
       "    <tr>\n",
       "      <th>20</th>\n",
       "      <td>47.4</td>\n",
       "      <td>16.4</td>\n",
       "      <td>Nonowner</td>\n",
       "    </tr>\n",
       "    <tr>\n",
       "      <th>21</th>\n",
       "      <td>33.0</td>\n",
       "      <td>18.8</td>\n",
       "      <td>Nonowner</td>\n",
       "    </tr>\n",
       "    <tr>\n",
       "      <th>22</th>\n",
       "      <td>51.0</td>\n",
       "      <td>14.0</td>\n",
       "      <td>Nonowner</td>\n",
       "    </tr>\n",
       "    <tr>\n",
       "      <th>23</th>\n",
       "      <td>63.0</td>\n",
       "      <td>14.8</td>\n",
       "      <td>Nonowner</td>\n",
       "    </tr>\n",
       "  </tbody>\n",
       "</table>\n",
       "</div>"
      ],
      "text/plain": [
       "    Income  Lot_Size Ownership\n",
       "19    66.0      18.4  Nonowner\n",
       "20    47.4      16.4  Nonowner\n",
       "21    33.0      18.8  Nonowner\n",
       "22    51.0      14.0  Nonowner\n",
       "23    63.0      14.8  Nonowner"
      ]
     },
     "execution_count": 13,
     "metadata": {},
     "output_type": "execute_result"
    }
   ],
   "source": [
    "df.tail()"
   ]
  },
  {
   "cell_type": "code",
   "execution_count": 26,
   "id": "2481e934",
   "metadata": {},
   "outputs": [],
   "source": [
    "OW1 = df[df['Ownership'] == 'Owner']\n",
    "OW2 = df[df['Ownership'] == 'Nonowner']"
   ]
  },
  {
   "cell_type": "code",
   "execution_count": 27,
   "id": "041fdc6e",
   "metadata": {},
   "outputs": [
    {
     "data": {
      "text/html": [
       "<div>\n",
       "<style scoped>\n",
       "    .dataframe tbody tr th:only-of-type {\n",
       "        vertical-align: middle;\n",
       "    }\n",
       "\n",
       "    .dataframe tbody tr th {\n",
       "        vertical-align: top;\n",
       "    }\n",
       "\n",
       "    .dataframe thead th {\n",
       "        text-align: right;\n",
       "    }\n",
       "</style>\n",
       "<table border=\"1\" class=\"dataframe\">\n",
       "  <thead>\n",
       "    <tr style=\"text-align: right;\">\n",
       "      <th></th>\n",
       "      <th>Income</th>\n",
       "      <th>Lot_Size</th>\n",
       "      <th>Ownership</th>\n",
       "    </tr>\n",
       "  </thead>\n",
       "  <tbody>\n",
       "    <tr>\n",
       "      <th>0</th>\n",
       "      <td>60.0</td>\n",
       "      <td>18.4</td>\n",
       "      <td>Owner</td>\n",
       "    </tr>\n",
       "    <tr>\n",
       "      <th>1</th>\n",
       "      <td>85.5</td>\n",
       "      <td>16.8</td>\n",
       "      <td>Owner</td>\n",
       "    </tr>\n",
       "    <tr>\n",
       "      <th>2</th>\n",
       "      <td>64.8</td>\n",
       "      <td>21.6</td>\n",
       "      <td>Owner</td>\n",
       "    </tr>\n",
       "    <tr>\n",
       "      <th>3</th>\n",
       "      <td>61.5</td>\n",
       "      <td>20.8</td>\n",
       "      <td>Owner</td>\n",
       "    </tr>\n",
       "    <tr>\n",
       "      <th>4</th>\n",
       "      <td>87.0</td>\n",
       "      <td>23.6</td>\n",
       "      <td>Owner</td>\n",
       "    </tr>\n",
       "  </tbody>\n",
       "</table>\n",
       "</div>"
      ],
      "text/plain": [
       "   Income  Lot_Size Ownership\n",
       "0    60.0      18.4     Owner\n",
       "1    85.5      16.8     Owner\n",
       "2    64.8      21.6     Owner\n",
       "3    61.5      20.8     Owner\n",
       "4    87.0      23.6     Owner"
      ]
     },
     "execution_count": 27,
     "metadata": {},
     "output_type": "execute_result"
    }
   ],
   "source": [
    "OW1.head()"
   ]
  },
  {
   "cell_type": "code",
   "execution_count": 34,
   "id": "b2959bc1",
   "metadata": {},
   "outputs": [
    {
     "data": {
      "text/html": [
       "<div>\n",
       "<style scoped>\n",
       "    .dataframe tbody tr th:only-of-type {\n",
       "        vertical-align: middle;\n",
       "    }\n",
       "\n",
       "    .dataframe tbody tr th {\n",
       "        vertical-align: top;\n",
       "    }\n",
       "\n",
       "    .dataframe thead th {\n",
       "        text-align: right;\n",
       "    }\n",
       "</style>\n",
       "<table border=\"1\" class=\"dataframe\">\n",
       "  <thead>\n",
       "    <tr style=\"text-align: right;\">\n",
       "      <th></th>\n",
       "      <th>Income</th>\n",
       "      <th>Lot_Size</th>\n",
       "      <th>Ownership</th>\n",
       "    </tr>\n",
       "  </thead>\n",
       "  <tbody>\n",
       "    <tr>\n",
       "      <th>12</th>\n",
       "      <td>75.0</td>\n",
       "      <td>19.6</td>\n",
       "      <td>Nonowner</td>\n",
       "    </tr>\n",
       "    <tr>\n",
       "      <th>13</th>\n",
       "      <td>52.8</td>\n",
       "      <td>20.8</td>\n",
       "      <td>Nonowner</td>\n",
       "    </tr>\n",
       "    <tr>\n",
       "      <th>14</th>\n",
       "      <td>64.8</td>\n",
       "      <td>17.2</td>\n",
       "      <td>Nonowner</td>\n",
       "    </tr>\n",
       "    <tr>\n",
       "      <th>15</th>\n",
       "      <td>43.2</td>\n",
       "      <td>20.4</td>\n",
       "      <td>Nonowner</td>\n",
       "    </tr>\n",
       "    <tr>\n",
       "      <th>16</th>\n",
       "      <td>84.0</td>\n",
       "      <td>17.6</td>\n",
       "      <td>Nonowner</td>\n",
       "    </tr>\n",
       "  </tbody>\n",
       "</table>\n",
       "</div>"
      ],
      "text/plain": [
       "    Income  Lot_Size Ownership\n",
       "12    75.0      19.6  Nonowner\n",
       "13    52.8      20.8  Nonowner\n",
       "14    64.8      17.2  Nonowner\n",
       "15    43.2      20.4  Nonowner\n",
       "16    84.0      17.6  Nonowner"
      ]
     },
     "execution_count": 34,
     "metadata": {},
     "output_type": "execute_result"
    }
   ],
   "source": [
    "OW2.head()"
   ]
  },
  {
   "cell_type": "code",
   "execution_count": 35,
   "id": "fbaa8dcc",
   "metadata": {},
   "outputs": [
    {
     "name": "stdout",
     "output_type": "stream",
     "text": [
      "Independent t-test results:\n",
      "T-statistic: 3.25081043903222\n",
      "P-value: 0.0036651111764106348\n",
      "Cannot accept H0 (H1 wins): There is a significant difference between the groups.\n"
     ]
    }
   ],
   "source": [
    "t_statistic, p_value = ttest_ind(OW1['Income'],OW2['Income'])\n",
    "\n",
    "# Print the results\n",
    "print(\"Independent t-test results:\")\n",
    "print(\"T-statistic:\", t_statistic)\n",
    "print(\"P-value:\", p_value)\n",
    "\n",
    "# Interpret the results based on the p-value and alpha level\n",
    "alpha = 0.05\n",
    "if p_value > alpha:\n",
    "    print(\"Cannot reject null hypothesis (H0 wins): There is no significant difference between the groups.\")\n",
    "else:\n",
    "    print(\"Cannot accept H0 (H1 wins): There is a significant difference between the groups.\")"
   ]
  },
  {
   "cell_type": "code",
   "execution_count": 36,
   "id": "70fcf723",
   "metadata": {},
   "outputs": [
    {
     "name": "stdout",
     "output_type": "stream",
     "text": [
      "Independent t-test results:\n",
      "T-statistic: 3.1203123968567885\n",
      "P-value: 0.004982607917620837\n",
      "Cannot accept H0 (H1 wins): There is a significant difference between the groups.\n"
     ]
    }
   ],
   "source": [
    "t_statistic, p_value = ttest_ind(OW1['Lot_Size'],OW2['Lot_Size'])\n",
    "\n",
    "# Print the results\n",
    "print(\"Independent t-test results:\")\n",
    "print(\"T-statistic:\", t_statistic)\n",
    "print(\"P-value:\", p_value)\n",
    "\n",
    "# Interpret the results based on the p-value and alpha level\n",
    "alpha = 0.05\n",
    "if p_value > alpha:\n",
    "    print(\"Cannot reject null hypothesis (H0 wins): There is no significant difference between the groups.\")\n",
    "else:\n",
    "    print(\"Cannot accept H0 (H1 wins): There is a significant difference between the groups.\")"
   ]
  },
  {
   "cell_type": "code",
   "execution_count": null,
   "id": "16202075",
   "metadata": {},
   "outputs": [],
   "source": []
  }
 ],
 "metadata": {
  "kernelspec": {
   "display_name": "Python 3 (ipykernel)",
   "language": "python",
   "name": "python3"
  },
  "language_info": {
   "codemirror_mode": {
    "name": "ipython",
    "version": 3
   },
   "file_extension": ".py",
   "mimetype": "text/x-python",
   "name": "python",
   "nbconvert_exporter": "python",
   "pygments_lexer": "ipython3",
   "version": "3.11.4"
  }
 },
 "nbformat": 4,
 "nbformat_minor": 5
}
