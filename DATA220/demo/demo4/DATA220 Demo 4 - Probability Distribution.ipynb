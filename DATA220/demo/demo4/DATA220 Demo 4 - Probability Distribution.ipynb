{
 "cells": [
  {
   "cell_type": "code",
   "execution_count": 1,
   "id": "10563604",
   "metadata": {},
   "outputs": [],
   "source": [
    "from scipy import stats"
   ]
  },
  {
   "cell_type": "code",
   "execution_count": 2,
   "id": "e1628cf8",
   "metadata": {},
   "outputs": [],
   "source": [
    "import numpy as np\n",
    "import matplotlib.pyplot as plt\n",
    "from scipy.stats import binom\n"
   ]
  },
  {
   "cell_type": "markdown",
   "id": "cf8c7971",
   "metadata": {},
   "source": [
    "### The Cumulative Distribution Function"
   ]
  },
  {
   "cell_type": "markdown",
   "id": "bf4546c6",
   "metadata": {},
   "source": [
    "The Cumulative Distribution Function or CDF is:\n",
    "\n",
    "The probability of all outcomes less than or equal to a given value x,\n",
    "Graphically, this is the the total area of everything less than or equal to x (**the total area of the left of x*)"
   ]
  },
  {
   "cell_type": "code",
   "execution_count": 3,
   "id": "327a593c",
   "metadata": {},
   "outputs": [],
   "source": [
    "COIN = binom(n=2, p=0.5)"
   ]
  },
  {
   "cell_type": "markdown",
   "id": "7deb058a",
   "metadata": {},
   "source": [
    "What percentage of results have 1 or fewer heads?"
   ]
  },
  {
   "cell_type": "code",
   "execution_count": 4,
   "id": "adbca617",
   "metadata": {},
   "outputs": [
    {
     "data": {
      "text/plain": [
       "0.75"
      ]
     },
     "execution_count": 4,
     "metadata": {},
     "output_type": "execute_result"
    }
   ],
   "source": [
    "COIN.cdf(1)"
   ]
  },
  {
   "cell_type": "markdown",
   "id": "67e178c0",
   "metadata": {},
   "source": [
    "### PDF / PMF: Probability Mass/Density Functions"
   ]
  },
  {
   "cell_type": "markdown",
   "id": "75e87f1d",
   "metadata": {},
   "source": [
    "\n",
    "The .pmf() and .pdf() functions find the probability of an event at a specific point in the distribution.\n",
    "\n",
    "The Probability Mass Function (PMF) -- or .pmf() -- is only defined on discrete distributions where each event has a fixed probability of occurring.\n",
    "\n",
    "The Probability Density Function (PDF) -- or .pdf() -- is only defined on continuous distributions where it finds the probability of an event occurring within a window around a specific point."
   ]
  },
  {
   "cell_type": "code",
   "execution_count": 5,
   "id": "31f74e02",
   "metadata": {},
   "outputs": [],
   "source": [
    "COIN = binom(n=2, p=0.5000000)"
   ]
  },
  {
   "cell_type": "code",
   "execution_count": 6,
   "id": "cda54b4d",
   "metadata": {},
   "outputs": [
    {
     "name": "stdout",
     "output_type": "stream",
     "text": [
      "0.25\n"
     ]
    }
   ],
   "source": [
    "print(COIN.pmf(0))\n"
   ]
  },
  {
   "cell_type": "markdown",
   "id": "0c923f30",
   "metadata": {},
   "source": [
    "### RVS: Random Value Sample"
   ]
  },
  {
   "cell_type": "markdown",
   "id": "1cc380f6",
   "metadata": {},
   "source": [
    "The .rvs() function returns a random sample of the distribution with probability equal to the distribution -- if something is 80% likely, that value will be sampled 80% of the time. In COIN, we expect more results with 1 (50% occurrence of 1 head) than 0 or 2 (25% occurrence of either zero heads or two heads)."
   ]
  },
  {
   "cell_type": "code",
   "execution_count": 7,
   "id": "a7006a3e",
   "metadata": {},
   "outputs": [
    {
     "data": {
      "text/plain": [
       "array([1, 1, 0, 2, 1, 1, 1, 0, 2, 2, 1, 1, 2, 1, 0, 0, 0, 0, 0, 2, 0, 0,\n",
       "       2, 1, 2, 1, 0, 0, 1, 1, 1, 2, 0, 1, 1, 1, 1, 2, 1, 1, 1, 1, 0, 2,\n",
       "       0, 0, 1, 0, 0, 0])"
      ]
     },
     "execution_count": 7,
     "metadata": {},
     "output_type": "execute_result"
    }
   ],
   "source": [
    "COIN.rvs(50)"
   ]
  },
  {
   "cell_type": "markdown",
   "id": "a0f3a2c3",
   "metadata": {},
   "source": [
    "### BINOMIAL DISTRIBUTION"
   ]
  },
  {
   "cell_type": "markdown",
   "id": "1721232a",
   "metadata": {},
   "source": [
    "Approximately 70% of DATA 220 students do their homework in time for it to be collected and graded. Each\n",
    "student does homework independently. In a DATA 220 class of 50 students, what is the probability that at\n",
    "least 40 will do their homework on time? Students are selected randomly."
   ]
  },
  {
   "cell_type": "code",
   "execution_count": 8,
   "id": "df05ea2d",
   "metadata": {},
   "outputs": [],
   "source": [
    "B= stats.binom(50,0.7) #n,p"
   ]
  },
  {
   "cell_type": "code",
   "execution_count": 9,
   "id": "5aae7782",
   "metadata": {},
   "outputs": [
    {
     "name": "stdout",
     "output_type": "stream",
     "text": [
      "Probability that at least 40 students will do their homework on time :  0.07885062482305638\n"
     ]
    }
   ],
   "source": [
    "print(\"Probability that at least 40 students will do their homework on time : \", 1-B.cdf(39))"
   ]
  },
  {
   "cell_type": "markdown",
   "id": "717065be",
   "metadata": {},
   "source": [
    "### GEOMETRIC DISTRIBUTION"
   ]
  },
  {
   "cell_type": "markdown",
   "id": "e49dd005",
   "metadata": {},
   "source": [
    "The lifetime risk of developing pancreatic cancer is about one in 78 (1.28%). Let X = the number of\n",
    "people you ask before one says he or she has pancreatic cancer. The random variable X in this case\n",
    "includes only the number of trials that were failures and does not count the trial that was a success in\n",
    "finding a person who had the disease.\n",
    "The appropriate formula for this random variable is the second one presented above. Then X is a\n",
    "discrete random variable with a geometric distribution: X ~ G(0.0128).\n"
   ]
  },
  {
   "cell_type": "markdown",
   "id": "acddaa0b",
   "metadata": {},
   "source": [
    "a. What is the probability of that you ask 9 people before one says he or she has pancreatic cancer?\n",
    "This is asking, what is the probability that you ask 9 people unsuccessfully and the tenth person is a\n",
    "success?b. What is the probability that you must ask 20 people?\n",
    "c. Find the (i) mean and (ii) standard deviation of X."
   ]
  },
  {
   "cell_type": "code",
   "execution_count": 10,
   "id": "66e0a718",
   "metadata": {},
   "outputs": [],
   "source": [
    "G= stats.geom(0.0128)"
   ]
  },
  {
   "cell_type": "code",
   "execution_count": 11,
   "id": "f29ce08a",
   "metadata": {},
   "outputs": [
    {
     "name": "stdout",
     "output_type": "stream",
     "text": [
      "Probability of 10 people:  0.011398725357989001\n",
      "Probability of 10 people:  0.010020923731061693\n"
     ]
    }
   ],
   "source": [
    "print(\"Probability of 10 people: \", G.pmf(10))\n",
    "print(\"Probability of 10 people: \", G.pmf(20))"
   ]
  },
  {
   "cell_type": "markdown",
   "id": "2df3ba4e",
   "metadata": {},
   "source": [
    "### POISSON DISTRIBUTION"
   ]
  },
  {
   "cell_type": "markdown",
   "id": "f7af94cf",
   "metadata": {},
   "source": [
    "Text message users receive or send an average of 41.5 text messages per day.\n",
    "a. How many text messages does a text message user receive or send per hour?\n",
    "b. What is the probability that a text message user receives or sends two messages per hour?\n",
    "c. What is the probability that a text message user receives or sends more than two messages per hour?"
   ]
  },
  {
   "cell_type": "code",
   "execution_count": 12,
   "id": "71d59c93",
   "metadata": {},
   "outputs": [],
   "source": [
    "p= stats.poisson(1.7292)"
   ]
  },
  {
   "cell_type": "code",
   "execution_count": 13,
   "id": "231a1e83",
   "metadata": {},
   "outputs": [
    {
     "name": "stdout",
     "output_type": "stream",
     "text": [
      "Probability of 2 messages:  0.2652640768066086\n",
      "Probability of more than 2 messages:  0.25050408094267707\n"
     ]
    }
   ],
   "source": [
    "print(\"Probability of 2 messages: \", p.pmf(2))\n",
    "print(\"Probability of more than 2 messages: \", 1-p.cdf(2))"
   ]
  },
  {
   "cell_type": "markdown",
   "id": "04ce4866",
   "metadata": {},
   "source": [
    "### POISSON DISTRIBUTION & BINOMIAL DISTRIBUTION"
   ]
  },
  {
   "cell_type": "markdown",
   "id": "6ff29321",
   "metadata": {},
   "source": [
    "A survey of 500 seniors in MSDA program yields the following information. 84% go straight to work after\n",
    "graduation. 15% go on to work on their MBA/Ph.D. 1% stay to get a minor in another program.\n",
    "What is the probability that more than 2 seniors stay to get a minor in another program?"
   ]
  },
  {
   "cell_type": "code",
   "execution_count": 14,
   "id": "5b36e854",
   "metadata": {},
   "outputs": [],
   "source": [
    "P=stats.poisson(5)\n",
    "B=stats.binom(500,0.01)"
   ]
  },
  {
   "cell_type": "code",
   "execution_count": 15,
   "id": "ceb2e648",
   "metadata": {},
   "outputs": [
    {
     "name": "stdout",
     "output_type": "stream",
     "text": [
      "Probability of more than 2 seniors staying:  0.8753479805169189\n",
      "Probability of more than 2 seniors staying:  0.8766142256464187\n"
     ]
    }
   ],
   "source": [
    "print(\"Probability of more than 2 seniors staying: \", 1-P.cdf(2))\n",
    "print(\"Probability of more than 2 seniors staying: \", 1-B.cdf(2))"
   ]
  },
  {
   "cell_type": "markdown",
   "id": "99537049",
   "metadata": {},
   "source": [
    "### UNIFORM DISTRIBUTION"
   ]
  },
  {
   "cell_type": "markdown",
   "id": "1c20471f",
   "metadata": {},
   "source": [
    "Your customers wait for your response (modeled by uniform distribution between 0 to 15 min).\n",
    "What is the probability that the customer waits less than 12 min?"
   ]
  },
  {
   "cell_type": "code",
   "execution_count": 16,
   "id": "b8606f65",
   "metadata": {},
   "outputs": [],
   "source": [
    "U=stats.uniform (0,15)"
   ]
  },
  {
   "cell_type": "code",
   "execution_count": 17,
   "id": "ea72c1d3",
   "metadata": {},
   "outputs": [
    {
     "name": "stdout",
     "output_type": "stream",
     "text": [
      "Probability of waiting less than 12 min:  0.8\n"
     ]
    }
   ],
   "source": [
    "print(\"Probability of waiting less than 12 min: \", U.cdf(12))"
   ]
  },
  {
   "cell_type": "markdown",
   "id": "3e5f6f93",
   "metadata": {},
   "source": [
    "### EXPONENTIAL DISTRIBUTION"
   ]
  },
  {
   "cell_type": "markdown",
   "id": "fb663df3",
   "metadata": {},
   "source": [
    "Let X = amount of time (in minutes) a postal clerk spends with a customer. The time is known from historical data to\n",
    "have an average amount of time equal to four minutes. It is given that μ = 4 minutes, that is, the average time the\n",
    "clerk spends with a customer is 4 minutes.\n",
    "What is the probability that he or she will spend at least a three minutes with the postal clerk?"
   ]
  },
  {
   "cell_type": "code",
   "execution_count": 18,
   "id": "9b52aa1b",
   "metadata": {},
   "outputs": [],
   "source": [
    "E=stats.expon(scale=4)"
   ]
  },
  {
   "cell_type": "code",
   "execution_count": 19,
   "id": "4db2ba81",
   "metadata": {},
   "outputs": [
    {
     "name": "stdout",
     "output_type": "stream",
     "text": [
      "Probability of at least 3 min: 0.4723665527410147\n"
     ]
    }
   ],
   "source": [
    "print(\"Probability of at least 3 min:\",1-E.cdf(3))"
   ]
  },
  {
   "cell_type": "markdown",
   "id": "5a2209f5",
   "metadata": {},
   "source": [
    "### NORMAL DISTRIBUTION"
   ]
  },
  {
   "cell_type": "code",
   "execution_count": 20,
   "id": "1effe176",
   "metadata": {},
   "outputs": [],
   "source": [
    "from scipy.stats import norm\n",
    "import seaborn as sns\n",
    "import matplotlib.pyplot as plt"
   ]
  },
  {
   "cell_type": "code",
   "execution_count": 21,
   "id": "9719ffb2",
   "metadata": {},
   "outputs": [],
   "source": [
    "battery_sample=norm.rvs(loc=6,scale=1.5,size=1000)"
   ]
  },
  {
   "cell_type": "code",
   "execution_count": 22,
   "id": "770adaea",
   "metadata": {},
   "outputs": [
    {
     "data": {
      "text/plain": [
       "<Axes: ylabel='Count'>"
      ]
     },
     "execution_count": 22,
     "metadata": {},
     "output_type": "execute_result"
    },
    {
     "data": {
      "image/png": "[encoded data removed]",
      "text/plain": [
       "<Figure size 640x480 with 1 Axes>"
      ]
     },
     "metadata": {},
     "output_type": "display_data"
    }
   ],
   "source": [
    "sns.histplot(battery_sample)"
   ]
  },
  {
   "cell_type": "code",
   "execution_count": 23,
   "id": "58d6d26a",
   "metadata": {},
   "outputs": [
    {
     "data": {
      "text/plain": [
       "<Axes: ylabel='Density'>"
      ]
     },
     "execution_count": 23,
     "metadata": {},
     "output_type": "execute_result"
    },
    {
     "data": {
      "image/png": "[encoded data removed]",
      "text/plain": [
       "<Figure size 640x480 with 1 Axes>"
      ]
     },
     "metadata": {},
     "output_type": "display_data"
    }
   ],
   "source": [
    "sns.kdeplot(battery_sample,fill=True)"
   ]
  },
  {
   "cell_type": "code",
   "execution_count": 24,
   "id": "6c7defb6",
   "metadata": {},
   "outputs": [
    {
     "data": {
      "text/plain": [
       "<Axes: ylabel='Density'>"
      ]
     },
     "execution_count": 24,
     "metadata": {},
     "output_type": "execute_result"
    },
    {
     "data": {
      "image/png": "[encoded data removed]",
      "text/plain": [
       "<Figure size 640x480 with 1 Axes>"
      ]
     },
     "metadata": {},
     "output_type": "display_data"
    }
   ],
   "source": [
    "battery_sample=norm.rvs(loc=6,scale=1.5,size=1000)\n",
    "battery_mean=battery_sample.mean()\n",
    "plt.axvline(battery_mean)\n",
    "sns.kdeplot(battery_sample,fill=True)"
   ]
  },
  {
   "cell_type": "code",
   "execution_count": 25,
   "id": "55e92d8e",
   "metadata": {},
   "outputs": [
    {
     "data": {
      "text/plain": [
       "<Axes: ylabel='Density'>"
      ]
     },
     "execution_count": 25,
     "metadata": {},
     "output_type": "execute_result"
    },
    {
     "data": {
      "image/png": "[encoded data removed]",
      "text/plain": [
       "<Figure size 640x480 with 1 Axes>"
      ]
     },
     "metadata": {},
     "output_type": "display_data"
    }
   ],
   "source": [
    "battery_sample=norm.rvs(loc=6,scale=1.5,size=1000)\n",
    "battery_mean=battery_sample.mean()\n",
    "battery_std=battery_sample.std()\n",
    "plt.axvline(battery_mean)\n",
    "plt.axvline(battery_mean+battery_std,ls=\"--\",color=\"black\")\n",
    "plt.axvline(battery_mean-battery_std,ls=\"--\",color=\"black\")\n",
    "sns.kdeplot(battery_sample,fill=True)"
   ]
  },
  {
   "cell_type": "code",
   "execution_count": 26,
   "id": "1223635d",
   "metadata": {},
   "outputs": [
    {
     "data": {
      "text/plain": [
       "(4.5083131751853704, 7.49168682481463)"
      ]
     },
     "execution_count": 26,
     "metadata": {},
     "output_type": "execute_result"
    }
   ],
   "source": [
    "norm.interval(0.68,loc=6,scale=1.5)"
   ]
  },
  {
   "cell_type": "code",
   "execution_count": 27,
   "id": "1cd74f15",
   "metadata": {},
   "outputs": [
    {
     "data": {
      "text/plain": [
       "0.08830713315331806"
      ]
     },
     "execution_count": 27,
     "metadata": {},
     "output_type": "execute_result"
    }
   ],
   "source": [
    "norm.cdf(4,loc=6,scale=battery_std)"
   ]
  },
  {
   "cell_type": "code",
   "execution_count": 28,
   "id": "11218796",
   "metadata": {},
   "outputs": [
    {
     "data": {
      "text/plain": [
       "0.9116928668466819"
      ]
     },
     "execution_count": 28,
     "metadata": {},
     "output_type": "execute_result"
    }
   ],
   "source": [
    "norm.sf(4,loc=6,scale=battery_std)"
   ]
  },
  {
   "cell_type": "code",
   "execution_count": 29,
   "id": "a2812d26",
   "metadata": {
    "tags": []
   },
   "outputs": [
    {
     "name": "stdout",
     "output_type": "stream",
     "text": [
      "0.8233857336933639\n"
     ]
    }
   ],
   "source": [
    "below_4h=norm.cdf(4,loc=6,scale=battery_std)\n",
    "below_8h=norm.cdf(8,loc=6,scale=battery_std)\n",
    "print(below_8h-below_4h)"
   ]
  }
 ],
 "metadata": {
  "kernelspec": {
   "display_name": "Python 3 (ipykernel)",
   "language": "python",
   "name": "python3"
  },
  "language_info": {
   "codemirror_mode": {
    "name": "ipython",
    "version": 3
   },
   "file_extension": ".py",
   "mimetype": "text/x-python",
   "name": "python",
   "nbconvert_exporter": "python",
   "pygments_lexer": "ipython3",
   "version": "3.11.4"
  }
 },
 "nbformat": 4,
 "nbformat_minor": 5
}
