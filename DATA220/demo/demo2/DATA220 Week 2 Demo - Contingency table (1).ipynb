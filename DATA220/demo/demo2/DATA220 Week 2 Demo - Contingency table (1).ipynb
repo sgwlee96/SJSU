{
 "cells": [
  {
   "cell_type": "markdown",
   "id": "babffe58",
   "metadata": {},
   "source": [
    "Contingency table is basically a tally of counts between two or more categorical variables"
   ]
  },
  {
   "cell_type": "code",
   "execution_count": 47,
   "id": "02a2d73f",
   "metadata": {},
   "outputs": [],
   "source": [
    "# Importing the Pandas module\n",
    "import pandas as pd"
   ]
  },
  {
   "cell_type": "code",
   "execution_count": 49,
   "id": "f9c72b4d",
   "metadata": {},
   "outputs": [
    {
     "name": "stdout",
     "output_type": "stream",
     "text": [
      "    Order  Gender DominantHand\n",
      "0       1    Male            R\n",
      "1       2  Female            R\n",
      "2       3    Male            R\n",
      "3       4    Male            R\n",
      "4       5    Male            L\n",
      "5       6    Male            R\n",
      "6       7    Male            L\n",
      "7       8    Male            R\n",
      "8       9    Male            R\n",
      "9      10  Female            R\n",
      "10     11  Female            R\n",
      "11     12  Female            L\n",
      "12     13  Female            L\n",
      "13     14    Male            R\n",
      "14     15    Male            L\n",
      "15     16    Male            R\n",
      "16     17    Male            R\n",
      "17     18  Female            R\n",
      "18     19  Female            R\n",
      "19     20  Female            R\n"
     ]
    }
   ],
   "source": [
    "#Manually Creating the dataframe\n",
    "df1 = pd.DataFrame({'Order': [1, 2, 3, 4, 5, 6, 7, 8, 9, 10,\n",
    "                            11, 12, 13, 14, 15, 16, 17, 18, 19, 20],\n",
    "                   'Gender': ['Male', 'Female', 'Male', 'Male', 'Male', 'Male',\n",
    "                               'Male', 'Male', 'Male', 'Female', 'Female', 'Female', 'Female',\n",
    "                               'Male', 'Male', 'Male', 'Male', 'Female', 'Female', 'Female'],\n",
    "                   'DominantHand': ['R', 'R', 'R', 'R', 'L', 'R', 'L', 'R', 'R', 'R', 'R',\n",
    "                               'L', 'L', 'R', 'L', 'R', 'R', 'R', 'R', 'R']})\n",
    "print(df1)"
   ]
  },
  {
   "cell_type": "code",
   "execution_count": 50,
   "id": "bc8d9dca",
   "metadata": {},
   "outputs": [
    {
     "data": {
      "text/html": [
       "<div>\n",
       "<style scoped>\n",
       "    .dataframe tbody tr th:only-of-type {\n",
       "        vertical-align: middle;\n",
       "    }\n",
       "\n",
       "    .dataframe tbody tr th {\n",
       "        vertical-align: top;\n",
       "    }\n",
       "\n",
       "    .dataframe thead th {\n",
       "        text-align: right;\n",
       "    }\n",
       "</style>\n",
       "<table border=\"1\" class=\"dataframe\">\n",
       "  <thead>\n",
       "    <tr style=\"text-align: right;\">\n",
       "      <th>DominantHand</th>\n",
       "      <th>L</th>\n",
       "      <th>R</th>\n",
       "    </tr>\n",
       "    <tr>\n",
       "      <th>Gender</th>\n",
       "      <th></th>\n",
       "      <th></th>\n",
       "    </tr>\n",
       "  </thead>\n",
       "  <tbody>\n",
       "    <tr>\n",
       "      <th>Female</th>\n",
       "      <td>2</td>\n",
       "      <td>6</td>\n",
       "    </tr>\n",
       "    <tr>\n",
       "      <th>Male</th>\n",
       "      <td>3</td>\n",
       "      <td>9</td>\n",
       "    </tr>\n",
       "  </tbody>\n",
       "</table>\n",
       "</div>"
      ],
      "text/plain": [
       "DominantHand  L  R\n",
       "Gender            \n",
       "Female        2  6\n",
       "Male          3  9"
      ]
     },
     "execution_count": 50,
     "metadata": {},
     "output_type": "execute_result"
    }
   ],
   "source": [
    "#create contingency table\n",
    "pd.crosstab(index=df1['Gender'], columns=df1['DominantHand'], margins= False)"
   ]
  },
  {
   "cell_type": "code",
   "execution_count": 51,
   "id": "4f5e65cf",
   "metadata": {},
   "outputs": [
    {
     "data": {
      "text/html": [
       "<div>\n",
       "<style scoped>\n",
       "    .dataframe tbody tr th:only-of-type {\n",
       "        vertical-align: middle;\n",
       "    }\n",
       "\n",
       "    .dataframe tbody tr th {\n",
       "        vertical-align: top;\n",
       "    }\n",
       "\n",
       "    .dataframe thead th {\n",
       "        text-align: right;\n",
       "    }\n",
       "</style>\n",
       "<table border=\"1\" class=\"dataframe\">\n",
       "  <thead>\n",
       "    <tr style=\"text-align: right;\">\n",
       "      <th>DominantHand</th>\n",
       "      <th>L</th>\n",
       "      <th>R</th>\n",
       "      <th>All</th>\n",
       "    </tr>\n",
       "    <tr>\n",
       "      <th>Gender</th>\n",
       "      <th></th>\n",
       "      <th></th>\n",
       "      <th></th>\n",
       "    </tr>\n",
       "  </thead>\n",
       "  <tbody>\n",
       "    <tr>\n",
       "      <th>Female</th>\n",
       "      <td>2</td>\n",
       "      <td>6</td>\n",
       "      <td>8</td>\n",
       "    </tr>\n",
       "    <tr>\n",
       "      <th>Male</th>\n",
       "      <td>3</td>\n",
       "      <td>9</td>\n",
       "      <td>12</td>\n",
       "    </tr>\n",
       "    <tr>\n",
       "      <th>All</th>\n",
       "      <td>5</td>\n",
       "      <td>15</td>\n",
       "      <td>20</td>\n",
       "    </tr>\n",
       "  </tbody>\n",
       "</table>\n",
       "</div>"
      ],
      "text/plain": [
       "DominantHand  L   R  All\n",
       "Gender                  \n",
       "Female        2   6    8\n",
       "Male          3   9   12\n",
       "All           5  15   20"
      ]
     },
     "execution_count": 51,
     "metadata": {},
     "output_type": "execute_result"
    }
   ],
   "source": [
    "#create contingency table\n",
    "pd.crosstab(index=df1['Gender'], columns=df1['DominantHand'], margins= True)"
   ]
  },
  {
   "cell_type": "code",
   "execution_count": 52,
   "id": "014ecc77",
   "metadata": {},
   "outputs": [
    {
     "name": "stdout",
     "output_type": "stream",
     "text": [
      "DominantHand  Left Handed  Right Handed  All\n",
      "Gender                                      \n",
      "Female                  4            44   48\n",
      "Male                    9            43   52\n",
      "All                    13            87  100\n"
     ]
    }
   ],
   "source": [
    "# Create a contingency table and return the frequencies\n",
    "\n",
    "df2 = pd.read_csv(\"demographics.csv\")\n",
    "\n",
    "stats = pd.crosstab(index=df2['Gender'], columns=df2['DominantHand'], margins= True)\n",
    "\n",
    "# print result \n",
    "print(stats)"
   ]
  },
  {
   "cell_type": "code",
   "execution_count": 53,
   "id": "02c5427a",
   "metadata": {},
   "outputs": [
    {
     "name": "stdout",
     "output_type": "stream",
     "text": [
      "DominantHand  Left Handed  Right Handed\n",
      "Gender                                 \n",
      "Female               0.04          0.44\n",
      "Male                 0.09          0.43\n"
     ]
    }
   ],
   "source": [
    "# Create a contingency table, finding the frequencies and then returning the proportions\n",
    "\n",
    "df3 = pd.read_csv(\"demographics.csv\")\n",
    "\n",
    "stats = pd.crosstab(df3.Gender, df3.DominantHand)\n",
    "\n",
    "demo_proportion = stats/len(df2)\n",
    "print(demo_proportion) \n"
   ]
  },
  {
   "cell_type": "code",
   "execution_count": null,
   "id": "5db2c8aa",
   "metadata": {},
   "outputs": [],
   "source": []
  }
 ],
 "metadata": {
  "kernelspec": {
   "display_name": "Python 3 (ipykernel)",
   "language": "python",
   "name": "python3"
  },
  "language_info": {
   "codemirror_mode": {
    "name": "ipython",
    "version": 3
   },
   "file_extension": ".py",
   "mimetype": "text/x-python",
   "name": "python",
   "nbconvert_exporter": "python",
   "pygments_lexer": "ipython3",
   "version": "3.11.4"
  }
 },
 "nbformat": 4,
 "nbformat_minor": 5
}
