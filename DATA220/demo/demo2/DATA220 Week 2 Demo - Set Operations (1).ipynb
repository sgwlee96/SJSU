{
 "cells": [
  {
   "cell_type": "markdown",
   "id": "29f95c81",
   "metadata": {},
   "source": [
    "Executing Set opertaion in Python"
   ]
  },
  {
   "cell_type": "markdown",
   "id": "f00ce69d",
   "metadata": {},
   "source": [
    "Sets in Python data structure that has :\n",
    "\n",
    "Unordered Elements\n",
    "Unqiue Elements\n",
    "Unindexed Elements\n",
    "Any Data Type"
   ]
  },
  {
   "cell_type": "markdown",
   "id": "7782b312",
   "metadata": {},
   "source": [
    "Creating Sets in Python :\n",
    "Two meathods\n",
    "-Using Curly Braces\n",
    "-Using Set Constructor"
   ]
  },
  {
   "cell_type": "code",
   "execution_count": 46,
   "id": "ad72812f",
   "metadata": {},
   "outputs": [
    {
     "name": "stdout",
     "output_type": "stream",
     "text": [
      "{1, 'abc', 6.7}\n",
      "{9.58, 5, 'def'}\n"
     ]
    }
   ],
   "source": [
    "#Two ways of creating sets in python\n",
    "\n",
    "A={1,'abc',6.7}\n",
    "print(A)\n",
    "\n",
    "B=set([5,'def',9.58])\n",
    "print(B)"
   ]
  },
  {
   "cell_type": "markdown",
   "id": "de80d6e0",
   "metadata": {},
   "source": [
    "Union"
   ]
  },
  {
   "cell_type": "code",
   "execution_count": 47,
   "id": "d9e59b1c",
   "metadata": {},
   "outputs": [
    {
     "name": "stdout",
     "output_type": "stream",
     "text": [
      "{1, 2, 3, 4, 5, 7, 8, 9}\n"
     ]
    }
   ],
   "source": [
    "#Performing the union operation on two sets\n",
    "A = {1, 2, 3, 5, 7}\n",
    "B = set([1, 2, 4, 8, 9])\n",
    "\n",
    "C = A.union(B)\n",
    "\n",
    "print(C)\n"
   ]
  },
  {
   "cell_type": "markdown",
   "id": "54e55a33",
   "metadata": {},
   "source": [
    "Intersection"
   ]
  },
  {
   "cell_type": "code",
   "execution_count": 48,
   "id": "7b0e8a18",
   "metadata": {},
   "outputs": [
    {
     "name": "stdout",
     "output_type": "stream",
     "text": [
      "{1, 2}\n"
     ]
    }
   ],
   "source": [
    "#Performing the Intersection operation on two sets\n",
    "A = {1, 2, 3, 5, 7}\n",
    "B = set([1, 2, 4, 8, 9])\n",
    "\n",
    "C = A.intersection(B)\n",
    "\n",
    "print(C)\n"
   ]
  },
  {
   "cell_type": "markdown",
   "id": "22015e65",
   "metadata": {},
   "source": [
    "Difference"
   ]
  },
  {
   "cell_type": "code",
   "execution_count": 49,
   "id": "d32ad69f",
   "metadata": {},
   "outputs": [
    {
     "name": "stdout",
     "output_type": "stream",
     "text": [
      "{3, 5, 7}\n"
     ]
    }
   ],
   "source": [
    "#Performing the Difference operation Son two sets\n",
    "A = {1, 2, 3, 5, 7}\n",
    "B = set([1, 2, 4, 8, 9])\n",
    "\n",
    "C = A.difference(B)\n",
    "\n",
    "print(C)\n"
   ]
  },
  {
   "cell_type": "markdown",
   "id": "b8e0a842",
   "metadata": {},
   "source": [
    "Symmetric Difference"
   ]
  },
  {
   "cell_type": "code",
   "execution_count": 51,
   "id": "c1466d17",
   "metadata": {},
   "outputs": [
    {
     "name": "stdout",
     "output_type": "stream",
     "text": [
      "{3, 4, 5, 7, 8, 9}\n"
     ]
    }
   ],
   "source": [
    "#Performing the Symmetric Difference operationon two sets\n",
    "A = {1, 2, 3, 5, 7}\n",
    "B = set([1, 2, 4, 8, 9])\n",
    "\n",
    "C = A.symmetric_difference(B)\n",
    "\n",
    "print(C)"
   ]
  },
  {
   "cell_type": "code",
   "execution_count": null,
   "id": "24773bbe",
   "metadata": {},
   "outputs": [],
   "source": []
  }
 ],
 "metadata": {
  "kernelspec": {
   "display_name": "Python 3 (ipykernel)",
   "language": "python",
   "name": "python3"
  },
  "language_info": {
   "codemirror_mode": {
    "name": "ipython",
    "version": 3
   },
   "file_extension": ".py",
   "mimetype": "text/x-python",
   "name": "python",
   "nbconvert_exporter": "python",
   "pygments_lexer": "ipython3",
   "version": "3.11.4"
  }
 },
 "nbformat": 4,
 "nbformat_minor": 5
}
