{
 "cells": [
  {
   "cell_type": "code",
   "execution_count": 4,
   "id": "59d12dc3-b297-41dd-8bef-7dc672a98ab1",
   "metadata": {
    "tags": []
   },
   "outputs": [],
   "source": [
    "lst = [12,4,15,3,11,8,6,8]"
   ]
  },
  {
   "cell_type": "code",
   "execution_count": 2,
   "id": "a8f9cb54-99a2-4d93-aa9e-b392cb7e8969",
   "metadata": {
    "tags": []
   },
   "outputs": [
    {
     "data": {
      "text/plain": [
       "8.375"
      ]
     },
     "execution_count": 2,
     "metadata": {},
     "output_type": "execute_result"
    }
   ],
   "source": [
    "67/8"
   ]
  },
  {
   "cell_type": "code",
   "execution_count": 3,
   "id": "de0ef44b-938c-4d15-8866-2ef6378fc009",
   "metadata": {
    "tags": []
   },
   "outputs": [],
   "source": [
    "import math"
   ]
  },
  {
   "cell_type": "code",
   "execution_count": 5,
   "id": "8ec7f7e7-7cfe-4102-a71b-4f4282602621",
   "metadata": {
    "tags": []
   },
   "outputs": [
    {
     "data": {
      "text/plain": [
       "[13.140625,\n",
       " 19.140625,\n",
       " 43.890625,\n",
       " 28.890625,\n",
       " 6.890625,\n",
       " 0.140625,\n",
       " 5.640625,\n",
       " 0.140625]"
      ]
     },
     "execution_count": 5,
     "metadata": {},
     "output_type": "execute_result"
    }
   ],
   "source": [
    "x = 8.375\n",
    "\n",
    "temp = []\n",
    "\n",
    "\n",
    "for i in lst:\n",
    "    temp.append((i-x)**2)\n",
    "    \n",
    "temp"
   ]
  },
  {
   "cell_type": "code",
   "execution_count": 8,
   "id": "468967d0-c348-429f-b0d3-1a29e188d7d5",
   "metadata": {
    "tags": []
   },
   "outputs": [
    {
     "data": {
      "text/plain": [
       "4.103569874424672"
      ]
     },
     "execution_count": 8,
     "metadata": {},
     "output_type": "execute_result"
    }
   ],
   "source": [
    "math.sqrt(sum(temp)/7)"
   ]
  },
  {
   "cell_type": "code",
   "execution_count": 9,
   "id": "32bf9926-af36-402e-829b-0bf654895fbd",
   "metadata": {
    "tags": []
   },
   "outputs": [
    {
     "data": {
      "text/plain": [
       "1.550977214993364"
      ]
     },
     "execution_count": 9,
     "metadata": {},
     "output_type": "execute_result"
    }
   ],
   "source": [
    "4.1035/math.sqrt(7)"
   ]
  },
  {
   "cell_type": "code",
   "execution_count": 12,
   "id": "328e0c88-ced8-4c77-bcfc-bf5e43248e92",
   "metadata": {
    "tags": []
   },
   "outputs": [
    {
     "data": {
      "text/plain": [
       "-2.1081851067789197"
      ]
     },
     "execution_count": 12,
     "metadata": {},
     "output_type": "execute_result"
    }
   ],
   "source": [
    "(10.52-11.52)/(1.5/math.sqrt(10))"
   ]
  },
  {
   "cell_type": "code",
   "execution_count": 13,
   "id": "3413c1ff-25ed-4bc7-ad02-062d77f1dd4e",
   "metadata": {
    "tags": []
   },
   "outputs": [],
   "source": [
    "from scipy.stats import *"
   ]
  },
  {
   "cell_type": "code",
   "execution_count": 14,
   "id": "caaa45b9-5782-4480-a052-bee12bbeed41",
   "metadata": {
    "tags": []
   },
   "outputs": [],
   "source": [
    "import pandas as pd\n",
    "import numpy as np"
   ]
  },
  {
   "cell_type": "code",
   "execution_count": null,
   "id": "1526a997-8117-4f50-b18d-593d72857242",
   "metadata": {},
   "outputs": [],
   "source": [
    "x = "
   ]
  }
 ],
 "metadata": {
  "kernelspec": {
   "display_name": "Python 3 (ipykernel)",
   "language": "python",
   "name": "python3"
  },
  "language_info": {
   "codemirror_mode": {
    "name": "ipython",
    "version": 3
   },
   "file_extension": ".py",
   "mimetype": "text/x-python",
   "name": "python",
   "nbconvert_exporter": "python",
   "pygments_lexer": "ipython3",
   "version": "3.11.4"
  }
 },
 "nbformat": 4,
 "nbformat_minor": 5
}
